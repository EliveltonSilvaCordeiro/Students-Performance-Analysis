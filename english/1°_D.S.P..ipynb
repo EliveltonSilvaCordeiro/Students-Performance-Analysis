{
 "cells": [
  {
   "cell_type": "markdown",
   "metadata": {},
   "source": [
    "# Greetings \n",
    "\n",
    "In this project I will be using the following libraries:\n",
    "\n",
    "- Pandas\n",
    "- Seaborn\n",
    "- Plotly.express\n",
    "\n",
    "&nbsp;\n",
    "\n",
    "In this project I will be making analysis on a dataset of Students Performance, this project does not have a specific objective so I will just define them:\n",
    "\n",
    "## 🎯 Objectives\n",
    "\n",
    "- Find the top 10 performances among the all students\n",
    "- Encounter the number of students that gotten 100 points in each test\n",
    "- Discover in which conditions are the students that got a score of 80 or higher\n",
    "\n",
    "&nbsp;\n",
    "\n",
    "These are the objectives I traced when first seeing the dataset, it only have 8 columns, well let's start with the first objective\n",
    "\n",
    "## =================================================="
   ]
  },
  {
   "cell_type": "markdown",
   "metadata": {},
   "source": [
    "# 🏆 Find the top 10 performances among the all students\n",
    "\n",
    "So all there is to do in this one is finding out the students that performed really well in the tests\n",
    "\n",
    "But before anything, let's read the file\n"
   ]
  },
  {
   "cell_type": "code",
   "execution_count": 14,
   "metadata": {},
   "outputs": [
    {
     "data": {
      "text/html": [
       "<div>\n",
       "<style scoped>\n",
       "    .dataframe tbody tr th:only-of-type {\n",
       "        vertical-align: middle;\n",
       "    }\n",
       "\n",
       "    .dataframe tbody tr th {\n",
       "        vertical-align: top;\n",
       "    }\n",
       "\n",
       "    .dataframe thead th {\n",
       "        text-align: right;\n",
       "    }\n",
       "</style>\n",
       "<table border=\"1\" class=\"dataframe\">\n",
       "  <thead>\n",
       "    <tr style=\"text-align: right;\">\n",
       "      <th></th>\n",
       "      <th>gender</th>\n",
       "      <th>race/ethnicity</th>\n",
       "      <th>parental level of education</th>\n",
       "      <th>lunch</th>\n",
       "      <th>test preparation course</th>\n",
       "      <th>math score</th>\n",
       "      <th>reading score</th>\n",
       "      <th>writing score</th>\n",
       "    </tr>\n",
       "  </thead>\n",
       "  <tbody>\n",
       "    <tr>\n",
       "      <th>0</th>\n",
       "      <td>female</td>\n",
       "      <td>group B</td>\n",
       "      <td>bachelor's degree</td>\n",
       "      <td>standard</td>\n",
       "      <td>none</td>\n",
       "      <td>72</td>\n",
       "      <td>72</td>\n",
       "      <td>74</td>\n",
       "    </tr>\n",
       "    <tr>\n",
       "      <th>1</th>\n",
       "      <td>female</td>\n",
       "      <td>group C</td>\n",
       "      <td>some college</td>\n",
       "      <td>standard</td>\n",
       "      <td>completed</td>\n",
       "      <td>69</td>\n",
       "      <td>90</td>\n",
       "      <td>88</td>\n",
       "    </tr>\n",
       "    <tr>\n",
       "      <th>2</th>\n",
       "      <td>female</td>\n",
       "      <td>group B</td>\n",
       "      <td>master's degree</td>\n",
       "      <td>standard</td>\n",
       "      <td>none</td>\n",
       "      <td>90</td>\n",
       "      <td>95</td>\n",
       "      <td>93</td>\n",
       "    </tr>\n",
       "  </tbody>\n",
       "</table>\n",
       "</div>"
      ],
      "text/plain": [
       "   gender race/ethnicity parental level of education     lunch  \\\n",
       "0  female        group B           bachelor's degree  standard   \n",
       "1  female        group C                some college  standard   \n",
       "2  female        group B             master's degree  standard   \n",
       "\n",
       "  test preparation course  math score  reading score  writing score  \n",
       "0                    none          72             72             74  \n",
       "1               completed          69             90             88  \n",
       "2                    none          90             95             93  "
      ]
     },
     "execution_count": 14,
     "metadata": {},
     "output_type": "execute_result"
    }
   ],
   "source": [
    "import pandas as pd\n",
    "\n",
    "table = pd.read_csv(\"StudentsPerformance.csv\")\n",
    "\n",
    "table.head(3)"
   ]
  },
  {
   "cell_type": "markdown",
   "metadata": {},
   "source": [
    "## ==================================================\n",
    "A basic dataset for registering the scores, but we can already see that it was not directly gotten from the educational institution since:\n",
    "\n",
    "- it does not have the students name\n",
    "- it does not have the realization date of the tests\n",
    "\n",
    "There could be Schools that do not put this type of information on their base, however it has columns for \"parental level of education\", \"lunch\" and \"test preparation course\" in it<br>\n",
    "What I am trying to get is that this dataset was made to recieve processes of **Data Analysis**, and the first thing to do with this type of dataset is exploring it for finding errors or NaN values"
   ]
  },
  {
   "cell_type": "code",
   "execution_count": 15,
   "metadata": {},
   "outputs": [
    {
     "name": "stdout",
     "output_type": "stream",
     "text": [
      "<class 'pandas.core.frame.DataFrame'>\n",
      "RangeIndex: 1000 entries, 0 to 999\n",
      "Data columns (total 8 columns):\n",
      " #   Column                       Non-Null Count  Dtype \n",
      "---  ------                       --------------  ----- \n",
      " 0   gender                       1000 non-null   object\n",
      " 1   race/ethnicity               1000 non-null   object\n",
      " 2   parental level of education  1000 non-null   object\n",
      " 3   lunch                        1000 non-null   object\n",
      " 4   test preparation course      1000 non-null   object\n",
      " 5   math score                   1000 non-null   int64 \n",
      " 6   reading score                1000 non-null   int64 \n",
      " 7   writing score                1000 non-null   int64 \n",
      "dtypes: int64(3), object(5)\n",
      "memory usage: 62.6+ KB\n",
      "\n",
      "\n"
     ]
    },
    {
     "data": {
      "text/html": [
       "<div>\n",
       "<style scoped>\n",
       "    .dataframe tbody tr th:only-of-type {\n",
       "        vertical-align: middle;\n",
       "    }\n",
       "\n",
       "    .dataframe tbody tr th {\n",
       "        vertical-align: top;\n",
       "    }\n",
       "\n",
       "    .dataframe thead th {\n",
       "        text-align: right;\n",
       "    }\n",
       "</style>\n",
       "<table border=\"1\" class=\"dataframe\">\n",
       "  <thead>\n",
       "    <tr style=\"text-align: right;\">\n",
       "      <th></th>\n",
       "      <th>math score</th>\n",
       "      <th>reading score</th>\n",
       "      <th>writing score</th>\n",
       "    </tr>\n",
       "  </thead>\n",
       "  <tbody>\n",
       "    <tr>\n",
       "      <th>count</th>\n",
       "      <td>1000.00000</td>\n",
       "      <td>1000.000000</td>\n",
       "      <td>1000.000000</td>\n",
       "    </tr>\n",
       "    <tr>\n",
       "      <th>mean</th>\n",
       "      <td>66.08900</td>\n",
       "      <td>69.169000</td>\n",
       "      <td>68.054000</td>\n",
       "    </tr>\n",
       "    <tr>\n",
       "      <th>std</th>\n",
       "      <td>15.16308</td>\n",
       "      <td>14.600192</td>\n",
       "      <td>15.195657</td>\n",
       "    </tr>\n",
       "    <tr>\n",
       "      <th>min</th>\n",
       "      <td>0.00000</td>\n",
       "      <td>17.000000</td>\n",
       "      <td>10.000000</td>\n",
       "    </tr>\n",
       "    <tr>\n",
       "      <th>25%</th>\n",
       "      <td>57.00000</td>\n",
       "      <td>59.000000</td>\n",
       "      <td>57.750000</td>\n",
       "    </tr>\n",
       "    <tr>\n",
       "      <th>50%</th>\n",
       "      <td>66.00000</td>\n",
       "      <td>70.000000</td>\n",
       "      <td>69.000000</td>\n",
       "    </tr>\n",
       "    <tr>\n",
       "      <th>75%</th>\n",
       "      <td>77.00000</td>\n",
       "      <td>79.000000</td>\n",
       "      <td>79.000000</td>\n",
       "    </tr>\n",
       "    <tr>\n",
       "      <th>max</th>\n",
       "      <td>100.00000</td>\n",
       "      <td>100.000000</td>\n",
       "      <td>100.000000</td>\n",
       "    </tr>\n",
       "  </tbody>\n",
       "</table>\n",
       "</div>"
      ],
      "text/plain": [
       "       math score  reading score  writing score\n",
       "count  1000.00000    1000.000000    1000.000000\n",
       "mean     66.08900      69.169000      68.054000\n",
       "std      15.16308      14.600192      15.195657\n",
       "min       0.00000      17.000000      10.000000\n",
       "25%      57.00000      59.000000      57.750000\n",
       "50%      66.00000      70.000000      69.000000\n",
       "75%      77.00000      79.000000      79.000000\n",
       "max     100.00000     100.000000     100.000000"
      ]
     },
     "execution_count": 15,
     "metadata": {},
     "output_type": "execute_result"
    }
   ],
   "source": [
    "table.info()\n",
    "\n",
    "print(\"\\n\")\n",
    "\n",
    "table.describe()"
   ]
  },
  {
   "cell_type": "markdown",
   "metadata": {},
   "source": [
    "## ==================================================\n",
    "Seems like there is nothing wrong with it despite all, it is still important to check every dataset to do not run into errors with apparently no reason\n",
    "\n",
    "Well, now let's resume the objective, if I want to find the students with the best performance I will just focus on the average of the three tests, but it does not have a column for that... <br>\n",
    "So we will have to make one"
   ]
  },
  {
   "cell_type": "code",
   "execution_count": 16,
   "metadata": {},
   "outputs": [
    {
     "data": {
      "text/html": [
       "<div>\n",
       "<style scoped>\n",
       "    .dataframe tbody tr th:only-of-type {\n",
       "        vertical-align: middle;\n",
       "    }\n",
       "\n",
       "    .dataframe tbody tr th {\n",
       "        vertical-align: top;\n",
       "    }\n",
       "\n",
       "    .dataframe thead th {\n",
       "        text-align: right;\n",
       "    }\n",
       "</style>\n",
       "<table border=\"1\" class=\"dataframe\">\n",
       "  <thead>\n",
       "    <tr style=\"text-align: right;\">\n",
       "      <th></th>\n",
       "      <th>gender</th>\n",
       "      <th>race/ethnicity</th>\n",
       "      <th>parental level of education</th>\n",
       "      <th>lunch</th>\n",
       "      <th>test preparation course</th>\n",
       "      <th>math score</th>\n",
       "      <th>reading score</th>\n",
       "      <th>writing score</th>\n",
       "      <th>score average</th>\n",
       "    </tr>\n",
       "  </thead>\n",
       "  <tbody>\n",
       "    <tr>\n",
       "      <th>0</th>\n",
       "      <td>female</td>\n",
       "      <td>group B</td>\n",
       "      <td>bachelor's degree</td>\n",
       "      <td>standard</td>\n",
       "      <td>none</td>\n",
       "      <td>72</td>\n",
       "      <td>72</td>\n",
       "      <td>74</td>\n",
       "      <td>168.666667</td>\n",
       "    </tr>\n",
       "    <tr>\n",
       "      <th>1</th>\n",
       "      <td>female</td>\n",
       "      <td>group C</td>\n",
       "      <td>some college</td>\n",
       "      <td>standard</td>\n",
       "      <td>completed</td>\n",
       "      <td>69</td>\n",
       "      <td>90</td>\n",
       "      <td>88</td>\n",
       "      <td>188.333333</td>\n",
       "    </tr>\n",
       "    <tr>\n",
       "      <th>2</th>\n",
       "      <td>female</td>\n",
       "      <td>group B</td>\n",
       "      <td>master's degree</td>\n",
       "      <td>standard</td>\n",
       "      <td>none</td>\n",
       "      <td>90</td>\n",
       "      <td>95</td>\n",
       "      <td>93</td>\n",
       "      <td>216.000000</td>\n",
       "    </tr>\n",
       "    <tr>\n",
       "      <th>3</th>\n",
       "      <td>male</td>\n",
       "      <td>group A</td>\n",
       "      <td>associate's degree</td>\n",
       "      <td>free/reduced</td>\n",
       "      <td>none</td>\n",
       "      <td>47</td>\n",
       "      <td>57</td>\n",
       "      <td>44</td>\n",
       "      <td>118.666667</td>\n",
       "    </tr>\n",
       "    <tr>\n",
       "      <th>4</th>\n",
       "      <td>male</td>\n",
       "      <td>group C</td>\n",
       "      <td>some college</td>\n",
       "      <td>standard</td>\n",
       "      <td>none</td>\n",
       "      <td>76</td>\n",
       "      <td>78</td>\n",
       "      <td>75</td>\n",
       "      <td>179.000000</td>\n",
       "    </tr>\n",
       "    <tr>\n",
       "      <th>...</th>\n",
       "      <td>...</td>\n",
       "      <td>...</td>\n",
       "      <td>...</td>\n",
       "      <td>...</td>\n",
       "      <td>...</td>\n",
       "      <td>...</td>\n",
       "      <td>...</td>\n",
       "      <td>...</td>\n",
       "      <td>...</td>\n",
       "    </tr>\n",
       "    <tr>\n",
       "      <th>995</th>\n",
       "      <td>female</td>\n",
       "      <td>group E</td>\n",
       "      <td>master's degree</td>\n",
       "      <td>standard</td>\n",
       "      <td>completed</td>\n",
       "      <td>88</td>\n",
       "      <td>99</td>\n",
       "      <td>95</td>\n",
       "      <td>218.666667</td>\n",
       "    </tr>\n",
       "    <tr>\n",
       "      <th>996</th>\n",
       "      <td>male</td>\n",
       "      <td>group C</td>\n",
       "      <td>high school</td>\n",
       "      <td>free/reduced</td>\n",
       "      <td>none</td>\n",
       "      <td>62</td>\n",
       "      <td>55</td>\n",
       "      <td>55</td>\n",
       "      <td>135.333333</td>\n",
       "    </tr>\n",
       "    <tr>\n",
       "      <th>997</th>\n",
       "      <td>female</td>\n",
       "      <td>group C</td>\n",
       "      <td>high school</td>\n",
       "      <td>free/reduced</td>\n",
       "      <td>completed</td>\n",
       "      <td>59</td>\n",
       "      <td>71</td>\n",
       "      <td>65</td>\n",
       "      <td>151.666667</td>\n",
       "    </tr>\n",
       "    <tr>\n",
       "      <th>998</th>\n",
       "      <td>female</td>\n",
       "      <td>group D</td>\n",
       "      <td>some college</td>\n",
       "      <td>standard</td>\n",
       "      <td>completed</td>\n",
       "      <td>68</td>\n",
       "      <td>78</td>\n",
       "      <td>77</td>\n",
       "      <td>171.666667</td>\n",
       "    </tr>\n",
       "    <tr>\n",
       "      <th>999</th>\n",
       "      <td>female</td>\n",
       "      <td>group D</td>\n",
       "      <td>some college</td>\n",
       "      <td>free/reduced</td>\n",
       "      <td>none</td>\n",
       "      <td>77</td>\n",
       "      <td>86</td>\n",
       "      <td>86</td>\n",
       "      <td>191.666667</td>\n",
       "    </tr>\n",
       "  </tbody>\n",
       "</table>\n",
       "<p>1000 rows × 9 columns</p>\n",
       "</div>"
      ],
      "text/plain": [
       "     gender race/ethnicity parental level of education         lunch  \\\n",
       "0    female        group B           bachelor's degree      standard   \n",
       "1    female        group C                some college      standard   \n",
       "2    female        group B             master's degree      standard   \n",
       "3      male        group A          associate's degree  free/reduced   \n",
       "4      male        group C                some college      standard   \n",
       "..      ...            ...                         ...           ...   \n",
       "995  female        group E             master's degree      standard   \n",
       "996    male        group C                 high school  free/reduced   \n",
       "997  female        group C                 high school  free/reduced   \n",
       "998  female        group D                some college      standard   \n",
       "999  female        group D                some college  free/reduced   \n",
       "\n",
       "    test preparation course  math score  reading score  writing score  \\\n",
       "0                      none          72             72             74   \n",
       "1                 completed          69             90             88   \n",
       "2                      none          90             95             93   \n",
       "3                      none          47             57             44   \n",
       "4                      none          76             78             75   \n",
       "..                      ...         ...            ...            ...   \n",
       "995               completed          88             99             95   \n",
       "996                    none          62             55             55   \n",
       "997               completed          59             71             65   \n",
       "998               completed          68             78             77   \n",
       "999                    none          77             86             86   \n",
       "\n",
       "     score average  \n",
       "0       168.666667  \n",
       "1       188.333333  \n",
       "2       216.000000  \n",
       "3       118.666667  \n",
       "4       179.000000  \n",
       "..             ...  \n",
       "995     218.666667  \n",
       "996     135.333333  \n",
       "997     151.666667  \n",
       "998     171.666667  \n",
       "999     191.666667  \n",
       "\n",
       "[1000 rows x 9 columns]"
      ]
     },
     "execution_count": 16,
     "metadata": {},
     "output_type": "execute_result"
    }
   ],
   "source": [
    "table[\"score average\"] = table[\"math score\"] + table[\"reading score\"] + table[\"writing score\"] / 3\n",
    "\n",
    "table"
   ]
  },
  {
   "cell_type": "markdown",
   "metadata": {},
   "source": [
    "## ==================================================\n",
    "Now I will make use of three methods, `loc`, `sort_values` and `head`\n",
    "\n",
    "- `.loc()` can filter the dataset by a condition, in this case I will filter the rows that are equal or lower the highest Average Score\n",
    "- `.sort_values()` can sort the dataset by a certain column, in this case I will sort it by the Average Score and make it descending\n",
    "- `.head()` can be used to visualize the top of the dataset, in this case I specified to see the first 10 lines\n",
    "\n",
    "All that combined will make us solve the first objective"
   ]
  },
  {
   "cell_type": "code",
   "execution_count": 17,
   "metadata": {},
   "outputs": [
    {
     "data": {
      "text/html": [
       "<div>\n",
       "<style scoped>\n",
       "    .dataframe tbody tr th:only-of-type {\n",
       "        vertical-align: middle;\n",
       "    }\n",
       "\n",
       "    .dataframe tbody tr th {\n",
       "        vertical-align: top;\n",
       "    }\n",
       "\n",
       "    .dataframe thead th {\n",
       "        text-align: right;\n",
       "    }\n",
       "</style>\n",
       "<table border=\"1\" class=\"dataframe\">\n",
       "  <thead>\n",
       "    <tr style=\"text-align: right;\">\n",
       "      <th></th>\n",
       "      <th>gender</th>\n",
       "      <th>race/ethnicity</th>\n",
       "      <th>parental level of education</th>\n",
       "      <th>lunch</th>\n",
       "      <th>test preparation course</th>\n",
       "      <th>math score</th>\n",
       "      <th>reading score</th>\n",
       "      <th>writing score</th>\n",
       "      <th>score average</th>\n",
       "    </tr>\n",
       "  </thead>\n",
       "  <tbody>\n",
       "    <tr>\n",
       "      <th>916</th>\n",
       "      <td>male</td>\n",
       "      <td>group E</td>\n",
       "      <td>bachelor's degree</td>\n",
       "      <td>standard</td>\n",
       "      <td>completed</td>\n",
       "      <td>100</td>\n",
       "      <td>100</td>\n",
       "      <td>100</td>\n",
       "      <td>233.333333</td>\n",
       "    </tr>\n",
       "    <tr>\n",
       "      <th>458</th>\n",
       "      <td>female</td>\n",
       "      <td>group E</td>\n",
       "      <td>bachelor's degree</td>\n",
       "      <td>standard</td>\n",
       "      <td>none</td>\n",
       "      <td>100</td>\n",
       "      <td>100</td>\n",
       "      <td>100</td>\n",
       "      <td>233.333333</td>\n",
       "    </tr>\n",
       "    <tr>\n",
       "      <th>962</th>\n",
       "      <td>female</td>\n",
       "      <td>group E</td>\n",
       "      <td>associate's degree</td>\n",
       "      <td>standard</td>\n",
       "      <td>none</td>\n",
       "      <td>100</td>\n",
       "      <td>100</td>\n",
       "      <td>100</td>\n",
       "      <td>233.333333</td>\n",
       "    </tr>\n",
       "    <tr>\n",
       "      <th>114</th>\n",
       "      <td>female</td>\n",
       "      <td>group E</td>\n",
       "      <td>bachelor's degree</td>\n",
       "      <td>standard</td>\n",
       "      <td>completed</td>\n",
       "      <td>99</td>\n",
       "      <td>100</td>\n",
       "      <td>100</td>\n",
       "      <td>232.333333</td>\n",
       "    </tr>\n",
       "    <tr>\n",
       "      <th>149</th>\n",
       "      <td>male</td>\n",
       "      <td>group E</td>\n",
       "      <td>associate's degree</td>\n",
       "      <td>free/reduced</td>\n",
       "      <td>completed</td>\n",
       "      <td>100</td>\n",
       "      <td>100</td>\n",
       "      <td>93</td>\n",
       "      <td>231.000000</td>\n",
       "    </tr>\n",
       "    <tr>\n",
       "      <th>712</th>\n",
       "      <td>female</td>\n",
       "      <td>group D</td>\n",
       "      <td>some college</td>\n",
       "      <td>standard</td>\n",
       "      <td>none</td>\n",
       "      <td>98</td>\n",
       "      <td>100</td>\n",
       "      <td>99</td>\n",
       "      <td>231.000000</td>\n",
       "    </tr>\n",
       "    <tr>\n",
       "      <th>179</th>\n",
       "      <td>female</td>\n",
       "      <td>group D</td>\n",
       "      <td>some high school</td>\n",
       "      <td>standard</td>\n",
       "      <td>completed</td>\n",
       "      <td>97</td>\n",
       "      <td>100</td>\n",
       "      <td>100</td>\n",
       "      <td>230.333333</td>\n",
       "    </tr>\n",
       "    <tr>\n",
       "      <th>625</th>\n",
       "      <td>male</td>\n",
       "      <td>group D</td>\n",
       "      <td>some college</td>\n",
       "      <td>standard</td>\n",
       "      <td>completed</td>\n",
       "      <td>100</td>\n",
       "      <td>97</td>\n",
       "      <td>99</td>\n",
       "      <td>230.000000</td>\n",
       "    </tr>\n",
       "    <tr>\n",
       "      <th>165</th>\n",
       "      <td>female</td>\n",
       "      <td>group C</td>\n",
       "      <td>bachelor's degree</td>\n",
       "      <td>standard</td>\n",
       "      <td>completed</td>\n",
       "      <td>96</td>\n",
       "      <td>100</td>\n",
       "      <td>100</td>\n",
       "      <td>229.333333</td>\n",
       "    </tr>\n",
       "    <tr>\n",
       "      <th>903</th>\n",
       "      <td>female</td>\n",
       "      <td>group D</td>\n",
       "      <td>bachelor's degree</td>\n",
       "      <td>free/reduced</td>\n",
       "      <td>completed</td>\n",
       "      <td>93</td>\n",
       "      <td>100</td>\n",
       "      <td>100</td>\n",
       "      <td>226.333333</td>\n",
       "    </tr>\n",
       "  </tbody>\n",
       "</table>\n",
       "</div>"
      ],
      "text/plain": [
       "     gender race/ethnicity parental level of education         lunch  \\\n",
       "916    male        group E           bachelor's degree      standard   \n",
       "458  female        group E           bachelor's degree      standard   \n",
       "962  female        group E          associate's degree      standard   \n",
       "114  female        group E           bachelor's degree      standard   \n",
       "149    male        group E          associate's degree  free/reduced   \n",
       "712  female        group D                some college      standard   \n",
       "179  female        group D            some high school      standard   \n",
       "625    male        group D                some college      standard   \n",
       "165  female        group C           bachelor's degree      standard   \n",
       "903  female        group D           bachelor's degree  free/reduced   \n",
       "\n",
       "    test preparation course  math score  reading score  writing score  \\\n",
       "916               completed         100            100            100   \n",
       "458                    none         100            100            100   \n",
       "962                    none         100            100            100   \n",
       "114               completed          99            100            100   \n",
       "149               completed         100            100             93   \n",
       "712                    none          98            100             99   \n",
       "179               completed          97            100            100   \n",
       "625               completed         100             97             99   \n",
       "165               completed          96            100            100   \n",
       "903               completed          93            100            100   \n",
       "\n",
       "     score average  \n",
       "916     233.333333  \n",
       "458     233.333333  \n",
       "962     233.333333  \n",
       "114     232.333333  \n",
       "149     231.000000  \n",
       "712     231.000000  \n",
       "179     230.333333  \n",
       "625     230.000000  \n",
       "165     229.333333  \n",
       "903     226.333333  "
      ]
     },
     "execution_count": 17,
     "metadata": {},
     "output_type": "execute_result"
    }
   ],
   "source": [
    "table.loc[table[\"score average\"] <= max(table[\"score average\"])].sort_values(by=\"score average\", ascending=False).head(10)"
   ]
  },
  {
   "cell_type": "markdown",
   "metadata": {},
   "source": [
    "# 💯 Encounter the number of students that gotten 100 points in each test\n",
    "\n",
    "Here we will count how many students actually got 100 point in a test and in which test\n",
    "\n",
    "Dispite being simple, this is only one of the many things that pandas can do "
   ]
  },
  {
   "cell_type": "code",
   "execution_count": 18,
   "metadata": {},
   "outputs": [
    {
     "name": "stdout",
     "output_type": "stream",
     "text": [
      "=== 100 Points ===\n",
      "\n",
      "Math Score: 7\n",
      "\n",
      "Reading Score: 17\n",
      "\n",
      "Writing Score: 14\n",
      "\n"
     ]
    }
   ],
   "source": [
    "print(f\"\"\"=== 100 Points ===\n",
    "\n",
    "Math Score: {table.loc[table[\"math score\"] == 100].count()[0]}\n",
    "\n",
    "Reading Score: {table.loc[table[\"reading score\"] == 100].count()[0]}\n",
    "\n",
    "Writing Score: {table.loc[table[\"writing score\"] == 100].count()[0]}\n",
    "\"\"\")"
   ]
  },
  {
   "cell_type": "markdown",
   "metadata": {},
   "source": [
    "# 📈 Discover in which conditions are the students that got a score of 80 or higher\n",
    "\n",
    "This one is a bit more complex, it is basically asking \"what makes the students go actually well?\" <br>\n",
    "Let's start with a heatmap, a heatmap is based on correlation for example: \n",
    "\n",
    "You should usually wake in the morning\n",
    "\n",
    "Maybe it is a over oversimplified example but the more you sleep at night the more usaully you wake up in the morning <br>\n",
    "Sleeping in the night has a high correlation with waking up in the morning, this type of correlation is all about heatmap, but the is one detail:\n",
    "\n",
    "A high correlation is based on a number near \"1\", the more close a number is to \"1\" then the more correlated the two topics will be\n",
    "\n",
    "Maybe this is a bit complicated, so for this graph focus that the more \"blue\", the more correlated are the topics and the more \"red\", less correlated they are"
   ]
  },
  {
   "cell_type": "code",
   "execution_count": 19,
   "metadata": {},
   "outputs": [
    {
     "data": {
      "image/png": "[encoded data removed]",
      "text/plain": [
       "<Figure size 640x480 with 2 Axes>"
      ]
     },
     "metadata": {},
     "output_type": "display_data"
    }
   ],
   "source": [
    "import seaborn as sb\n",
    "\n",
    "table[\"female\"] = table[\"gender\"] == \"female\"\n",
    "table[\"male\"] = table[\"gender\"] == \"male\"\n",
    "\n",
    "table_gen = table[[\"female\", \"male\", \"math score\", \"reading score\", \"writing score\", \"score average\"]]\n",
    "\n",
    "sb.heatmap(table_gen.corr(), cmap=\"coolwarm_r\", annot=True, square=True);"
   ]
  },
  {
   "cell_type": "markdown",
   "metadata": {},
   "source": [
    "## ==================================================\n",
    "From this graph we can just see that the fact of being female actually have some correlation with the tests <br>\n",
    "With exception of the math test the male actually do not performed so well as the female\n",
    "\n",
    "It is ok to do a heatmap just to see the performance between the genders, but it can be a bit hard to see when analyzing the correlation by race so... we will proceed with histograms <br>\n",
    "Let's just dump what become junk"
   ]
  },
  {
   "cell_type": "code",
   "execution_count": 20,
   "metadata": {},
   "outputs": [
    {
     "data": {
      "text/html": [
       "<div>\n",
       "<style scoped>\n",
       "    .dataframe tbody tr th:only-of-type {\n",
       "        vertical-align: middle;\n",
       "    }\n",
       "\n",
       "    .dataframe tbody tr th {\n",
       "        vertical-align: top;\n",
       "    }\n",
       "\n",
       "    .dataframe thead th {\n",
       "        text-align: right;\n",
       "    }\n",
       "</style>\n",
       "<table border=\"1\" class=\"dataframe\">\n",
       "  <thead>\n",
       "    <tr style=\"text-align: right;\">\n",
       "      <th></th>\n",
       "      <th>gender</th>\n",
       "      <th>race/ethnicity</th>\n",
       "      <th>parental level of education</th>\n",
       "      <th>lunch</th>\n",
       "      <th>test preparation course</th>\n",
       "      <th>math score</th>\n",
       "      <th>reading score</th>\n",
       "      <th>writing score</th>\n",
       "    </tr>\n",
       "  </thead>\n",
       "  <tbody>\n",
       "    <tr>\n",
       "      <th>0</th>\n",
       "      <td>female</td>\n",
       "      <td>group B</td>\n",
       "      <td>bachelor's degree</td>\n",
       "      <td>standard</td>\n",
       "      <td>none</td>\n",
       "      <td>72</td>\n",
       "      <td>72</td>\n",
       "      <td>74</td>\n",
       "    </tr>\n",
       "    <tr>\n",
       "      <th>1</th>\n",
       "      <td>female</td>\n",
       "      <td>group C</td>\n",
       "      <td>some college</td>\n",
       "      <td>standard</td>\n",
       "      <td>completed</td>\n",
       "      <td>69</td>\n",
       "      <td>90</td>\n",
       "      <td>88</td>\n",
       "    </tr>\n",
       "    <tr>\n",
       "      <th>2</th>\n",
       "      <td>female</td>\n",
       "      <td>group B</td>\n",
       "      <td>master's degree</td>\n",
       "      <td>standard</td>\n",
       "      <td>none</td>\n",
       "      <td>90</td>\n",
       "      <td>95</td>\n",
       "      <td>93</td>\n",
       "    </tr>\n",
       "  </tbody>\n",
       "</table>\n",
       "</div>"
      ],
      "text/plain": [
       "   gender race/ethnicity parental level of education     lunch  \\\n",
       "0  female        group B           bachelor's degree  standard   \n",
       "1  female        group C                some college  standard   \n",
       "2  female        group B             master's degree  standard   \n",
       "\n",
       "  test preparation course  math score  reading score  writing score  \n",
       "0                    none          72             72             74  \n",
       "1               completed          69             90             88  \n",
       "2                    none          90             95             93  "
      ]
     },
     "execution_count": 20,
     "metadata": {},
     "output_type": "execute_result"
    }
   ],
   "source": [
    "del table_gen\n",
    "\n",
    "table = table.drop(columns=[\"female\", \"male\", \"score average\"], axis=1)\n",
    "\n",
    "table.head(3)"
   ]
  },
  {
   "cell_type": "markdown",
   "metadata": {},
   "source": [
    "## ==================================================\n",
    "So in this histogram we can see the **count** in Y-axis which is about how many people are included, the **scores** in the X-axis, and by **colors** we can see what they represent in the chart legend\n",
    "It is easy to see the conditions by just observing the graphs, the first ones are..."
   ]
  },
  {
   "cell_type": "markdown",
   "metadata": {},
   "source": [
    "## 👫Gender X Scores\n",
    "\n",
    "So, these already give interesting insights:\n",
    "\n",
    "> Men dominate the highest grades only on the math test\n",
    "> - Maybe women did not focus on math\n",
    "> - Maybe men did focus only on math\n",
    "\n",
    "&nbsp;\n",
    "\n",
    "> The graphs of woman dominance have a strange gap in the score 98-99\n",
    "> - Was the teacher was kindly to those who almost hit 100?\n",
    "\n",
    "&nbsp;\n",
    "\n",
    "> Only few got a score between 0 and 20\n",
    "> - Perhaps this institution just taught their students really well\n",
    "\n",
    "&nbsp;\n",
    "\n",
    "Well it is already certain that woman dominated over the tests"
   ]
  },
  {
   "cell_type": "code",
   "execution_count": 21,
   "metadata": {},
   "outputs": [
    {
     "data": {
      "application/vnd.plotly.v1+json": {
       "config": {
        "plotlyServerURL": "https://plot.ly"
       },
       "data": [
        {
         "alignmentgroup": "True",
         "bingroup": "x",
         "hovertemplate": "gender=female<br>math score=%{x}<br>count=%{y}<extra></extra>",
         "legendgroup": "female",
         "marker": {
          "color": "#636efa",
          "pattern": {
           "shape": ""
          }
         },
         "name": "female",
         "offsetgroup": "female",
         "orientation": "v",
         "showlegend": true,
         "type": "histogram",
         "x": [
          72,
          69,
          90,
          71,
          88,
          38,
          65,
          50,
          69,
          18,
          54,
          65,
          69,
          67,
          62,
          69,
          63,
          56,
          74,
          50,
          75,
          58,
          53,
          50,
          55,
          66,
          57,
          71,
          33,
          82,
          0,
          69,
          59,
          60,
          39,
          58,
          41,
          61,
          62,
          47,
          73,
          76,
          71,
          58,
          73,
          65,
          79,
          63,
          58,
          65,
          85,
          58,
          87,
          52,
          70,
          77,
          51,
          99,
          75,
          78,
          51,
          55,
          79,
          88,
          87,
          51,
          75,
          59,
          76,
          59,
          42,
          22,
          68,
          59,
          70,
          66,
          61,
          75,
          81,
          96,
          58,
          68,
          67,
          79,
          63,
          43,
          81,
          46,
          71,
          52,
          97,
          46,
          50,
          65,
          77,
          66,
          62,
          69,
          45,
          78,
          67,
          65,
          57,
          74,
          58,
          42,
          83,
          34,
          56,
          55,
          52,
          45,
          72,
          88,
          67,
          64,
          80,
          56,
          58,
          65,
          71,
          60,
          62,
          64,
          70,
          65,
          64,
          44,
          99,
          63,
          69,
          88,
          71,
          47,
          65,
          85,
          59,
          65,
          73,
          70,
          37,
          67,
          65,
          67,
          74,
          53,
          49,
          73,
          68,
          59,
          77,
          56,
          67,
          75,
          71,
          43,
          41,
          82,
          41,
          83,
          61,
          24,
          35,
          61,
          69,
          72,
          77,
          52,
          63,
          46,
          59,
          61,
          42,
          80,
          58,
          52,
          27,
          44,
          73,
          45,
          82,
          59,
          80,
          85,
          71,
          80,
          38,
          38,
          67,
          64,
          57,
          62,
          77,
          65,
          50,
          85,
          59,
          49,
          88,
          54,
          63,
          82,
          52,
          70,
          51,
          82,
          57,
          47,
          59,
          62,
          61,
          47,
          67,
          78,
          59,
          73,
          67,
          64,
          100,
          65,
          53,
          79,
          100,
          71,
          77,
          84,
          26,
          77,
          83,
          63,
          68,
          59,
          90,
          71,
          55,
          52,
          49,
          60,
          65,
          64,
          83,
          81,
          54,
          54,
          59,
          66,
          74,
          94,
          95,
          40,
          82,
          86,
          54,
          77,
          76,
          74,
          66,
          66,
          67,
          91,
          36,
          29,
          62,
          68,
          47,
          79,
          66,
          51,
          81,
          82,
          64,
          92,
          62,
          40,
          32,
          55,
          53,
          74,
          63,
          63,
          92,
          61,
          53,
          50,
          74,
          81,
          48,
          53,
          81,
          77,
          63,
          73,
          69,
          65,
          55,
          44,
          54,
          48,
          74,
          92,
          56,
          69,
          65,
          54,
          29,
          76,
          85,
          40,
          61,
          58,
          58,
          65,
          82,
          60,
          37,
          35,
          61,
          44,
          66,
          75,
          67,
          80,
          76,
          74,
          72,
          74,
          65,
          59,
          64,
          50,
          69,
          68,
          85,
          65,
          73,
          62,
          43,
          55,
          65,
          50,
          63,
          77,
          66,
          69,
          65,
          69,
          50,
          73,
          70,
          67,
          29,
          94,
          49,
          73,
          66,
          77,
          49,
          79,
          75,
          59,
          57,
          79,
          57,
          63,
          59,
          42,
          80,
          98,
          60,
          76,
          96,
          76,
          62,
          74,
          65,
          73,
          68,
          87,
          53,
          53,
          37,
          81,
          59,
          50,
          77,
          84,
          52,
          53,
          48,
          62,
          74,
          58,
          68,
          52,
          62,
          49,
          66,
          35,
          72,
          46,
          77,
          76,
          52,
          32,
          72,
          19,
          52,
          48,
          60,
          42,
          57,
          70,
          52,
          87,
          82,
          73,
          64,
          41,
          54,
          72,
          45,
          60,
          77,
          85,
          78,
          71,
          48,
          56,
          65,
          69,
          61,
          74,
          77,
          60,
          75,
          66,
          39,
          23,
          40,
          59,
          61,
          87,
          97,
          65,
          53,
          81,
          71,
          70,
          43,
          59,
          64,
          71,
          64,
          51,
          62,
          93,
          69,
          86,
          85,
          50,
          59,
          32,
          63,
          65,
          73,
          34,
          93,
          67,
          79,
          67,
          69,
          52,
          47,
          46,
          68,
          44,
          57,
          35,
          54,
          65,
          48,
          57,
          78,
          58,
          54,
          49,
          57,
          75,
          74,
          62,
          92,
          45,
          56,
          48,
          100,
          65,
          62,
          68,
          75,
          89,
          53,
          49,
          54,
          64,
          91,
          8,
          78,
          74,
          40,
          44,
          67,
          65,
          55,
          62,
          88,
          59,
          68,
          77
         ],
         "xaxis": "x",
         "yaxis": "y"
        },
        {
         "alignmentgroup": "True",
         "bingroup": "x",
         "hovertemplate": "gender=male<br>math score=%{x}<br>count=%{y}<extra></extra>",
         "legendgroup": "male",
         "marker": {
          "color": "#EF553B",
          "pattern": {
           "shape": ""
          }
         },
         "name": "male",
         "offsetgroup": "male",
         "orientation": "v",
         "showlegend": true,
         "type": "histogram",
         "x": [
          47,
          76,
          40,
          64,
          58,
          40,
          78,
          88,
          46,
          66,
          44,
          74,
          73,
          69,
          70,
          40,
          97,
          81,
          57,
          55,
          59,
          65,
          82,
          53,
          77,
          53,
          88,
          52,
          58,
          79,
          39,
          62,
          67,
          45,
          61,
          63,
          61,
          49,
          44,
          30,
          80,
          49,
          50,
          72,
          42,
          27,
          71,
          43,
          78,
          65,
          79,
          68,
          60,
          98,
          66,
          62,
          54,
          84,
          91,
          63,
          83,
          72,
          65,
          82,
          89,
          53,
          87,
          74,
          58,
          51,
          70,
          71,
          57,
          88,
          88,
          73,
          100,
          62,
          77,
          54,
          62,
          60,
          66,
          82,
          49,
          52,
          53,
          72,
          94,
          62,
          45,
          65,
          80,
          62,
          48,
          76,
          77,
          61,
          59,
          55,
          69,
          59,
          74,
          82,
          81,
          80,
          35,
          60,
          87,
          84,
          66,
          61,
          87,
          86,
          57,
          68,
          76,
          46,
          92,
          83,
          80,
          63,
          54,
          84,
          73,
          59,
          75,
          85,
          89,
          68,
          47,
          80,
          54,
          78,
          79,
          76,
          59,
          69,
          58,
          88,
          83,
          73,
          53,
          45,
          81,
          97,
          88,
          77,
          76,
          86,
          63,
          78,
          67,
          46,
          71,
          40,
          90,
          81,
          56,
          80,
          69,
          99,
          51,
          66,
          67,
          71,
          83,
          63,
          61,
          28,
          82,
          71,
          47,
          62,
          90,
          76,
          49,
          58,
          67,
          79,
          62,
          75,
          87,
          66,
          63,
          59,
          85,
          59,
          49,
          69,
          61,
          84,
          74,
          46,
          66,
          87,
          79,
          73,
          73,
          76,
          57,
          48,
          74,
          60,
          53,
          65,
          87,
          84,
          71,
          63,
          84,
          71,
          74,
          68,
          57,
          41,
          86,
          69,
          65,
          68,
          64,
          61,
          73,
          50,
          75,
          75,
          70,
          89,
          79,
          69,
          86,
          47,
          81,
          65,
          37,
          53,
          72,
          53,
          54,
          75,
          72,
          91,
          76,
          80,
          76,
          73,
          68,
          59,
          70,
          61,
          64,
          79,
          68,
          76,
          63,
          68,
          55,
          79,
          76,
          64,
          62,
          71,
          69,
          54,
          53,
          68,
          56,
          62,
          73,
          51,
          85,
          97,
          75,
          79,
          78,
          72,
          79,
          79,
          87,
          77,
          53,
          61,
          73,
          96,
          48,
          48,
          63,
          68,
          71,
          91,
          40,
          61,
          58,
          71,
          68,
          30,
          53,
          60,
          84,
          75,
          69,
          94,
          88,
          95,
          65,
          62,
          58,
          100,
          100,
          69,
          61,
          49,
          67,
          79,
          84,
          71,
          86,
          41,
          70,
          51,
          77,
          69,
          90,
          74,
          73,
          80,
          73,
          81,
          52,
          81,
          63,
          60,
          62,
          62,
          85,
          77,
          53,
          93,
          66,
          87,
          62,
          46,
          66,
          89,
          93,
          81,
          73,
          91,
          55,
          50,
          47,
          81,
          68,
          53,
          55,
          55,
          67,
          92,
          81,
          61,
          80,
          55,
          72,
          69,
          69,
          87,
          71,
          68,
          79,
          58,
          55,
          70,
          69,
          78,
          60,
          76,
          58,
          52,
          75,
          66,
          94,
          91,
          68,
          66,
          89,
          70,
          69,
          67,
          76,
          75,
          90,
          59,
          51,
          45,
          87,
          94,
          61,
          49,
          62,
          68,
          64,
          58,
          73,
          58,
          64,
          74,
          90,
          91,
          64,
          80,
          71,
          82,
          62,
          75,
          52,
          87,
          39,
          97,
          82,
          59,
          61,
          78,
          49,
          59,
          82,
          90,
          80,
          81,
          57,
          63,
          55,
          54,
          44,
          88,
          36,
          67,
          85,
          88,
          57,
          70,
          50,
          100,
          91,
          69,
          72,
          74,
          74,
          64,
          46,
          67,
          62,
          61,
          70,
          98,
          70,
          67,
          85,
          77,
          72,
          81,
          61,
          82,
          49,
          94,
          58,
          72,
          84,
          75,
          72,
          66,
          63,
          78,
          60,
          62,
          55,
          81,
          79,
          57,
          81,
          86,
          63,
          62
         ],
         "xaxis": "x",
         "yaxis": "y"
        }
       ],
       "layout": {
        "barmode": "relative",
        "legend": {
         "title": {
          "text": "gender"
         },
         "tracegroupgap": 0
        },
        "margin": {
         "t": 60
        },
        "template": {
         "data": {
          "bar": [
           {
            "error_x": {
             "color": "#2a3f5f"
            },
            "error_y": {
             "color": "#2a3f5f"
            },
            "marker": {
             "line": {
              "color": "#E5ECF6",
              "width": 0.5
             },
             "pattern": {
              "fillmode": "overlay",
              "size": 10,
              "solidity": 0.2
             }
            },
            "type": "bar"
           }
          ],
          "barpolar": [
           {
            "marker": {
             "line": {
              "color": "#E5ECF6",
              "width": 0.5
             },
             "pattern": {
              "fillmode": "overlay",
              "size": 10,
              "solidity": 0.2
             }
            },
            "type": "barpolar"
           }
          ],
          "carpet": [
           {
            "aaxis": {
             "endlinecolor": "#2a3f5f",
             "gridcolor": "white",
             "linecolor": "white",
             "minorgridcolor": "white",
             "startlinecolor": "#2a3f5f"
            },
            "baxis": {
             "endlinecolor": "#2a3f5f",
             "gridcolor": "white",
             "linecolor": "white",
             "minorgridcolor": "white",
             "startlinecolor": "#2a3f5f"
            },
            "type": "carpet"
           }
          ],
          "choropleth": [
           {
            "colorbar": {
             "outlinewidth": 0,
             "ticks": ""
            },
            "type": "choropleth"
           }
          ],
          "contour": [
           {
            "colorbar": {
             "outlinewidth": 0,
             "ticks": ""
            },
            "colorscale": [
             [
              0,
              "#0d0887"
             ],
             [
              0.1111111111111111,
              "#46039f"
             ],
             [
              0.2222222222222222,
              "#7201a8"
             ],
             [
              0.3333333333333333,
              "#9c179e"
             ],
             [
              0.4444444444444444,
              "#bd3786"
             ],
             [
              0.5555555555555556,
              "#d8576b"
             ],
             [
              0.6666666666666666,
              "#ed7953"
             ],
             [
              0.7777777777777778,
              "#fb9f3a"
             ],
             [
              0.8888888888888888,
              "#fdca26"
             ],
             [
              1,
              "#f0f921"
             ]
            ],
            "type": "contour"
           }
          ],
          "contourcarpet": [
           {
            "colorbar": {
             "outlinewidth": 0,
             "ticks": ""
            },
            "type": "contourcarpet"
           }
          ],
          "heatmap": [
           {
            "colorbar": {
             "outlinewidth": 0,
             "ticks": ""
            },
            "colorscale": [
             [
              0,
              "#0d0887"
             ],
             [
              0.1111111111111111,
              "#46039f"
             ],
             [
              0.2222222222222222,
              "#7201a8"
             ],
             [
              0.3333333333333333,
              "#9c179e"
             ],
             [
              0.4444444444444444,
              "#bd3786"
             ],
             [
              0.5555555555555556,
              "#d8576b"
             ],
             [
              0.6666666666666666,
              "#ed7953"
             ],
             [
              0.7777777777777778,
              "#fb9f3a"
             ],
             [
              0.8888888888888888,
              "#fdca26"
             ],
             [
              1,
              "#f0f921"
             ]
            ],
            "type": "heatmap"
           }
          ],
          "heatmapgl": [
           {
            "colorbar": {
             "outlinewidth": 0,
             "ticks": ""
            },
            "colorscale": [
             [
              0,
              "#0d0887"
             ],
             [
              0.1111111111111111,
              "#46039f"
             ],
             [
              0.2222222222222222,
              "#7201a8"
             ],
             [
              0.3333333333333333,
              "#9c179e"
             ],
             [
              0.4444444444444444,
              "#bd3786"
             ],
             [
              0.5555555555555556,
              "#d8576b"
             ],
             [
              0.6666666666666666,
              "#ed7953"
             ],
             [
              0.7777777777777778,
              "#fb9f3a"
             ],
             [
              0.8888888888888888,
              "#fdca26"
             ],
             [
              1,
              "#f0f921"
             ]
            ],
            "type": "heatmapgl"
           }
          ],
          "histogram": [
           {
            "marker": {
             "pattern": {
              "fillmode": "overlay",
              "size": 10,
              "solidity": 0.2
             }
            },
            "type": "histogram"
           }
          ],
          "histogram2d": [
           {
            "colorbar": {
             "outlinewidth": 0,
             "ticks": ""
            },
            "colorscale": [
             [
              0,
              "#0d0887"
             ],
             [
              0.1111111111111111,
              "#46039f"
             ],
             [
              0.2222222222222222,
              "#7201a8"
             ],
             [
              0.3333333333333333,
              "#9c179e"
             ],
             [
              0.4444444444444444,
              "#bd3786"
             ],
             [
              0.5555555555555556,
              "#d8576b"
             ],
             [
              0.6666666666666666,
              "#ed7953"
             ],
             [
              0.7777777777777778,
              "#fb9f3a"
             ],
             [
              0.8888888888888888,
              "#fdca26"
             ],
             [
              1,
              "#f0f921"
             ]
            ],
            "type": "histogram2d"
           }
          ],
          "histogram2dcontour": [
           {
            "colorbar": {
             "outlinewidth": 0,
             "ticks": ""
            },
            "colorscale": [
             [
              0,
              "#0d0887"
             ],
             [
              0.1111111111111111,
              "#46039f"
             ],
             [
              0.2222222222222222,
              "#7201a8"
             ],
             [
              0.3333333333333333,
              "#9c179e"
             ],
             [
              0.4444444444444444,
              "#bd3786"
             ],
             [
              0.5555555555555556,
              "#d8576b"
             ],
             [
              0.6666666666666666,
              "#ed7953"
             ],
             [
              0.7777777777777778,
              "#fb9f3a"
             ],
             [
              0.8888888888888888,
              "#fdca26"
             ],
             [
              1,
              "#f0f921"
             ]
            ],
            "type": "histogram2dcontour"
           }
          ],
          "mesh3d": [
           {
            "colorbar": {
             "outlinewidth": 0,
             "ticks": ""
            },
            "type": "mesh3d"
           }
          ],
          "parcoords": [
           {
            "line": {
             "colorbar": {
              "outlinewidth": 0,
              "ticks": ""
             }
            },
            "type": "parcoords"
           }
          ],
          "pie": [
           {
            "automargin": true,
            "type": "pie"
           }
          ],
          "scatter": [
           {
            "fillpattern": {
             "fillmode": "overlay",
             "size": 10,
             "solidity": 0.2
            },
            "type": "scatter"
           }
          ],
          "scatter3d": [
           {
            "line": {
             "colorbar": {
              "outlinewidth": 0,
              "ticks": ""
             }
            },
            "marker": {
             "colorbar": {
              "outlinewidth": 0,
              "ticks": ""
             }
            },
            "type": "scatter3d"
           }
          ],
          "scattercarpet": [
           {
            "marker": {
             "colorbar": {
              "outlinewidth": 0,
              "ticks": ""
             }
            },
            "type": "scattercarpet"
           }
          ],
          "scattergeo": [
           {
            "marker": {
             "colorbar": {
              "outlinewidth": 0,
              "ticks": ""
             }
            },
            "type": "scattergeo"
           }
          ],
          "scattergl": [
           {
            "marker": {
             "colorbar": {
              "outlinewidth": 0,
              "ticks": ""
             }
            },
            "type": "scattergl"
           }
          ],
          "scattermapbox": [
           {
            "marker": {
             "colorbar": {
              "outlinewidth": 0,
              "ticks": ""
             }
            },
            "type": "scattermapbox"
           }
          ],
          "scatterpolar": [
           {
            "marker": {
             "colorbar": {
              "outlinewidth": 0,
              "ticks": ""
             }
            },
            "type": "scatterpolar"
           }
          ],
          "scatterpolargl": [
           {
            "marker": {
             "colorbar": {
              "outlinewidth": 0,
              "ticks": ""
             }
            },
            "type": "scatterpolargl"
           }
          ],
          "scatterternary": [
           {
            "marker": {
             "colorbar": {
              "outlinewidth": 0,
              "ticks": ""
             }
            },
            "type": "scatterternary"
           }
          ],
          "surface": [
           {
            "colorbar": {
             "outlinewidth": 0,
             "ticks": ""
            },
            "colorscale": [
             [
              0,
              "#0d0887"
             ],
             [
              0.1111111111111111,
              "#46039f"
             ],
             [
              0.2222222222222222,
              "#7201a8"
             ],
             [
              0.3333333333333333,
              "#9c179e"
             ],
             [
              0.4444444444444444,
              "#bd3786"
             ],
             [
              0.5555555555555556,
              "#d8576b"
             ],
             [
              0.6666666666666666,
              "#ed7953"
             ],
             [
              0.7777777777777778,
              "#fb9f3a"
             ],
             [
              0.8888888888888888,
              "#fdca26"
             ],
             [
              1,
              "#f0f921"
             ]
            ],
            "type": "surface"
           }
          ],
          "table": [
           {
            "cells": {
             "fill": {
              "color": "#EBF0F8"
             },
             "line": {
              "color": "white"
             }
            },
            "header": {
             "fill": {
              "color": "#C8D4E3"
             },
             "line": {
              "color": "white"
             }
            },
            "type": "table"
           }
          ]
         },
         "layout": {
          "annotationdefaults": {
           "arrowcolor": "#2a3f5f",
           "arrowhead": 0,
           "arrowwidth": 1
          },
          "autotypenumbers": "strict",
          "coloraxis": {
           "colorbar": {
            "outlinewidth": 0,
            "ticks": ""
           }
          },
          "colorscale": {
           "diverging": [
            [
             0,
             "#8e0152"
            ],
            [
             0.1,
             "#c51b7d"
            ],
            [
             0.2,
             "#de77ae"
            ],
            [
             0.3,
             "#f1b6da"
            ],
            [
             0.4,
             "#fde0ef"
            ],
            [
             0.5,
             "#f7f7f7"
            ],
            [
             0.6,
             "#e6f5d0"
            ],
            [
             0.7,
             "#b8e186"
            ],
            [
             0.8,
             "#7fbc41"
            ],
            [
             0.9,
             "#4d9221"
            ],
            [
             1,
             "#276419"
            ]
           ],
           "sequential": [
            [
             0,
             "#0d0887"
            ],
            [
             0.1111111111111111,
             "#46039f"
            ],
            [
             0.2222222222222222,
             "#7201a8"
            ],
            [
             0.3333333333333333,
             "#9c179e"
            ],
            [
             0.4444444444444444,
             "#bd3786"
            ],
            [
             0.5555555555555556,
             "#d8576b"
            ],
            [
             0.6666666666666666,
             "#ed7953"
            ],
            [
             0.7777777777777778,
             "#fb9f3a"
            ],
            [
             0.8888888888888888,
             "#fdca26"
            ],
            [
             1,
             "#f0f921"
            ]
           ],
           "sequentialminus": [
            [
             0,
             "#0d0887"
            ],
            [
             0.1111111111111111,
             "#46039f"
            ],
            [
             0.2222222222222222,
             "#7201a8"
            ],
            [
             0.3333333333333333,
             "#9c179e"
            ],
            [
             0.4444444444444444,
             "#bd3786"
            ],
            [
             0.5555555555555556,
             "#d8576b"
            ],
            [
             0.6666666666666666,
             "#ed7953"
            ],
            [
             0.7777777777777778,
             "#fb9f3a"
            ],
            [
             0.8888888888888888,
             "#fdca26"
            ],
            [
             1,
             "#f0f921"
            ]
           ]
          },
          "colorway": [
           "#636efa",
           "#EF553B",
           "#00cc96",
           "#ab63fa",
           "#FFA15A",
           "#19d3f3",
           "#FF6692",
           "#B6E880",
           "#FF97FF",
           "#FECB52"
          ],
          "font": {
           "color": "#2a3f5f"
          },
          "geo": {
           "bgcolor": "white",
           "lakecolor": "white",
           "landcolor": "#E5ECF6",
           "showlakes": true,
           "showland": true,
           "subunitcolor": "white"
          },
          "hoverlabel": {
           "align": "left"
          },
          "hovermode": "closest",
          "mapbox": {
           "style": "light"
          },
          "paper_bgcolor": "white",
          "plot_bgcolor": "#E5ECF6",
          "polar": {
           "angularaxis": {
            "gridcolor": "white",
            "linecolor": "white",
            "ticks": ""
           },
           "bgcolor": "#E5ECF6",
           "radialaxis": {
            "gridcolor": "white",
            "linecolor": "white",
            "ticks": ""
           }
          },
          "scene": {
           "xaxis": {
            "backgroundcolor": "#E5ECF6",
            "gridcolor": "white",
            "gridwidth": 2,
            "linecolor": "white",
            "showbackground": true,
            "ticks": "",
            "zerolinecolor": "white"
           },
           "yaxis": {
            "backgroundcolor": "#E5ECF6",
            "gridcolor": "white",
            "gridwidth": 2,
            "linecolor": "white",
            "showbackground": true,
            "ticks": "",
            "zerolinecolor": "white"
           },
           "zaxis": {
            "backgroundcolor": "#E5ECF6",
            "gridcolor": "white",
            "gridwidth": 2,
            "linecolor": "white",
            "showbackground": true,
            "ticks": "",
            "zerolinecolor": "white"
           }
          },
          "shapedefaults": {
           "line": {
            "color": "#2a3f5f"
           }
          },
          "ternary": {
           "aaxis": {
            "gridcolor": "white",
            "linecolor": "white",
            "ticks": ""
           },
           "baxis": {
            "gridcolor": "white",
            "linecolor": "white",
            "ticks": ""
           },
           "bgcolor": "#E5ECF6",
           "caxis": {
            "gridcolor": "white",
            "linecolor": "white",
            "ticks": ""
           }
          },
          "title": {
           "x": 0.05
          },
          "xaxis": {
           "automargin": true,
           "gridcolor": "white",
           "linecolor": "white",
           "ticks": "",
           "title": {
            "standoff": 15
           },
           "zerolinecolor": "white",
           "zerolinewidth": 2
          },
          "yaxis": {
           "automargin": true,
           "gridcolor": "white",
           "linecolor": "white",
           "ticks": "",
           "title": {
            "standoff": 15
           },
           "zerolinecolor": "white",
           "zerolinewidth": 2
          }
         }
        },
        "xaxis": {
         "anchor": "y",
         "domain": [
          0,
          1
         ],
         "title": {
          "text": "math score"
         }
        },
        "yaxis": {
         "anchor": "x",
         "domain": [
          0,
          1
         ],
         "title": {
          "text": "count"
         }
        }
       }
      },
      "text/html": [
       "<div>                            <div id=\"3a849fad-c75f-4e2a-a3ca-0793f7582b3e\" class=\"plotly-graph-div\" style=\"height:525px; width:100%;\"></div>            <script type=\"text/javascript\">                require([\"plotly\"], function(Plotly) {                    window.PLOTLYENV=window.PLOTLYENV || {};                                    if (document.getElementById(\"3a849fad-c75f-4e2a-a3ca-0793f7582b3e\")) {                    Plotly.newPlot(                        \"3a849fad-c75f-4e2a-a3ca-0793f7582b3e\",                        [{\"alignmentgroup\":\"True\",\"bingroup\":\"x\",\"hovertemplate\":\"gender=female<br>math score=%{x}<br>count=%{y}<extra></extra>\",\"legendgroup\":\"female\",\"marker\":{\"color\":\"#636efa\",\"pattern\":{\"shape\":\"\"}},\"name\":\"female\",\"offsetgroup\":\"female\",\"orientation\":\"v\",\"showlegend\":true,\"x\":[72,69,90,71,88,38,65,50,69,18,54,65,69,67,62,69,63,56,74,50,75,58,53,50,55,66,57,71,33,82,0,69,59,60,39,58,41,61,62,47,73,76,71,58,73,65,79,63,58,65,85,58,87,52,70,77,51,99,75,78,51,55,79,88,87,51,75,59,76,59,42,22,68,59,70,66,61,75,81,96,58,68,67,79,63,43,81,46,71,52,97,46,50,65,77,66,62,69,45,78,67,65,57,74,58,42,83,34,56,55,52,45,72,88,67,64,80,56,58,65,71,60,62,64,70,65,64,44,99,63,69,88,71,47,65,85,59,65,73,70,37,67,65,67,74,53,49,73,68,59,77,56,67,75,71,43,41,82,41,83,61,24,35,61,69,72,77,52,63,46,59,61,42,80,58,52,27,44,73,45,82,59,80,85,71,80,38,38,67,64,57,62,77,65,50,85,59,49,88,54,63,82,52,70,51,82,57,47,59,62,61,47,67,78,59,73,67,64,100,65,53,79,100,71,77,84,26,77,83,63,68,59,90,71,55,52,49,60,65,64,83,81,54,54,59,66,74,94,95,40,82,86,54,77,76,74,66,66,67,91,36,29,62,68,47,79,66,51,81,82,64,92,62,40,32,55,53,74,63,63,92,61,53,50,74,81,48,53,81,77,63,73,69,65,55,44,54,48,74,92,56,69,65,54,29,76,85,40,61,58,58,65,82,60,37,35,61,44,66,75,67,80,76,74,72,74,65,59,64,50,69,68,85,65,73,62,43,55,65,50,63,77,66,69,65,69,50,73,70,67,29,94,49,73,66,77,49,79,75,59,57,79,57,63,59,42,80,98,60,76,96,76,62,74,65,73,68,87,53,53,37,81,59,50,77,84,52,53,48,62,74,58,68,52,62,49,66,35,72,46,77,76,52,32,72,19,52,48,60,42,57,70,52,87,82,73,64,41,54,72,45,60,77,85,78,71,48,56,65,69,61,74,77,60,75,66,39,23,40,59,61,87,97,65,53,81,71,70,43,59,64,71,64,51,62,93,69,86,85,50,59,32,63,65,73,34,93,67,79,67,69,52,47,46,68,44,57,35,54,65,48,57,78,58,54,49,57,75,74,62,92,45,56,48,100,65,62,68,75,89,53,49,54,64,91,8,78,74,40,44,67,65,55,62,88,59,68,77],\"xaxis\":\"x\",\"yaxis\":\"y\",\"type\":\"histogram\"},{\"alignmentgroup\":\"True\",\"bingroup\":\"x\",\"hovertemplate\":\"gender=male<br>math score=%{x}<br>count=%{y}<extra></extra>\",\"legendgroup\":\"male\",\"marker\":{\"color\":\"#EF553B\",\"pattern\":{\"shape\":\"\"}},\"name\":\"male\",\"offsetgroup\":\"male\",\"orientation\":\"v\",\"showlegend\":true,\"x\":[47,76,40,64,58,40,78,88,46,66,44,74,73,69,70,40,97,81,57,55,59,65,82,53,77,53,88,52,58,79,39,62,67,45,61,63,61,49,44,30,80,49,50,72,42,27,71,43,78,65,79,68,60,98,66,62,54,84,91,63,83,72,65,82,89,53,87,74,58,51,70,71,57,88,88,73,100,62,77,54,62,60,66,82,49,52,53,72,94,62,45,65,80,62,48,76,77,61,59,55,69,59,74,82,81,80,35,60,87,84,66,61,87,86,57,68,76,46,92,83,80,63,54,84,73,59,75,85,89,68,47,80,54,78,79,76,59,69,58,88,83,73,53,45,81,97,88,77,76,86,63,78,67,46,71,40,90,81,56,80,69,99,51,66,67,71,83,63,61,28,82,71,47,62,90,76,49,58,67,79,62,75,87,66,63,59,85,59,49,69,61,84,74,46,66,87,79,73,73,76,57,48,74,60,53,65,87,84,71,63,84,71,74,68,57,41,86,69,65,68,64,61,73,50,75,75,70,89,79,69,86,47,81,65,37,53,72,53,54,75,72,91,76,80,76,73,68,59,70,61,64,79,68,76,63,68,55,79,76,64,62,71,69,54,53,68,56,62,73,51,85,97,75,79,78,72,79,79,87,77,53,61,73,96,48,48,63,68,71,91,40,61,58,71,68,30,53,60,84,75,69,94,88,95,65,62,58,100,100,69,61,49,67,79,84,71,86,41,70,51,77,69,90,74,73,80,73,81,52,81,63,60,62,62,85,77,53,93,66,87,62,46,66,89,93,81,73,91,55,50,47,81,68,53,55,55,67,92,81,61,80,55,72,69,69,87,71,68,79,58,55,70,69,78,60,76,58,52,75,66,94,91,68,66,89,70,69,67,76,75,90,59,51,45,87,94,61,49,62,68,64,58,73,58,64,74,90,91,64,80,71,82,62,75,52,87,39,97,82,59,61,78,49,59,82,90,80,81,57,63,55,54,44,88,36,67,85,88,57,70,50,100,91,69,72,74,74,64,46,67,62,61,70,98,70,67,85,77,72,81,61,82,49,94,58,72,84,75,72,66,63,78,60,62,55,81,79,57,81,86,63,62],\"xaxis\":\"x\",\"yaxis\":\"y\",\"type\":\"histogram\"}],                        {\"template\":{\"data\":{\"histogram2dcontour\":[{\"type\":\"histogram2dcontour\",\"colorbar\":{\"outlinewidth\":0,\"ticks\":\"\"},\"colorscale\":[[0.0,\"#0d0887\"],[0.1111111111111111,\"#46039f\"],[0.2222222222222222,\"#7201a8\"],[0.3333333333333333,\"#9c179e\"],[0.4444444444444444,\"#bd3786\"],[0.5555555555555556,\"#d8576b\"],[0.6666666666666666,\"#ed7953\"],[0.7777777777777778,\"#fb9f3a\"],[0.8888888888888888,\"#fdca26\"],[1.0,\"#f0f921\"]]}],\"choropleth\":[{\"type\":\"choropleth\",\"colorbar\":{\"outlinewidth\":0,\"ticks\":\"\"}}],\"histogram2d\":[{\"type\":\"histogram2d\",\"colorbar\":{\"outlinewidth\":0,\"ticks\":\"\"},\"colorscale\":[[0.0,\"#0d0887\"],[0.1111111111111111,\"#46039f\"],[0.2222222222222222,\"#7201a8\"],[0.3333333333333333,\"#9c179e\"],[0.4444444444444444,\"#bd3786\"],[0.5555555555555556,\"#d8576b\"],[0.6666666666666666,\"#ed7953\"],[0.7777777777777778,\"#fb9f3a\"],[0.8888888888888888,\"#fdca26\"],[1.0,\"#f0f921\"]]}],\"heatmap\":[{\"type\":\"heatmap\",\"colorbar\":{\"outlinewidth\":0,\"ticks\":\"\"},\"colorscale\":[[0.0,\"#0d0887\"],[0.1111111111111111,\"#46039f\"],[0.2222222222222222,\"#7201a8\"],[0.3333333333333333,\"#9c179e\"],[0.4444444444444444,\"#bd3786\"],[0.5555555555555556,\"#d8576b\"],[0.6666666666666666,\"#ed7953\"],[0.7777777777777778,\"#fb9f3a\"],[0.8888888888888888,\"#fdca26\"],[1.0,\"#f0f921\"]]}],\"heatmapgl\":[{\"type\":\"heatmapgl\",\"colorbar\":{\"outlinewidth\":0,\"ticks\":\"\"},\"colorscale\":[[0.0,\"#0d0887\"],[0.1111111111111111,\"#46039f\"],[0.2222222222222222,\"#7201a8\"],[0.3333333333333333,\"#9c179e\"],[0.4444444444444444,\"#bd3786\"],[0.5555555555555556,\"#d8576b\"],[0.6666666666666666,\"#ed7953\"],[0.7777777777777778,\"#fb9f3a\"],[0.8888888888888888,\"#fdca26\"],[1.0,\"#f0f921\"]]}],\"contourcarpet\":[{\"type\":\"contourcarpet\",\"colorbar\":{\"outlinewidth\":0,\"ticks\":\"\"}}],\"contour\":[{\"type\":\"contour\",\"colorbar\":{\"outlinewidth\":0,\"ticks\":\"\"},\"colorscale\":[[0.0,\"#0d0887\"],[0.1111111111111111,\"#46039f\"],[0.2222222222222222,\"#7201a8\"],[0.3333333333333333,\"#9c179e\"],[0.4444444444444444,\"#bd3786\"],[0.5555555555555556,\"#d8576b\"],[0.6666666666666666,\"#ed7953\"],[0.7777777777777778,\"#fb9f3a\"],[0.8888888888888888,\"#fdca26\"],[1.0,\"#f0f921\"]]}],\"surface\":[{\"type\":\"surface\",\"colorbar\":{\"outlinewidth\":0,\"ticks\":\"\"},\"colorscale\":[[0.0,\"#0d0887\"],[0.1111111111111111,\"#46039f\"],[0.2222222222222222,\"#7201a8\"],[0.3333333333333333,\"#9c179e\"],[0.4444444444444444,\"#bd3786\"],[0.5555555555555556,\"#d8576b\"],[0.6666666666666666,\"#ed7953\"],[0.7777777777777778,\"#fb9f3a\"],[0.8888888888888888,\"#fdca26\"],[1.0,\"#f0f921\"]]}],\"mesh3d\":[{\"type\":\"mesh3d\",\"colorbar\":{\"outlinewidth\":0,\"ticks\":\"\"}}],\"scatter\":[{\"fillpattern\":{\"fillmode\":\"overlay\",\"size\":10,\"solidity\":0.2},\"type\":\"scatter\"}],\"parcoords\":[{\"type\":\"parcoords\",\"line\":{\"colorbar\":{\"outlinewidth\":0,\"ticks\":\"\"}}}],\"scatterpolargl\":[{\"type\":\"scatterpolargl\",\"marker\":{\"colorbar\":{\"outlinewidth\":0,\"ticks\":\"\"}}}],\"bar\":[{\"error_x\":{\"color\":\"#2a3f5f\"},\"error_y\":{\"color\":\"#2a3f5f\"},\"marker\":{\"line\":{\"color\":\"#E5ECF6\",\"width\":0.5},\"pattern\":{\"fillmode\":\"overlay\",\"size\":10,\"solidity\":0.2}},\"type\":\"bar\"}],\"scattergeo\":[{\"type\":\"scattergeo\",\"marker\":{\"colorbar\":{\"outlinewidth\":0,\"ticks\":\"\"}}}],\"scatterpolar\":[{\"type\":\"scatterpolar\",\"marker\":{\"colorbar\":{\"outlinewidth\":0,\"ticks\":\"\"}}}],\"histogram\":[{\"marker\":{\"pattern\":{\"fillmode\":\"overlay\",\"size\":10,\"solidity\":0.2}},\"type\":\"histogram\"}],\"scattergl\":[{\"type\":\"scattergl\",\"marker\":{\"colorbar\":{\"outlinewidth\":0,\"ticks\":\"\"}}}],\"scatter3d\":[{\"type\":\"scatter3d\",\"line\":{\"colorbar\":{\"outlinewidth\":0,\"ticks\":\"\"}},\"marker\":{\"colorbar\":{\"outlinewidth\":0,\"ticks\":\"\"}}}],\"scattermapbox\":[{\"type\":\"scattermapbox\",\"marker\":{\"colorbar\":{\"outlinewidth\":0,\"ticks\":\"\"}}}],\"scatterternary\":[{\"type\":\"scatterternary\",\"marker\":{\"colorbar\":{\"outlinewidth\":0,\"ticks\":\"\"}}}],\"scattercarpet\":[{\"type\":\"scattercarpet\",\"marker\":{\"colorbar\":{\"outlinewidth\":0,\"ticks\":\"\"}}}],\"carpet\":[{\"aaxis\":{\"endlinecolor\":\"#2a3f5f\",\"gridcolor\":\"white\",\"linecolor\":\"white\",\"minorgridcolor\":\"white\",\"startlinecolor\":\"#2a3f5f\"},\"baxis\":{\"endlinecolor\":\"#2a3f5f\",\"gridcolor\":\"white\",\"linecolor\":\"white\",\"minorgridcolor\":\"white\",\"startlinecolor\":\"#2a3f5f\"},\"type\":\"carpet\"}],\"table\":[{\"cells\":{\"fill\":{\"color\":\"#EBF0F8\"},\"line\":{\"color\":\"white\"}},\"header\":{\"fill\":{\"color\":\"#C8D4E3\"},\"line\":{\"color\":\"white\"}},\"type\":\"table\"}],\"barpolar\":[{\"marker\":{\"line\":{\"color\":\"#E5ECF6\",\"width\":0.5},\"pattern\":{\"fillmode\":\"overlay\",\"size\":10,\"solidity\":0.2}},\"type\":\"barpolar\"}],\"pie\":[{\"automargin\":true,\"type\":\"pie\"}]},\"layout\":{\"autotypenumbers\":\"strict\",\"colorway\":[\"#636efa\",\"#EF553B\",\"#00cc96\",\"#ab63fa\",\"#FFA15A\",\"#19d3f3\",\"#FF6692\",\"#B6E880\",\"#FF97FF\",\"#FECB52\"],\"font\":{\"color\":\"#2a3f5f\"},\"hovermode\":\"closest\",\"hoverlabel\":{\"align\":\"left\"},\"paper_bgcolor\":\"white\",\"plot_bgcolor\":\"#E5ECF6\",\"polar\":{\"bgcolor\":\"#E5ECF6\",\"angularaxis\":{\"gridcolor\":\"white\",\"linecolor\":\"white\",\"ticks\":\"\"},\"radialaxis\":{\"gridcolor\":\"white\",\"linecolor\":\"white\",\"ticks\":\"\"}},\"ternary\":{\"bgcolor\":\"#E5ECF6\",\"aaxis\":{\"gridcolor\":\"white\",\"linecolor\":\"white\",\"ticks\":\"\"},\"baxis\":{\"gridcolor\":\"white\",\"linecolor\":\"white\",\"ticks\":\"\"},\"caxis\":{\"gridcolor\":\"white\",\"linecolor\":\"white\",\"ticks\":\"\"}},\"coloraxis\":{\"colorbar\":{\"outlinewidth\":0,\"ticks\":\"\"}},\"colorscale\":{\"sequential\":[[0.0,\"#0d0887\"],[0.1111111111111111,\"#46039f\"],[0.2222222222222222,\"#7201a8\"],[0.3333333333333333,\"#9c179e\"],[0.4444444444444444,\"#bd3786\"],[0.5555555555555556,\"#d8576b\"],[0.6666666666666666,\"#ed7953\"],[0.7777777777777778,\"#fb9f3a\"],[0.8888888888888888,\"#fdca26\"],[1.0,\"#f0f921\"]],\"sequentialminus\":[[0.0,\"#0d0887\"],[0.1111111111111111,\"#46039f\"],[0.2222222222222222,\"#7201a8\"],[0.3333333333333333,\"#9c179e\"],[0.4444444444444444,\"#bd3786\"],[0.5555555555555556,\"#d8576b\"],[0.6666666666666666,\"#ed7953\"],[0.7777777777777778,\"#fb9f3a\"],[0.8888888888888888,\"#fdca26\"],[1.0,\"#f0f921\"]],\"diverging\":[[0,\"#8e0152\"],[0.1,\"#c51b7d\"],[0.2,\"#de77ae\"],[0.3,\"#f1b6da\"],[0.4,\"#fde0ef\"],[0.5,\"#f7f7f7\"],[0.6,\"#e6f5d0\"],[0.7,\"#b8e186\"],[0.8,\"#7fbc41\"],[0.9,\"#4d9221\"],[1,\"#276419\"]]},\"xaxis\":{\"gridcolor\":\"white\",\"linecolor\":\"white\",\"ticks\":\"\",\"title\":{\"standoff\":15},\"zerolinecolor\":\"white\",\"automargin\":true,\"zerolinewidth\":2},\"yaxis\":{\"gridcolor\":\"white\",\"linecolor\":\"white\",\"ticks\":\"\",\"title\":{\"standoff\":15},\"zerolinecolor\":\"white\",\"automargin\":true,\"zerolinewidth\":2},\"scene\":{\"xaxis\":{\"backgroundcolor\":\"#E5ECF6\",\"gridcolor\":\"white\",\"linecolor\":\"white\",\"showbackground\":true,\"ticks\":\"\",\"zerolinecolor\":\"white\",\"gridwidth\":2},\"yaxis\":{\"backgroundcolor\":\"#E5ECF6\",\"gridcolor\":\"white\",\"linecolor\":\"white\",\"showbackground\":true,\"ticks\":\"\",\"zerolinecolor\":\"white\",\"gridwidth\":2},\"zaxis\":{\"backgroundcolor\":\"#E5ECF6\",\"gridcolor\":\"white\",\"linecolor\":\"white\",\"showbackground\":true,\"ticks\":\"\",\"zerolinecolor\":\"white\",\"gridwidth\":2}},\"shapedefaults\":{\"line\":{\"color\":\"#2a3f5f\"}},\"annotationdefaults\":{\"arrowcolor\":\"#2a3f5f\",\"arrowhead\":0,\"arrowwidth\":1},\"geo\":{\"bgcolor\":\"white\",\"landcolor\":\"#E5ECF6\",\"subunitcolor\":\"white\",\"showland\":true,\"showlakes\":true,\"lakecolor\":\"white\"},\"title\":{\"x\":0.05},\"mapbox\":{\"style\":\"light\"}}},\"xaxis\":{\"anchor\":\"y\",\"domain\":[0.0,1.0],\"title\":{\"text\":\"math score\"}},\"yaxis\":{\"anchor\":\"x\",\"domain\":[0.0,1.0],\"title\":{\"text\":\"count\"}},\"legend\":{\"title\":{\"text\":\"gender\"},\"tracegroupgap\":0},\"margin\":{\"t\":60},\"barmode\":\"relative\"},                        {\"responsive\": true}                    ).then(function(){\n",
       "                            \n",
       "var gd = document.getElementById('3a849fad-c75f-4e2a-a3ca-0793f7582b3e');\n",
       "var x = new MutationObserver(function (mutations, observer) {{\n",
       "        var display = window.getComputedStyle(gd).display;\n",
       "        if (!display || display === 'none') {{\n",
       "            console.log([gd, 'removed!']);\n",
       "            Plotly.purge(gd);\n",
       "            observer.disconnect();\n",
       "        }}\n",
       "}});\n",
       "\n",
       "// Listen for the removal of the full notebook cells\n",
       "var notebookContainer = gd.closest('#notebook-container');\n",
       "if (notebookContainer) {{\n",
       "    x.observe(notebookContainer, {childList: true});\n",
       "}}\n",
       "\n",
       "// Listen for the clearing of the current output cell\n",
       "var outputEl = gd.closest('.output');\n",
       "if (outputEl) {{\n",
       "    x.observe(outputEl, {childList: true});\n",
       "}}\n",
       "\n",
       "                        })                };                });            </script>        </div>"
      ]
     },
     "metadata": {},
     "output_type": "display_data"
    },
    {
     "data": {
      "application/vnd.plotly.v1+json": {
       "config": {
        "plotlyServerURL": "https://plot.ly"
       },
       "data": [
        {
         "alignmentgroup": "True",
         "bingroup": "x",
         "hovertemplate": "gender=female<br>reading score=%{x}<br>count=%{y}<extra></extra>",
         "legendgroup": "female",
         "marker": {
          "color": "#636efa",
          "pattern": {
           "shape": ""
          }
         },
         "name": "female",
         "offsetgroup": "female",
         "orientation": "v",
         "showlegend": true,
         "type": "histogram",
         "x": [
          72,
          90,
          95,
          83,
          95,
          60,
          81,
          53,
          75,
          32,
          58,
          75,
          73,
          69,
          70,
          74,
          65,
          72,
          81,
          64,
          90,
          73,
          58,
          56,
          65,
          71,
          74,
          84,
          41,
          85,
          17,
          80,
          58,
          72,
          64,
          63,
          51,
          74,
          68,
          49,
          80,
          83,
          71,
          70,
          86,
          72,
          86,
          72,
          67,
          67,
          91,
          67,
          100,
          76,
          64,
          89,
          58,
          100,
          85,
          82,
          63,
          69,
          92,
          93,
          95,
          49,
          81,
          66,
          72,
          62,
          55,
          39,
          75,
          70,
          89,
          74,
          86,
          88,
          92,
          100,
          76,
          83,
          75,
          86,
          67,
          51,
          91,
          54,
          77,
          70,
          100,
          64,
          50,
          69,
          88,
          65,
          64,
          84,
          53,
          79,
          84,
          81,
          69,
          81,
          61,
          62,
          86,
          42,
          68,
          65,
          66,
          56,
          72,
          95,
          86,
          60,
          83,
          52,
          70,
          64,
          83,
          70,
          73,
          73,
          75,
          81,
          79,
          50,
          93,
          75,
          72,
          92,
          76,
          53,
          70,
          92,
          63,
          86,
          79,
          78,
          46,
          89,
          73,
          84,
          75,
          71,
          57,
          76,
          67,
          64,
          82,
          65,
          79,
          86,
          81,
          53,
          46,
          90,
          55,
          93,
          68,
          38,
          55,
          73,
          76,
          80,
          94,
          65,
          78,
          58,
          71,
          72,
          66,
          90,
          62,
          58,
          34,
          64,
          84,
          73,
          97,
          70,
          90,
          95,
          83,
          86,
          49,
          43,
          76,
          73,
          78,
          64,
          68,
          74,
          67,
          89,
          54,
          65,
          99,
          59,
          73,
          80,
          57,
          71,
          72,
          93,
          58,
          58,
          85,
          67,
          72,
          59,
          81,
          81,
          73,
          83,
          74,
          85,
          92,
          77,
          61,
          89,
          100,
          70,
          90,
          87,
          31,
          88,
          85,
          69,
          86,
          67,
          90,
          76,
          64,
          59,
          52,
          75,
          85,
          64,
          83,
          88,
          64,
          48,
          78,
          69,
          79,
          87,
          89,
          59,
          82,
          92,
          61,
          97,
          87,
          89,
          74,
          78,
          78,
          86,
          53,
          41,
          74,
          67,
          54,
          88,
          83,
          66,
          77,
          95,
          63,
          100,
          67,
          48,
          39,
          72,
          70,
          75,
          74,
          80,
          100,
          71,
          62,
          66,
          81,
          91,
          56,
          61,
          97,
          79,
          73,
          75,
          77,
          76,
          73,
          63,
          64,
          66,
          76,
          100,
          79,
          77,
          82,
          60,
          29,
          78,
          84,
          58,
          64,
          63,
          59,
          77,
          93,
          68,
          45,
          61,
          58,
          51,
          74,
          88,
          80,
          92,
          74,
          88,
          81,
          79,
          81,
          70,
          62,
          53,
          79,
          80,
          86,
          70,
          79,
          67,
          60,
          71,
          69,
          60,
          73,
          85,
          76,
          78,
          84,
          77,
          64,
          78,
          82,
          72,
          40,
          99,
          53,
          76,
          74,
          77,
          63,
          89,
          82,
          72,
          78,
          81,
          67,
          64,
          63,
          61,
          85,
          100,
          70,
          94,
          96,
          76,
          72,
          90,
          75,
          92,
          77,
          89,
          58,
          66,
          57,
          84,
          73,
          60,
          90,
          95,
          59,
          72,
          58,
          62,
          72,
          75,
          71,
          67,
          78,
          58,
          72,
          44,
          79,
          56,
          90,
          85,
          59,
          51,
          79,
          38,
          65,
          62,
          66,
          52,
          68,
          84,
          55,
          94,
          85,
          76,
          74,
          45,
          64,
          80,
          59,
          72,
          91,
          90,
          90,
          87,
          58,
          68,
          69,
          86,
          60,
          86,
          82,
          64,
          82,
          77,
          52,
          44,
          65,
          72,
          68,
          85,
          97,
          79,
          62,
          86,
          71,
          72,
          62,
          72,
          76,
          70,
          73,
          51,
          76,
          100,
          65,
          85,
          92,
          67,
          62,
          34,
          78,
          78,
          78,
          48,
          100,
          84,
          84,
          75,
          84,
          61,
          62,
          61,
          70,
          61,
          77,
          53,
          65,
          61,
          56,
          58,
          91,
          68,
          61,
          58,
          75,
          77,
          74,
          69,
          100,
          63,
          58,
          54,
          100,
          76,
          70,
          76,
          84,
          100,
          50,
          65,
          63,
          82,
          95,
          24,
          87,
          75,
          59,
          45,
          86,
          82,
          76,
          72,
          99,
          71,
          78,
          86
         ],
         "xaxis": "x",
         "yaxis": "y"
        },
        {
         "alignmentgroup": "True",
         "bingroup": "x",
         "hovertemplate": "gender=male<br>reading score=%{x}<br>count=%{y}<extra></extra>",
         "legendgroup": "male",
         "marker": {
          "color": "#EF553B",
          "pattern": {
           "shape": ""
          }
         },
         "name": "male",
         "offsetgroup": "male",
         "orientation": "v",
         "showlegend": true,
         "type": "histogram",
         "x": [
          57,
          78,
          43,
          64,
          54,
          52,
          72,
          89,
          42,
          69,
          54,
          71,
          74,
          54,
          70,
          42,
          87,
          81,
          56,
          61,
          65,
          54,
          84,
          55,
          69,
          44,
          78,
          55,
          59,
          74,
          39,
          61,
          64,
          37,
          58,
          55,
          57,
          49,
          41,
          26,
          78,
          45,
          47,
          64,
          39,
          34,
          79,
          45,
          81,
          66,
          67,
          74,
          44,
          86,
          63,
          55,
          53,
          77,
          89,
          57,
          80,
          68,
          77,
          82,
          84,
          37,
          74,
          79,
          55,
          54,
          55,
          61,
          43,
          73,
          84,
          68,
          100,
          67,
          67,
          49,
          67,
          60,
          62,
          78,
          53,
          53,
          51,
          73,
          88,
          68,
          52,
          67,
          76,
          66,
          52,
          83,
          62,
          55,
          69,
          56,
          77,
          41,
          71,
          62,
          80,
          79,
          28,
          51,
          91,
          83,
          77,
          56,
          85,
          80,
          50,
          72,
          64,
          43,
          87,
          82,
          75,
          66,
          52,
          80,
          68,
          51,
          74,
          76,
          76,
          60,
          49,
          80,
          52,
          77,
          79,
          73,
          42,
          63,
          49,
          85,
          78,
          56,
          52,
          48,
          82,
          82,
          75,
          76,
          70,
          73,
          60,
          77,
          62,
          41,
          74,
          46,
          87,
          78,
          54,
          76,
          67,
          87,
          52,
          60,
          61,
          66,
          72,
          71,
          61,
          23,
          75,
          60,
          37,
          56,
          78,
          70,
          51,
          61,
          72,
          73,
          61,
          74,
          74,
          57,
          61,
          62,
          84,
          60,
          58,
          58,
          66,
          77,
          74,
          43,
          64,
          100,
          81,
          70,
          67,
          67,
          54,
          45,
          63,
          59,
          43,
          65,
          84,
          83,
          66,
          67,
          73,
          74,
          73,
          59,
          56,
          39,
          83,
          71,
          59,
          63,
          66,
          56,
          66,
          48,
          68,
          66,
          56,
          88,
          82,
          66,
          81,
          46,
          73,
          58,
          56,
          54,
          65,
          58,
          54,
          58,
          67,
          74,
          62,
          68,
          71,
          71,
          68,
          52,
          74,
          47,
          53,
          82,
          64,
          71,
          61,
          70,
          59,
          78,
          71,
          50,
          49,
          49,
          58,
          59,
          52,
          60,
          61,
          61,
          69,
          60,
          66,
          92,
          69,
          82,
          83,
          67,
          72,
          76,
          90,
          62,
          45,
          67,
          66,
          90,
          51,
          43,
          48,
          68,
          75,
          96,
          55,
          51,
          57,
          62,
          68,
          24,
          54,
          57,
          89,
          72,
          60,
          90,
          78,
          81,
          73,
          63,
          51,
          96,
          97,
          70,
          48,
          57,
          64,
          60,
          84,
          74,
          76,
          52,
          65,
          56,
          67,
          66,
          87,
          77,
          66,
          63,
          74,
          72,
          57,
          75,
          61,
          68,
          55,
          66,
          75,
          78,
          58,
          90,
          66,
          84,
          72,
          34,
          59,
          87,
          84,
          81,
          78,
          73,
          59,
          48,
          43,
          74,
          51,
          39,
          46,
          47,
          57,
          79,
          71,
          60,
          73,
          55,
          79,
          75,
          64,
          84,
          69,
          72,
          77,
          55,
          58,
          68,
          77,
          81,
          63,
          62,
          60,
          48,
          73,
          65,
          85,
          81,
          65,
          74,
          84,
          70,
          60,
          73,
          80,
          81,
          75,
          54,
          31,
          47,
          84,
          86,
          70,
          52,
          67,
          54,
          60,
          50,
          64,
          57,
          58,
          77,
          85,
          85,
          54,
          75,
          67,
          67,
          64,
          68,
          49,
          73,
          42,
          93,
          82,
          53,
          42,
          74,
          51,
          58,
          84,
          90,
          64,
          82,
          61,
          64,
          46,
          72,
          51,
          74,
          29,
          54,
          84,
          77,
          48,
          64,
          42,
          100,
          96,
          70,
          66,
          70,
          64,
          56,
          43,
          74,
          57,
          71,
          75,
          87,
          63,
          57,
          81,
          68,
          66,
          66,
          62,
          82,
          50,
          73,
          52,
          57,
          87,
          81,
          57,
          68,
          63,
          72,
          62,
          65,
          41,
          78,
          85,
          51,
          75,
          81,
          63,
          55
         ],
         "xaxis": "x",
         "yaxis": "y"
        }
       ],
       "layout": {
        "barmode": "relative",
        "legend": {
         "title": {
          "text": "gender"
         },
         "tracegroupgap": 0
        },
        "margin": {
         "t": 60
        },
        "template": {
         "data": {
          "bar": [
           {
            "error_x": {
             "color": "#2a3f5f"
            },
            "error_y": {
             "color": "#2a3f5f"
            },
            "marker": {
             "line": {
              "color": "#E5ECF6",
              "width": 0.5
             },
             "pattern": {
              "fillmode": "overlay",
              "size": 10,
              "solidity": 0.2
             }
            },
            "type": "bar"
           }
          ],
          "barpolar": [
           {
            "marker": {
             "line": {
              "color": "#E5ECF6",
              "width": 0.5
             },
             "pattern": {
              "fillmode": "overlay",
              "size": 10,
              "solidity": 0.2
             }
            },
            "type": "barpolar"
           }
          ],
          "carpet": [
           {
            "aaxis": {
             "endlinecolor": "#2a3f5f",
             "gridcolor": "white",
             "linecolor": "white",
             "minorgridcolor": "white",
             "startlinecolor": "#2a3f5f"
            },
            "baxis": {
             "endlinecolor": "#2a3f5f",
             "gridcolor": "white",
             "linecolor": "white",
             "minorgridcolor": "white",
             "startlinecolor": "#2a3f5f"
            },
            "type": "carpet"
           }
          ],
          "choropleth": [
           {
            "colorbar": {
             "outlinewidth": 0,
             "ticks": ""
            },
            "type": "choropleth"
           }
          ],
          "contour": [
           {
            "colorbar": {
             "outlinewidth": 0,
             "ticks": ""
            },
            "colorscale": [
             [
              0,
              "#0d0887"
             ],
             [
              0.1111111111111111,
              "#46039f"
             ],
             [
              0.2222222222222222,
              "#7201a8"
             ],
             [
              0.3333333333333333,
              "#9c179e"
             ],
             [
              0.4444444444444444,
              "#bd3786"
             ],
             [
              0.5555555555555556,
              "#d8576b"
             ],
             [
              0.6666666666666666,
              "#ed7953"
             ],
             [
              0.7777777777777778,
              "#fb9f3a"
             ],
             [
              0.8888888888888888,
              "#fdca26"
             ],
             [
              1,
              "#f0f921"
             ]
            ],
            "type": "contour"
           }
          ],
          "contourcarpet": [
           {
            "colorbar": {
             "outlinewidth": 0,
             "ticks": ""
            },
            "type": "contourcarpet"
           }
          ],
          "heatmap": [
           {
            "colorbar": {
             "outlinewidth": 0,
             "ticks": ""
            },
            "colorscale": [
             [
              0,
              "#0d0887"
             ],
             [
              0.1111111111111111,
              "#46039f"
             ],
             [
              0.2222222222222222,
              "#7201a8"
             ],
             [
              0.3333333333333333,
              "#9c179e"
             ],
             [
              0.4444444444444444,
              "#bd3786"
             ],
             [
              0.5555555555555556,
              "#d8576b"
             ],
             [
              0.6666666666666666,
              "#ed7953"
             ],
             [
              0.7777777777777778,
              "#fb9f3a"
             ],
             [
              0.8888888888888888,
              "#fdca26"
             ],
             [
              1,
              "#f0f921"
             ]
            ],
            "type": "heatmap"
           }
          ],
          "heatmapgl": [
           {
            "colorbar": {
             "outlinewidth": 0,
             "ticks": ""
            },
            "colorscale": [
             [
              0,
              "#0d0887"
             ],
             [
              0.1111111111111111,
              "#46039f"
             ],
             [
              0.2222222222222222,
              "#7201a8"
             ],
             [
              0.3333333333333333,
              "#9c179e"
             ],
             [
              0.4444444444444444,
              "#bd3786"
             ],
             [
              0.5555555555555556,
              "#d8576b"
             ],
             [
              0.6666666666666666,
              "#ed7953"
             ],
             [
              0.7777777777777778,
              "#fb9f3a"
             ],
             [
              0.8888888888888888,
              "#fdca26"
             ],
             [
              1,
              "#f0f921"
             ]
            ],
            "type": "heatmapgl"
           }
          ],
          "histogram": [
           {
            "marker": {
             "pattern": {
              "fillmode": "overlay",
              "size": 10,
              "solidity": 0.2
             }
            },
            "type": "histogram"
           }
          ],
          "histogram2d": [
           {
            "colorbar": {
             "outlinewidth": 0,
             "ticks": ""
            },
            "colorscale": [
             [
              0,
              "#0d0887"
             ],
             [
              0.1111111111111111,
              "#46039f"
             ],
             [
              0.2222222222222222,
              "#7201a8"
             ],
             [
              0.3333333333333333,
              "#9c179e"
             ],
             [
              0.4444444444444444,
              "#bd3786"
             ],
             [
              0.5555555555555556,
              "#d8576b"
             ],
             [
              0.6666666666666666,
              "#ed7953"
             ],
             [
              0.7777777777777778,
              "#fb9f3a"
             ],
             [
              0.8888888888888888,
              "#fdca26"
             ],
             [
              1,
              "#f0f921"
             ]
            ],
            "type": "histogram2d"
           }
          ],
          "histogram2dcontour": [
           {
            "colorbar": {
             "outlinewidth": 0,
             "ticks": ""
            },
            "colorscale": [
             [
              0,
              "#0d0887"
             ],
             [
              0.1111111111111111,
              "#46039f"
             ],
             [
              0.2222222222222222,
              "#7201a8"
             ],
             [
              0.3333333333333333,
              "#9c179e"
             ],
             [
              0.4444444444444444,
              "#bd3786"
             ],
             [
              0.5555555555555556,
              "#d8576b"
             ],
             [
              0.6666666666666666,
              "#ed7953"
             ],
             [
              0.7777777777777778,
              "#fb9f3a"
             ],
             [
              0.8888888888888888,
              "#fdca26"
             ],
             [
              1,
              "#f0f921"
             ]
            ],
            "type": "histogram2dcontour"
           }
          ],
          "mesh3d": [
           {
            "colorbar": {
             "outlinewidth": 0,
             "ticks": ""
            },
            "type": "mesh3d"
           }
          ],
          "parcoords": [
           {
            "line": {
             "colorbar": {
              "outlinewidth": 0,
              "ticks": ""
             }
            },
            "type": "parcoords"
           }
          ],
          "pie": [
           {
            "automargin": true,
            "type": "pie"
           }
          ],
          "scatter": [
           {
            "fillpattern": {
             "fillmode": "overlay",
             "size": 10,
             "solidity": 0.2
            },
            "type": "scatter"
           }
          ],
          "scatter3d": [
           {
            "line": {
             "colorbar": {
              "outlinewidth": 0,
              "ticks": ""
             }
            },
            "marker": {
             "colorbar": {
              "outlinewidth": 0,
              "ticks": ""
             }
            },
            "type": "scatter3d"
           }
          ],
          "scattercarpet": [
           {
            "marker": {
             "colorbar": {
              "outlinewidth": 0,
              "ticks": ""
             }
            },
            "type": "scattercarpet"
           }
          ],
          "scattergeo": [
           {
            "marker": {
             "colorbar": {
              "outlinewidth": 0,
              "ticks": ""
             }
            },
            "type": "scattergeo"
           }
          ],
          "scattergl": [
           {
            "marker": {
             "colorbar": {
              "outlinewidth": 0,
              "ticks": ""
             }
            },
            "type": "scattergl"
           }
          ],
          "scattermapbox": [
           {
            "marker": {
             "colorbar": {
              "outlinewidth": 0,
              "ticks": ""
             }
            },
            "type": "scattermapbox"
           }
          ],
          "scatterpolar": [
           {
            "marker": {
             "colorbar": {
              "outlinewidth": 0,
              "ticks": ""
             }
            },
            "type": "scatterpolar"
           }
          ],
          "scatterpolargl": [
           {
            "marker": {
             "colorbar": {
              "outlinewidth": 0,
              "ticks": ""
             }
            },
            "type": "scatterpolargl"
           }
          ],
          "scatterternary": [
           {
            "marker": {
             "colorbar": {
              "outlinewidth": 0,
              "ticks": ""
             }
            },
            "type": "scatterternary"
           }
          ],
          "surface": [
           {
            "colorbar": {
             "outlinewidth": 0,
             "ticks": ""
            },
            "colorscale": [
             [
              0,
              "#0d0887"
             ],
             [
              0.1111111111111111,
              "#46039f"
             ],
             [
              0.2222222222222222,
              "#7201a8"
             ],
             [
              0.3333333333333333,
              "#9c179e"
             ],
             [
              0.4444444444444444,
              "#bd3786"
             ],
             [
              0.5555555555555556,
              "#d8576b"
             ],
             [
              0.6666666666666666,
              "#ed7953"
             ],
             [
              0.7777777777777778,
              "#fb9f3a"
             ],
             [
              0.8888888888888888,
              "#fdca26"
             ],
             [
              1,
              "#f0f921"
             ]
            ],
            "type": "surface"
           }
          ],
          "table": [
           {
            "cells": {
             "fill": {
              "color": "#EBF0F8"
             },
             "line": {
              "color": "white"
             }
            },
            "header": {
             "fill": {
              "color": "#C8D4E3"
             },
             "line": {
              "color": "white"
             }
            },
            "type": "table"
           }
          ]
         },
         "layout": {
          "annotationdefaults": {
           "arrowcolor": "#2a3f5f",
           "arrowhead": 0,
           "arrowwidth": 1
          },
          "autotypenumbers": "strict",
          "coloraxis": {
           "colorbar": {
            "outlinewidth": 0,
            "ticks": ""
           }
          },
          "colorscale": {
           "diverging": [
            [
             0,
             "#8e0152"
            ],
            [
             0.1,
             "#c51b7d"
            ],
            [
             0.2,
             "#de77ae"
            ],
            [
             0.3,
             "#f1b6da"
            ],
            [
             0.4,
             "#fde0ef"
            ],
            [
             0.5,
             "#f7f7f7"
            ],
            [
             0.6,
             "#e6f5d0"
            ],
            [
             0.7,
             "#b8e186"
            ],
            [
             0.8,
             "#7fbc41"
            ],
            [
             0.9,
             "#4d9221"
            ],
            [
             1,
             "#276419"
            ]
           ],
           "sequential": [
            [
             0,
             "#0d0887"
            ],
            [
             0.1111111111111111,
             "#46039f"
            ],
            [
             0.2222222222222222,
             "#7201a8"
            ],
            [
             0.3333333333333333,
             "#9c179e"
            ],
            [
             0.4444444444444444,
             "#bd3786"
            ],
            [
             0.5555555555555556,
             "#d8576b"
            ],
            [
             0.6666666666666666,
             "#ed7953"
            ],
            [
             0.7777777777777778,
             "#fb9f3a"
            ],
            [
             0.8888888888888888,
             "#fdca26"
            ],
            [
             1,
             "#f0f921"
            ]
           ],
           "sequentialminus": [
            [
             0,
             "#0d0887"
            ],
            [
             0.1111111111111111,
             "#46039f"
            ],
            [
             0.2222222222222222,
             "#7201a8"
            ],
            [
             0.3333333333333333,
             "#9c179e"
            ],
            [
             0.4444444444444444,
             "#bd3786"
            ],
            [
             0.5555555555555556,
             "#d8576b"
            ],
            [
             0.6666666666666666,
             "#ed7953"
            ],
            [
             0.7777777777777778,
             "#fb9f3a"
            ],
            [
             0.8888888888888888,
             "#fdca26"
            ],
            [
             1,
             "#f0f921"
            ]
           ]
          },
          "colorway": [
           "#636efa",
           "#EF553B",
           "#00cc96",
           "#ab63fa",
           "#FFA15A",
           "#19d3f3",
           "#FF6692",
           "#B6E880",
           "#FF97FF",
           "#FECB52"
          ],
          "font": {
           "color": "#2a3f5f"
          },
          "geo": {
           "bgcolor": "white",
           "lakecolor": "white",
           "landcolor": "#E5ECF6",
           "showlakes": true,
           "showland": true,
           "subunitcolor": "white"
          },
          "hoverlabel": {
           "align": "left"
          },
          "hovermode": "closest",
          "mapbox": {
           "style": "light"
          },
          "paper_bgcolor": "white",
          "plot_bgcolor": "#E5ECF6",
          "polar": {
           "angularaxis": {
            "gridcolor": "white",
            "linecolor": "white",
            "ticks": ""
           },
           "bgcolor": "#E5ECF6",
           "radialaxis": {
            "gridcolor": "white",
            "linecolor": "white",
            "ticks": ""
           }
          },
          "scene": {
           "xaxis": {
            "backgroundcolor": "#E5ECF6",
            "gridcolor": "white",
            "gridwidth": 2,
            "linecolor": "white",
            "showbackground": true,
            "ticks": "",
            "zerolinecolor": "white"
           },
           "yaxis": {
            "backgroundcolor": "#E5ECF6",
            "gridcolor": "white",
            "gridwidth": 2,
            "linecolor": "white",
            "showbackground": true,
            "ticks": "",
            "zerolinecolor": "white"
           },
           "zaxis": {
            "backgroundcolor": "#E5ECF6",
            "gridcolor": "white",
            "gridwidth": 2,
            "linecolor": "white",
            "showbackground": true,
            "ticks": "",
            "zerolinecolor": "white"
           }
          },
          "shapedefaults": {
           "line": {
            "color": "#2a3f5f"
           }
          },
          "ternary": {
           "aaxis": {
            "gridcolor": "white",
            "linecolor": "white",
            "ticks": ""
           },
           "baxis": {
            "gridcolor": "white",
            "linecolor": "white",
            "ticks": ""
           },
           "bgcolor": "#E5ECF6",
           "caxis": {
            "gridcolor": "white",
            "linecolor": "white",
            "ticks": ""
           }
          },
          "title": {
           "x": 0.05
          },
          "xaxis": {
           "automargin": true,
           "gridcolor": "white",
           "linecolor": "white",
           "ticks": "",
           "title": {
            "standoff": 15
           },
           "zerolinecolor": "white",
           "zerolinewidth": 2
          },
          "yaxis": {
           "automargin": true,
           "gridcolor": "white",
           "linecolor": "white",
           "ticks": "",
           "title": {
            "standoff": 15
           },
           "zerolinecolor": "white",
           "zerolinewidth": 2
          }
         }
        },
        "xaxis": {
         "anchor": "y",
         "domain": [
          0,
          1
         ],
         "title": {
          "text": "reading score"
         }
        },
        "yaxis": {
         "anchor": "x",
         "domain": [
          0,
          1
         ],
         "title": {
          "text": "count"
         }
        }
       }
      },
      "text/html": [
       "<div>                            <div id=\"f3190700-62be-414b-b1ab-f56d27ffbbd5\" class=\"plotly-graph-div\" style=\"height:525px; width:100%;\"></div>            <script type=\"text/javascript\">                require([\"plotly\"], function(Plotly) {                    window.PLOTLYENV=window.PLOTLYENV || {};                                    if (document.getElementById(\"f3190700-62be-414b-b1ab-f56d27ffbbd5\")) {                    Plotly.newPlot(                        \"f3190700-62be-414b-b1ab-f56d27ffbbd5\",                        [{\"alignmentgroup\":\"True\",\"bingroup\":\"x\",\"hovertemplate\":\"gender=female<br>reading score=%{x}<br>count=%{y}<extra></extra>\",\"legendgroup\":\"female\",\"marker\":{\"color\":\"#636efa\",\"pattern\":{\"shape\":\"\"}},\"name\":\"female\",\"offsetgroup\":\"female\",\"orientation\":\"v\",\"showlegend\":true,\"x\":[72,90,95,83,95,60,81,53,75,32,58,75,73,69,70,74,65,72,81,64,90,73,58,56,65,71,74,84,41,85,17,80,58,72,64,63,51,74,68,49,80,83,71,70,86,72,86,72,67,67,91,67,100,76,64,89,58,100,85,82,63,69,92,93,95,49,81,66,72,62,55,39,75,70,89,74,86,88,92,100,76,83,75,86,67,51,91,54,77,70,100,64,50,69,88,65,64,84,53,79,84,81,69,81,61,62,86,42,68,65,66,56,72,95,86,60,83,52,70,64,83,70,73,73,75,81,79,50,93,75,72,92,76,53,70,92,63,86,79,78,46,89,73,84,75,71,57,76,67,64,82,65,79,86,81,53,46,90,55,93,68,38,55,73,76,80,94,65,78,58,71,72,66,90,62,58,34,64,84,73,97,70,90,95,83,86,49,43,76,73,78,64,68,74,67,89,54,65,99,59,73,80,57,71,72,93,58,58,85,67,72,59,81,81,73,83,74,85,92,77,61,89,100,70,90,87,31,88,85,69,86,67,90,76,64,59,52,75,85,64,83,88,64,48,78,69,79,87,89,59,82,92,61,97,87,89,74,78,78,86,53,41,74,67,54,88,83,66,77,95,63,100,67,48,39,72,70,75,74,80,100,71,62,66,81,91,56,61,97,79,73,75,77,76,73,63,64,66,76,100,79,77,82,60,29,78,84,58,64,63,59,77,93,68,45,61,58,51,74,88,80,92,74,88,81,79,81,70,62,53,79,80,86,70,79,67,60,71,69,60,73,85,76,78,84,77,64,78,82,72,40,99,53,76,74,77,63,89,82,72,78,81,67,64,63,61,85,100,70,94,96,76,72,90,75,92,77,89,58,66,57,84,73,60,90,95,59,72,58,62,72,75,71,67,78,58,72,44,79,56,90,85,59,51,79,38,65,62,66,52,68,84,55,94,85,76,74,45,64,80,59,72,91,90,90,87,58,68,69,86,60,86,82,64,82,77,52,44,65,72,68,85,97,79,62,86,71,72,62,72,76,70,73,51,76,100,65,85,92,67,62,34,78,78,78,48,100,84,84,75,84,61,62,61,70,61,77,53,65,61,56,58,91,68,61,58,75,77,74,69,100,63,58,54,100,76,70,76,84,100,50,65,63,82,95,24,87,75,59,45,86,82,76,72,99,71,78,86],\"xaxis\":\"x\",\"yaxis\":\"y\",\"type\":\"histogram\"},{\"alignmentgroup\":\"True\",\"bingroup\":\"x\",\"hovertemplate\":\"gender=male<br>reading score=%{x}<br>count=%{y}<extra></extra>\",\"legendgroup\":\"male\",\"marker\":{\"color\":\"#EF553B\",\"pattern\":{\"shape\":\"\"}},\"name\":\"male\",\"offsetgroup\":\"male\",\"orientation\":\"v\",\"showlegend\":true,\"x\":[57,78,43,64,54,52,72,89,42,69,54,71,74,54,70,42,87,81,56,61,65,54,84,55,69,44,78,55,59,74,39,61,64,37,58,55,57,49,41,26,78,45,47,64,39,34,79,45,81,66,67,74,44,86,63,55,53,77,89,57,80,68,77,82,84,37,74,79,55,54,55,61,43,73,84,68,100,67,67,49,67,60,62,78,53,53,51,73,88,68,52,67,76,66,52,83,62,55,69,56,77,41,71,62,80,79,28,51,91,83,77,56,85,80,50,72,64,43,87,82,75,66,52,80,68,51,74,76,76,60,49,80,52,77,79,73,42,63,49,85,78,56,52,48,82,82,75,76,70,73,60,77,62,41,74,46,87,78,54,76,67,87,52,60,61,66,72,71,61,23,75,60,37,56,78,70,51,61,72,73,61,74,74,57,61,62,84,60,58,58,66,77,74,43,64,100,81,70,67,67,54,45,63,59,43,65,84,83,66,67,73,74,73,59,56,39,83,71,59,63,66,56,66,48,68,66,56,88,82,66,81,46,73,58,56,54,65,58,54,58,67,74,62,68,71,71,68,52,74,47,53,82,64,71,61,70,59,78,71,50,49,49,58,59,52,60,61,61,69,60,66,92,69,82,83,67,72,76,90,62,45,67,66,90,51,43,48,68,75,96,55,51,57,62,68,24,54,57,89,72,60,90,78,81,73,63,51,96,97,70,48,57,64,60,84,74,76,52,65,56,67,66,87,77,66,63,74,72,57,75,61,68,55,66,75,78,58,90,66,84,72,34,59,87,84,81,78,73,59,48,43,74,51,39,46,47,57,79,71,60,73,55,79,75,64,84,69,72,77,55,58,68,77,81,63,62,60,48,73,65,85,81,65,74,84,70,60,73,80,81,75,54,31,47,84,86,70,52,67,54,60,50,64,57,58,77,85,85,54,75,67,67,64,68,49,73,42,93,82,53,42,74,51,58,84,90,64,82,61,64,46,72,51,74,29,54,84,77,48,64,42,100,96,70,66,70,64,56,43,74,57,71,75,87,63,57,81,68,66,66,62,82,50,73,52,57,87,81,57,68,63,72,62,65,41,78,85,51,75,81,63,55],\"xaxis\":\"x\",\"yaxis\":\"y\",\"type\":\"histogram\"}],                        {\"template\":{\"data\":{\"histogram2dcontour\":[{\"type\":\"histogram2dcontour\",\"colorbar\":{\"outlinewidth\":0,\"ticks\":\"\"},\"colorscale\":[[0.0,\"#0d0887\"],[0.1111111111111111,\"#46039f\"],[0.2222222222222222,\"#7201a8\"],[0.3333333333333333,\"#9c179e\"],[0.4444444444444444,\"#bd3786\"],[0.5555555555555556,\"#d8576b\"],[0.6666666666666666,\"#ed7953\"],[0.7777777777777778,\"#fb9f3a\"],[0.8888888888888888,\"#fdca26\"],[1.0,\"#f0f921\"]]}],\"choropleth\":[{\"type\":\"choropleth\",\"colorbar\":{\"outlinewidth\":0,\"ticks\":\"\"}}],\"histogram2d\":[{\"type\":\"histogram2d\",\"colorbar\":{\"outlinewidth\":0,\"ticks\":\"\"},\"colorscale\":[[0.0,\"#0d0887\"],[0.1111111111111111,\"#46039f\"],[0.2222222222222222,\"#7201a8\"],[0.3333333333333333,\"#9c179e\"],[0.4444444444444444,\"#bd3786\"],[0.5555555555555556,\"#d8576b\"],[0.6666666666666666,\"#ed7953\"],[0.7777777777777778,\"#fb9f3a\"],[0.8888888888888888,\"#fdca26\"],[1.0,\"#f0f921\"]]}],\"heatmap\":[{\"type\":\"heatmap\",\"colorbar\":{\"outlinewidth\":0,\"ticks\":\"\"},\"colorscale\":[[0.0,\"#0d0887\"],[0.1111111111111111,\"#46039f\"],[0.2222222222222222,\"#7201a8\"],[0.3333333333333333,\"#9c179e\"],[0.4444444444444444,\"#bd3786\"],[0.5555555555555556,\"#d8576b\"],[0.6666666666666666,\"#ed7953\"],[0.7777777777777778,\"#fb9f3a\"],[0.8888888888888888,\"#fdca26\"],[1.0,\"#f0f921\"]]}],\"heatmapgl\":[{\"type\":\"heatmapgl\",\"colorbar\":{\"outlinewidth\":0,\"ticks\":\"\"},\"colorscale\":[[0.0,\"#0d0887\"],[0.1111111111111111,\"#46039f\"],[0.2222222222222222,\"#7201a8\"],[0.3333333333333333,\"#9c179e\"],[0.4444444444444444,\"#bd3786\"],[0.5555555555555556,\"#d8576b\"],[0.6666666666666666,\"#ed7953\"],[0.7777777777777778,\"#fb9f3a\"],[0.8888888888888888,\"#fdca26\"],[1.0,\"#f0f921\"]]}],\"contourcarpet\":[{\"type\":\"contourcarpet\",\"colorbar\":{\"outlinewidth\":0,\"ticks\":\"\"}}],\"contour\":[{\"type\":\"contour\",\"colorbar\":{\"outlinewidth\":0,\"ticks\":\"\"},\"colorscale\":[[0.0,\"#0d0887\"],[0.1111111111111111,\"#46039f\"],[0.2222222222222222,\"#7201a8\"],[0.3333333333333333,\"#9c179e\"],[0.4444444444444444,\"#bd3786\"],[0.5555555555555556,\"#d8576b\"],[0.6666666666666666,\"#ed7953\"],[0.7777777777777778,\"#fb9f3a\"],[0.8888888888888888,\"#fdca26\"],[1.0,\"#f0f921\"]]}],\"surface\":[{\"type\":\"surface\",\"colorbar\":{\"outlinewidth\":0,\"ticks\":\"\"},\"colorscale\":[[0.0,\"#0d0887\"],[0.1111111111111111,\"#46039f\"],[0.2222222222222222,\"#7201a8\"],[0.3333333333333333,\"#9c179e\"],[0.4444444444444444,\"#bd3786\"],[0.5555555555555556,\"#d8576b\"],[0.6666666666666666,\"#ed7953\"],[0.7777777777777778,\"#fb9f3a\"],[0.8888888888888888,\"#fdca26\"],[1.0,\"#f0f921\"]]}],\"mesh3d\":[{\"type\":\"mesh3d\",\"colorbar\":{\"outlinewidth\":0,\"ticks\":\"\"}}],\"scatter\":[{\"fillpattern\":{\"fillmode\":\"overlay\",\"size\":10,\"solidity\":0.2},\"type\":\"scatter\"}],\"parcoords\":[{\"type\":\"parcoords\",\"line\":{\"colorbar\":{\"outlinewidth\":0,\"ticks\":\"\"}}}],\"scatterpolargl\":[{\"type\":\"scatterpolargl\",\"marker\":{\"colorbar\":{\"outlinewidth\":0,\"ticks\":\"\"}}}],\"bar\":[{\"error_x\":{\"color\":\"#2a3f5f\"},\"error_y\":{\"color\":\"#2a3f5f\"},\"marker\":{\"line\":{\"color\":\"#E5ECF6\",\"width\":0.5},\"pattern\":{\"fillmode\":\"overlay\",\"size\":10,\"solidity\":0.2}},\"type\":\"bar\"}],\"scattergeo\":[{\"type\":\"scattergeo\",\"marker\":{\"colorbar\":{\"outlinewidth\":0,\"ticks\":\"\"}}}],\"scatterpolar\":[{\"type\":\"scatterpolar\",\"marker\":{\"colorbar\":{\"outlinewidth\":0,\"ticks\":\"\"}}}],\"histogram\":[{\"marker\":{\"pattern\":{\"fillmode\":\"overlay\",\"size\":10,\"solidity\":0.2}},\"type\":\"histogram\"}],\"scattergl\":[{\"type\":\"scattergl\",\"marker\":{\"colorbar\":{\"outlinewidth\":0,\"ticks\":\"\"}}}],\"scatter3d\":[{\"type\":\"scatter3d\",\"line\":{\"colorbar\":{\"outlinewidth\":0,\"ticks\":\"\"}},\"marker\":{\"colorbar\":{\"outlinewidth\":0,\"ticks\":\"\"}}}],\"scattermapbox\":[{\"type\":\"scattermapbox\",\"marker\":{\"colorbar\":{\"outlinewidth\":0,\"ticks\":\"\"}}}],\"scatterternary\":[{\"type\":\"scatterternary\",\"marker\":{\"colorbar\":{\"outlinewidth\":0,\"ticks\":\"\"}}}],\"scattercarpet\":[{\"type\":\"scattercarpet\",\"marker\":{\"colorbar\":{\"outlinewidth\":0,\"ticks\":\"\"}}}],\"carpet\":[{\"aaxis\":{\"endlinecolor\":\"#2a3f5f\",\"gridcolor\":\"white\",\"linecolor\":\"white\",\"minorgridcolor\":\"white\",\"startlinecolor\":\"#2a3f5f\"},\"baxis\":{\"endlinecolor\":\"#2a3f5f\",\"gridcolor\":\"white\",\"linecolor\":\"white\",\"minorgridcolor\":\"white\",\"startlinecolor\":\"#2a3f5f\"},\"type\":\"carpet\"}],\"table\":[{\"cells\":{\"fill\":{\"color\":\"#EBF0F8\"},\"line\":{\"color\":\"white\"}},\"header\":{\"fill\":{\"color\":\"#C8D4E3\"},\"line\":{\"color\":\"white\"}},\"type\":\"table\"}],\"barpolar\":[{\"marker\":{\"line\":{\"color\":\"#E5ECF6\",\"width\":0.5},\"pattern\":{\"fillmode\":\"overlay\",\"size\":10,\"solidity\":0.2}},\"type\":\"barpolar\"}],\"pie\":[{\"automargin\":true,\"type\":\"pie\"}]},\"layout\":{\"autotypenumbers\":\"strict\",\"colorway\":[\"#636efa\",\"#EF553B\",\"#00cc96\",\"#ab63fa\",\"#FFA15A\",\"#19d3f3\",\"#FF6692\",\"#B6E880\",\"#FF97FF\",\"#FECB52\"],\"font\":{\"color\":\"#2a3f5f\"},\"hovermode\":\"closest\",\"hoverlabel\":{\"align\":\"left\"},\"paper_bgcolor\":\"white\",\"plot_bgcolor\":\"#E5ECF6\",\"polar\":{\"bgcolor\":\"#E5ECF6\",\"angularaxis\":{\"gridcolor\":\"white\",\"linecolor\":\"white\",\"ticks\":\"\"},\"radialaxis\":{\"gridcolor\":\"white\",\"linecolor\":\"white\",\"ticks\":\"\"}},\"ternary\":{\"bgcolor\":\"#E5ECF6\",\"aaxis\":{\"gridcolor\":\"white\",\"linecolor\":\"white\",\"ticks\":\"\"},\"baxis\":{\"gridcolor\":\"white\",\"linecolor\":\"white\",\"ticks\":\"\"},\"caxis\":{\"gridcolor\":\"white\",\"linecolor\":\"white\",\"ticks\":\"\"}},\"coloraxis\":{\"colorbar\":{\"outlinewidth\":0,\"ticks\":\"\"}},\"colorscale\":{\"sequential\":[[0.0,\"#0d0887\"],[0.1111111111111111,\"#46039f\"],[0.2222222222222222,\"#7201a8\"],[0.3333333333333333,\"#9c179e\"],[0.4444444444444444,\"#bd3786\"],[0.5555555555555556,\"#d8576b\"],[0.6666666666666666,\"#ed7953\"],[0.7777777777777778,\"#fb9f3a\"],[0.8888888888888888,\"#fdca26\"],[1.0,\"#f0f921\"]],\"sequentialminus\":[[0.0,\"#0d0887\"],[0.1111111111111111,\"#46039f\"],[0.2222222222222222,\"#7201a8\"],[0.3333333333333333,\"#9c179e\"],[0.4444444444444444,\"#bd3786\"],[0.5555555555555556,\"#d8576b\"],[0.6666666666666666,\"#ed7953\"],[0.7777777777777778,\"#fb9f3a\"],[0.8888888888888888,\"#fdca26\"],[1.0,\"#f0f921\"]],\"diverging\":[[0,\"#8e0152\"],[0.1,\"#c51b7d\"],[0.2,\"#de77ae\"],[0.3,\"#f1b6da\"],[0.4,\"#fde0ef\"],[0.5,\"#f7f7f7\"],[0.6,\"#e6f5d0\"],[0.7,\"#b8e186\"],[0.8,\"#7fbc41\"],[0.9,\"#4d9221\"],[1,\"#276419\"]]},\"xaxis\":{\"gridcolor\":\"white\",\"linecolor\":\"white\",\"ticks\":\"\",\"title\":{\"standoff\":15},\"zerolinecolor\":\"white\",\"automargin\":true,\"zerolinewidth\":2},\"yaxis\":{\"gridcolor\":\"white\",\"linecolor\":\"white\",\"ticks\":\"\",\"title\":{\"standoff\":15},\"zerolinecolor\":\"white\",\"automargin\":true,\"zerolinewidth\":2},\"scene\":{\"xaxis\":{\"backgroundcolor\":\"#E5ECF6\",\"gridcolor\":\"white\",\"linecolor\":\"white\",\"showbackground\":true,\"ticks\":\"\",\"zerolinecolor\":\"white\",\"gridwidth\":2},\"yaxis\":{\"backgroundcolor\":\"#E5ECF6\",\"gridcolor\":\"white\",\"linecolor\":\"white\",\"showbackground\":true,\"ticks\":\"\",\"zerolinecolor\":\"white\",\"gridwidth\":2},\"zaxis\":{\"backgroundcolor\":\"#E5ECF6\",\"gridcolor\":\"white\",\"linecolor\":\"white\",\"showbackground\":true,\"ticks\":\"\",\"zerolinecolor\":\"white\",\"gridwidth\":2}},\"shapedefaults\":{\"line\":{\"color\":\"#2a3f5f\"}},\"annotationdefaults\":{\"arrowcolor\":\"#2a3f5f\",\"arrowhead\":0,\"arrowwidth\":1},\"geo\":{\"bgcolor\":\"white\",\"landcolor\":\"#E5ECF6\",\"subunitcolor\":\"white\",\"showland\":true,\"showlakes\":true,\"lakecolor\":\"white\"},\"title\":{\"x\":0.05},\"mapbox\":{\"style\":\"light\"}}},\"xaxis\":{\"anchor\":\"y\",\"domain\":[0.0,1.0],\"title\":{\"text\":\"reading score\"}},\"yaxis\":{\"anchor\":\"x\",\"domain\":[0.0,1.0],\"title\":{\"text\":\"count\"}},\"legend\":{\"title\":{\"text\":\"gender\"},\"tracegroupgap\":0},\"margin\":{\"t\":60},\"barmode\":\"relative\"},                        {\"responsive\": true}                    ).then(function(){\n",
       "                            \n",
       "var gd = document.getElementById('f3190700-62be-414b-b1ab-f56d27ffbbd5');\n",
       "var x = new MutationObserver(function (mutations, observer) {{\n",
       "        var display = window.getComputedStyle(gd).display;\n",
       "        if (!display || display === 'none') {{\n",
       "            console.log([gd, 'removed!']);\n",
       "            Plotly.purge(gd);\n",
       "            observer.disconnect();\n",
       "        }}\n",
       "}});\n",
       "\n",
       "// Listen for the removal of the full notebook cells\n",
       "var notebookContainer = gd.closest('#notebook-container');\n",
       "if (notebookContainer) {{\n",
       "    x.observe(notebookContainer, {childList: true});\n",
       "}}\n",
       "\n",
       "// Listen for the clearing of the current output cell\n",
       "var outputEl = gd.closest('.output');\n",
       "if (outputEl) {{\n",
       "    x.observe(outputEl, {childList: true});\n",
       "}}\n",
       "\n",
       "                        })                };                });            </script>        </div>"
      ]
     },
     "metadata": {},
     "output_type": "display_data"
    },
    {
     "data": {
      "application/vnd.plotly.v1+json": {
       "config": {
        "plotlyServerURL": "https://plot.ly"
       },
       "data": [
        {
         "alignmentgroup": "True",
         "bingroup": "x",
         "hovertemplate": "gender=female<br>writing score=%{x}<br>count=%{y}<extra></extra>",
         "legendgroup": "female",
         "marker": {
          "color": "#636efa",
          "pattern": {
           "shape": ""
          }
         },
         "name": "female",
         "offsetgroup": "female",
         "orientation": "v",
         "showlegend": true,
         "type": "histogram",
         "x": [
          74,
          88,
          93,
          78,
          92,
          50,
          73,
          58,
          78,
          28,
          61,
          70,
          73,
          75,
          75,
          74,
          61,
          65,
          83,
          59,
          88,
          68,
          65,
          54,
          62,
          76,
          76,
          87,
          43,
          86,
          10,
          71,
          59,
          74,
          57,
          73,
          48,
          72,
          68,
          50,
          82,
          88,
          74,
          67,
          82,
          74,
          92,
          70,
          62,
          62,
          89,
          72,
          100,
          70,
          72,
          98,
          54,
          100,
          82,
          79,
          61,
          65,
          89,
          93,
          86,
          51,
          84,
          67,
          71,
          64,
          54,
          33,
          81,
          66,
          88,
          78,
          87,
          85,
          91,
          100,
          78,
          78,
          70,
          81,
          70,
          54,
          87,
          58,
          77,
          62,
          100,
          66,
          47,
          70,
          87,
          69,
          66,
          85,
          55,
          76,
          86,
          77,
          68,
          76,
          66,
          60,
          88,
          39,
          74,
          62,
          73,
          54,
          71,
          94,
          83,
          74,
          83,
          55,
          68,
          62,
          83,
          70,
          70,
          68,
          78,
          81,
          77,
          51,
          90,
          81,
          77,
          95,
          70,
          58,
          71,
          93,
          75,
          80,
          84,
          78,
          46,
          82,
          75,
          81,
          83,
          67,
          52,
          80,
          69,
          75,
          91,
          63,
          84,
          79,
          80,
          53,
          43,
          94,
          51,
          95,
          66,
          27,
          60,
          63,
          74,
          75,
          95,
          69,
          80,
          57,
          70,
          70,
          69,
          89,
          59,
          58,
          32,
          58,
          85,
          70,
          96,
          73,
          82,
          100,
          77,
          83,
          45,
          43,
          75,
          70,
          67,
          64,
          77,
          77,
          63,
          95,
          67,
          55,
          100,
          62,
          68,
          77,
          56,
          74,
          79,
          93,
          64,
          67,
          80,
          62,
          70,
          50,
          79,
          80,
          69,
          76,
          77,
          85,
          97,
          74,
          62,
          89,
          100,
          76,
          91,
          91,
          38,
          85,
          90,
          74,
          84,
          61,
          91,
          83,
          70,
          56,
          54,
          74,
          76,
          70,
          90,
          90,
          68,
          52,
          76,
          68,
          82,
          92,
          92,
          54,
          80,
          87,
          62,
          94,
          85,
          84,
          73,
          78,
          79,
          84,
          43,
          47,
          70,
          73,
          53,
          94,
          83,
          62,
          79,
          89,
          66,
          97,
          64,
          50,
          33,
          79,
          70,
          79,
          74,
          80,
          100,
          78,
          56,
          64,
          71,
          89,
          58,
          68,
          96,
          80,
          78,
          80,
          77,
          76,
          73,
          62,
          65,
          65,
          73,
          99,
          72,
          73,
          81,
          63,
          30,
          80,
          82,
          54,
          62,
          65,
          66,
          74,
          93,
          72,
          38,
          54,
          62,
          55,
          81,
          85,
          81,
          88,
          73,
          90,
          79,
          80,
          81,
          65,
          68,
          55,
          81,
          76,
          98,
          74,
          79,
          67,
          58,
          69,
          67,
          60,
          71,
          87,
          68,
          76,
          84,
          78,
          66,
          76,
          76,
          74,
          44,
          100,
          53,
          78,
          81,
          73,
          56,
          86,
          90,
          70,
          79,
          82,
          72,
          67,
          64,
          58,
          85,
          99,
          74,
          87,
          99,
          74,
          70,
          88,
          77,
          84,
          80,
          94,
          57,
          73,
          56,
          82,
          72,
          59,
          85,
          92,
          65,
          64,
          54,
          63,
          72,
          77,
          75,
          72,
          79,
          55,
          70,
          43,
          82,
          57,
          84,
          82,
          62,
          44,
          77,
          32,
          61,
          60,
          70,
          51,
          73,
          81,
          57,
          95,
          87,
          78,
          75,
          40,
          67,
          83,
          64,
          68,
          88,
          92,
          93,
          82,
          52,
          70,
          76,
          81,
          57,
          89,
          89,
          74,
          79,
          73,
          46,
          36,
          64,
          68,
          63,
          93,
          96,
          81,
          53,
          87,
          80,
          76,
          61,
          80,
          74,
          70,
          71,
          54,
          80,
          95,
          74,
          91,
          85,
          73,
          69,
          38,
          79,
          82,
          74,
          41,
          100,
          84,
          91,
          72,
          82,
          66,
          66,
          55,
          66,
          52,
          80,
          46,
          65,
          71,
          51,
          57,
          96,
          61,
          58,
          60,
          73,
          83,
          72,
          69,
          100,
          59,
          64,
          53,
          100,
          75,
          72,
          67,
          80,
          100,
          60,
          61,
          67,
          77,
          94,
          23,
          91,
          82,
          51,
          45,
          83,
          78,
          76,
          74,
          95,
          65,
          77,
          86
         ],
         "xaxis": "x",
         "yaxis": "y"
        },
        {
         "alignmentgroup": "True",
         "bingroup": "x",
         "hovertemplate": "gender=male<br>writing score=%{x}<br>count=%{y}<extra></extra>",
         "legendgroup": "male",
         "marker": {
          "color": "#EF553B",
          "pattern": {
           "shape": ""
          }
         },
         "name": "male",
         "offsetgroup": "male",
         "orientation": "v",
         "showlegend": true,
         "type": "histogram",
         "x": [
          44,
          75,
          39,
          67,
          52,
          43,
          70,
          86,
          46,
          63,
          53,
          80,
          72,
          55,
          65,
          38,
          82,
          79,
          57,
          54,
          66,
          57,
          82,
          48,
          68,
          42,
          75,
          49,
          58,
          72,
          34,
          55,
          61,
          37,
          56,
          63,
          56,
          41,
          38,
          22,
          81,
          45,
          54,
          63,
          34,
          36,
          71,
          50,
          82,
          62,
          67,
          74,
          47,
          90,
          64,
          49,
          47,
          74,
          92,
          56,
          73,
          67,
          74,
          74,
          82,
          40,
          70,
          75,
          48,
          41,
          56,
          69,
          47,
          78,
          75,
          66,
          93,
          69,
          68,
          47,
          61,
          60,
          64,
          74,
          52,
          49,
          51,
          74,
          78,
          75,
          49,
          65,
          65,
          68,
          45,
          79,
          62,
          52,
          65,
          51,
          69,
          42,
          78,
          62,
          76,
          79,
          27,
          56,
          81,
          75,
          70,
          56,
          73,
          75,
          54,
          64,
          66,
          42,
          78,
          84,
          77,
          67,
          51,
          80,
          66,
          43,
          69,
          71,
          74,
          53,
          49,
          72,
          52,
          77,
          78,
          68,
          41,
          61,
          42,
          76,
          73,
          57,
          42,
          46,
          82,
          88,
          76,
          77,
          68,
          70,
          57,
          80,
          60,
          43,
          68,
          50,
          75,
          81,
          52,
          64,
          69,
          81,
          44,
          57,
          68,
          65,
          78,
          69,
          62,
          19,
          77,
          61,
          35,
          53,
          81,
          69,
          43,
          52,
          67,
          67,
          57,
          66,
          76,
          52,
          61,
          61,
          78,
          58,
          60,
          53,
          61,
          71,
          72,
          41,
          62,
          95,
          71,
          75,
          59,
          67,
          56,
          41,
          57,
          54,
          43,
          63,
          85,
          78,
          60,
          67,
          69,
          68,
          67,
          62,
          54,
          34,
          86,
          65,
          53,
          54,
          59,
          55,
          66,
          53,
          64,
          73,
          51,
          82,
          73,
          60,
          80,
          42,
          72,
          49,
          47,
          48,
          68,
          55,
          45,
          62,
          65,
          76,
          66,
          72,
          67,
          68,
          61,
          46,
          71,
          56,
          57,
          82,
          66,
          72,
          54,
          66,
          54,
          77,
          73,
          43,
          52,
          52,
          57,
          50,
          49,
          59,
          60,
          58,
          68,
          58,
          71,
          86,
          68,
          80,
          80,
          64,
          69,
          65,
          88,
          64,
          40,
          66,
          62,
          92,
          46,
          45,
          47,
          67,
          70,
          92,
          53,
          52,
          54,
          50,
          64,
          15,
          48,
          51,
          90,
          62,
          63,
          91,
          83,
          84,
          68,
          56,
          52,
          86,
          99,
          63,
          46,
          46,
          70,
          65,
          80,
          64,
          74,
          51,
          60,
          53,
          64,
          61,
          85,
          73,
          63,
          63,
          61,
          77,
          50,
          78,
          60,
          60,
          54,
          68,
          68,
          73,
          44,
          83,
          59,
          87,
          65,
          36,
          52,
          79,
          90,
          84,
          72,
          80,
          59,
          42,
          41,
          71,
          57,
          37,
          43,
          44,
          59,
          84,
          73,
          55,
          72,
          47,
          74,
          71,
          68,
          86,
          68,
          65,
          75,
          53,
          52,
          72,
          77,
          86,
          59,
          60,
          57,
          49,
          74,
          60,
          82,
          79,
          61,
          69,
          77,
          70,
          54,
          68,
          73,
          74,
          69,
          51,
          36,
          49,
          76,
          87,
          76,
          51,
          58,
          53,
          58,
          45,
          57,
          53,
          51,
          76,
          84,
          85,
          50,
          69,
          67,
          61,
          55,
          65,
          46,
          72,
          38,
          91,
          88,
          52,
          41,
          72,
          51,
          47,
          78,
          82,
          66,
          84,
          54,
          66,
          44,
          59,
          48,
          75,
          27,
          63,
          89,
          77,
          51,
          70,
          48,
          100,
          91,
          67,
          66,
          69,
          60,
          52,
          44,
          70,
          62,
          73,
          74,
          90,
          58,
          53,
          85,
          69,
          72,
          64,
          61,
          80,
          52,
          71,
          54,
          62,
          81,
          71,
          58,
          64,
          60,
          69,
          60,
          58,
          48,
          78,
          86,
          54,
          76,
          75,
          62,
          55
         ],
         "xaxis": "x",
         "yaxis": "y"
        }
       ],
       "layout": {
        "barmode": "relative",
        "legend": {
         "title": {
          "text": "gender"
         },
         "tracegroupgap": 0
        },
        "margin": {
         "t": 60
        },
        "template": {
         "data": {
          "bar": [
           {
            "error_x": {
             "color": "#2a3f5f"
            },
            "error_y": {
             "color": "#2a3f5f"
            },
            "marker": {
             "line": {
              "color": "#E5ECF6",
              "width": 0.5
             },
             "pattern": {
              "fillmode": "overlay",
              "size": 10,
              "solidity": 0.2
             }
            },
            "type": "bar"
           }
          ],
          "barpolar": [
           {
            "marker": {
             "line": {
              "color": "#E5ECF6",
              "width": 0.5
             },
             "pattern": {
              "fillmode": "overlay",
              "size": 10,
              "solidity": 0.2
             }
            },
            "type": "barpolar"
           }
          ],
          "carpet": [
           {
            "aaxis": {
             "endlinecolor": "#2a3f5f",
             "gridcolor": "white",
             "linecolor": "white",
             "minorgridcolor": "white",
             "startlinecolor": "#2a3f5f"
            },
            "baxis": {
             "endlinecolor": "#2a3f5f",
             "gridcolor": "white",
             "linecolor": "white",
             "minorgridcolor": "white",
             "startlinecolor": "#2a3f5f"
            },
            "type": "carpet"
           }
          ],
          "choropleth": [
           {
            "colorbar": {
             "outlinewidth": 0,
             "ticks": ""
            },
            "type": "choropleth"
           }
          ],
          "contour": [
           {
            "colorbar": {
             "outlinewidth": 0,
             "ticks": ""
            },
            "colorscale": [
             [
              0,
              "#0d0887"
             ],
             [
              0.1111111111111111,
              "#46039f"
             ],
             [
              0.2222222222222222,
              "#7201a8"
             ],
             [
              0.3333333333333333,
              "#9c179e"
             ],
             [
              0.4444444444444444,
              "#bd3786"
             ],
             [
              0.5555555555555556,
              "#d8576b"
             ],
             [
              0.6666666666666666,
              "#ed7953"
             ],
             [
              0.7777777777777778,
              "#fb9f3a"
             ],
             [
              0.8888888888888888,
              "#fdca26"
             ],
             [
              1,
              "#f0f921"
             ]
            ],
            "type": "contour"
           }
          ],
          "contourcarpet": [
           {
            "colorbar": {
             "outlinewidth": 0,
             "ticks": ""
            },
            "type": "contourcarpet"
           }
          ],
          "heatmap": [
           {
            "colorbar": {
             "outlinewidth": 0,
             "ticks": ""
            },
            "colorscale": [
             [
              0,
              "#0d0887"
             ],
             [
              0.1111111111111111,
              "#46039f"
             ],
             [
              0.2222222222222222,
              "#7201a8"
             ],
             [
              0.3333333333333333,
              "#9c179e"
             ],
             [
              0.4444444444444444,
              "#bd3786"
             ],
             [
              0.5555555555555556,
              "#d8576b"
             ],
             [
              0.6666666666666666,
              "#ed7953"
             ],
             [
              0.7777777777777778,
              "#fb9f3a"
             ],
             [
              0.8888888888888888,
              "#fdca26"
             ],
             [
              1,
              "#f0f921"
             ]
            ],
            "type": "heatmap"
           }
          ],
          "heatmapgl": [
           {
            "colorbar": {
             "outlinewidth": 0,
             "ticks": ""
            },
            "colorscale": [
             [
              0,
              "#0d0887"
             ],
             [
              0.1111111111111111,
              "#46039f"
             ],
             [
              0.2222222222222222,
              "#7201a8"
             ],
             [
              0.3333333333333333,
              "#9c179e"
             ],
             [
              0.4444444444444444,
              "#bd3786"
             ],
             [
              0.5555555555555556,
              "#d8576b"
             ],
             [
              0.6666666666666666,
              "#ed7953"
             ],
             [
              0.7777777777777778,
              "#fb9f3a"
             ],
             [
              0.8888888888888888,
              "#fdca26"
             ],
             [
              1,
              "#f0f921"
             ]
            ],
            "type": "heatmapgl"
           }
          ],
          "histogram": [
           {
            "marker": {
             "pattern": {
              "fillmode": "overlay",
              "size": 10,
              "solidity": 0.2
             }
            },
            "type": "histogram"
           }
          ],
          "histogram2d": [
           {
            "colorbar": {
             "outlinewidth": 0,
             "ticks": ""
            },
            "colorscale": [
             [
              0,
              "#0d0887"
             ],
             [
              0.1111111111111111,
              "#46039f"
             ],
             [
              0.2222222222222222,
              "#7201a8"
             ],
             [
              0.3333333333333333,
              "#9c179e"
             ],
             [
              0.4444444444444444,
              "#bd3786"
             ],
             [
              0.5555555555555556,
              "#d8576b"
             ],
             [
              0.6666666666666666,
              "#ed7953"
             ],
             [
              0.7777777777777778,
              "#fb9f3a"
             ],
             [
              0.8888888888888888,
              "#fdca26"
             ],
             [
              1,
              "#f0f921"
             ]
            ],
            "type": "histogram2d"
           }
          ],
          "histogram2dcontour": [
           {
            "colorbar": {
             "outlinewidth": 0,
             "ticks": ""
            },
            "colorscale": [
             [
              0,
              "#0d0887"
             ],
             [
              0.1111111111111111,
              "#46039f"
             ],
             [
              0.2222222222222222,
              "#7201a8"
             ],
             [
              0.3333333333333333,
              "#9c179e"
             ],
             [
              0.4444444444444444,
              "#bd3786"
             ],
             [
              0.5555555555555556,
              "#d8576b"
             ],
             [
              0.6666666666666666,
              "#ed7953"
             ],
             [
              0.7777777777777778,
              "#fb9f3a"
             ],
             [
              0.8888888888888888,
              "#fdca26"
             ],
             [
              1,
              "#f0f921"
             ]
            ],
            "type": "histogram2dcontour"
           }
          ],
          "mesh3d": [
           {
            "colorbar": {
             "outlinewidth": 0,
             "ticks": ""
            },
            "type": "mesh3d"
           }
          ],
          "parcoords": [
           {
            "line": {
             "colorbar": {
              "outlinewidth": 0,
              "ticks": ""
             }
            },
            "type": "parcoords"
           }
          ],
          "pie": [
           {
            "automargin": true,
            "type": "pie"
           }
          ],
          "scatter": [
           {
            "fillpattern": {
             "fillmode": "overlay",
             "size": 10,
             "solidity": 0.2
            },
            "type": "scatter"
           }
          ],
          "scatter3d": [
           {
            "line": {
             "colorbar": {
              "outlinewidth": 0,
              "ticks": ""
             }
            },
            "marker": {
             "colorbar": {
              "outlinewidth": 0,
              "ticks": ""
             }
            },
            "type": "scatter3d"
           }
          ],
          "scattercarpet": [
           {
            "marker": {
             "colorbar": {
              "outlinewidth": 0,
              "ticks": ""
             }
            },
            "type": "scattercarpet"
           }
          ],
          "scattergeo": [
           {
            "marker": {
             "colorbar": {
              "outlinewidth": 0,
              "ticks": ""
             }
            },
            "type": "scattergeo"
           }
          ],
          "scattergl": [
           {
            "marker": {
             "colorbar": {
              "outlinewidth": 0,
              "ticks": ""
             }
            },
            "type": "scattergl"
           }
          ],
          "scattermapbox": [
           {
            "marker": {
             "colorbar": {
              "outlinewidth": 0,
              "ticks": ""
             }
            },
            "type": "scattermapbox"
           }
          ],
          "scatterpolar": [
           {
            "marker": {
             "colorbar": {
              "outlinewidth": 0,
              "ticks": ""
             }
            },
            "type": "scatterpolar"
           }
          ],
          "scatterpolargl": [
           {
            "marker": {
             "colorbar": {
              "outlinewidth": 0,
              "ticks": ""
             }
            },
            "type": "scatterpolargl"
           }
          ],
          "scatterternary": [
           {
            "marker": {
             "colorbar": {
              "outlinewidth": 0,
              "ticks": ""
             }
            },
            "type": "scatterternary"
           }
          ],
          "surface": [
           {
            "colorbar": {
             "outlinewidth": 0,
             "ticks": ""
            },
            "colorscale": [
             [
              0,
              "#0d0887"
             ],
             [
              0.1111111111111111,
              "#46039f"
             ],
             [
              0.2222222222222222,
              "#7201a8"
             ],
             [
              0.3333333333333333,
              "#9c179e"
             ],
             [
              0.4444444444444444,
              "#bd3786"
             ],
             [
              0.5555555555555556,
              "#d8576b"
             ],
             [
              0.6666666666666666,
              "#ed7953"
             ],
             [
              0.7777777777777778,
              "#fb9f3a"
             ],
             [
              0.8888888888888888,
              "#fdca26"
             ],
             [
              1,
              "#f0f921"
             ]
            ],
            "type": "surface"
           }
          ],
          "table": [
           {
            "cells": {
             "fill": {
              "color": "#EBF0F8"
             },
             "line": {
              "color": "white"
             }
            },
            "header": {
             "fill": {
              "color": "#C8D4E3"
             },
             "line": {
              "color": "white"
             }
            },
            "type": "table"
           }
          ]
         },
         "layout": {
          "annotationdefaults": {
           "arrowcolor": "#2a3f5f",
           "arrowhead": 0,
           "arrowwidth": 1
          },
          "autotypenumbers": "strict",
          "coloraxis": {
           "colorbar": {
            "outlinewidth": 0,
            "ticks": ""
           }
          },
          "colorscale": {
           "diverging": [
            [
             0,
             "#8e0152"
            ],
            [
             0.1,
             "#c51b7d"
            ],
            [
             0.2,
             "#de77ae"
            ],
            [
             0.3,
             "#f1b6da"
            ],
            [
             0.4,
             "#fde0ef"
            ],
            [
             0.5,
             "#f7f7f7"
            ],
            [
             0.6,
             "#e6f5d0"
            ],
            [
             0.7,
             "#b8e186"
            ],
            [
             0.8,
             "#7fbc41"
            ],
            [
             0.9,
             "#4d9221"
            ],
            [
             1,
             "#276419"
            ]
           ],
           "sequential": [
            [
             0,
             "#0d0887"
            ],
            [
             0.1111111111111111,
             "#46039f"
            ],
            [
             0.2222222222222222,
             "#7201a8"
            ],
            [
             0.3333333333333333,
             "#9c179e"
            ],
            [
             0.4444444444444444,
             "#bd3786"
            ],
            [
             0.5555555555555556,
             "#d8576b"
            ],
            [
             0.6666666666666666,
             "#ed7953"
            ],
            [
             0.7777777777777778,
             "#fb9f3a"
            ],
            [
             0.8888888888888888,
             "#fdca26"
            ],
            [
             1,
             "#f0f921"
            ]
           ],
           "sequentialminus": [
            [
             0,
             "#0d0887"
            ],
            [
             0.1111111111111111,
             "#46039f"
            ],
            [
             0.2222222222222222,
             "#7201a8"
            ],
            [
             0.3333333333333333,
             "#9c179e"
            ],
            [
             0.4444444444444444,
             "#bd3786"
            ],
            [
             0.5555555555555556,
             "#d8576b"
            ],
            [
             0.6666666666666666,
             "#ed7953"
            ],
            [
             0.7777777777777778,
             "#fb9f3a"
            ],
            [
             0.8888888888888888,
             "#fdca26"
            ],
            [
             1,
             "#f0f921"
            ]
           ]
          },
          "colorway": [
           "#636efa",
           "#EF553B",
           "#00cc96",
           "#ab63fa",
           "#FFA15A",
           "#19d3f3",
           "#FF6692",
           "#B6E880",
           "#FF97FF",
           "#FECB52"
          ],
          "font": {
           "color": "#2a3f5f"
          },
          "geo": {
           "bgcolor": "white",
           "lakecolor": "white",
           "landcolor": "#E5ECF6",
           "showlakes": true,
           "showland": true,
           "subunitcolor": "white"
          },
          "hoverlabel": {
           "align": "left"
          },
          "hovermode": "closest",
          "mapbox": {
           "style": "light"
          },
          "paper_bgcolor": "white",
          "plot_bgcolor": "#E5ECF6",
          "polar": {
           "angularaxis": {
            "gridcolor": "white",
            "linecolor": "white",
            "ticks": ""
           },
           "bgcolor": "#E5ECF6",
           "radialaxis": {
            "gridcolor": "white",
            "linecolor": "white",
            "ticks": ""
           }
          },
          "scene": {
           "xaxis": {
            "backgroundcolor": "#E5ECF6",
            "gridcolor": "white",
            "gridwidth": 2,
            "linecolor": "white",
            "showbackground": true,
            "ticks": "",
            "zerolinecolor": "white"
           },
           "yaxis": {
            "backgroundcolor": "#E5ECF6",
            "gridcolor": "white",
            "gridwidth": 2,
            "linecolor": "white",
            "showbackground": true,
            "ticks": "",
            "zerolinecolor": "white"
           },
           "zaxis": {
            "backgroundcolor": "#E5ECF6",
            "gridcolor": "white",
            "gridwidth": 2,
            "linecolor": "white",
            "showbackground": true,
            "ticks": "",
            "zerolinecolor": "white"
           }
          },
          "shapedefaults": {
           "line": {
            "color": "#2a3f5f"
           }
          },
          "ternary": {
           "aaxis": {
            "gridcolor": "white",
            "linecolor": "white",
            "ticks": ""
           },
           "baxis": {
            "gridcolor": "white",
            "linecolor": "white",
            "ticks": ""
           },
           "bgcolor": "#E5ECF6",
           "caxis": {
            "gridcolor": "white",
            "linecolor": "white",
            "ticks": ""
           }
          },
          "title": {
           "x": 0.05
          },
          "xaxis": {
           "automargin": true,
           "gridcolor": "white",
           "linecolor": "white",
           "ticks": "",
           "title": {
            "standoff": 15
           },
           "zerolinecolor": "white",
           "zerolinewidth": 2
          },
          "yaxis": {
           "automargin": true,
           "gridcolor": "white",
           "linecolor": "white",
           "ticks": "",
           "title": {
            "standoff": 15
           },
           "zerolinecolor": "white",
           "zerolinewidth": 2
          }
         }
        },
        "xaxis": {
         "anchor": "y",
         "domain": [
          0,
          1
         ],
         "title": {
          "text": "writing score"
         }
        },
        "yaxis": {
         "anchor": "x",
         "domain": [
          0,
          1
         ],
         "title": {
          "text": "count"
         }
        }
       }
      },
      "text/html": [
       "<div>                            <div id=\"56f75009-64c3-48f9-bcd3-6cd6bc7bfec4\" class=\"plotly-graph-div\" style=\"height:525px; width:100%;\"></div>            <script type=\"text/javascript\">                require([\"plotly\"], function(Plotly) {                    window.PLOTLYENV=window.PLOTLYENV || {};                                    if (document.getElementById(\"56f75009-64c3-48f9-bcd3-6cd6bc7bfec4\")) {                    Plotly.newPlot(                        \"56f75009-64c3-48f9-bcd3-6cd6bc7bfec4\",                        [{\"alignmentgroup\":\"True\",\"bingroup\":\"x\",\"hovertemplate\":\"gender=female<br>writing score=%{x}<br>count=%{y}<extra></extra>\",\"legendgroup\":\"female\",\"marker\":{\"color\":\"#636efa\",\"pattern\":{\"shape\":\"\"}},\"name\":\"female\",\"offsetgroup\":\"female\",\"orientation\":\"v\",\"showlegend\":true,\"x\":[74,88,93,78,92,50,73,58,78,28,61,70,73,75,75,74,61,65,83,59,88,68,65,54,62,76,76,87,43,86,10,71,59,74,57,73,48,72,68,50,82,88,74,67,82,74,92,70,62,62,89,72,100,70,72,98,54,100,82,79,61,65,89,93,86,51,84,67,71,64,54,33,81,66,88,78,87,85,91,100,78,78,70,81,70,54,87,58,77,62,100,66,47,70,87,69,66,85,55,76,86,77,68,76,66,60,88,39,74,62,73,54,71,94,83,74,83,55,68,62,83,70,70,68,78,81,77,51,90,81,77,95,70,58,71,93,75,80,84,78,46,82,75,81,83,67,52,80,69,75,91,63,84,79,80,53,43,94,51,95,66,27,60,63,74,75,95,69,80,57,70,70,69,89,59,58,32,58,85,70,96,73,82,100,77,83,45,43,75,70,67,64,77,77,63,95,67,55,100,62,68,77,56,74,79,93,64,67,80,62,70,50,79,80,69,76,77,85,97,74,62,89,100,76,91,91,38,85,90,74,84,61,91,83,70,56,54,74,76,70,90,90,68,52,76,68,82,92,92,54,80,87,62,94,85,84,73,78,79,84,43,47,70,73,53,94,83,62,79,89,66,97,64,50,33,79,70,79,74,80,100,78,56,64,71,89,58,68,96,80,78,80,77,76,73,62,65,65,73,99,72,73,81,63,30,80,82,54,62,65,66,74,93,72,38,54,62,55,81,85,81,88,73,90,79,80,81,65,68,55,81,76,98,74,79,67,58,69,67,60,71,87,68,76,84,78,66,76,76,74,44,100,53,78,81,73,56,86,90,70,79,82,72,67,64,58,85,99,74,87,99,74,70,88,77,84,80,94,57,73,56,82,72,59,85,92,65,64,54,63,72,77,75,72,79,55,70,43,82,57,84,82,62,44,77,32,61,60,70,51,73,81,57,95,87,78,75,40,67,83,64,68,88,92,93,82,52,70,76,81,57,89,89,74,79,73,46,36,64,68,63,93,96,81,53,87,80,76,61,80,74,70,71,54,80,95,74,91,85,73,69,38,79,82,74,41,100,84,91,72,82,66,66,55,66,52,80,46,65,71,51,57,96,61,58,60,73,83,72,69,100,59,64,53,100,75,72,67,80,100,60,61,67,77,94,23,91,82,51,45,83,78,76,74,95,65,77,86],\"xaxis\":\"x\",\"yaxis\":\"y\",\"type\":\"histogram\"},{\"alignmentgroup\":\"True\",\"bingroup\":\"x\",\"hovertemplate\":\"gender=male<br>writing score=%{x}<br>count=%{y}<extra></extra>\",\"legendgroup\":\"male\",\"marker\":{\"color\":\"#EF553B\",\"pattern\":{\"shape\":\"\"}},\"name\":\"male\",\"offsetgroup\":\"male\",\"orientation\":\"v\",\"showlegend\":true,\"x\":[44,75,39,67,52,43,70,86,46,63,53,80,72,55,65,38,82,79,57,54,66,57,82,48,68,42,75,49,58,72,34,55,61,37,56,63,56,41,38,22,81,45,54,63,34,36,71,50,82,62,67,74,47,90,64,49,47,74,92,56,73,67,74,74,82,40,70,75,48,41,56,69,47,78,75,66,93,69,68,47,61,60,64,74,52,49,51,74,78,75,49,65,65,68,45,79,62,52,65,51,69,42,78,62,76,79,27,56,81,75,70,56,73,75,54,64,66,42,78,84,77,67,51,80,66,43,69,71,74,53,49,72,52,77,78,68,41,61,42,76,73,57,42,46,82,88,76,77,68,70,57,80,60,43,68,50,75,81,52,64,69,81,44,57,68,65,78,69,62,19,77,61,35,53,81,69,43,52,67,67,57,66,76,52,61,61,78,58,60,53,61,71,72,41,62,95,71,75,59,67,56,41,57,54,43,63,85,78,60,67,69,68,67,62,54,34,86,65,53,54,59,55,66,53,64,73,51,82,73,60,80,42,72,49,47,48,68,55,45,62,65,76,66,72,67,68,61,46,71,56,57,82,66,72,54,66,54,77,73,43,52,52,57,50,49,59,60,58,68,58,71,86,68,80,80,64,69,65,88,64,40,66,62,92,46,45,47,67,70,92,53,52,54,50,64,15,48,51,90,62,63,91,83,84,68,56,52,86,99,63,46,46,70,65,80,64,74,51,60,53,64,61,85,73,63,63,61,77,50,78,60,60,54,68,68,73,44,83,59,87,65,36,52,79,90,84,72,80,59,42,41,71,57,37,43,44,59,84,73,55,72,47,74,71,68,86,68,65,75,53,52,72,77,86,59,60,57,49,74,60,82,79,61,69,77,70,54,68,73,74,69,51,36,49,76,87,76,51,58,53,58,45,57,53,51,76,84,85,50,69,67,61,55,65,46,72,38,91,88,52,41,72,51,47,78,82,66,84,54,66,44,59,48,75,27,63,89,77,51,70,48,100,91,67,66,69,60,52,44,70,62,73,74,90,58,53,85,69,72,64,61,80,52,71,54,62,81,71,58,64,60,69,60,58,48,78,86,54,76,75,62,55],\"xaxis\":\"x\",\"yaxis\":\"y\",\"type\":\"histogram\"}],                        {\"template\":{\"data\":{\"histogram2dcontour\":[{\"type\":\"histogram2dcontour\",\"colorbar\":{\"outlinewidth\":0,\"ticks\":\"\"},\"colorscale\":[[0.0,\"#0d0887\"],[0.1111111111111111,\"#46039f\"],[0.2222222222222222,\"#7201a8\"],[0.3333333333333333,\"#9c179e\"],[0.4444444444444444,\"#bd3786\"],[0.5555555555555556,\"#d8576b\"],[0.6666666666666666,\"#ed7953\"],[0.7777777777777778,\"#fb9f3a\"],[0.8888888888888888,\"#fdca26\"],[1.0,\"#f0f921\"]]}],\"choropleth\":[{\"type\":\"choropleth\",\"colorbar\":{\"outlinewidth\":0,\"ticks\":\"\"}}],\"histogram2d\":[{\"type\":\"histogram2d\",\"colorbar\":{\"outlinewidth\":0,\"ticks\":\"\"},\"colorscale\":[[0.0,\"#0d0887\"],[0.1111111111111111,\"#46039f\"],[0.2222222222222222,\"#7201a8\"],[0.3333333333333333,\"#9c179e\"],[0.4444444444444444,\"#bd3786\"],[0.5555555555555556,\"#d8576b\"],[0.6666666666666666,\"#ed7953\"],[0.7777777777777778,\"#fb9f3a\"],[0.8888888888888888,\"#fdca26\"],[1.0,\"#f0f921\"]]}],\"heatmap\":[{\"type\":\"heatmap\",\"colorbar\":{\"outlinewidth\":0,\"ticks\":\"\"},\"colorscale\":[[0.0,\"#0d0887\"],[0.1111111111111111,\"#46039f\"],[0.2222222222222222,\"#7201a8\"],[0.3333333333333333,\"#9c179e\"],[0.4444444444444444,\"#bd3786\"],[0.5555555555555556,\"#d8576b\"],[0.6666666666666666,\"#ed7953\"],[0.7777777777777778,\"#fb9f3a\"],[0.8888888888888888,\"#fdca26\"],[1.0,\"#f0f921\"]]}],\"heatmapgl\":[{\"type\":\"heatmapgl\",\"colorbar\":{\"outlinewidth\":0,\"ticks\":\"\"},\"colorscale\":[[0.0,\"#0d0887\"],[0.1111111111111111,\"#46039f\"],[0.2222222222222222,\"#7201a8\"],[0.3333333333333333,\"#9c179e\"],[0.4444444444444444,\"#bd3786\"],[0.5555555555555556,\"#d8576b\"],[0.6666666666666666,\"#ed7953\"],[0.7777777777777778,\"#fb9f3a\"],[0.8888888888888888,\"#fdca26\"],[1.0,\"#f0f921\"]]}],\"contourcarpet\":[{\"type\":\"contourcarpet\",\"colorbar\":{\"outlinewidth\":0,\"ticks\":\"\"}}],\"contour\":[{\"type\":\"contour\",\"colorbar\":{\"outlinewidth\":0,\"ticks\":\"\"},\"colorscale\":[[0.0,\"#0d0887\"],[0.1111111111111111,\"#46039f\"],[0.2222222222222222,\"#7201a8\"],[0.3333333333333333,\"#9c179e\"],[0.4444444444444444,\"#bd3786\"],[0.5555555555555556,\"#d8576b\"],[0.6666666666666666,\"#ed7953\"],[0.7777777777777778,\"#fb9f3a\"],[0.8888888888888888,\"#fdca26\"],[1.0,\"#f0f921\"]]}],\"surface\":[{\"type\":\"surface\",\"colorbar\":{\"outlinewidth\":0,\"ticks\":\"\"},\"colorscale\":[[0.0,\"#0d0887\"],[0.1111111111111111,\"#46039f\"],[0.2222222222222222,\"#7201a8\"],[0.3333333333333333,\"#9c179e\"],[0.4444444444444444,\"#bd3786\"],[0.5555555555555556,\"#d8576b\"],[0.6666666666666666,\"#ed7953\"],[0.7777777777777778,\"#fb9f3a\"],[0.8888888888888888,\"#fdca26\"],[1.0,\"#f0f921\"]]}],\"mesh3d\":[{\"type\":\"mesh3d\",\"colorbar\":{\"outlinewidth\":0,\"ticks\":\"\"}}],\"scatter\":[{\"fillpattern\":{\"fillmode\":\"overlay\",\"size\":10,\"solidity\":0.2},\"type\":\"scatter\"}],\"parcoords\":[{\"type\":\"parcoords\",\"line\":{\"colorbar\":{\"outlinewidth\":0,\"ticks\":\"\"}}}],\"scatterpolargl\":[{\"type\":\"scatterpolargl\",\"marker\":{\"colorbar\":{\"outlinewidth\":0,\"ticks\":\"\"}}}],\"bar\":[{\"error_x\":{\"color\":\"#2a3f5f\"},\"error_y\":{\"color\":\"#2a3f5f\"},\"marker\":{\"line\":{\"color\":\"#E5ECF6\",\"width\":0.5},\"pattern\":{\"fillmode\":\"overlay\",\"size\":10,\"solidity\":0.2}},\"type\":\"bar\"}],\"scattergeo\":[{\"type\":\"scattergeo\",\"marker\":{\"colorbar\":{\"outlinewidth\":0,\"ticks\":\"\"}}}],\"scatterpolar\":[{\"type\":\"scatterpolar\",\"marker\":{\"colorbar\":{\"outlinewidth\":0,\"ticks\":\"\"}}}],\"histogram\":[{\"marker\":{\"pattern\":{\"fillmode\":\"overlay\",\"size\":10,\"solidity\":0.2}},\"type\":\"histogram\"}],\"scattergl\":[{\"type\":\"scattergl\",\"marker\":{\"colorbar\":{\"outlinewidth\":0,\"ticks\":\"\"}}}],\"scatter3d\":[{\"type\":\"scatter3d\",\"line\":{\"colorbar\":{\"outlinewidth\":0,\"ticks\":\"\"}},\"marker\":{\"colorbar\":{\"outlinewidth\":0,\"ticks\":\"\"}}}],\"scattermapbox\":[{\"type\":\"scattermapbox\",\"marker\":{\"colorbar\":{\"outlinewidth\":0,\"ticks\":\"\"}}}],\"scatterternary\":[{\"type\":\"scatterternary\",\"marker\":{\"colorbar\":{\"outlinewidth\":0,\"ticks\":\"\"}}}],\"scattercarpet\":[{\"type\":\"scattercarpet\",\"marker\":{\"colorbar\":{\"outlinewidth\":0,\"ticks\":\"\"}}}],\"carpet\":[{\"aaxis\":{\"endlinecolor\":\"#2a3f5f\",\"gridcolor\":\"white\",\"linecolor\":\"white\",\"minorgridcolor\":\"white\",\"startlinecolor\":\"#2a3f5f\"},\"baxis\":{\"endlinecolor\":\"#2a3f5f\",\"gridcolor\":\"white\",\"linecolor\":\"white\",\"minorgridcolor\":\"white\",\"startlinecolor\":\"#2a3f5f\"},\"type\":\"carpet\"}],\"table\":[{\"cells\":{\"fill\":{\"color\":\"#EBF0F8\"},\"line\":{\"color\":\"white\"}},\"header\":{\"fill\":{\"color\":\"#C8D4E3\"},\"line\":{\"color\":\"white\"}},\"type\":\"table\"}],\"barpolar\":[{\"marker\":{\"line\":{\"color\":\"#E5ECF6\",\"width\":0.5},\"pattern\":{\"fillmode\":\"overlay\",\"size\":10,\"solidity\":0.2}},\"type\":\"barpolar\"}],\"pie\":[{\"automargin\":true,\"type\":\"pie\"}]},\"layout\":{\"autotypenumbers\":\"strict\",\"colorway\":[\"#636efa\",\"#EF553B\",\"#00cc96\",\"#ab63fa\",\"#FFA15A\",\"#19d3f3\",\"#FF6692\",\"#B6E880\",\"#FF97FF\",\"#FECB52\"],\"font\":{\"color\":\"#2a3f5f\"},\"hovermode\":\"closest\",\"hoverlabel\":{\"align\":\"left\"},\"paper_bgcolor\":\"white\",\"plot_bgcolor\":\"#E5ECF6\",\"polar\":{\"bgcolor\":\"#E5ECF6\",\"angularaxis\":{\"gridcolor\":\"white\",\"linecolor\":\"white\",\"ticks\":\"\"},\"radialaxis\":{\"gridcolor\":\"white\",\"linecolor\":\"white\",\"ticks\":\"\"}},\"ternary\":{\"bgcolor\":\"#E5ECF6\",\"aaxis\":{\"gridcolor\":\"white\",\"linecolor\":\"white\",\"ticks\":\"\"},\"baxis\":{\"gridcolor\":\"white\",\"linecolor\":\"white\",\"ticks\":\"\"},\"caxis\":{\"gridcolor\":\"white\",\"linecolor\":\"white\",\"ticks\":\"\"}},\"coloraxis\":{\"colorbar\":{\"outlinewidth\":0,\"ticks\":\"\"}},\"colorscale\":{\"sequential\":[[0.0,\"#0d0887\"],[0.1111111111111111,\"#46039f\"],[0.2222222222222222,\"#7201a8\"],[0.3333333333333333,\"#9c179e\"],[0.4444444444444444,\"#bd3786\"],[0.5555555555555556,\"#d8576b\"],[0.6666666666666666,\"#ed7953\"],[0.7777777777777778,\"#fb9f3a\"],[0.8888888888888888,\"#fdca26\"],[1.0,\"#f0f921\"]],\"sequentialminus\":[[0.0,\"#0d0887\"],[0.1111111111111111,\"#46039f\"],[0.2222222222222222,\"#7201a8\"],[0.3333333333333333,\"#9c179e\"],[0.4444444444444444,\"#bd3786\"],[0.5555555555555556,\"#d8576b\"],[0.6666666666666666,\"#ed7953\"],[0.7777777777777778,\"#fb9f3a\"],[0.8888888888888888,\"#fdca26\"],[1.0,\"#f0f921\"]],\"diverging\":[[0,\"#8e0152\"],[0.1,\"#c51b7d\"],[0.2,\"#de77ae\"],[0.3,\"#f1b6da\"],[0.4,\"#fde0ef\"],[0.5,\"#f7f7f7\"],[0.6,\"#e6f5d0\"],[0.7,\"#b8e186\"],[0.8,\"#7fbc41\"],[0.9,\"#4d9221\"],[1,\"#276419\"]]},\"xaxis\":{\"gridcolor\":\"white\",\"linecolor\":\"white\",\"ticks\":\"\",\"title\":{\"standoff\":15},\"zerolinecolor\":\"white\",\"automargin\":true,\"zerolinewidth\":2},\"yaxis\":{\"gridcolor\":\"white\",\"linecolor\":\"white\",\"ticks\":\"\",\"title\":{\"standoff\":15},\"zerolinecolor\":\"white\",\"automargin\":true,\"zerolinewidth\":2},\"scene\":{\"xaxis\":{\"backgroundcolor\":\"#E5ECF6\",\"gridcolor\":\"white\",\"linecolor\":\"white\",\"showbackground\":true,\"ticks\":\"\",\"zerolinecolor\":\"white\",\"gridwidth\":2},\"yaxis\":{\"backgroundcolor\":\"#E5ECF6\",\"gridcolor\":\"white\",\"linecolor\":\"white\",\"showbackground\":true,\"ticks\":\"\",\"zerolinecolor\":\"white\",\"gridwidth\":2},\"zaxis\":{\"backgroundcolor\":\"#E5ECF6\",\"gridcolor\":\"white\",\"linecolor\":\"white\",\"showbackground\":true,\"ticks\":\"\",\"zerolinecolor\":\"white\",\"gridwidth\":2}},\"shapedefaults\":{\"line\":{\"color\":\"#2a3f5f\"}},\"annotationdefaults\":{\"arrowcolor\":\"#2a3f5f\",\"arrowhead\":0,\"arrowwidth\":1},\"geo\":{\"bgcolor\":\"white\",\"landcolor\":\"#E5ECF6\",\"subunitcolor\":\"white\",\"showland\":true,\"showlakes\":true,\"lakecolor\":\"white\"},\"title\":{\"x\":0.05},\"mapbox\":{\"style\":\"light\"}}},\"xaxis\":{\"anchor\":\"y\",\"domain\":[0.0,1.0],\"title\":{\"text\":\"writing score\"}},\"yaxis\":{\"anchor\":\"x\",\"domain\":[0.0,1.0],\"title\":{\"text\":\"count\"}},\"legend\":{\"title\":{\"text\":\"gender\"},\"tracegroupgap\":0},\"margin\":{\"t\":60},\"barmode\":\"relative\"},                        {\"responsive\": true}                    ).then(function(){\n",
       "                            \n",
       "var gd = document.getElementById('56f75009-64c3-48f9-bcd3-6cd6bc7bfec4');\n",
       "var x = new MutationObserver(function (mutations, observer) {{\n",
       "        var display = window.getComputedStyle(gd).display;\n",
       "        if (!display || display === 'none') {{\n",
       "            console.log([gd, 'removed!']);\n",
       "            Plotly.purge(gd);\n",
       "            observer.disconnect();\n",
       "        }}\n",
       "}});\n",
       "\n",
       "// Listen for the removal of the full notebook cells\n",
       "var notebookContainer = gd.closest('#notebook-container');\n",
       "if (notebookContainer) {{\n",
       "    x.observe(notebookContainer, {childList: true});\n",
       "}}\n",
       "\n",
       "// Listen for the clearing of the current output cell\n",
       "var outputEl = gd.closest('.output');\n",
       "if (outputEl) {{\n",
       "    x.observe(outputEl, {childList: true});\n",
       "}}\n",
       "\n",
       "                        })                };                });            </script>        </div>"
      ]
     },
     "metadata": {},
     "output_type": "display_data"
    }
   ],
   "source": [
    "import plotly.express as px\n",
    "\n",
    "for coluna in table[[\"gender\", \"math score\", \"reading score\", \"writing score\"]]:\n",
    "    if coluna != \"gender\":\n",
    "        fig = px.histogram(table[[\"gender\", \"math score\", \"reading score\", \"writing score\"]], x=coluna, color=\"gender\")\n",
    "        fig.show()"
   ]
  },
  {
   "cell_type": "markdown",
   "metadata": {},
   "source": [
    "## 👩‍❤️‍👨Parental Level of Education X Scores\n",
    "\n",
    "The level of education of the parents actually have effects in the scores of their children <br>\n",
    "It is easy to understand that the more educated the parents the more well they can educate and guide their children\n",
    "\n",
    "Well my insights are:\n",
    "\n",
    "> The children of those who actually have parents with master's degree are few and do not actually roam around 90 and above scores\n",
    "> - Maybe their parents do not have much time with them and could not accompany their children education closely for probably occupying high office?\n",
    "> - Maybe they are few because they would ocupate more private schools as their parents are likeable to have the money?, I am treating this institution as a regular and the reason for this is the lunch charts, we will get to it\n",
    "> - Maybe those who actually have master's degree just does not have the time to take care of a possible son or daugther and just do not have kids? That is a bit extreme but it is just a guess\n",
    "\n",
    "&nbsp;\n",
    "\n",
    "> The children of those who actually have parents with bachelor's degree have 100 scores more than the others in the writing and reading tests\n",
    "> - They really had the time to educate and teach their children, perhaps they did not wanted to take the master's degree to actually focus on having children?\n",
    "\n",
    "&nbsp;\n",
    "\n",
    "> The children of those who actually have parents with some college a roam a bit more around the scores of 90 and above\n",
    "> - They also had the time to educate and teach their children, but I did not actually expected this outcome\n",
    "\n",
    "&nbsp;\n",
    "\n",
    "Well, parents with some college or bachelor's degree can draw out their kids potential rigth to them"
   ]
  },
  {
   "cell_type": "code",
   "execution_count": 22,
   "metadata": {},
   "outputs": [
    {
     "data": {
      "application/vnd.plotly.v1+json": {
       "config": {
        "plotlyServerURL": "https://plot.ly"
       },
       "data": [
        {
         "alignmentgroup": "True",
         "bingroup": "x",
         "hovertemplate": "parental level of education=bachelor's degree<br>math score=%{x}<br>count=%{y}<extra></extra>",
         "legendgroup": "bachelor's degree",
         "marker": {
          "color": "#636efa",
          "pattern": {
           "shape": ""
          }
         },
         "name": "bachelor's degree",
         "offsetgroup": "bachelor's degree",
         "orientation": "v",
         "showlegend": true,
         "type": "histogram",
         "x": [
          72,
          74,
          67,
          79,
          80,
          65,
          65,
          68,
          99,
          75,
          78,
          79,
          51,
          74,
          58,
          68,
          77,
          54,
          96,
          43,
          77,
          78,
          82,
          67,
          83,
          63,
          80,
          63,
          69,
          83,
          73,
          73,
          88,
          65,
          66,
          67,
          59,
          63,
          83,
          77,
          52,
          61,
          49,
          61,
          59,
          66,
          64,
          51,
          71,
          86,
          37,
          79,
          100,
          53,
          75,
          71,
          76,
          81,
          55,
          86,
          69,
          29,
          66,
          85,
          87,
          96,
          48,
          92,
          68,
          91,
          63,
          44,
          68,
          92,
          56,
          94,
          37,
          88,
          62,
          61,
          66,
          65,
          77,
          66,
          59,
          79,
          87,
          62,
          80,
          50,
          70,
          75,
          62,
          91,
          59,
          45,
          61,
          78,
          74,
          64,
          97,
          65,
          39,
          43,
          63,
          71,
          55,
          93,
          67,
          70,
          50,
          52,
          47,
          100,
          70,
          75,
          89,
          62
         ],
         "xaxis": "x",
         "yaxis": "y"
        },
        {
         "alignmentgroup": "True",
         "bingroup": "x",
         "hovertemplate": "parental level of education=some college<br>math score=%{x}<br>count=%{y}<extra></extra>",
         "legendgroup": "some college",
         "marker": {
          "color": "#EF553B",
          "pattern": {
           "shape": ""
          }
         },
         "name": "some college",
         "offsetgroup": "some college",
         "orientation": "v",
         "showlegend": true,
         "type": "histogram",
         "x": [
          69,
          76,
          88,
          40,
          78,
          65,
          44,
          69,
          69,
          63,
          40,
          97,
          59,
          53,
          53,
          58,
          60,
          58,
          63,
          50,
          73,
          76,
          58,
          79,
          63,
          58,
          79,
          98,
          58,
          51,
          55,
          88,
          83,
          65,
          87,
          75,
          71,
          59,
          42,
          88,
          22,
          70,
          60,
          75,
          67,
          79,
          46,
          76,
          77,
          45,
          65,
          59,
          74,
          58,
          35,
          72,
          88,
          76,
          54,
          59,
          71,
          62,
          70,
          79,
          71,
          58,
          65,
          88,
          70,
          81,
          69,
          99,
          71,
          82,
          61,
          28,
          61,
          79,
          62,
          66,
          63,
          59,
          42,
          59,
          80,
          52,
          59,
          84,
          45,
          82,
          67,
          77,
          76,
          53,
          49,
          84,
          68,
          41,
          62,
          50,
          67,
          69,
          64,
          100,
          65,
          54,
          71,
          77,
          84,
          91,
          68,
          61,
          83,
          54,
          59,
          76,
          63,
          76,
          74,
          66,
          71,
          68,
          77,
          32,
          74,
          63,
          63,
          71,
          53,
          61,
          48,
          69,
          54,
          58,
          76,
          61,
          69,
          58,
          100,
          100,
          49,
          67,
          86,
          69,
          85,
          62,
          74,
          55,
          63,
          73,
          69,
          50,
          73,
          63,
          62,
          85,
          93,
          79,
          63,
          66,
          93,
          98,
          62,
          47,
          81,
          53,
          87,
          53,
          53,
          55,
          69,
          87,
          68,
          55,
          52,
          69,
          60,
          58,
          66,
          35,
          72,
          19,
          60,
          69,
          82,
          73,
          75,
          64,
          49,
          61,
          58,
          74,
          87,
          75,
          71,
          82,
          70,
          80,
          81,
          69,
          86,
          88,
          79,
          69,
          68,
          91,
          67,
          62,
          70,
          85,
          49,
          75,
          62,
          84,
          56,
          72,
          62,
          63,
          49,
          54,
          64,
          60,
          78,
          67,
          68,
          77
         ],
         "xaxis": "x",
         "yaxis": "y"
        },
        {
         "alignmentgroup": "True",
         "bingroup": "x",
         "hovertemplate": "parental level of education=master's degree<br>math score=%{x}<br>count=%{y}<extra></extra>",
         "legendgroup": "master's degree",
         "marker": {
          "color": "#00cc96",
          "pattern": {
           "shape": ""
          }
         },
         "name": "master's degree",
         "offsetgroup": "master's degree",
         "orientation": "v",
         "showlegend": true,
         "type": "histogram",
         "x": [
          90,
          50,
          46,
          73,
          62,
          56,
          62,
          87,
          82,
          89,
          49,
          81,
          58,
          81,
          52,
          62,
          69,
          45,
          80,
          65,
          77,
          85,
          79,
          73,
          70,
          47,
          55,
          74,
          40,
          79,
          77,
          54,
          64,
          79,
          61,
          61,
          53,
          54,
          84,
          40,
          95,
          94,
          81,
          67,
          79,
          77,
          52,
          54,
          90,
          91,
          71,
          81,
          50,
          85,
          73,
          72,
          78,
          92,
          88
         ],
         "xaxis": "x",
         "yaxis": "y"
        },
        {
         "alignmentgroup": "True",
         "bingroup": "x",
         "hovertemplate": "parental level of education=associate's degree<br>math score=%{x}<br>count=%{y}<extra></extra>",
         "legendgroup": "associate's degree",
         "marker": {
          "color": "#ab63fa",
          "pattern": {
           "shape": ""
          }
         },
         "name": "associate's degree",
         "offsetgroup": "associate's degree",
         "orientation": "v",
         "showlegend": true,
         "type": "histogram",
         "x": [
          47,
          71,
          58,
          40,
          54,
          81,
          74,
          75,
          57,
          55,
          58,
          53,
          50,
          65,
          55,
          57,
          77,
          82,
          52,
          62,
          69,
          61,
          39,
          41,
          44,
          47,
          72,
          71,
          43,
          78,
          85,
          66,
          52,
          77,
          54,
          91,
          59,
          73,
          100,
          59,
          61,
          66,
          82,
          63,
          71,
          65,
          65,
          66,
          61,
          67,
          69,
          57,
          60,
          83,
          87,
          52,
          46,
          80,
          84,
          85,
          89,
          64,
          78,
          88,
          47,
          81,
          97,
          76,
          67,
          71,
          90,
          67,
          80,
          74,
          53,
          73,
          68,
          83,
          56,
          82,
          47,
          62,
          90,
          49,
          67,
          87,
          46,
          63,
          46,
          80,
          87,
          57,
          57,
          85,
          65,
          82,
          87,
          71,
          74,
          82,
          64,
          75,
          75,
          73,
          81,
          65,
          53,
          53,
          26,
          83,
          68,
          90,
          80,
          76,
          52,
          49,
          60,
          79,
          65,
          64,
          94,
          95,
          91,
          62,
          68,
          62,
          79,
          51,
          97,
          79,
          81,
          82,
          40,
          53,
          55,
          53,
          48,
          40,
          73,
          65,
          85,
          58,
          65,
          82,
          65,
          69,
          61,
          76,
          74,
          59,
          65,
          77,
          43,
          90,
          80,
          81,
          52,
          65,
          81,
          77,
          49,
          73,
          77,
          75,
          57,
          42,
          76,
          73,
          96,
          91,
          65,
          68,
          92,
          81,
          37,
          59,
          72,
          58,
          84,
          94,
          46,
          52,
          68,
          57,
          70,
          52,
          87,
          56,
          58,
          66,
          80,
          87,
          53,
          97,
          61,
          78,
          49,
          82,
          90,
          64,
          51,
          62,
          93,
          85,
          59,
          67,
          46,
          57,
          54,
          64,
          46,
          61,
          98,
          67,
          54,
          72,
          100,
          68,
          62,
          91,
          40,
          55
         ],
         "xaxis": "x",
         "yaxis": "y"
        },
        {
         "alignmentgroup": "True",
         "bingroup": "x",
         "hovertemplate": "parental level of education=high school<br>math score=%{x}<br>count=%{y}<extra></extra>",
         "legendgroup": "high school",
         "marker": {
          "color": "#FFA15A",
          "pattern": {
           "shape": ""
          }
         },
         "name": "high school",
         "offsetgroup": "high school",
         "orientation": "v",
         "showlegend": true,
         "type": "histogram",
         "x": [
          64,
          38,
          65,
          88,
          66,
          70,
          66,
          82,
          88,
          33,
          49,
          42,
          27,
          71,
          60,
          62,
          84,
          63,
          87,
          70,
          57,
          66,
          52,
          53,
          68,
          72,
          46,
          50,
          80,
          55,
          81,
          42,
          87,
          34,
          66,
          56,
          57,
          73,
          56,
          58,
          65,
          68,
          54,
          99,
          76,
          69,
          59,
          53,
          45,
          78,
          40,
          49,
          71,
          67,
          75,
          41,
          71,
          58,
          61,
          69,
          72,
          75,
          58,
          69,
          62,
          48,
          50,
          88,
          54,
          52,
          84,
          57,
          57,
          61,
          61,
          70,
          78,
          86,
          47,
          72,
          72,
          77,
          63,
          73,
          59,
          70,
          54,
          68,
          68,
          67,
          53,
          36,
          73,
          51,
          75,
          72,
          62,
          63,
          50,
          74,
          81,
          55,
          74,
          30,
          69,
          29,
          60,
          60,
          35,
          58,
          79,
          75,
          71,
          67,
          41,
          74,
          70,
          64,
          50,
          68,
          65,
          66,
          69,
          67,
          60,
          62,
          53,
          66,
          46,
          89,
          76,
          50,
          73,
          61,
          81,
          69,
          53,
          62,
          74,
          58,
          76,
          52,
          66,
          76,
          48,
          66,
          42,
          70,
          41,
          90,
          45,
          72,
          60,
          71,
          62,
          77,
          60,
          73,
          75,
          39,
          23,
          64,
          59,
          61,
          52,
          59,
          59,
          64,
          54,
          44,
          36,
          34,
          57,
          44,
          69,
          35,
          72,
          74,
          65,
          57,
          81,
          58,
          82,
          57,
          94,
          58,
          45,
          75,
          53,
          55,
          8,
          57,
          86,
          63,
          62,
          59
         ],
         "xaxis": "x",
         "yaxis": "y"
        },
        {
         "alignmentgroup": "True",
         "bingroup": "x",
         "hovertemplate": "parental level of education=some high school<br>math score=%{x}<br>count=%{y}<extra></extra>",
         "legendgroup": "some high school",
         "marker": {
          "color": "#19d3f3",
          "pattern": {
           "shape": ""
          }
         },
         "name": "some high school",
         "offsetgroup": "some high school",
         "orientation": "v",
         "showlegend": true,
         "type": "histogram",
         "x": [
          69,
          18,
          69,
          50,
          71,
          0,
          39,
          59,
          67,
          45,
          61,
          49,
          30,
          61,
          73,
          65,
          70,
          51,
          72,
          53,
          51,
          76,
          88,
          62,
          62,
          94,
          97,
          45,
          62,
          48,
          62,
          59,
          74,
          80,
          84,
          61,
          55,
          86,
          68,
          92,
          64,
          75,
          47,
          60,
          64,
          44,
          59,
          85,
          65,
          37,
          67,
          77,
          86,
          63,
          46,
          56,
          51,
          43,
          41,
          76,
          24,
          35,
          85,
          27,
          44,
          73,
          74,
          80,
          71,
          38,
          38,
          73,
          65,
          74,
          60,
          59,
          63,
          63,
          59,
          69,
          65,
          68,
          47,
          73,
          89,
          59,
          79,
          67,
          59,
          64,
          66,
          82,
          64,
          62,
          54,
          76,
          66,
          56,
          47,
          78,
          92,
          79,
          73,
          81,
          77,
          48,
          71,
          53,
          65,
          75,
          44,
          84,
          80,
          72,
          51,
          73,
          69,
          73,
          50,
          70,
          29,
          49,
          57,
          59,
          80,
          60,
          55,
          74,
          68,
          55,
          55,
          71,
          77,
          48,
          78,
          68,
          52,
          49,
          32,
          72,
          89,
          67,
          76,
          51,
          87,
          94,
          77,
          85,
          48,
          65,
          69,
          68,
          64,
          40,
          82,
          62,
          57,
          59,
          88,
          32,
          63,
          65,
          67,
          74,
          48,
          77,
          61,
          49,
          74,
          48,
          65,
          66,
          78,
          81,
          79,
          74,
          81,
          44,
          65
         ],
         "xaxis": "x",
         "yaxis": "y"
        }
       ],
       "layout": {
        "barmode": "relative",
        "legend": {
         "title": {
          "text": "parental level of education"
         },
         "tracegroupgap": 0
        },
        "margin": {
         "t": 60
        },
        "template": {
         "data": {
          "bar": [
           {
            "error_x": {
             "color": "#2a3f5f"
            },
            "error_y": {
             "color": "#2a3f5f"
            },
            "marker": {
             "line": {
              "color": "#E5ECF6",
              "width": 0.5
             },
             "pattern": {
              "fillmode": "overlay",
              "size": 10,
              "solidity": 0.2
             }
            },
            "type": "bar"
           }
          ],
          "barpolar": [
           {
            "marker": {
             "line": {
              "color": "#E5ECF6",
              "width": 0.5
             },
             "pattern": {
              "fillmode": "overlay",
              "size": 10,
              "solidity": 0.2
             }
            },
            "type": "barpolar"
           }
          ],
          "carpet": [
           {
            "aaxis": {
             "endlinecolor": "#2a3f5f",
             "gridcolor": "white",
             "linecolor": "white",
             "minorgridcolor": "white",
             "startlinecolor": "#2a3f5f"
            },
            "baxis": {
             "endlinecolor": "#2a3f5f",
             "gridcolor": "white",
             "linecolor": "white",
             "minorgridcolor": "white",
             "startlinecolor": "#2a3f5f"
            },
            "type": "carpet"
           }
          ],
          "choropleth": [
           {
            "colorbar": {
             "outlinewidth": 0,
             "ticks": ""
            },
            "type": "choropleth"
           }
          ],
          "contour": [
           {
            "colorbar": {
             "outlinewidth": 0,
             "ticks": ""
            },
            "colorscale": [
             [
              0,
              "#0d0887"
             ],
             [
              0.1111111111111111,
              "#46039f"
             ],
             [
              0.2222222222222222,
              "#7201a8"
             ],
             [
              0.3333333333333333,
              "#9c179e"
             ],
             [
              0.4444444444444444,
              "#bd3786"
             ],
             [
              0.5555555555555556,
              "#d8576b"
             ],
             [
              0.6666666666666666,
              "#ed7953"
             ],
             [
              0.7777777777777778,
              "#fb9f3a"
             ],
             [
              0.8888888888888888,
              "#fdca26"
             ],
             [
              1,
              "#f0f921"
             ]
            ],
            "type": "contour"
           }
          ],
          "contourcarpet": [
           {
            "colorbar": {
             "outlinewidth": 0,
             "ticks": ""
            },
            "type": "contourcarpet"
           }
          ],
          "heatmap": [
           {
            "colorbar": {
             "outlinewidth": 0,
             "ticks": ""
            },
            "colorscale": [
             [
              0,
              "#0d0887"
             ],
             [
              0.1111111111111111,
              "#46039f"
             ],
             [
              0.2222222222222222,
              "#7201a8"
             ],
             [
              0.3333333333333333,
              "#9c179e"
             ],
             [
              0.4444444444444444,
              "#bd3786"
             ],
             [
              0.5555555555555556,
              "#d8576b"
             ],
             [
              0.6666666666666666,
              "#ed7953"
             ],
             [
              0.7777777777777778,
              "#fb9f3a"
             ],
             [
              0.8888888888888888,
              "#fdca26"
             ],
             [
              1,
              "#f0f921"
             ]
            ],
            "type": "heatmap"
           }
          ],
          "heatmapgl": [
           {
            "colorbar": {
             "outlinewidth": 0,
             "ticks": ""
            },
            "colorscale": [
             [
              0,
              "#0d0887"
             ],
             [
              0.1111111111111111,
              "#46039f"
             ],
             [
              0.2222222222222222,
              "#7201a8"
             ],
             [
              0.3333333333333333,
              "#9c179e"
             ],
             [
              0.4444444444444444,
              "#bd3786"
             ],
             [
              0.5555555555555556,
              "#d8576b"
             ],
             [
              0.6666666666666666,
              "#ed7953"
             ],
             [
              0.7777777777777778,
              "#fb9f3a"
             ],
             [
              0.8888888888888888,
              "#fdca26"
             ],
             [
              1,
              "#f0f921"
             ]
            ],
            "type": "heatmapgl"
           }
          ],
          "histogram": [
           {
            "marker": {
             "pattern": {
              "fillmode": "overlay",
              "size": 10,
              "solidity": 0.2
             }
            },
            "type": "histogram"
           }
          ],
          "histogram2d": [
           {
            "colorbar": {
             "outlinewidth": 0,
             "ticks": ""
            },
            "colorscale": [
             [
              0,
              "#0d0887"
             ],
             [
              0.1111111111111111,
              "#46039f"
             ],
             [
              0.2222222222222222,
              "#7201a8"
             ],
             [
              0.3333333333333333,
              "#9c179e"
             ],
             [
              0.4444444444444444,
              "#bd3786"
             ],
             [
              0.5555555555555556,
              "#d8576b"
             ],
             [
              0.6666666666666666,
              "#ed7953"
             ],
             [
              0.7777777777777778,
              "#fb9f3a"
             ],
             [
              0.8888888888888888,
              "#fdca26"
             ],
             [
              1,
              "#f0f921"
             ]
            ],
            "type": "histogram2d"
           }
          ],
          "histogram2dcontour": [
           {
            "colorbar": {
             "outlinewidth": 0,
             "ticks": ""
            },
            "colorscale": [
             [
              0,
              "#0d0887"
             ],
             [
              0.1111111111111111,
              "#46039f"
             ],
             [
              0.2222222222222222,
              "#7201a8"
             ],
             [
              0.3333333333333333,
              "#9c179e"
             ],
             [
              0.4444444444444444,
              "#bd3786"
             ],
             [
              0.5555555555555556,
              "#d8576b"
             ],
             [
              0.6666666666666666,
              "#ed7953"
             ],
             [
              0.7777777777777778,
              "#fb9f3a"
             ],
             [
              0.8888888888888888,
              "#fdca26"
             ],
             [
              1,
              "#f0f921"
             ]
            ],
            "type": "histogram2dcontour"
           }
          ],
          "mesh3d": [
           {
            "colorbar": {
             "outlinewidth": 0,
             "ticks": ""
            },
            "type": "mesh3d"
           }
          ],
          "parcoords": [
           {
            "line": {
             "colorbar": {
              "outlinewidth": 0,
              "ticks": ""
             }
            },
            "type": "parcoords"
           }
          ],
          "pie": [
           {
            "automargin": true,
            "type": "pie"
           }
          ],
          "scatter": [
           {
            "fillpattern": {
             "fillmode": "overlay",
             "size": 10,
             "solidity": 0.2
            },
            "type": "scatter"
           }
          ],
          "scatter3d": [
           {
            "line": {
             "colorbar": {
              "outlinewidth": 0,
              "ticks": ""
             }
            },
            "marker": {
             "colorbar": {
              "outlinewidth": 0,
              "ticks": ""
             }
            },
            "type": "scatter3d"
           }
          ],
          "scattercarpet": [
           {
            "marker": {
             "colorbar": {
              "outlinewidth": 0,
              "ticks": ""
             }
            },
            "type": "scattercarpet"
           }
          ],
          "scattergeo": [
           {
            "marker": {
             "colorbar": {
              "outlinewidth": 0,
              "ticks": ""
             }
            },
            "type": "scattergeo"
           }
          ],
          "scattergl": [
           {
            "marker": {
             "colorbar": {
              "outlinewidth": 0,
              "ticks": ""
             }
            },
            "type": "scattergl"
           }
          ],
          "scattermapbox": [
           {
            "marker": {
             "colorbar": {
              "outlinewidth": 0,
              "ticks": ""
             }
            },
            "type": "scattermapbox"
           }
          ],
          "scatterpolar": [
           {
            "marker": {
             "colorbar": {
              "outlinewidth": 0,
              "ticks": ""
             }
            },
            "type": "scatterpolar"
           }
          ],
          "scatterpolargl": [
           {
            "marker": {
             "colorbar": {
              "outlinewidth": 0,
              "ticks": ""
             }
            },
            "type": "scatterpolargl"
           }
          ],
          "scatterternary": [
           {
            "marker": {
             "colorbar": {
              "outlinewidth": 0,
              "ticks": ""
             }
            },
            "type": "scatterternary"
           }
          ],
          "surface": [
           {
            "colorbar": {
             "outlinewidth": 0,
             "ticks": ""
            },
            "colorscale": [
             [
              0,
              "#0d0887"
             ],
             [
              0.1111111111111111,
              "#46039f"
             ],
             [
              0.2222222222222222,
              "#7201a8"
             ],
             [
              0.3333333333333333,
              "#9c179e"
             ],
             [
              0.4444444444444444,
              "#bd3786"
             ],
             [
              0.5555555555555556,
              "#d8576b"
             ],
             [
              0.6666666666666666,
              "#ed7953"
             ],
             [
              0.7777777777777778,
              "#fb9f3a"
             ],
             [
              0.8888888888888888,
              "#fdca26"
             ],
             [
              1,
              "#f0f921"
             ]
            ],
            "type": "surface"
           }
          ],
          "table": [
           {
            "cells": {
             "fill": {
              "color": "#EBF0F8"
             },
             "line": {
              "color": "white"
             }
            },
            "header": {
             "fill": {
              "color": "#C8D4E3"
             },
             "line": {
              "color": "white"
             }
            },
            "type": "table"
           }
          ]
         },
         "layout": {
          "annotationdefaults": {
           "arrowcolor": "#2a3f5f",
           "arrowhead": 0,
           "arrowwidth": 1
          },
          "autotypenumbers": "strict",
          "coloraxis": {
           "colorbar": {
            "outlinewidth": 0,
            "ticks": ""
           }
          },
          "colorscale": {
           "diverging": [
            [
             0,
             "#8e0152"
            ],
            [
             0.1,
             "#c51b7d"
            ],
            [
             0.2,
             "#de77ae"
            ],
            [
             0.3,
             "#f1b6da"
            ],
            [
             0.4,
             "#fde0ef"
            ],
            [
             0.5,
             "#f7f7f7"
            ],
            [
             0.6,
             "#e6f5d0"
            ],
            [
             0.7,
             "#b8e186"
            ],
            [
             0.8,
             "#7fbc41"
            ],
            [
             0.9,
             "#4d9221"
            ],
            [
             1,
             "#276419"
            ]
           ],
           "sequential": [
            [
             0,
             "#0d0887"
            ],
            [
             0.1111111111111111,
             "#46039f"
            ],
            [
             0.2222222222222222,
             "#7201a8"
            ],
            [
             0.3333333333333333,
             "#9c179e"
            ],
            [
             0.4444444444444444,
             "#bd3786"
            ],
            [
             0.5555555555555556,
             "#d8576b"
            ],
            [
             0.6666666666666666,
             "#ed7953"
            ],
            [
             0.7777777777777778,
             "#fb9f3a"
            ],
            [
             0.8888888888888888,
             "#fdca26"
            ],
            [
             1,
             "#f0f921"
            ]
           ],
           "sequentialminus": [
            [
             0,
             "#0d0887"
            ],
            [
             0.1111111111111111,
             "#46039f"
            ],
            [
             0.2222222222222222,
             "#7201a8"
            ],
            [
             0.3333333333333333,
             "#9c179e"
            ],
            [
             0.4444444444444444,
             "#bd3786"
            ],
            [
             0.5555555555555556,
             "#d8576b"
            ],
            [
             0.6666666666666666,
             "#ed7953"
            ],
            [
             0.7777777777777778,
             "#fb9f3a"
            ],
            [
             0.8888888888888888,
             "#fdca26"
            ],
            [
             1,
             "#f0f921"
            ]
           ]
          },
          "colorway": [
           "#636efa",
           "#EF553B",
           "#00cc96",
           "#ab63fa",
           "#FFA15A",
           "#19d3f3",
           "#FF6692",
           "#B6E880",
           "#FF97FF",
           "#FECB52"
          ],
          "font": {
           "color": "#2a3f5f"
          },
          "geo": {
           "bgcolor": "white",
           "lakecolor": "white",
           "landcolor": "#E5ECF6",
           "showlakes": true,
           "showland": true,
           "subunitcolor": "white"
          },
          "hoverlabel": {
           "align": "left"
          },
          "hovermode": "closest",
          "mapbox": {
           "style": "light"
          },
          "paper_bgcolor": "white",
          "plot_bgcolor": "#E5ECF6",
          "polar": {
           "angularaxis": {
            "gridcolor": "white",
            "linecolor": "white",
            "ticks": ""
           },
           "bgcolor": "#E5ECF6",
           "radialaxis": {
            "gridcolor": "white",
            "linecolor": "white",
            "ticks": ""
           }
          },
          "scene": {
           "xaxis": {
            "backgroundcolor": "#E5ECF6",
            "gridcolor": "white",
            "gridwidth": 2,
            "linecolor": "white",
            "showbackground": true,
            "ticks": "",
            "zerolinecolor": "white"
           },
           "yaxis": {
            "backgroundcolor": "#E5ECF6",
            "gridcolor": "white",
            "gridwidth": 2,
            "linecolor": "white",
            "showbackground": true,
            "ticks": "",
            "zerolinecolor": "white"
           },
           "zaxis": {
            "backgroundcolor": "#E5ECF6",
            "gridcolor": "white",
            "gridwidth": 2,
            "linecolor": "white",
            "showbackground": true,
            "ticks": "",
            "zerolinecolor": "white"
           }
          },
          "shapedefaults": {
           "line": {
            "color": "#2a3f5f"
           }
          },
          "ternary": {
           "aaxis": {
            "gridcolor": "white",
            "linecolor": "white",
            "ticks": ""
           },
           "baxis": {
            "gridcolor": "white",
            "linecolor": "white",
            "ticks": ""
           },
           "bgcolor": "#E5ECF6",
           "caxis": {
            "gridcolor": "white",
            "linecolor": "white",
            "ticks": ""
           }
          },
          "title": {
           "x": 0.05
          },
          "xaxis": {
           "automargin": true,
           "gridcolor": "white",
           "linecolor": "white",
           "ticks": "",
           "title": {
            "standoff": 15
           },
           "zerolinecolor": "white",
           "zerolinewidth": 2
          },
          "yaxis": {
           "automargin": true,
           "gridcolor": "white",
           "linecolor": "white",
           "ticks": "",
           "title": {
            "standoff": 15
           },
           "zerolinecolor": "white",
           "zerolinewidth": 2
          }
         }
        },
        "xaxis": {
         "anchor": "y",
         "domain": [
          0,
          1
         ],
         "title": {
          "text": "math score"
         }
        },
        "yaxis": {
         "anchor": "x",
         "domain": [
          0,
          1
         ],
         "title": {
          "text": "count"
         }
        }
       }
      },
      "text/html": [
       "<div>                            <div id=\"3d73383b-5f33-41cd-baca-4886925e811a\" class=\"plotly-graph-div\" style=\"height:525px; width:100%;\"></div>            <script type=\"text/javascript\">                require([\"plotly\"], function(Plotly) {                    window.PLOTLYENV=window.PLOTLYENV || {};                                    if (document.getElementById(\"3d73383b-5f33-41cd-baca-4886925e811a\")) {                    Plotly.newPlot(                        \"3d73383b-5f33-41cd-baca-4886925e811a\",                        [{\"alignmentgroup\":\"True\",\"bingroup\":\"x\",\"hovertemplate\":\"parental level of education=bachelor's degree<br>math score=%{x}<br>count=%{y}<extra></extra>\",\"legendgroup\":\"bachelor's degree\",\"marker\":{\"color\":\"#636efa\",\"pattern\":{\"shape\":\"\"}},\"name\":\"bachelor's degree\",\"offsetgroup\":\"bachelor's degree\",\"orientation\":\"v\",\"showlegend\":true,\"x\":[72,74,67,79,80,65,65,68,99,75,78,79,51,74,58,68,77,54,96,43,77,78,82,67,83,63,80,63,69,83,73,73,88,65,66,67,59,63,83,77,52,61,49,61,59,66,64,51,71,86,37,79,100,53,75,71,76,81,55,86,69,29,66,85,87,96,48,92,68,91,63,44,68,92,56,94,37,88,62,61,66,65,77,66,59,79,87,62,80,50,70,75,62,91,59,45,61,78,74,64,97,65,39,43,63,71,55,93,67,70,50,52,47,100,70,75,89,62],\"xaxis\":\"x\",\"yaxis\":\"y\",\"type\":\"histogram\"},{\"alignmentgroup\":\"True\",\"bingroup\":\"x\",\"hovertemplate\":\"parental level of education=some college<br>math score=%{x}<br>count=%{y}<extra></extra>\",\"legendgroup\":\"some college\",\"marker\":{\"color\":\"#EF553B\",\"pattern\":{\"shape\":\"\"}},\"name\":\"some college\",\"offsetgroup\":\"some college\",\"orientation\":\"v\",\"showlegend\":true,\"x\":[69,76,88,40,78,65,44,69,69,63,40,97,59,53,53,58,60,58,63,50,73,76,58,79,63,58,79,98,58,51,55,88,83,65,87,75,71,59,42,88,22,70,60,75,67,79,46,76,77,45,65,59,74,58,35,72,88,76,54,59,71,62,70,79,71,58,65,88,70,81,69,99,71,82,61,28,61,79,62,66,63,59,42,59,80,52,59,84,45,82,67,77,76,53,49,84,68,41,62,50,67,69,64,100,65,54,71,77,84,91,68,61,83,54,59,76,63,76,74,66,71,68,77,32,74,63,63,71,53,61,48,69,54,58,76,61,69,58,100,100,49,67,86,69,85,62,74,55,63,73,69,50,73,63,62,85,93,79,63,66,93,98,62,47,81,53,87,53,53,55,69,87,68,55,52,69,60,58,66,35,72,19,60,69,82,73,75,64,49,61,58,74,87,75,71,82,70,80,81,69,86,88,79,69,68,91,67,62,70,85,49,75,62,84,56,72,62,63,49,54,64,60,78,67,68,77],\"xaxis\":\"x\",\"yaxis\":\"y\",\"type\":\"histogram\"},{\"alignmentgroup\":\"True\",\"bingroup\":\"x\",\"hovertemplate\":\"parental level of education=master's degree<br>math score=%{x}<br>count=%{y}<extra></extra>\",\"legendgroup\":\"master's degree\",\"marker\":{\"color\":\"#00cc96\",\"pattern\":{\"shape\":\"\"}},\"name\":\"master's degree\",\"offsetgroup\":\"master's degree\",\"orientation\":\"v\",\"showlegend\":true,\"x\":[90,50,46,73,62,56,62,87,82,89,49,81,58,81,52,62,69,45,80,65,77,85,79,73,70,47,55,74,40,79,77,54,64,79,61,61,53,54,84,40,95,94,81,67,79,77,52,54,90,91,71,81,50,85,73,72,78,92,88],\"xaxis\":\"x\",\"yaxis\":\"y\",\"type\":\"histogram\"},{\"alignmentgroup\":\"True\",\"bingroup\":\"x\",\"hovertemplate\":\"parental level of education=associate's degree<br>math score=%{x}<br>count=%{y}<extra></extra>\",\"legendgroup\":\"associate's degree\",\"marker\":{\"color\":\"#ab63fa\",\"pattern\":{\"shape\":\"\"}},\"name\":\"associate's degree\",\"offsetgroup\":\"associate's degree\",\"orientation\":\"v\",\"showlegend\":true,\"x\":[47,71,58,40,54,81,74,75,57,55,58,53,50,65,55,57,77,82,52,62,69,61,39,41,44,47,72,71,43,78,85,66,52,77,54,91,59,73,100,59,61,66,82,63,71,65,65,66,61,67,69,57,60,83,87,52,46,80,84,85,89,64,78,88,47,81,97,76,67,71,90,67,80,74,53,73,68,83,56,82,47,62,90,49,67,87,46,63,46,80,87,57,57,85,65,82,87,71,74,82,64,75,75,73,81,65,53,53,26,83,68,90,80,76,52,49,60,79,65,64,94,95,91,62,68,62,79,51,97,79,81,82,40,53,55,53,48,40,73,65,85,58,65,82,65,69,61,76,74,59,65,77,43,90,80,81,52,65,81,77,49,73,77,75,57,42,76,73,96,91,65,68,92,81,37,59,72,58,84,94,46,52,68,57,70,52,87,56,58,66,80,87,53,97,61,78,49,82,90,64,51,62,93,85,59,67,46,57,54,64,46,61,98,67,54,72,100,68,62,91,40,55],\"xaxis\":\"x\",\"yaxis\":\"y\",\"type\":\"histogram\"},{\"alignmentgroup\":\"True\",\"bingroup\":\"x\",\"hovertemplate\":\"parental level of education=high school<br>math score=%{x}<br>count=%{y}<extra></extra>\",\"legendgroup\":\"high school\",\"marker\":{\"color\":\"#FFA15A\",\"pattern\":{\"shape\":\"\"}},\"name\":\"high school\",\"offsetgroup\":\"high school\",\"orientation\":\"v\",\"showlegend\":true,\"x\":[64,38,65,88,66,70,66,82,88,33,49,42,27,71,60,62,84,63,87,70,57,66,52,53,68,72,46,50,80,55,81,42,87,34,66,56,57,73,56,58,65,68,54,99,76,69,59,53,45,78,40,49,71,67,75,41,71,58,61,69,72,75,58,69,62,48,50,88,54,52,84,57,57,61,61,70,78,86,47,72,72,77,63,73,59,70,54,68,68,67,53,36,73,51,75,72,62,63,50,74,81,55,74,30,69,29,60,60,35,58,79,75,71,67,41,74,70,64,50,68,65,66,69,67,60,62,53,66,46,89,76,50,73,61,81,69,53,62,74,58,76,52,66,76,48,66,42,70,41,90,45,72,60,71,62,77,60,73,75,39,23,64,59,61,52,59,59,64,54,44,36,34,57,44,69,35,72,74,65,57,81,58,82,57,94,58,45,75,53,55,8,57,86,63,62,59],\"xaxis\":\"x\",\"yaxis\":\"y\",\"type\":\"histogram\"},{\"alignmentgroup\":\"True\",\"bingroup\":\"x\",\"hovertemplate\":\"parental level of education=some high school<br>math score=%{x}<br>count=%{y}<extra></extra>\",\"legendgroup\":\"some high school\",\"marker\":{\"color\":\"#19d3f3\",\"pattern\":{\"shape\":\"\"}},\"name\":\"some high school\",\"offsetgroup\":\"some high school\",\"orientation\":\"v\",\"showlegend\":true,\"x\":[69,18,69,50,71,0,39,59,67,45,61,49,30,61,73,65,70,51,72,53,51,76,88,62,62,94,97,45,62,48,62,59,74,80,84,61,55,86,68,92,64,75,47,60,64,44,59,85,65,37,67,77,86,63,46,56,51,43,41,76,24,35,85,27,44,73,74,80,71,38,38,73,65,74,60,59,63,63,59,69,65,68,47,73,89,59,79,67,59,64,66,82,64,62,54,76,66,56,47,78,92,79,73,81,77,48,71,53,65,75,44,84,80,72,51,73,69,73,50,70,29,49,57,59,80,60,55,74,68,55,55,71,77,48,78,68,52,49,32,72,89,67,76,51,87,94,77,85,48,65,69,68,64,40,82,62,57,59,88,32,63,65,67,74,48,77,61,49,74,48,65,66,78,81,79,74,81,44,65],\"xaxis\":\"x\",\"yaxis\":\"y\",\"type\":\"histogram\"}],                        {\"template\":{\"data\":{\"histogram2dcontour\":[{\"type\":\"histogram2dcontour\",\"colorbar\":{\"outlinewidth\":0,\"ticks\":\"\"},\"colorscale\":[[0.0,\"#0d0887\"],[0.1111111111111111,\"#46039f\"],[0.2222222222222222,\"#7201a8\"],[0.3333333333333333,\"#9c179e\"],[0.4444444444444444,\"#bd3786\"],[0.5555555555555556,\"#d8576b\"],[0.6666666666666666,\"#ed7953\"],[0.7777777777777778,\"#fb9f3a\"],[0.8888888888888888,\"#fdca26\"],[1.0,\"#f0f921\"]]}],\"choropleth\":[{\"type\":\"choropleth\",\"colorbar\":{\"outlinewidth\":0,\"ticks\":\"\"}}],\"histogram2d\":[{\"type\":\"histogram2d\",\"colorbar\":{\"outlinewidth\":0,\"ticks\":\"\"},\"colorscale\":[[0.0,\"#0d0887\"],[0.1111111111111111,\"#46039f\"],[0.2222222222222222,\"#7201a8\"],[0.3333333333333333,\"#9c179e\"],[0.4444444444444444,\"#bd3786\"],[0.5555555555555556,\"#d8576b\"],[0.6666666666666666,\"#ed7953\"],[0.7777777777777778,\"#fb9f3a\"],[0.8888888888888888,\"#fdca26\"],[1.0,\"#f0f921\"]]}],\"heatmap\":[{\"type\":\"heatmap\",\"colorbar\":{\"outlinewidth\":0,\"ticks\":\"\"},\"colorscale\":[[0.0,\"#0d0887\"],[0.1111111111111111,\"#46039f\"],[0.2222222222222222,\"#7201a8\"],[0.3333333333333333,\"#9c179e\"],[0.4444444444444444,\"#bd3786\"],[0.5555555555555556,\"#d8576b\"],[0.6666666666666666,\"#ed7953\"],[0.7777777777777778,\"#fb9f3a\"],[0.8888888888888888,\"#fdca26\"],[1.0,\"#f0f921\"]]}],\"heatmapgl\":[{\"type\":\"heatmapgl\",\"colorbar\":{\"outlinewidth\":0,\"ticks\":\"\"},\"colorscale\":[[0.0,\"#0d0887\"],[0.1111111111111111,\"#46039f\"],[0.2222222222222222,\"#7201a8\"],[0.3333333333333333,\"#9c179e\"],[0.4444444444444444,\"#bd3786\"],[0.5555555555555556,\"#d8576b\"],[0.6666666666666666,\"#ed7953\"],[0.7777777777777778,\"#fb9f3a\"],[0.8888888888888888,\"#fdca26\"],[1.0,\"#f0f921\"]]}],\"contourcarpet\":[{\"type\":\"contourcarpet\",\"colorbar\":{\"outlinewidth\":0,\"ticks\":\"\"}}],\"contour\":[{\"type\":\"contour\",\"colorbar\":{\"outlinewidth\":0,\"ticks\":\"\"},\"colorscale\":[[0.0,\"#0d0887\"],[0.1111111111111111,\"#46039f\"],[0.2222222222222222,\"#7201a8\"],[0.3333333333333333,\"#9c179e\"],[0.4444444444444444,\"#bd3786\"],[0.5555555555555556,\"#d8576b\"],[0.6666666666666666,\"#ed7953\"],[0.7777777777777778,\"#fb9f3a\"],[0.8888888888888888,\"#fdca26\"],[1.0,\"#f0f921\"]]}],\"surface\":[{\"type\":\"surface\",\"colorbar\":{\"outlinewidth\":0,\"ticks\":\"\"},\"colorscale\":[[0.0,\"#0d0887\"],[0.1111111111111111,\"#46039f\"],[0.2222222222222222,\"#7201a8\"],[0.3333333333333333,\"#9c179e\"],[0.4444444444444444,\"#bd3786\"],[0.5555555555555556,\"#d8576b\"],[0.6666666666666666,\"#ed7953\"],[0.7777777777777778,\"#fb9f3a\"],[0.8888888888888888,\"#fdca26\"],[1.0,\"#f0f921\"]]}],\"mesh3d\":[{\"type\":\"mesh3d\",\"colorbar\":{\"outlinewidth\":0,\"ticks\":\"\"}}],\"scatter\":[{\"fillpattern\":{\"fillmode\":\"overlay\",\"size\":10,\"solidity\":0.2},\"type\":\"scatter\"}],\"parcoords\":[{\"type\":\"parcoords\",\"line\":{\"colorbar\":{\"outlinewidth\":0,\"ticks\":\"\"}}}],\"scatterpolargl\":[{\"type\":\"scatterpolargl\",\"marker\":{\"colorbar\":{\"outlinewidth\":0,\"ticks\":\"\"}}}],\"bar\":[{\"error_x\":{\"color\":\"#2a3f5f\"},\"error_y\":{\"color\":\"#2a3f5f\"},\"marker\":{\"line\":{\"color\":\"#E5ECF6\",\"width\":0.5},\"pattern\":{\"fillmode\":\"overlay\",\"size\":10,\"solidity\":0.2}},\"type\":\"bar\"}],\"scattergeo\":[{\"type\":\"scattergeo\",\"marker\":{\"colorbar\":{\"outlinewidth\":0,\"ticks\":\"\"}}}],\"scatterpolar\":[{\"type\":\"scatterpolar\",\"marker\":{\"colorbar\":{\"outlinewidth\":0,\"ticks\":\"\"}}}],\"histogram\":[{\"marker\":{\"pattern\":{\"fillmode\":\"overlay\",\"size\":10,\"solidity\":0.2}},\"type\":\"histogram\"}],\"scattergl\":[{\"type\":\"scattergl\",\"marker\":{\"colorbar\":{\"outlinewidth\":0,\"ticks\":\"\"}}}],\"scatter3d\":[{\"type\":\"scatter3d\",\"line\":{\"colorbar\":{\"outlinewidth\":0,\"ticks\":\"\"}},\"marker\":{\"colorbar\":{\"outlinewidth\":0,\"ticks\":\"\"}}}],\"scattermapbox\":[{\"type\":\"scattermapbox\",\"marker\":{\"colorbar\":{\"outlinewidth\":0,\"ticks\":\"\"}}}],\"scatterternary\":[{\"type\":\"scatterternary\",\"marker\":{\"colorbar\":{\"outlinewidth\":0,\"ticks\":\"\"}}}],\"scattercarpet\":[{\"type\":\"scattercarpet\",\"marker\":{\"colorbar\":{\"outlinewidth\":0,\"ticks\":\"\"}}}],\"carpet\":[{\"aaxis\":{\"endlinecolor\":\"#2a3f5f\",\"gridcolor\":\"white\",\"linecolor\":\"white\",\"minorgridcolor\":\"white\",\"startlinecolor\":\"#2a3f5f\"},\"baxis\":{\"endlinecolor\":\"#2a3f5f\",\"gridcolor\":\"white\",\"linecolor\":\"white\",\"minorgridcolor\":\"white\",\"startlinecolor\":\"#2a3f5f\"},\"type\":\"carpet\"}],\"table\":[{\"cells\":{\"fill\":{\"color\":\"#EBF0F8\"},\"line\":{\"color\":\"white\"}},\"header\":{\"fill\":{\"color\":\"#C8D4E3\"},\"line\":{\"color\":\"white\"}},\"type\":\"table\"}],\"barpolar\":[{\"marker\":{\"line\":{\"color\":\"#E5ECF6\",\"width\":0.5},\"pattern\":{\"fillmode\":\"overlay\",\"size\":10,\"solidity\":0.2}},\"type\":\"barpolar\"}],\"pie\":[{\"automargin\":true,\"type\":\"pie\"}]},\"layout\":{\"autotypenumbers\":\"strict\",\"colorway\":[\"#636efa\",\"#EF553B\",\"#00cc96\",\"#ab63fa\",\"#FFA15A\",\"#19d3f3\",\"#FF6692\",\"#B6E880\",\"#FF97FF\",\"#FECB52\"],\"font\":{\"color\":\"#2a3f5f\"},\"hovermode\":\"closest\",\"hoverlabel\":{\"align\":\"left\"},\"paper_bgcolor\":\"white\",\"plot_bgcolor\":\"#E5ECF6\",\"polar\":{\"bgcolor\":\"#E5ECF6\",\"angularaxis\":{\"gridcolor\":\"white\",\"linecolor\":\"white\",\"ticks\":\"\"},\"radialaxis\":{\"gridcolor\":\"white\",\"linecolor\":\"white\",\"ticks\":\"\"}},\"ternary\":{\"bgcolor\":\"#E5ECF6\",\"aaxis\":{\"gridcolor\":\"white\",\"linecolor\":\"white\",\"ticks\":\"\"},\"baxis\":{\"gridcolor\":\"white\",\"linecolor\":\"white\",\"ticks\":\"\"},\"caxis\":{\"gridcolor\":\"white\",\"linecolor\":\"white\",\"ticks\":\"\"}},\"coloraxis\":{\"colorbar\":{\"outlinewidth\":0,\"ticks\":\"\"}},\"colorscale\":{\"sequential\":[[0.0,\"#0d0887\"],[0.1111111111111111,\"#46039f\"],[0.2222222222222222,\"#7201a8\"],[0.3333333333333333,\"#9c179e\"],[0.4444444444444444,\"#bd3786\"],[0.5555555555555556,\"#d8576b\"],[0.6666666666666666,\"#ed7953\"],[0.7777777777777778,\"#fb9f3a\"],[0.8888888888888888,\"#fdca26\"],[1.0,\"#f0f921\"]],\"sequentialminus\":[[0.0,\"#0d0887\"],[0.1111111111111111,\"#46039f\"],[0.2222222222222222,\"#7201a8\"],[0.3333333333333333,\"#9c179e\"],[0.4444444444444444,\"#bd3786\"],[0.5555555555555556,\"#d8576b\"],[0.6666666666666666,\"#ed7953\"],[0.7777777777777778,\"#fb9f3a\"],[0.8888888888888888,\"#fdca26\"],[1.0,\"#f0f921\"]],\"diverging\":[[0,\"#8e0152\"],[0.1,\"#c51b7d\"],[0.2,\"#de77ae\"],[0.3,\"#f1b6da\"],[0.4,\"#fde0ef\"],[0.5,\"#f7f7f7\"],[0.6,\"#e6f5d0\"],[0.7,\"#b8e186\"],[0.8,\"#7fbc41\"],[0.9,\"#4d9221\"],[1,\"#276419\"]]},\"xaxis\":{\"gridcolor\":\"white\",\"linecolor\":\"white\",\"ticks\":\"\",\"title\":{\"standoff\":15},\"zerolinecolor\":\"white\",\"automargin\":true,\"zerolinewidth\":2},\"yaxis\":{\"gridcolor\":\"white\",\"linecolor\":\"white\",\"ticks\":\"\",\"title\":{\"standoff\":15},\"zerolinecolor\":\"white\",\"automargin\":true,\"zerolinewidth\":2},\"scene\":{\"xaxis\":{\"backgroundcolor\":\"#E5ECF6\",\"gridcolor\":\"white\",\"linecolor\":\"white\",\"showbackground\":true,\"ticks\":\"\",\"zerolinecolor\":\"white\",\"gridwidth\":2},\"yaxis\":{\"backgroundcolor\":\"#E5ECF6\",\"gridcolor\":\"white\",\"linecolor\":\"white\",\"showbackground\":true,\"ticks\":\"\",\"zerolinecolor\":\"white\",\"gridwidth\":2},\"zaxis\":{\"backgroundcolor\":\"#E5ECF6\",\"gridcolor\":\"white\",\"linecolor\":\"white\",\"showbackground\":true,\"ticks\":\"\",\"zerolinecolor\":\"white\",\"gridwidth\":2}},\"shapedefaults\":{\"line\":{\"color\":\"#2a3f5f\"}},\"annotationdefaults\":{\"arrowcolor\":\"#2a3f5f\",\"arrowhead\":0,\"arrowwidth\":1},\"geo\":{\"bgcolor\":\"white\",\"landcolor\":\"#E5ECF6\",\"subunitcolor\":\"white\",\"showland\":true,\"showlakes\":true,\"lakecolor\":\"white\"},\"title\":{\"x\":0.05},\"mapbox\":{\"style\":\"light\"}}},\"xaxis\":{\"anchor\":\"y\",\"domain\":[0.0,1.0],\"title\":{\"text\":\"math score\"}},\"yaxis\":{\"anchor\":\"x\",\"domain\":[0.0,1.0],\"title\":{\"text\":\"count\"}},\"legend\":{\"title\":{\"text\":\"parental level of education\"},\"tracegroupgap\":0},\"margin\":{\"t\":60},\"barmode\":\"relative\"},                        {\"responsive\": true}                    ).then(function(){\n",
       "                            \n",
       "var gd = document.getElementById('3d73383b-5f33-41cd-baca-4886925e811a');\n",
       "var x = new MutationObserver(function (mutations, observer) {{\n",
       "        var display = window.getComputedStyle(gd).display;\n",
       "        if (!display || display === 'none') {{\n",
       "            console.log([gd, 'removed!']);\n",
       "            Plotly.purge(gd);\n",
       "            observer.disconnect();\n",
       "        }}\n",
       "}});\n",
       "\n",
       "// Listen for the removal of the full notebook cells\n",
       "var notebookContainer = gd.closest('#notebook-container');\n",
       "if (notebookContainer) {{\n",
       "    x.observe(notebookContainer, {childList: true});\n",
       "}}\n",
       "\n",
       "// Listen for the clearing of the current output cell\n",
       "var outputEl = gd.closest('.output');\n",
       "if (outputEl) {{\n",
       "    x.observe(outputEl, {childList: true});\n",
       "}}\n",
       "\n",
       "                        })                };                });            </script>        </div>"
      ]
     },
     "metadata": {},
     "output_type": "display_data"
    },
    {
     "data": {
      "application/vnd.plotly.v1+json": {
       "config": {
        "plotlyServerURL": "https://plot.ly"
       },
       "data": [
        {
         "alignmentgroup": "True",
         "bingroup": "x",
         "hovertemplate": "parental level of education=bachelor's degree<br>reading score=%{x}<br>count=%{y}<extra></extra>",
         "legendgroup": "bachelor's degree",
         "marker": {
          "color": "#636efa",
          "pattern": {
           "shape": ""
          }
         },
         "name": "bachelor's degree",
         "offsetgroup": "bachelor's degree",
         "orientation": "v",
         "showlegend": true,
         "type": "histogram",
         "x": [
          72,
          71,
          69,
          74,
          78,
          72,
          67,
          74,
          100,
          85,
          82,
          92,
          49,
          79,
          55,
          75,
          67,
          49,
          100,
          51,
          88,
          79,
          62,
          86,
          82,
          66,
          83,
          75,
          63,
          78,
          56,
          79,
          75,
          73,
          60,
          61,
          64,
          71,
          93,
          94,
          65,
          72,
          58,
          66,
          70,
          64,
          73,
          72,
          74,
          83,
          56,
          89,
          100,
          58,
          58,
          76,
          62,
          88,
          59,
          92,
          58,
          41,
          83,
          66,
          90,
          90,
          51,
          100,
          68,
          96,
          73,
          63,
          68,
          100,
          79,
          90,
          45,
          78,
          63,
          58,
          74,
          81,
          85,
          74,
          72,
          81,
          84,
          72,
          73,
          60,
          68,
          73,
          78,
          81,
          54,
          59,
          70,
          90,
          86,
          60,
          97,
          79,
          42,
          62,
          64,
          70,
          46,
          100,
          75,
          64,
          42,
          61,
          62,
          100,
          75,
          84,
          100,
          72
         ],
         "xaxis": "x",
         "yaxis": "y"
        },
        {
         "alignmentgroup": "True",
         "bingroup": "x",
         "hovertemplate": "parental level of education=some college<br>reading score=%{x}<br>count=%{y}<extra></extra>",
         "legendgroup": "some college",
         "marker": {
          "color": "#EF553B",
          "pattern": {
           "shape": ""
          }
         },
         "name": "some college",
         "offsetgroup": "some college",
         "orientation": "v",
         "showlegend": true,
         "type": "histogram",
         "x": [
          90,
          78,
          95,
          43,
          72,
          75,
          54,
          54,
          74,
          65,
          42,
          87,
          65,
          55,
          44,
          59,
          72,
          63,
          55,
          47,
          80,
          83,
          70,
          86,
          72,
          67,
          67,
          86,
          67,
          58,
          69,
          93,
          80,
          77,
          74,
          81,
          61,
          62,
          55,
          73,
          39,
          89,
          60,
          88,
          75,
          86,
          64,
          83,
          62,
          53,
          81,
          41,
          81,
          61,
          28,
          72,
          95,
          64,
          52,
          51,
          83,
          73,
          75,
          79,
          76,
          49,
          70,
          85,
          78,
          78,
          67,
          87,
          81,
          90,
          61,
          23,
          68,
          73,
          61,
          57,
          78,
          71,
          66,
          62,
          90,
          58,
          60,
          77,
          73,
          97,
          76,
          68,
          67,
          43,
          65,
          83,
          59,
          39,
          67,
          48,
          81,
          66,
          85,
          92,
          58,
          54,
          70,
          90,
          87,
          74,
          68,
          47,
          83,
          48,
          78,
          71,
          61,
          71,
          89,
          74,
          49,
          60,
          62,
          39,
          75,
          74,
          80,
          75,
          62,
          51,
          56,
          77,
          64,
          57,
          78,
          64,
          60,
          59,
          96,
          97,
          57,
          64,
          76,
          79,
          86,
          67,
          77,
          71,
          73,
          74,
          78,
          64,
          78,
          61,
          66,
          75,
          90,
          89,
          64,
          59,
          84,
          100,
          72,
          43,
          74,
          39,
          89,
          58,
          66,
          55,
          64,
          84,
          72,
          58,
          59,
          77,
          63,
          60,
          65,
          44,
          79,
          38,
          66,
          60,
          85,
          76,
          81,
          74,
          52,
          60,
          50,
          77,
          85,
          68,
          71,
          82,
          72,
          64,
          82,
          65,
          85,
          77,
          84,
          84,
          70,
          96,
          74,
          57,
          63,
          81,
          58,
          77,
          69,
          87,
          58,
          57,
          70,
          63,
          65,
          63,
          82,
          62,
          87,
          86,
          78,
          86
         ],
         "xaxis": "x",
         "yaxis": "y"
        },
        {
         "alignmentgroup": "True",
         "bingroup": "x",
         "hovertemplate": "parental level of education=master's degree<br>reading score=%{x}<br>count=%{y}<extra></extra>",
         "legendgroup": "master's degree",
         "marker": {
          "color": "#00cc96",
          "pattern": {
           "shape": ""
          }
         },
         "name": "master's degree",
         "offsetgroup": "master's degree",
         "orientation": "v",
         "showlegend": true,
         "type": "histogram",
         "x": [
          95,
          53,
          42,
          74,
          70,
          72,
          68,
          100,
          82,
          84,
          53,
          92,
          76,
          91,
          70,
          68,
          84,
          56,
          80,
          81,
          82,
          95,
          81,
          70,
          71,
          58,
          64,
          79,
          59,
          78,
          97,
          59,
          63,
          72,
          67,
          71,
          61,
          60,
          89,
          58,
          81,
          99,
          81,
          57,
          77,
          90,
          65,
          64,
          85,
          85,
          67,
          86,
          67,
          84,
          78,
          66,
          91,
          100,
          99
         ],
         "xaxis": "x",
         "yaxis": "y"
        },
        {
         "alignmentgroup": "True",
         "bingroup": "x",
         "hovertemplate": "parental level of education=associate's degree<br>reading score=%{x}<br>count=%{y}<extra></extra>",
         "legendgroup": "associate's degree",
         "marker": {
          "color": "#ab63fa",
          "pattern": {
           "shape": ""
          }
         },
         "name": "associate's degree",
         "offsetgroup": "associate's degree",
         "orientation": "v",
         "showlegend": true,
         "type": "histogram",
         "x": [
          57,
          83,
          54,
          52,
          58,
          81,
          81,
          90,
          56,
          61,
          73,
          58,
          56,
          54,
          65,
          74,
          69,
          85,
          55,
          61,
          80,
          58,
          64,
          51,
          41,
          49,
          64,
          71,
          45,
          81,
          91,
          63,
          76,
          89,
          53,
          89,
          66,
          68,
          100,
          70,
          86,
          62,
          78,
          67,
          77,
          69,
          67,
          65,
          55,
          84,
          77,
          69,
          51,
          86,
          85,
          66,
          43,
          75,
          80,
          76,
          76,
          73,
          77,
          92,
          53,
          82,
          82,
          70,
          62,
          74,
          87,
          84,
          76,
          75,
          71,
          76,
          67,
          72,
          65,
          75,
          37,
          56,
          78,
          51,
          72,
          74,
          58,
          61,
          43,
          86,
          100,
          78,
          54,
          89,
          65,
          80,
          84,
          66,
          73,
          93,
          66,
          68,
          66,
          83,
          73,
          77,
          61,
          54,
          31,
          85,
          86,
          90,
          68,
          71,
          59,
          52,
          75,
          82,
          85,
          64,
          87,
          89,
          86,
          74,
          67,
          61,
          88,
          60,
          92,
          82,
          77,
          95,
          48,
          45,
          72,
          70,
          43,
          55,
          75,
          76,
          84,
          63,
          77,
          93,
          73,
          70,
          48,
          74,
          88,
          70,
          70,
          67,
          60,
          87,
          63,
          72,
          57,
          84,
          75,
          78,
          53,
          76,
          77,
          82,
          78,
          61,
          94,
          78,
          96,
          73,
          75,
          77,
          79,
          71,
          57,
          73,
          79,
          55,
          95,
          85,
          56,
          59,
          65,
          68,
          84,
          55,
          94,
          68,
          57,
          77,
          75,
          73,
          62,
          93,
          42,
          74,
          51,
          84,
          90,
          76,
          51,
          76,
          100,
          92,
          62,
          54,
          61,
          77,
          65,
          56,
          43,
          71,
          87,
          57,
          61,
          57,
          100,
          76,
          65,
          95,
          59,
          76
         ],
         "xaxis": "x",
         "yaxis": "y"
        },
        {
         "alignmentgroup": "True",
         "bingroup": "x",
         "hovertemplate": "parental level of education=high school<br>reading score=%{x}<br>count=%{y}<extra></extra>",
         "legendgroup": "high school",
         "marker": {
          "color": "#FFA15A",
          "pattern": {
           "shape": ""
          }
         },
         "name": "high school",
         "offsetgroup": "high school",
         "orientation": "v",
         "showlegend": true,
         "type": "histogram",
         "x": [
          64,
          60,
          81,
          89,
          69,
          70,
          71,
          84,
          78,
          41,
          45,
          39,
          34,
          79,
          44,
          55,
          77,
          57,
          95,
          55,
          43,
          74,
          53,
          51,
          83,
          73,
          54,
          50,
          76,
          56,
          80,
          62,
          91,
          42,
          77,
          68,
          50,
          68,
          52,
          70,
          64,
          60,
          52,
          93,
          73,
          72,
          63,
          52,
          48,
          77,
          46,
          57,
          66,
          79,
          86,
          46,
          60,
          61,
          73,
          76,
          80,
          74,
          62,
          58,
          64,
          45,
          67,
          99,
          59,
          57,
          73,
          56,
          58,
          72,
          56,
          56,
          81,
          81,
          46,
          65,
          67,
          88,
          69,
          71,
          52,
          74,
          64,
          64,
          70,
          78,
          52,
          53,
          69,
          66,
          69,
          67,
          67,
          48,
          66,
          81,
          91,
          73,
          76,
          24,
          77,
          29,
          57,
          68,
          61,
          51,
          60,
          88,
          74,
          80,
          52,
          79,
          65,
          62,
          53,
          80,
          69,
          76,
          77,
          72,
          68,
          55,
          58,
          66,
          34,
          87,
          76,
          48,
          92,
          60,
          84,
          75,
          72,
          62,
          72,
          75,
          62,
          48,
          72,
          85,
          62,
          74,
          52,
          70,
          45,
          75,
          47,
          80,
          72,
          87,
          67,
          82,
          64,
          64,
          82,
          52,
          44,
          54,
          72,
          68,
          49,
          53,
          58,
          73,
          72,
          51,
          29,
          48,
          48,
          61,
          70,
          53,
          66,
          70,
          61,
          58,
          66,
          68,
          82,
          75,
          73,
          52,
          63,
          81,
          50,
          41,
          24,
          51,
          81,
          63,
          55,
          71
         ],
         "xaxis": "x",
         "yaxis": "y"
        },
        {
         "alignmentgroup": "True",
         "bingroup": "x",
         "hovertemplate": "parental level of education=some high school<br>reading score=%{x}<br>count=%{y}<extra></extra>",
         "legendgroup": "some high school",
         "marker": {
          "color": "#19d3f3",
          "pattern": {
           "shape": ""
          }
         },
         "name": "some high school",
         "offsetgroup": "some high school",
         "orientation": "v",
         "showlegend": true,
         "type": "histogram",
         "x": [
          75,
          32,
          73,
          64,
          84,
          17,
          39,
          58,
          64,
          37,
          57,
          49,
          26,
          74,
          86,
          66,
          64,
          63,
          68,
          37,
          54,
          72,
          84,
          67,
          67,
          88,
          100,
          52,
          66,
          52,
          64,
          69,
          71,
          79,
          83,
          56,
          65,
          80,
          72,
          87,
          60,
          74,
          49,
          70,
          79,
          50,
          42,
          92,
          86,
          46,
          89,
          76,
          73,
          60,
          41,
          54,
          52,
          53,
          55,
          70,
          38,
          55,
          84,
          34,
          64,
          84,
          74,
          90,
          83,
          49,
          43,
          67,
          74,
          63,
          59,
          54,
          73,
          67,
          85,
          71,
          59,
          63,
          59,
          66,
          88,
          73,
          82,
          74,
          67,
          53,
          69,
          82,
          50,
          49,
          61,
          87,
          78,
          61,
          54,
          83,
          100,
          76,
          66,
          97,
          79,
          66,
          62,
          54,
          82,
          72,
          51,
          84,
          92,
          81,
          56,
          79,
          66,
          66,
          60,
          82,
          40,
          63,
          67,
          63,
          85,
          70,
          59,
          90,
          51,
          46,
          47,
          69,
          90,
          58,
          81,
          71,
          67,
          58,
          51,
          79,
          84,
          73,
          80,
          31,
          84,
          86,
          91,
          90,
          58,
          69,
          86,
          54,
          58,
          65,
          67,
          64,
          61,
          72,
          74,
          34,
          78,
          78,
          84,
          64,
          56,
          68,
          62,
          50,
          74,
          54,
          76,
          68,
          72,
          78,
          85,
          75,
          75,
          45,
          82
         ],
         "xaxis": "x",
         "yaxis": "y"
        }
       ],
       "layout": {
        "barmode": "relative",
        "legend": {
         "title": {
          "text": "parental level of education"
         },
         "tracegroupgap": 0
        },
        "margin": {
         "t": 60
        },
        "template": {
         "data": {
          "bar": [
           {
            "error_x": {
             "color": "#2a3f5f"
            },
            "error_y": {
             "color": "#2a3f5f"
            },
            "marker": {
             "line": {
              "color": "#E5ECF6",
              "width": 0.5
             },
             "pattern": {
              "fillmode": "overlay",
              "size": 10,
              "solidity": 0.2
             }
            },
            "type": "bar"
           }
          ],
          "barpolar": [
           {
            "marker": {
             "line": {
              "color": "#E5ECF6",
              "width": 0.5
             },
             "pattern": {
              "fillmode": "overlay",
              "size": 10,
              "solidity": 0.2
             }
            },
            "type": "barpolar"
           }
          ],
          "carpet": [
           {
            "aaxis": {
             "endlinecolor": "#2a3f5f",
             "gridcolor": "white",
             "linecolor": "white",
             "minorgridcolor": "white",
             "startlinecolor": "#2a3f5f"
            },
            "baxis": {
             "endlinecolor": "#2a3f5f",
             "gridcolor": "white",
             "linecolor": "white",
             "minorgridcolor": "white",
             "startlinecolor": "#2a3f5f"
            },
            "type": "carpet"
           }
          ],
          "choropleth": [
           {
            "colorbar": {
             "outlinewidth": 0,
             "ticks": ""
            },
            "type": "choropleth"
           }
          ],
          "contour": [
           {
            "colorbar": {
             "outlinewidth": 0,
             "ticks": ""
            },
            "colorscale": [
             [
              0,
              "#0d0887"
             ],
             [
              0.1111111111111111,
              "#46039f"
             ],
             [
              0.2222222222222222,
              "#7201a8"
             ],
             [
              0.3333333333333333,
              "#9c179e"
             ],
             [
              0.4444444444444444,
              "#bd3786"
             ],
             [
              0.5555555555555556,
              "#d8576b"
             ],
             [
              0.6666666666666666,
              "#ed7953"
             ],
             [
              0.7777777777777778,
              "#fb9f3a"
             ],
             [
              0.8888888888888888,
              "#fdca26"
             ],
             [
              1,
              "#f0f921"
             ]
            ],
            "type": "contour"
           }
          ],
          "contourcarpet": [
           {
            "colorbar": {
             "outlinewidth": 0,
             "ticks": ""
            },
            "type": "contourcarpet"
           }
          ],
          "heatmap": [
           {
            "colorbar": {
             "outlinewidth": 0,
             "ticks": ""
            },
            "colorscale": [
             [
              0,
              "#0d0887"
             ],
             [
              0.1111111111111111,
              "#46039f"
             ],
             [
              0.2222222222222222,
              "#7201a8"
             ],
             [
              0.3333333333333333,
              "#9c179e"
             ],
             [
              0.4444444444444444,
              "#bd3786"
             ],
             [
              0.5555555555555556,
              "#d8576b"
             ],
             [
              0.6666666666666666,
              "#ed7953"
             ],
             [
              0.7777777777777778,
              "#fb9f3a"
             ],
             [
              0.8888888888888888,
              "#fdca26"
             ],
             [
              1,
              "#f0f921"
             ]
            ],
            "type": "heatmap"
           }
          ],
          "heatmapgl": [
           {
            "colorbar": {
             "outlinewidth": 0,
             "ticks": ""
            },
            "colorscale": [
             [
              0,
              "#0d0887"
             ],
             [
              0.1111111111111111,
              "#46039f"
             ],
             [
              0.2222222222222222,
              "#7201a8"
             ],
             [
              0.3333333333333333,
              "#9c179e"
             ],
             [
              0.4444444444444444,
              "#bd3786"
             ],
             [
              0.5555555555555556,
              "#d8576b"
             ],
             [
              0.6666666666666666,
              "#ed7953"
             ],
             [
              0.7777777777777778,
              "#fb9f3a"
             ],
             [
              0.8888888888888888,
              "#fdca26"
             ],
             [
              1,
              "#f0f921"
             ]
            ],
            "type": "heatmapgl"
           }
          ],
          "histogram": [
           {
            "marker": {
             "pattern": {
              "fillmode": "overlay",
              "size": 10,
              "solidity": 0.2
             }
            },
            "type": "histogram"
           }
          ],
          "histogram2d": [
           {
            "colorbar": {
             "outlinewidth": 0,
             "ticks": ""
            },
            "colorscale": [
             [
              0,
              "#0d0887"
             ],
             [
              0.1111111111111111,
              "#46039f"
             ],
             [
              0.2222222222222222,
              "#7201a8"
             ],
             [
              0.3333333333333333,
              "#9c179e"
             ],
             [
              0.4444444444444444,
              "#bd3786"
             ],
             [
              0.5555555555555556,
              "#d8576b"
             ],
             [
              0.6666666666666666,
              "#ed7953"
             ],
             [
              0.7777777777777778,
              "#fb9f3a"
             ],
             [
              0.8888888888888888,
              "#fdca26"
             ],
             [
              1,
              "#f0f921"
             ]
            ],
            "type": "histogram2d"
           }
          ],
          "histogram2dcontour": [
           {
            "colorbar": {
             "outlinewidth": 0,
             "ticks": ""
            },
            "colorscale": [
             [
              0,
              "#0d0887"
             ],
             [
              0.1111111111111111,
              "#46039f"
             ],
             [
              0.2222222222222222,
              "#7201a8"
             ],
             [
              0.3333333333333333,
              "#9c179e"
             ],
             [
              0.4444444444444444,
              "#bd3786"
             ],
             [
              0.5555555555555556,
              "#d8576b"
             ],
             [
              0.6666666666666666,
              "#ed7953"
             ],
             [
              0.7777777777777778,
              "#fb9f3a"
             ],
             [
              0.8888888888888888,
              "#fdca26"
             ],
             [
              1,
              "#f0f921"
             ]
            ],
            "type": "histogram2dcontour"
           }
          ],
          "mesh3d": [
           {
            "colorbar": {
             "outlinewidth": 0,
             "ticks": ""
            },
            "type": "mesh3d"
           }
          ],
          "parcoords": [
           {
            "line": {
             "colorbar": {
              "outlinewidth": 0,
              "ticks": ""
             }
            },
            "type": "parcoords"
           }
          ],
          "pie": [
           {
            "automargin": true,
            "type": "pie"
           }
          ],
          "scatter": [
           {
            "fillpattern": {
             "fillmode": "overlay",
             "size": 10,
             "solidity": 0.2
            },
            "type": "scatter"
           }
          ],
          "scatter3d": [
           {
            "line": {
             "colorbar": {
              "outlinewidth": 0,
              "ticks": ""
             }
            },
            "marker": {
             "colorbar": {
              "outlinewidth": 0,
              "ticks": ""
             }
            },
            "type": "scatter3d"
           }
          ],
          "scattercarpet": [
           {
            "marker": {
             "colorbar": {
              "outlinewidth": 0,
              "ticks": ""
             }
            },
            "type": "scattercarpet"
           }
          ],
          "scattergeo": [
           {
            "marker": {
             "colorbar": {
              "outlinewidth": 0,
              "ticks": ""
             }
            },
            "type": "scattergeo"
           }
          ],
          "scattergl": [
           {
            "marker": {
             "colorbar": {
              "outlinewidth": 0,
              "ticks": ""
             }
            },
            "type": "scattergl"
           }
          ],
          "scattermapbox": [
           {
            "marker": {
             "colorbar": {
              "outlinewidth": 0,
              "ticks": ""
             }
            },
            "type": "scattermapbox"
           }
          ],
          "scatterpolar": [
           {
            "marker": {
             "colorbar": {
              "outlinewidth": 0,
              "ticks": ""
             }
            },
            "type": "scatterpolar"
           }
          ],
          "scatterpolargl": [
           {
            "marker": {
             "colorbar": {
              "outlinewidth": 0,
              "ticks": ""
             }
            },
            "type": "scatterpolargl"
           }
          ],
          "scatterternary": [
           {
            "marker": {
             "colorbar": {
              "outlinewidth": 0,
              "ticks": ""
             }
            },
            "type": "scatterternary"
           }
          ],
          "surface": [
           {
            "colorbar": {
             "outlinewidth": 0,
             "ticks": ""
            },
            "colorscale": [
             [
              0,
              "#0d0887"
             ],
             [
              0.1111111111111111,
              "#46039f"
             ],
             [
              0.2222222222222222,
              "#7201a8"
             ],
             [
              0.3333333333333333,
              "#9c179e"
             ],
             [
              0.4444444444444444,
              "#bd3786"
             ],
             [
              0.5555555555555556,
              "#d8576b"
             ],
             [
              0.6666666666666666,
              "#ed7953"
             ],
             [
              0.7777777777777778,
              "#fb9f3a"
             ],
             [
              0.8888888888888888,
              "#fdca26"
             ],
             [
              1,
              "#f0f921"
             ]
            ],
            "type": "surface"
           }
          ],
          "table": [
           {
            "cells": {
             "fill": {
              "color": "#EBF0F8"
             },
             "line": {
              "color": "white"
             }
            },
            "header": {
             "fill": {
              "color": "#C8D4E3"
             },
             "line": {
              "color": "white"
             }
            },
            "type": "table"
           }
          ]
         },
         "layout": {
          "annotationdefaults": {
           "arrowcolor": "#2a3f5f",
           "arrowhead": 0,
           "arrowwidth": 1
          },
          "autotypenumbers": "strict",
          "coloraxis": {
           "colorbar": {
            "outlinewidth": 0,
            "ticks": ""
           }
          },
          "colorscale": {
           "diverging": [
            [
             0,
             "#8e0152"
            ],
            [
             0.1,
             "#c51b7d"
            ],
            [
             0.2,
             "#de77ae"
            ],
            [
             0.3,
             "#f1b6da"
            ],
            [
             0.4,
             "#fde0ef"
            ],
            [
             0.5,
             "#f7f7f7"
            ],
            [
             0.6,
             "#e6f5d0"
            ],
            [
             0.7,
             "#b8e186"
            ],
            [
             0.8,
             "#7fbc41"
            ],
            [
             0.9,
             "#4d9221"
            ],
            [
             1,
             "#276419"
            ]
           ],
           "sequential": [
            [
             0,
             "#0d0887"
            ],
            [
             0.1111111111111111,
             "#46039f"
            ],
            [
             0.2222222222222222,
             "#7201a8"
            ],
            [
             0.3333333333333333,
             "#9c179e"
            ],
            [
             0.4444444444444444,
             "#bd3786"
            ],
            [
             0.5555555555555556,
             "#d8576b"
            ],
            [
             0.6666666666666666,
             "#ed7953"
            ],
            [
             0.7777777777777778,
             "#fb9f3a"
            ],
            [
             0.8888888888888888,
             "#fdca26"
            ],
            [
             1,
             "#f0f921"
            ]
           ],
           "sequentialminus": [
            [
             0,
             "#0d0887"
            ],
            [
             0.1111111111111111,
             "#46039f"
            ],
            [
             0.2222222222222222,
             "#7201a8"
            ],
            [
             0.3333333333333333,
             "#9c179e"
            ],
            [
             0.4444444444444444,
             "#bd3786"
            ],
            [
             0.5555555555555556,
             "#d8576b"
            ],
            [
             0.6666666666666666,
             "#ed7953"
            ],
            [
             0.7777777777777778,
             "#fb9f3a"
            ],
            [
             0.8888888888888888,
             "#fdca26"
            ],
            [
             1,
             "#f0f921"
            ]
           ]
          },
          "colorway": [
           "#636efa",
           "#EF553B",
           "#00cc96",
           "#ab63fa",
           "#FFA15A",
           "#19d3f3",
           "#FF6692",
           "#B6E880",
           "#FF97FF",
           "#FECB52"
          ],
          "font": {
           "color": "#2a3f5f"
          },
          "geo": {
           "bgcolor": "white",
           "lakecolor": "white",
           "landcolor": "#E5ECF6",
           "showlakes": true,
           "showland": true,
           "subunitcolor": "white"
          },
          "hoverlabel": {
           "align": "left"
          },
          "hovermode": "closest",
          "mapbox": {
           "style": "light"
          },
          "paper_bgcolor": "white",
          "plot_bgcolor": "#E5ECF6",
          "polar": {
           "angularaxis": {
            "gridcolor": "white",
            "linecolor": "white",
            "ticks": ""
           },
           "bgcolor": "#E5ECF6",
           "radialaxis": {
            "gridcolor": "white",
            "linecolor": "white",
            "ticks": ""
           }
          },
          "scene": {
           "xaxis": {
            "backgroundcolor": "#E5ECF6",
            "gridcolor": "white",
            "gridwidth": 2,
            "linecolor": "white",
            "showbackground": true,
            "ticks": "",
            "zerolinecolor": "white"
           },
           "yaxis": {
            "backgroundcolor": "#E5ECF6",
            "gridcolor": "white",
            "gridwidth": 2,
            "linecolor": "white",
            "showbackground": true,
            "ticks": "",
            "zerolinecolor": "white"
           },
           "zaxis": {
            "backgroundcolor": "#E5ECF6",
            "gridcolor": "white",
            "gridwidth": 2,
            "linecolor": "white",
            "showbackground": true,
            "ticks": "",
            "zerolinecolor": "white"
           }
          },
          "shapedefaults": {
           "line": {
            "color": "#2a3f5f"
           }
          },
          "ternary": {
           "aaxis": {
            "gridcolor": "white",
            "linecolor": "white",
            "ticks": ""
           },
           "baxis": {
            "gridcolor": "white",
            "linecolor": "white",
            "ticks": ""
           },
           "bgcolor": "#E5ECF6",
           "caxis": {
            "gridcolor": "white",
            "linecolor": "white",
            "ticks": ""
           }
          },
          "title": {
           "x": 0.05
          },
          "xaxis": {
           "automargin": true,
           "gridcolor": "white",
           "linecolor": "white",
           "ticks": "",
           "title": {
            "standoff": 15
           },
           "zerolinecolor": "white",
           "zerolinewidth": 2
          },
          "yaxis": {
           "automargin": true,
           "gridcolor": "white",
           "linecolor": "white",
           "ticks": "",
           "title": {
            "standoff": 15
           },
           "zerolinecolor": "white",
           "zerolinewidth": 2
          }
         }
        },
        "xaxis": {
         "anchor": "y",
         "domain": [
          0,
          1
         ],
         "title": {
          "text": "reading score"
         }
        },
        "yaxis": {
         "anchor": "x",
         "domain": [
          0,
          1
         ],
         "title": {
          "text": "count"
         }
        }
       }
      },
      "text/html": [
       "<div>                            <div id=\"287406e8-0f37-4952-93f1-4900aa792664\" class=\"plotly-graph-div\" style=\"height:525px; width:100%;\"></div>            <script type=\"text/javascript\">                require([\"plotly\"], function(Plotly) {                    window.PLOTLYENV=window.PLOTLYENV || {};                                    if (document.getElementById(\"287406e8-0f37-4952-93f1-4900aa792664\")) {                    Plotly.newPlot(                        \"287406e8-0f37-4952-93f1-4900aa792664\",                        [{\"alignmentgroup\":\"True\",\"bingroup\":\"x\",\"hovertemplate\":\"parental level of education=bachelor's degree<br>reading score=%{x}<br>count=%{y}<extra></extra>\",\"legendgroup\":\"bachelor's degree\",\"marker\":{\"color\":\"#636efa\",\"pattern\":{\"shape\":\"\"}},\"name\":\"bachelor's degree\",\"offsetgroup\":\"bachelor's degree\",\"orientation\":\"v\",\"showlegend\":true,\"x\":[72,71,69,74,78,72,67,74,100,85,82,92,49,79,55,75,67,49,100,51,88,79,62,86,82,66,83,75,63,78,56,79,75,73,60,61,64,71,93,94,65,72,58,66,70,64,73,72,74,83,56,89,100,58,58,76,62,88,59,92,58,41,83,66,90,90,51,100,68,96,73,63,68,100,79,90,45,78,63,58,74,81,85,74,72,81,84,72,73,60,68,73,78,81,54,59,70,90,86,60,97,79,42,62,64,70,46,100,75,64,42,61,62,100,75,84,100,72],\"xaxis\":\"x\",\"yaxis\":\"y\",\"type\":\"histogram\"},{\"alignmentgroup\":\"True\",\"bingroup\":\"x\",\"hovertemplate\":\"parental level of education=some college<br>reading score=%{x}<br>count=%{y}<extra></extra>\",\"legendgroup\":\"some college\",\"marker\":{\"color\":\"#EF553B\",\"pattern\":{\"shape\":\"\"}},\"name\":\"some college\",\"offsetgroup\":\"some college\",\"orientation\":\"v\",\"showlegend\":true,\"x\":[90,78,95,43,72,75,54,54,74,65,42,87,65,55,44,59,72,63,55,47,80,83,70,86,72,67,67,86,67,58,69,93,80,77,74,81,61,62,55,73,39,89,60,88,75,86,64,83,62,53,81,41,81,61,28,72,95,64,52,51,83,73,75,79,76,49,70,85,78,78,67,87,81,90,61,23,68,73,61,57,78,71,66,62,90,58,60,77,73,97,76,68,67,43,65,83,59,39,67,48,81,66,85,92,58,54,70,90,87,74,68,47,83,48,78,71,61,71,89,74,49,60,62,39,75,74,80,75,62,51,56,77,64,57,78,64,60,59,96,97,57,64,76,79,86,67,77,71,73,74,78,64,78,61,66,75,90,89,64,59,84,100,72,43,74,39,89,58,66,55,64,84,72,58,59,77,63,60,65,44,79,38,66,60,85,76,81,74,52,60,50,77,85,68,71,82,72,64,82,65,85,77,84,84,70,96,74,57,63,81,58,77,69,87,58,57,70,63,65,63,82,62,87,86,78,86],\"xaxis\":\"x\",\"yaxis\":\"y\",\"type\":\"histogram\"},{\"alignmentgroup\":\"True\",\"bingroup\":\"x\",\"hovertemplate\":\"parental level of education=master's degree<br>reading score=%{x}<br>count=%{y}<extra></extra>\",\"legendgroup\":\"master's degree\",\"marker\":{\"color\":\"#00cc96\",\"pattern\":{\"shape\":\"\"}},\"name\":\"master's degree\",\"offsetgroup\":\"master's degree\",\"orientation\":\"v\",\"showlegend\":true,\"x\":[95,53,42,74,70,72,68,100,82,84,53,92,76,91,70,68,84,56,80,81,82,95,81,70,71,58,64,79,59,78,97,59,63,72,67,71,61,60,89,58,81,99,81,57,77,90,65,64,85,85,67,86,67,84,78,66,91,100,99],\"xaxis\":\"x\",\"yaxis\":\"y\",\"type\":\"histogram\"},{\"alignmentgroup\":\"True\",\"bingroup\":\"x\",\"hovertemplate\":\"parental level of education=associate's degree<br>reading score=%{x}<br>count=%{y}<extra></extra>\",\"legendgroup\":\"associate's degree\",\"marker\":{\"color\":\"#ab63fa\",\"pattern\":{\"shape\":\"\"}},\"name\":\"associate's degree\",\"offsetgroup\":\"associate's degree\",\"orientation\":\"v\",\"showlegend\":true,\"x\":[57,83,54,52,58,81,81,90,56,61,73,58,56,54,65,74,69,85,55,61,80,58,64,51,41,49,64,71,45,81,91,63,76,89,53,89,66,68,100,70,86,62,78,67,77,69,67,65,55,84,77,69,51,86,85,66,43,75,80,76,76,73,77,92,53,82,82,70,62,74,87,84,76,75,71,76,67,72,65,75,37,56,78,51,72,74,58,61,43,86,100,78,54,89,65,80,84,66,73,93,66,68,66,83,73,77,61,54,31,85,86,90,68,71,59,52,75,82,85,64,87,89,86,74,67,61,88,60,92,82,77,95,48,45,72,70,43,55,75,76,84,63,77,93,73,70,48,74,88,70,70,67,60,87,63,72,57,84,75,78,53,76,77,82,78,61,94,78,96,73,75,77,79,71,57,73,79,55,95,85,56,59,65,68,84,55,94,68,57,77,75,73,62,93,42,74,51,84,90,76,51,76,100,92,62,54,61,77,65,56,43,71,87,57,61,57,100,76,65,95,59,76],\"xaxis\":\"x\",\"yaxis\":\"y\",\"type\":\"histogram\"},{\"alignmentgroup\":\"True\",\"bingroup\":\"x\",\"hovertemplate\":\"parental level of education=high school<br>reading score=%{x}<br>count=%{y}<extra></extra>\",\"legendgroup\":\"high school\",\"marker\":{\"color\":\"#FFA15A\",\"pattern\":{\"shape\":\"\"}},\"name\":\"high school\",\"offsetgroup\":\"high school\",\"orientation\":\"v\",\"showlegend\":true,\"x\":[64,60,81,89,69,70,71,84,78,41,45,39,34,79,44,55,77,57,95,55,43,74,53,51,83,73,54,50,76,56,80,62,91,42,77,68,50,68,52,70,64,60,52,93,73,72,63,52,48,77,46,57,66,79,86,46,60,61,73,76,80,74,62,58,64,45,67,99,59,57,73,56,58,72,56,56,81,81,46,65,67,88,69,71,52,74,64,64,70,78,52,53,69,66,69,67,67,48,66,81,91,73,76,24,77,29,57,68,61,51,60,88,74,80,52,79,65,62,53,80,69,76,77,72,68,55,58,66,34,87,76,48,92,60,84,75,72,62,72,75,62,48,72,85,62,74,52,70,45,75,47,80,72,87,67,82,64,64,82,52,44,54,72,68,49,53,58,73,72,51,29,48,48,61,70,53,66,70,61,58,66,68,82,75,73,52,63,81,50,41,24,51,81,63,55,71],\"xaxis\":\"x\",\"yaxis\":\"y\",\"type\":\"histogram\"},{\"alignmentgroup\":\"True\",\"bingroup\":\"x\",\"hovertemplate\":\"parental level of education=some high school<br>reading score=%{x}<br>count=%{y}<extra></extra>\",\"legendgroup\":\"some high school\",\"marker\":{\"color\":\"#19d3f3\",\"pattern\":{\"shape\":\"\"}},\"name\":\"some high school\",\"offsetgroup\":\"some high school\",\"orientation\":\"v\",\"showlegend\":true,\"x\":[75,32,73,64,84,17,39,58,64,37,57,49,26,74,86,66,64,63,68,37,54,72,84,67,67,88,100,52,66,52,64,69,71,79,83,56,65,80,72,87,60,74,49,70,79,50,42,92,86,46,89,76,73,60,41,54,52,53,55,70,38,55,84,34,64,84,74,90,83,49,43,67,74,63,59,54,73,67,85,71,59,63,59,66,88,73,82,74,67,53,69,82,50,49,61,87,78,61,54,83,100,76,66,97,79,66,62,54,82,72,51,84,92,81,56,79,66,66,60,82,40,63,67,63,85,70,59,90,51,46,47,69,90,58,81,71,67,58,51,79,84,73,80,31,84,86,91,90,58,69,86,54,58,65,67,64,61,72,74,34,78,78,84,64,56,68,62,50,74,54,76,68,72,78,85,75,75,45,82],\"xaxis\":\"x\",\"yaxis\":\"y\",\"type\":\"histogram\"}],                        {\"template\":{\"data\":{\"histogram2dcontour\":[{\"type\":\"histogram2dcontour\",\"colorbar\":{\"outlinewidth\":0,\"ticks\":\"\"},\"colorscale\":[[0.0,\"#0d0887\"],[0.1111111111111111,\"#46039f\"],[0.2222222222222222,\"#7201a8\"],[0.3333333333333333,\"#9c179e\"],[0.4444444444444444,\"#bd3786\"],[0.5555555555555556,\"#d8576b\"],[0.6666666666666666,\"#ed7953\"],[0.7777777777777778,\"#fb9f3a\"],[0.8888888888888888,\"#fdca26\"],[1.0,\"#f0f921\"]]}],\"choropleth\":[{\"type\":\"choropleth\",\"colorbar\":{\"outlinewidth\":0,\"ticks\":\"\"}}],\"histogram2d\":[{\"type\":\"histogram2d\",\"colorbar\":{\"outlinewidth\":0,\"ticks\":\"\"},\"colorscale\":[[0.0,\"#0d0887\"],[0.1111111111111111,\"#46039f\"],[0.2222222222222222,\"#7201a8\"],[0.3333333333333333,\"#9c179e\"],[0.4444444444444444,\"#bd3786\"],[0.5555555555555556,\"#d8576b\"],[0.6666666666666666,\"#ed7953\"],[0.7777777777777778,\"#fb9f3a\"],[0.8888888888888888,\"#fdca26\"],[1.0,\"#f0f921\"]]}],\"heatmap\":[{\"type\":\"heatmap\",\"colorbar\":{\"outlinewidth\":0,\"ticks\":\"\"},\"colorscale\":[[0.0,\"#0d0887\"],[0.1111111111111111,\"#46039f\"],[0.2222222222222222,\"#7201a8\"],[0.3333333333333333,\"#9c179e\"],[0.4444444444444444,\"#bd3786\"],[0.5555555555555556,\"#d8576b\"],[0.6666666666666666,\"#ed7953\"],[0.7777777777777778,\"#fb9f3a\"],[0.8888888888888888,\"#fdca26\"],[1.0,\"#f0f921\"]]}],\"heatmapgl\":[{\"type\":\"heatmapgl\",\"colorbar\":{\"outlinewidth\":0,\"ticks\":\"\"},\"colorscale\":[[0.0,\"#0d0887\"],[0.1111111111111111,\"#46039f\"],[0.2222222222222222,\"#7201a8\"],[0.3333333333333333,\"#9c179e\"],[0.4444444444444444,\"#bd3786\"],[0.5555555555555556,\"#d8576b\"],[0.6666666666666666,\"#ed7953\"],[0.7777777777777778,\"#fb9f3a\"],[0.8888888888888888,\"#fdca26\"],[1.0,\"#f0f921\"]]}],\"contourcarpet\":[{\"type\":\"contourcarpet\",\"colorbar\":{\"outlinewidth\":0,\"ticks\":\"\"}}],\"contour\":[{\"type\":\"contour\",\"colorbar\":{\"outlinewidth\":0,\"ticks\":\"\"},\"colorscale\":[[0.0,\"#0d0887\"],[0.1111111111111111,\"#46039f\"],[0.2222222222222222,\"#7201a8\"],[0.3333333333333333,\"#9c179e\"],[0.4444444444444444,\"#bd3786\"],[0.5555555555555556,\"#d8576b\"],[0.6666666666666666,\"#ed7953\"],[0.7777777777777778,\"#fb9f3a\"],[0.8888888888888888,\"#fdca26\"],[1.0,\"#f0f921\"]]}],\"surface\":[{\"type\":\"surface\",\"colorbar\":{\"outlinewidth\":0,\"ticks\":\"\"},\"colorscale\":[[0.0,\"#0d0887\"],[0.1111111111111111,\"#46039f\"],[0.2222222222222222,\"#7201a8\"],[0.3333333333333333,\"#9c179e\"],[0.4444444444444444,\"#bd3786\"],[0.5555555555555556,\"#d8576b\"],[0.6666666666666666,\"#ed7953\"],[0.7777777777777778,\"#fb9f3a\"],[0.8888888888888888,\"#fdca26\"],[1.0,\"#f0f921\"]]}],\"mesh3d\":[{\"type\":\"mesh3d\",\"colorbar\":{\"outlinewidth\":0,\"ticks\":\"\"}}],\"scatter\":[{\"fillpattern\":{\"fillmode\":\"overlay\",\"size\":10,\"solidity\":0.2},\"type\":\"scatter\"}],\"parcoords\":[{\"type\":\"parcoords\",\"line\":{\"colorbar\":{\"outlinewidth\":0,\"ticks\":\"\"}}}],\"scatterpolargl\":[{\"type\":\"scatterpolargl\",\"marker\":{\"colorbar\":{\"outlinewidth\":0,\"ticks\":\"\"}}}],\"bar\":[{\"error_x\":{\"color\":\"#2a3f5f\"},\"error_y\":{\"color\":\"#2a3f5f\"},\"marker\":{\"line\":{\"color\":\"#E5ECF6\",\"width\":0.5},\"pattern\":{\"fillmode\":\"overlay\",\"size\":10,\"solidity\":0.2}},\"type\":\"bar\"}],\"scattergeo\":[{\"type\":\"scattergeo\",\"marker\":{\"colorbar\":{\"outlinewidth\":0,\"ticks\":\"\"}}}],\"scatterpolar\":[{\"type\":\"scatterpolar\",\"marker\":{\"colorbar\":{\"outlinewidth\":0,\"ticks\":\"\"}}}],\"histogram\":[{\"marker\":{\"pattern\":{\"fillmode\":\"overlay\",\"size\":10,\"solidity\":0.2}},\"type\":\"histogram\"}],\"scattergl\":[{\"type\":\"scattergl\",\"marker\":{\"colorbar\":{\"outlinewidth\":0,\"ticks\":\"\"}}}],\"scatter3d\":[{\"type\":\"scatter3d\",\"line\":{\"colorbar\":{\"outlinewidth\":0,\"ticks\":\"\"}},\"marker\":{\"colorbar\":{\"outlinewidth\":0,\"ticks\":\"\"}}}],\"scattermapbox\":[{\"type\":\"scattermapbox\",\"marker\":{\"colorbar\":{\"outlinewidth\":0,\"ticks\":\"\"}}}],\"scatterternary\":[{\"type\":\"scatterternary\",\"marker\":{\"colorbar\":{\"outlinewidth\":0,\"ticks\":\"\"}}}],\"scattercarpet\":[{\"type\":\"scattercarpet\",\"marker\":{\"colorbar\":{\"outlinewidth\":0,\"ticks\":\"\"}}}],\"carpet\":[{\"aaxis\":{\"endlinecolor\":\"#2a3f5f\",\"gridcolor\":\"white\",\"linecolor\":\"white\",\"minorgridcolor\":\"white\",\"startlinecolor\":\"#2a3f5f\"},\"baxis\":{\"endlinecolor\":\"#2a3f5f\",\"gridcolor\":\"white\",\"linecolor\":\"white\",\"minorgridcolor\":\"white\",\"startlinecolor\":\"#2a3f5f\"},\"type\":\"carpet\"}],\"table\":[{\"cells\":{\"fill\":{\"color\":\"#EBF0F8\"},\"line\":{\"color\":\"white\"}},\"header\":{\"fill\":{\"color\":\"#C8D4E3\"},\"line\":{\"color\":\"white\"}},\"type\":\"table\"}],\"barpolar\":[{\"marker\":{\"line\":{\"color\":\"#E5ECF6\",\"width\":0.5},\"pattern\":{\"fillmode\":\"overlay\",\"size\":10,\"solidity\":0.2}},\"type\":\"barpolar\"}],\"pie\":[{\"automargin\":true,\"type\":\"pie\"}]},\"layout\":{\"autotypenumbers\":\"strict\",\"colorway\":[\"#636efa\",\"#EF553B\",\"#00cc96\",\"#ab63fa\",\"#FFA15A\",\"#19d3f3\",\"#FF6692\",\"#B6E880\",\"#FF97FF\",\"#FECB52\"],\"font\":{\"color\":\"#2a3f5f\"},\"hovermode\":\"closest\",\"hoverlabel\":{\"align\":\"left\"},\"paper_bgcolor\":\"white\",\"plot_bgcolor\":\"#E5ECF6\",\"polar\":{\"bgcolor\":\"#E5ECF6\",\"angularaxis\":{\"gridcolor\":\"white\",\"linecolor\":\"white\",\"ticks\":\"\"},\"radialaxis\":{\"gridcolor\":\"white\",\"linecolor\":\"white\",\"ticks\":\"\"}},\"ternary\":{\"bgcolor\":\"#E5ECF6\",\"aaxis\":{\"gridcolor\":\"white\",\"linecolor\":\"white\",\"ticks\":\"\"},\"baxis\":{\"gridcolor\":\"white\",\"linecolor\":\"white\",\"ticks\":\"\"},\"caxis\":{\"gridcolor\":\"white\",\"linecolor\":\"white\",\"ticks\":\"\"}},\"coloraxis\":{\"colorbar\":{\"outlinewidth\":0,\"ticks\":\"\"}},\"colorscale\":{\"sequential\":[[0.0,\"#0d0887\"],[0.1111111111111111,\"#46039f\"],[0.2222222222222222,\"#7201a8\"],[0.3333333333333333,\"#9c179e\"],[0.4444444444444444,\"#bd3786\"],[0.5555555555555556,\"#d8576b\"],[0.6666666666666666,\"#ed7953\"],[0.7777777777777778,\"#fb9f3a\"],[0.8888888888888888,\"#fdca26\"],[1.0,\"#f0f921\"]],\"sequentialminus\":[[0.0,\"#0d0887\"],[0.1111111111111111,\"#46039f\"],[0.2222222222222222,\"#7201a8\"],[0.3333333333333333,\"#9c179e\"],[0.4444444444444444,\"#bd3786\"],[0.5555555555555556,\"#d8576b\"],[0.6666666666666666,\"#ed7953\"],[0.7777777777777778,\"#fb9f3a\"],[0.8888888888888888,\"#fdca26\"],[1.0,\"#f0f921\"]],\"diverging\":[[0,\"#8e0152\"],[0.1,\"#c51b7d\"],[0.2,\"#de77ae\"],[0.3,\"#f1b6da\"],[0.4,\"#fde0ef\"],[0.5,\"#f7f7f7\"],[0.6,\"#e6f5d0\"],[0.7,\"#b8e186\"],[0.8,\"#7fbc41\"],[0.9,\"#4d9221\"],[1,\"#276419\"]]},\"xaxis\":{\"gridcolor\":\"white\",\"linecolor\":\"white\",\"ticks\":\"\",\"title\":{\"standoff\":15},\"zerolinecolor\":\"white\",\"automargin\":true,\"zerolinewidth\":2},\"yaxis\":{\"gridcolor\":\"white\",\"linecolor\":\"white\",\"ticks\":\"\",\"title\":{\"standoff\":15},\"zerolinecolor\":\"white\",\"automargin\":true,\"zerolinewidth\":2},\"scene\":{\"xaxis\":{\"backgroundcolor\":\"#E5ECF6\",\"gridcolor\":\"white\",\"linecolor\":\"white\",\"showbackground\":true,\"ticks\":\"\",\"zerolinecolor\":\"white\",\"gridwidth\":2},\"yaxis\":{\"backgroundcolor\":\"#E5ECF6\",\"gridcolor\":\"white\",\"linecolor\":\"white\",\"showbackground\":true,\"ticks\":\"\",\"zerolinecolor\":\"white\",\"gridwidth\":2},\"zaxis\":{\"backgroundcolor\":\"#E5ECF6\",\"gridcolor\":\"white\",\"linecolor\":\"white\",\"showbackground\":true,\"ticks\":\"\",\"zerolinecolor\":\"white\",\"gridwidth\":2}},\"shapedefaults\":{\"line\":{\"color\":\"#2a3f5f\"}},\"annotationdefaults\":{\"arrowcolor\":\"#2a3f5f\",\"arrowhead\":0,\"arrowwidth\":1},\"geo\":{\"bgcolor\":\"white\",\"landcolor\":\"#E5ECF6\",\"subunitcolor\":\"white\",\"showland\":true,\"showlakes\":true,\"lakecolor\":\"white\"},\"title\":{\"x\":0.05},\"mapbox\":{\"style\":\"light\"}}},\"xaxis\":{\"anchor\":\"y\",\"domain\":[0.0,1.0],\"title\":{\"text\":\"reading score\"}},\"yaxis\":{\"anchor\":\"x\",\"domain\":[0.0,1.0],\"title\":{\"text\":\"count\"}},\"legend\":{\"title\":{\"text\":\"parental level of education\"},\"tracegroupgap\":0},\"margin\":{\"t\":60},\"barmode\":\"relative\"},                        {\"responsive\": true}                    ).then(function(){\n",
       "                            \n",
       "var gd = document.getElementById('287406e8-0f37-4952-93f1-4900aa792664');\n",
       "var x = new MutationObserver(function (mutations, observer) {{\n",
       "        var display = window.getComputedStyle(gd).display;\n",
       "        if (!display || display === 'none') {{\n",
       "            console.log([gd, 'removed!']);\n",
       "            Plotly.purge(gd);\n",
       "            observer.disconnect();\n",
       "        }}\n",
       "}});\n",
       "\n",
       "// Listen for the removal of the full notebook cells\n",
       "var notebookContainer = gd.closest('#notebook-container');\n",
       "if (notebookContainer) {{\n",
       "    x.observe(notebookContainer, {childList: true});\n",
       "}}\n",
       "\n",
       "// Listen for the clearing of the current output cell\n",
       "var outputEl = gd.closest('.output');\n",
       "if (outputEl) {{\n",
       "    x.observe(outputEl, {childList: true});\n",
       "}}\n",
       "\n",
       "                        })                };                });            </script>        </div>"
      ]
     },
     "metadata": {},
     "output_type": "display_data"
    },
    {
     "data": {
      "application/vnd.plotly.v1+json": {
       "config": {
        "plotlyServerURL": "https://plot.ly"
       },
       "data": [
        {
         "alignmentgroup": "True",
         "bingroup": "x",
         "hovertemplate": "parental level of education=bachelor's degree<br>writing score=%{x}<br>count=%{y}<extra></extra>",
         "legendgroup": "bachelor's degree",
         "marker": {
          "color": "#636efa",
          "pattern": {
           "shape": ""
          }
         },
         "name": "bachelor's degree",
         "offsetgroup": "bachelor's degree",
         "orientation": "v",
         "showlegend": true,
         "type": "histogram",
         "x": [
          74,
          80,
          75,
          72,
          81,
          74,
          62,
          74,
          100,
          82,
          79,
          89,
          51,
          75,
          48,
          81,
          68,
          47,
          100,
          54,
          87,
          76,
          62,
          83,
          84,
          67,
          83,
          81,
          61,
          73,
          57,
          84,
          76,
          75,
          57,
          68,
          75,
          69,
          95,
          95,
          69,
          70,
          60,
          61,
          73,
          62,
          70,
          79,
          68,
          86,
          47,
          89,
          100,
          55,
          62,
          83,
          66,
          90,
          54,
          87,
          57,
          47,
          83,
          71,
          88,
          92,
          46,
          100,
          67,
          92,
          78,
          62,
          64,
          99,
          72,
          91,
          38,
          83,
          56,
          62,
          81,
          81,
          87,
          81,
          70,
          82,
          87,
          65,
          72,
          59,
          72,
          74,
          79,
          79,
          51,
          64,
          76,
          93,
          89,
          58,
          96,
          81,
          38,
          61,
          66,
          70,
          44,
          100,
          72,
          70,
          48,
          66,
          66,
          100,
          74,
          80,
          100,
          74
         ],
         "xaxis": "x",
         "yaxis": "y"
        },
        {
         "alignmentgroup": "True",
         "bingroup": "x",
         "hovertemplate": "parental level of education=some college<br>writing score=%{x}<br>count=%{y}<extra></extra>",
         "legendgroup": "some college",
         "marker": {
          "color": "#EF553B",
          "pattern": {
           "shape": ""
          }
         },
         "name": "some college",
         "offsetgroup": "some college",
         "orientation": "v",
         "showlegend": true,
         "type": "histogram",
         "x": [
          88,
          75,
          92,
          39,
          70,
          70,
          53,
          55,
          74,
          61,
          38,
          82,
          66,
          48,
          42,
          58,
          74,
          73,
          63,
          54,
          82,
          88,
          67,
          92,
          70,
          62,
          67,
          90,
          72,
          54,
          65,
          93,
          73,
          74,
          70,
          84,
          69,
          64,
          54,
          78,
          33,
          88,
          60,
          85,
          70,
          81,
          66,
          79,
          62,
          55,
          77,
          42,
          76,
          66,
          27,
          71,
          94,
          66,
          51,
          43,
          83,
          70,
          78,
          78,
          70,
          42,
          71,
          76,
          78,
          81,
          69,
          81,
          80,
          94,
          62,
          19,
          66,
          67,
          57,
          52,
          80,
          70,
          69,
          61,
          89,
          58,
          58,
          71,
          70,
          96,
          75,
          77,
          67,
          43,
          55,
          78,
          62,
          34,
          62,
          53,
          79,
          60,
          85,
          97,
          49,
          45,
          76,
          91,
          91,
          76,
          61,
          56,
          90,
          52,
          76,
          72,
          54,
          73,
          84,
          73,
          52,
          59,
          64,
          33,
          79,
          74,
          80,
          70,
          56,
          52,
          58,
          77,
          65,
          54,
          80,
          62,
          63,
          66,
          86,
          99,
          46,
          70,
          74,
          81,
          98,
          67,
          73,
          69,
          71,
          61,
          76,
          66,
          76,
          60,
          68,
          68,
          83,
          86,
          67,
          52,
          90,
          99,
          70,
          41,
          71,
          37,
          94,
          57,
          73,
          47,
          68,
          86,
          65,
          52,
          65,
          77,
          59,
          57,
          60,
          43,
          82,
          32,
          70,
          54,
          87,
          78,
          74,
          75,
          51,
          57,
          45,
          76,
          93,
          65,
          80,
          88,
          76,
          66,
          84,
          74,
          91,
          77,
          91,
          82,
          66,
          91,
          70,
          62,
          58,
          85,
          60,
          83,
          69,
          81,
          64,
          58,
          72,
          60,
          61,
          67,
          77,
          60,
          91,
          83,
          77,
          86
         ],
         "xaxis": "x",
         "yaxis": "y"
        },
        {
         "alignmentgroup": "True",
         "bingroup": "x",
         "hovertemplate": "parental level of education=master's degree<br>writing score=%{x}<br>count=%{y}<extra></extra>",
         "legendgroup": "master's degree",
         "marker": {
          "color": "#00cc96",
          "pattern": {
           "shape": ""
          }
         },
         "name": "master's degree",
         "offsetgroup": "master's degree",
         "orientation": "v",
         "showlegend": true,
         "type": "histogram",
         "x": [
          93,
          58,
          46,
          72,
          75,
          65,
          68,
          100,
          74,
          82,
          52,
          91,
          78,
          87,
          62,
          75,
          85,
          54,
          72,
          81,
          91,
          100,
          71,
          75,
          74,
          67,
          70,
          82,
          54,
          77,
          94,
          50,
          66,
          69,
          66,
          78,
          68,
          63,
          90,
          54,
          84,
          100,
          84,
          59,
          75,
          84,
          61,
          67,
          84,
          85,
          67,
          87,
          73,
          89,
          74,
          72,
          96,
          100,
          95
         ],
         "xaxis": "x",
         "yaxis": "y"
        },
        {
         "alignmentgroup": "True",
         "bingroup": "x",
         "hovertemplate": "parental level of education=associate's degree<br>writing score=%{x}<br>count=%{y}<extra></extra>",
         "legendgroup": "associate's degree",
         "marker": {
          "color": "#ab63fa",
          "pattern": {
           "shape": ""
          }
         },
         "name": "associate's degree",
         "offsetgroup": "associate's degree",
         "orientation": "v",
         "showlegend": true,
         "type": "histogram",
         "x": [
          44,
          78,
          52,
          43,
          61,
          79,
          83,
          88,
          57,
          54,
          68,
          65,
          54,
          57,
          62,
          76,
          68,
          86,
          49,
          55,
          71,
          56,
          57,
          48,
          38,
          50,
          63,
          74,
          50,
          82,
          89,
          64,
          70,
          98,
          47,
          92,
          67,
          66,
          93,
          66,
          87,
          64,
          74,
          70,
          77,
          70,
          65,
          69,
          52,
          86,
          69,
          68,
          56,
          88,
          73,
          73,
          42,
          77,
          80,
          71,
          74,
          68,
          77,
          95,
          58,
          82,
          88,
          68,
          60,
          68,
          75,
          81,
          64,
          83,
          67,
          80,
          69,
          78,
          63,
          77,
          35,
          53,
          81,
          43,
          67,
          76,
          57,
          61,
          41,
          83,
          95,
          67,
          56,
          95,
          63,
          77,
          85,
          60,
          67,
          93,
          59,
          64,
          73,
          76,
          72,
          74,
          62,
          48,
          38,
          90,
          84,
          91,
          72,
          67,
          56,
          54,
          74,
          82,
          76,
          70,
          92,
          92,
          84,
          70,
          73,
          58,
          94,
          58,
          86,
          80,
          79,
          89,
          50,
          40,
          79,
          70,
          45,
          53,
          80,
          76,
          82,
          65,
          74,
          93,
          68,
          63,
          46,
          73,
          90,
          65,
          74,
          64,
          58,
          85,
          63,
          77,
          50,
          84,
          78,
          73,
          53,
          78,
          73,
          90,
          79,
          58,
          87,
          72,
          99,
          80,
          77,
          80,
          84,
          73,
          56,
          72,
          74,
          53,
          92,
          82,
          57,
          62,
          61,
          73,
          81,
          57,
          95,
          70,
          53,
          73,
          69,
          72,
          53,
          91,
          41,
          72,
          51,
          78,
          82,
          74,
          54,
          80,
          95,
          85,
          69,
          63,
          55,
          80,
          65,
          52,
          44,
          73,
          90,
          53,
          58,
          62,
          100,
          67,
          58,
          94,
          51,
          76
         ],
         "xaxis": "x",
         "yaxis": "y"
        },
        {
         "alignmentgroup": "True",
         "bingroup": "x",
         "hovertemplate": "parental level of education=high school<br>writing score=%{x}<br>count=%{y}<extra></extra>",
         "legendgroup": "high school",
         "marker": {
          "color": "#FFA15A",
          "pattern": {
           "shape": ""
          }
         },
         "name": "high school",
         "offsetgroup": "high school",
         "orientation": "v",
         "showlegend": true,
         "type": "histogram",
         "x": [
          67,
          50,
          73,
          86,
          63,
          65,
          76,
          82,
          75,
          43,
          45,
          34,
          36,
          71,
          47,
          49,
          74,
          56,
          86,
          56,
          47,
          78,
          49,
          51,
          78,
          74,
          58,
          47,
          65,
          51,
          76,
          60,
          81,
          39,
          70,
          74,
          54,
          66,
          55,
          68,
          62,
          53,
          52,
          90,
          68,
          77,
          75,
          42,
          46,
          80,
          50,
          52,
          65,
          84,
          79,
          43,
          61,
          52,
          63,
          74,
          75,
          66,
          59,
          53,
          64,
          41,
          63,
          100,
          62,
          56,
          69,
          54,
          64,
          70,
          55,
          51,
          80,
          80,
          42,
          68,
          65,
          85,
          74,
          68,
          46,
          71,
          68,
          66,
          66,
          79,
          49,
          43,
          68,
          62,
          68,
          64,
          64,
          47,
          64,
          71,
          89,
          73,
          73,
          15,
          73,
          30,
          51,
          72,
          54,
          52,
          65,
          85,
          64,
          81,
          51,
          80,
          60,
          68,
          55,
          76,
          67,
          68,
          78,
          74,
          60,
          54,
          44,
          59,
          36,
          79,
          74,
          42,
          84,
          55,
          82,
          71,
          64,
          63,
          72,
          77,
          60,
          49,
          70,
          82,
          60,
          69,
          51,
          70,
          40,
          69,
          49,
          83,
          68,
          82,
          58,
          89,
          74,
          57,
          79,
          46,
          36,
          50,
          68,
          63,
          46,
          52,
          47,
          71,
          59,
          48,
          27,
          41,
          51,
          52,
          67,
          46,
          66,
          69,
          71,
          57,
          64,
          61,
          80,
          73,
          71,
          54,
          59,
          71,
          60,
          48,
          23,
          54,
          75,
          62,
          55,
          65
         ],
         "xaxis": "x",
         "yaxis": "y"
        },
        {
         "alignmentgroup": "True",
         "bingroup": "x",
         "hovertemplate": "parental level of education=some high school<br>writing score=%{x}<br>count=%{y}<extra></extra>",
         "legendgroup": "some high school",
         "marker": {
          "color": "#19d3f3",
          "pattern": {
           "shape": ""
          }
         },
         "name": "some high school",
         "offsetgroup": "some high school",
         "orientation": "v",
         "showlegend": true,
         "type": "histogram",
         "x": [
          78,
          28,
          73,
          59,
          87,
          10,
          34,
          59,
          61,
          37,
          56,
          41,
          22,
          72,
          82,
          62,
          72,
          61,
          67,
          40,
          41,
          71,
          75,
          69,
          61,
          78,
          100,
          49,
          68,
          45,
          66,
          65,
          78,
          79,
          75,
          56,
          62,
          75,
          64,
          78,
          74,
          69,
          49,
          70,
          77,
          51,
          41,
          93,
          80,
          46,
          82,
          77,
          70,
          57,
          43,
          52,
          44,
          53,
          51,
          69,
          27,
          60,
          78,
          32,
          58,
          85,
          72,
          82,
          77,
          45,
          43,
          59,
          77,
          57,
          54,
          67,
          68,
          67,
          80,
          65,
          53,
          54,
          50,
          66,
          82,
          69,
          73,
          77,
          61,
          57,
          68,
          80,
          43,
          52,
          62,
          85,
          78,
          60,
          53,
          80,
          97,
          65,
          62,
          96,
          80,
          65,
          50,
          48,
          81,
          62,
          55,
          80,
          88,
          79,
          53,
          79,
          61,
          63,
          60,
          76,
          44,
          56,
          72,
          64,
          85,
          74,
          59,
          88,
          57,
          43,
          44,
          68,
          85,
          54,
          86,
          75,
          72,
          55,
          44,
          77,
          77,
          68,
          73,
          36,
          76,
          87,
          88,
          92,
          52,
          76,
          81,
          53,
          51,
          64,
          61,
          55,
          54,
          80,
          75,
          38,
          79,
          82,
          84,
          60,
          51,
          69,
          61,
          52,
          72,
          53,
          75,
          64,
          69,
          78,
          86,
          82,
          76,
          45,
          78
         ],
         "xaxis": "x",
         "yaxis": "y"
        }
       ],
       "layout": {
        "barmode": "relative",
        "legend": {
         "title": {
          "text": "parental level of education"
         },
         "tracegroupgap": 0
        },
        "margin": {
         "t": 60
        },
        "template": {
         "data": {
          "bar": [
           {
            "error_x": {
             "color": "#2a3f5f"
            },
            "error_y": {
             "color": "#2a3f5f"
            },
            "marker": {
             "line": {
              "color": "#E5ECF6",
              "width": 0.5
             },
             "pattern": {
              "fillmode": "overlay",
              "size": 10,
              "solidity": 0.2
             }
            },
            "type": "bar"
           }
          ],
          "barpolar": [
           {
            "marker": {
             "line": {
              "color": "#E5ECF6",
              "width": 0.5
             },
             "pattern": {
              "fillmode": "overlay",
              "size": 10,
              "solidity": 0.2
             }
            },
            "type": "barpolar"
           }
          ],
          "carpet": [
           {
            "aaxis": {
             "endlinecolor": "#2a3f5f",
             "gridcolor": "white",
             "linecolor": "white",
             "minorgridcolor": "white",
             "startlinecolor": "#2a3f5f"
            },
            "baxis": {
             "endlinecolor": "#2a3f5f",
             "gridcolor": "white",
             "linecolor": "white",
             "minorgridcolor": "white",
             "startlinecolor": "#2a3f5f"
            },
            "type": "carpet"
           }
          ],
          "choropleth": [
           {
            "colorbar": {
             "outlinewidth": 0,
             "ticks": ""
            },
            "type": "choropleth"
           }
          ],
          "contour": [
           {
            "colorbar": {
             "outlinewidth": 0,
             "ticks": ""
            },
            "colorscale": [
             [
              0,
              "#0d0887"
             ],
             [
              0.1111111111111111,
              "#46039f"
             ],
             [
              0.2222222222222222,
              "#7201a8"
             ],
             [
              0.3333333333333333,
              "#9c179e"
             ],
             [
              0.4444444444444444,
              "#bd3786"
             ],
             [
              0.5555555555555556,
              "#d8576b"
             ],
             [
              0.6666666666666666,
              "#ed7953"
             ],
             [
              0.7777777777777778,
              "#fb9f3a"
             ],
             [
              0.8888888888888888,
              "#fdca26"
             ],
             [
              1,
              "#f0f921"
             ]
            ],
            "type": "contour"
           }
          ],
          "contourcarpet": [
           {
            "colorbar": {
             "outlinewidth": 0,
             "ticks": ""
            },
            "type": "contourcarpet"
           }
          ],
          "heatmap": [
           {
            "colorbar": {
             "outlinewidth": 0,
             "ticks": ""
            },
            "colorscale": [
             [
              0,
              "#0d0887"
             ],
             [
              0.1111111111111111,
              "#46039f"
             ],
             [
              0.2222222222222222,
              "#7201a8"
             ],
             [
              0.3333333333333333,
              "#9c179e"
             ],
             [
              0.4444444444444444,
              "#bd3786"
             ],
             [
              0.5555555555555556,
              "#d8576b"
             ],
             [
              0.6666666666666666,
              "#ed7953"
             ],
             [
              0.7777777777777778,
              "#fb9f3a"
             ],
             [
              0.8888888888888888,
              "#fdca26"
             ],
             [
              1,
              "#f0f921"
             ]
            ],
            "type": "heatmap"
           }
          ],
          "heatmapgl": [
           {
            "colorbar": {
             "outlinewidth": 0,
             "ticks": ""
            },
            "colorscale": [
             [
              0,
              "#0d0887"
             ],
             [
              0.1111111111111111,
              "#46039f"
             ],
             [
              0.2222222222222222,
              "#7201a8"
             ],
             [
              0.3333333333333333,
              "#9c179e"
             ],
             [
              0.4444444444444444,
              "#bd3786"
             ],
             [
              0.5555555555555556,
              "#d8576b"
             ],
             [
              0.6666666666666666,
              "#ed7953"
             ],
             [
              0.7777777777777778,
              "#fb9f3a"
             ],
             [
              0.8888888888888888,
              "#fdca26"
             ],
             [
              1,
              "#f0f921"
             ]
            ],
            "type": "heatmapgl"
           }
          ],
          "histogram": [
           {
            "marker": {
             "pattern": {
              "fillmode": "overlay",
              "size": 10,
              "solidity": 0.2
             }
            },
            "type": "histogram"
           }
          ],
          "histogram2d": [
           {
            "colorbar": {
             "outlinewidth": 0,
             "ticks": ""
            },
            "colorscale": [
             [
              0,
              "#0d0887"
             ],
             [
              0.1111111111111111,
              "#46039f"
             ],
             [
              0.2222222222222222,
              "#7201a8"
             ],
             [
              0.3333333333333333,
              "#9c179e"
             ],
             [
              0.4444444444444444,
              "#bd3786"
             ],
             [
              0.5555555555555556,
              "#d8576b"
             ],
             [
              0.6666666666666666,
              "#ed7953"
             ],
             [
              0.7777777777777778,
              "#fb9f3a"
             ],
             [
              0.8888888888888888,
              "#fdca26"
             ],
             [
              1,
              "#f0f921"
             ]
            ],
            "type": "histogram2d"
           }
          ],
          "histogram2dcontour": [
           {
            "colorbar": {
             "outlinewidth": 0,
             "ticks": ""
            },
            "colorscale": [
             [
              0,
              "#0d0887"
             ],
             [
              0.1111111111111111,
              "#46039f"
             ],
             [
              0.2222222222222222,
              "#7201a8"
             ],
             [
              0.3333333333333333,
              "#9c179e"
             ],
             [
              0.4444444444444444,
              "#bd3786"
             ],
             [
              0.5555555555555556,
              "#d8576b"
             ],
             [
              0.6666666666666666,
              "#ed7953"
             ],
             [
              0.7777777777777778,
              "#fb9f3a"
             ],
             [
              0.8888888888888888,
              "#fdca26"
             ],
             [
              1,
              "#f0f921"
             ]
            ],
            "type": "histogram2dcontour"
           }
          ],
          "mesh3d": [
           {
            "colorbar": {
             "outlinewidth": 0,
             "ticks": ""
            },
            "type": "mesh3d"
           }
          ],
          "parcoords": [
           {
            "line": {
             "colorbar": {
              "outlinewidth": 0,
              "ticks": ""
             }
            },
            "type": "parcoords"
           }
          ],
          "pie": [
           {
            "automargin": true,
            "type": "pie"
           }
          ],
          "scatter": [
           {
            "fillpattern": {
             "fillmode": "overlay",
             "size": 10,
             "solidity": 0.2
            },
            "type": "scatter"
           }
          ],
          "scatter3d": [
           {
            "line": {
             "colorbar": {
              "outlinewidth": 0,
              "ticks": ""
             }
            },
            "marker": {
             "colorbar": {
              "outlinewidth": 0,
              "ticks": ""
             }
            },
            "type": "scatter3d"
           }
          ],
          "scattercarpet": [
           {
            "marker": {
             "colorbar": {
              "outlinewidth": 0,
              "ticks": ""
             }
            },
            "type": "scattercarpet"
           }
          ],
          "scattergeo": [
           {
            "marker": {
             "colorbar": {
              "outlinewidth": 0,
              "ticks": ""
             }
            },
            "type": "scattergeo"
           }
          ],
          "scattergl": [
           {
            "marker": {
             "colorbar": {
              "outlinewidth": 0,
              "ticks": ""
             }
            },
            "type": "scattergl"
           }
          ],
          "scattermapbox": [
           {
            "marker": {
             "colorbar": {
              "outlinewidth": 0,
              "ticks": ""
             }
            },
            "type": "scattermapbox"
           }
          ],
          "scatterpolar": [
           {
            "marker": {
             "colorbar": {
              "outlinewidth": 0,
              "ticks": ""
             }
            },
            "type": "scatterpolar"
           }
          ],
          "scatterpolargl": [
           {
            "marker": {
             "colorbar": {
              "outlinewidth": 0,
              "ticks": ""
             }
            },
            "type": "scatterpolargl"
           }
          ],
          "scatterternary": [
           {
            "marker": {
             "colorbar": {
              "outlinewidth": 0,
              "ticks": ""
             }
            },
            "type": "scatterternary"
           }
          ],
          "surface": [
           {
            "colorbar": {
             "outlinewidth": 0,
             "ticks": ""
            },
            "colorscale": [
             [
              0,
              "#0d0887"
             ],
             [
              0.1111111111111111,
              "#46039f"
             ],
             [
              0.2222222222222222,
              "#7201a8"
             ],
             [
              0.3333333333333333,
              "#9c179e"
             ],
             [
              0.4444444444444444,
              "#bd3786"
             ],
             [
              0.5555555555555556,
              "#d8576b"
             ],
             [
              0.6666666666666666,
              "#ed7953"
             ],
             [
              0.7777777777777778,
              "#fb9f3a"
             ],
             [
              0.8888888888888888,
              "#fdca26"
             ],
             [
              1,
              "#f0f921"
             ]
            ],
            "type": "surface"
           }
          ],
          "table": [
           {
            "cells": {
             "fill": {
              "color": "#EBF0F8"
             },
             "line": {
              "color": "white"
             }
            },
            "header": {
             "fill": {
              "color": "#C8D4E3"
             },
             "line": {
              "color": "white"
             }
            },
            "type": "table"
           }
          ]
         },
         "layout": {
          "annotationdefaults": {
           "arrowcolor": "#2a3f5f",
           "arrowhead": 0,
           "arrowwidth": 1
          },
          "autotypenumbers": "strict",
          "coloraxis": {
           "colorbar": {
            "outlinewidth": 0,
            "ticks": ""
           }
          },
          "colorscale": {
           "diverging": [
            [
             0,
             "#8e0152"
            ],
            [
             0.1,
             "#c51b7d"
            ],
            [
             0.2,
             "#de77ae"
            ],
            [
             0.3,
             "#f1b6da"
            ],
            [
             0.4,
             "#fde0ef"
            ],
            [
             0.5,
             "#f7f7f7"
            ],
            [
             0.6,
             "#e6f5d0"
            ],
            [
             0.7,
             "#b8e186"
            ],
            [
             0.8,
             "#7fbc41"
            ],
            [
             0.9,
             "#4d9221"
            ],
            [
             1,
             "#276419"
            ]
           ],
           "sequential": [
            [
             0,
             "#0d0887"
            ],
            [
             0.1111111111111111,
             "#46039f"
            ],
            [
             0.2222222222222222,
             "#7201a8"
            ],
            [
             0.3333333333333333,
             "#9c179e"
            ],
            [
             0.4444444444444444,
             "#bd3786"
            ],
            [
             0.5555555555555556,
             "#d8576b"
            ],
            [
             0.6666666666666666,
             "#ed7953"
            ],
            [
             0.7777777777777778,
             "#fb9f3a"
            ],
            [
             0.8888888888888888,
             "#fdca26"
            ],
            [
             1,
             "#f0f921"
            ]
           ],
           "sequentialminus": [
            [
             0,
             "#0d0887"
            ],
            [
             0.1111111111111111,
             "#46039f"
            ],
            [
             0.2222222222222222,
             "#7201a8"
            ],
            [
             0.3333333333333333,
             "#9c179e"
            ],
            [
             0.4444444444444444,
             "#bd3786"
            ],
            [
             0.5555555555555556,
             "#d8576b"
            ],
            [
             0.6666666666666666,
             "#ed7953"
            ],
            [
             0.7777777777777778,
             "#fb9f3a"
            ],
            [
             0.8888888888888888,
             "#fdca26"
            ],
            [
             1,
             "#f0f921"
            ]
           ]
          },
          "colorway": [
           "#636efa",
           "#EF553B",
           "#00cc96",
           "#ab63fa",
           "#FFA15A",
           "#19d3f3",
           "#FF6692",
           "#B6E880",
           "#FF97FF",
           "#FECB52"
          ],
          "font": {
           "color": "#2a3f5f"
          },
          "geo": {
           "bgcolor": "white",
           "lakecolor": "white",
           "landcolor": "#E5ECF6",
           "showlakes": true,
           "showland": true,
           "subunitcolor": "white"
          },
          "hoverlabel": {
           "align": "left"
          },
          "hovermode": "closest",
          "mapbox": {
           "style": "light"
          },
          "paper_bgcolor": "white",
          "plot_bgcolor": "#E5ECF6",
          "polar": {
           "angularaxis": {
            "gridcolor": "white",
            "linecolor": "white",
            "ticks": ""
           },
           "bgcolor": "#E5ECF6",
           "radialaxis": {
            "gridcolor": "white",
            "linecolor": "white",
            "ticks": ""
           }
          },
          "scene": {
           "xaxis": {
            "backgroundcolor": "#E5ECF6",
            "gridcolor": "white",
            "gridwidth": 2,
            "linecolor": "white",
            "showbackground": true,
            "ticks": "",
            "zerolinecolor": "white"
           },
           "yaxis": {
            "backgroundcolor": "#E5ECF6",
            "gridcolor": "white",
            "gridwidth": 2,
            "linecolor": "white",
            "showbackground": true,
            "ticks": "",
            "zerolinecolor": "white"
           },
           "zaxis": {
            "backgroundcolor": "#E5ECF6",
            "gridcolor": "white",
            "gridwidth": 2,
            "linecolor": "white",
            "showbackground": true,
            "ticks": "",
            "zerolinecolor": "white"
           }
          },
          "shapedefaults": {
           "line": {
            "color": "#2a3f5f"
           }
          },
          "ternary": {
           "aaxis": {
            "gridcolor": "white",
            "linecolor": "white",
            "ticks": ""
           },
           "baxis": {
            "gridcolor": "white",
            "linecolor": "white",
            "ticks": ""
           },
           "bgcolor": "#E5ECF6",
           "caxis": {
            "gridcolor": "white",
            "linecolor": "white",
            "ticks": ""
           }
          },
          "title": {
           "x": 0.05
          },
          "xaxis": {
           "automargin": true,
           "gridcolor": "white",
           "linecolor": "white",
           "ticks": "",
           "title": {
            "standoff": 15
           },
           "zerolinecolor": "white",
           "zerolinewidth": 2
          },
          "yaxis": {
           "automargin": true,
           "gridcolor": "white",
           "linecolor": "white",
           "ticks": "",
           "title": {
            "standoff": 15
           },
           "zerolinecolor": "white",
           "zerolinewidth": 2
          }
         }
        },
        "xaxis": {
         "anchor": "y",
         "domain": [
          0,
          1
         ],
         "title": {
          "text": "writing score"
         }
        },
        "yaxis": {
         "anchor": "x",
         "domain": [
          0,
          1
         ],
         "title": {
          "text": "count"
         }
        }
       }
      },
      "text/html": [
       "<div>                            <div id=\"89e71709-efb0-4ccf-8524-8abbec12a3aa\" class=\"plotly-graph-div\" style=\"height:525px; width:100%;\"></div>            <script type=\"text/javascript\">                require([\"plotly\"], function(Plotly) {                    window.PLOTLYENV=window.PLOTLYENV || {};                                    if (document.getElementById(\"89e71709-efb0-4ccf-8524-8abbec12a3aa\")) {                    Plotly.newPlot(                        \"89e71709-efb0-4ccf-8524-8abbec12a3aa\",                        [{\"alignmentgroup\":\"True\",\"bingroup\":\"x\",\"hovertemplate\":\"parental level of education=bachelor's degree<br>writing score=%{x}<br>count=%{y}<extra></extra>\",\"legendgroup\":\"bachelor's degree\",\"marker\":{\"color\":\"#636efa\",\"pattern\":{\"shape\":\"\"}},\"name\":\"bachelor's degree\",\"offsetgroup\":\"bachelor's degree\",\"orientation\":\"v\",\"showlegend\":true,\"x\":[74,80,75,72,81,74,62,74,100,82,79,89,51,75,48,81,68,47,100,54,87,76,62,83,84,67,83,81,61,73,57,84,76,75,57,68,75,69,95,95,69,70,60,61,73,62,70,79,68,86,47,89,100,55,62,83,66,90,54,87,57,47,83,71,88,92,46,100,67,92,78,62,64,99,72,91,38,83,56,62,81,81,87,81,70,82,87,65,72,59,72,74,79,79,51,64,76,93,89,58,96,81,38,61,66,70,44,100,72,70,48,66,66,100,74,80,100,74],\"xaxis\":\"x\",\"yaxis\":\"y\",\"type\":\"histogram\"},{\"alignmentgroup\":\"True\",\"bingroup\":\"x\",\"hovertemplate\":\"parental level of education=some college<br>writing score=%{x}<br>count=%{y}<extra></extra>\",\"legendgroup\":\"some college\",\"marker\":{\"color\":\"#EF553B\",\"pattern\":{\"shape\":\"\"}},\"name\":\"some college\",\"offsetgroup\":\"some college\",\"orientation\":\"v\",\"showlegend\":true,\"x\":[88,75,92,39,70,70,53,55,74,61,38,82,66,48,42,58,74,73,63,54,82,88,67,92,70,62,67,90,72,54,65,93,73,74,70,84,69,64,54,78,33,88,60,85,70,81,66,79,62,55,77,42,76,66,27,71,94,66,51,43,83,70,78,78,70,42,71,76,78,81,69,81,80,94,62,19,66,67,57,52,80,70,69,61,89,58,58,71,70,96,75,77,67,43,55,78,62,34,62,53,79,60,85,97,49,45,76,91,91,76,61,56,90,52,76,72,54,73,84,73,52,59,64,33,79,74,80,70,56,52,58,77,65,54,80,62,63,66,86,99,46,70,74,81,98,67,73,69,71,61,76,66,76,60,68,68,83,86,67,52,90,99,70,41,71,37,94,57,73,47,68,86,65,52,65,77,59,57,60,43,82,32,70,54,87,78,74,75,51,57,45,76,93,65,80,88,76,66,84,74,91,77,91,82,66,91,70,62,58,85,60,83,69,81,64,58,72,60,61,67,77,60,91,83,77,86],\"xaxis\":\"x\",\"yaxis\":\"y\",\"type\":\"histogram\"},{\"alignmentgroup\":\"True\",\"bingroup\":\"x\",\"hovertemplate\":\"parental level of education=master's degree<br>writing score=%{x}<br>count=%{y}<extra></extra>\",\"legendgroup\":\"master's degree\",\"marker\":{\"color\":\"#00cc96\",\"pattern\":{\"shape\":\"\"}},\"name\":\"master's degree\",\"offsetgroup\":\"master's degree\",\"orientation\":\"v\",\"showlegend\":true,\"x\":[93,58,46,72,75,65,68,100,74,82,52,91,78,87,62,75,85,54,72,81,91,100,71,75,74,67,70,82,54,77,94,50,66,69,66,78,68,63,90,54,84,100,84,59,75,84,61,67,84,85,67,87,73,89,74,72,96,100,95],\"xaxis\":\"x\",\"yaxis\":\"y\",\"type\":\"histogram\"},{\"alignmentgroup\":\"True\",\"bingroup\":\"x\",\"hovertemplate\":\"parental level of education=associate's degree<br>writing score=%{x}<br>count=%{y}<extra></extra>\",\"legendgroup\":\"associate's degree\",\"marker\":{\"color\":\"#ab63fa\",\"pattern\":{\"shape\":\"\"}},\"name\":\"associate's degree\",\"offsetgroup\":\"associate's degree\",\"orientation\":\"v\",\"showlegend\":true,\"x\":[44,78,52,43,61,79,83,88,57,54,68,65,54,57,62,76,68,86,49,55,71,56,57,48,38,50,63,74,50,82,89,64,70,98,47,92,67,66,93,66,87,64,74,70,77,70,65,69,52,86,69,68,56,88,73,73,42,77,80,71,74,68,77,95,58,82,88,68,60,68,75,81,64,83,67,80,69,78,63,77,35,53,81,43,67,76,57,61,41,83,95,67,56,95,63,77,85,60,67,93,59,64,73,76,72,74,62,48,38,90,84,91,72,67,56,54,74,82,76,70,92,92,84,70,73,58,94,58,86,80,79,89,50,40,79,70,45,53,80,76,82,65,74,93,68,63,46,73,90,65,74,64,58,85,63,77,50,84,78,73,53,78,73,90,79,58,87,72,99,80,77,80,84,73,56,72,74,53,92,82,57,62,61,73,81,57,95,70,53,73,69,72,53,91,41,72,51,78,82,74,54,80,95,85,69,63,55,80,65,52,44,73,90,53,58,62,100,67,58,94,51,76],\"xaxis\":\"x\",\"yaxis\":\"y\",\"type\":\"histogram\"},{\"alignmentgroup\":\"True\",\"bingroup\":\"x\",\"hovertemplate\":\"parental level of education=high school<br>writing score=%{x}<br>count=%{y}<extra></extra>\",\"legendgroup\":\"high school\",\"marker\":{\"color\":\"#FFA15A\",\"pattern\":{\"shape\":\"\"}},\"name\":\"high school\",\"offsetgroup\":\"high school\",\"orientation\":\"v\",\"showlegend\":true,\"x\":[67,50,73,86,63,65,76,82,75,43,45,34,36,71,47,49,74,56,86,56,47,78,49,51,78,74,58,47,65,51,76,60,81,39,70,74,54,66,55,68,62,53,52,90,68,77,75,42,46,80,50,52,65,84,79,43,61,52,63,74,75,66,59,53,64,41,63,100,62,56,69,54,64,70,55,51,80,80,42,68,65,85,74,68,46,71,68,66,66,79,49,43,68,62,68,64,64,47,64,71,89,73,73,15,73,30,51,72,54,52,65,85,64,81,51,80,60,68,55,76,67,68,78,74,60,54,44,59,36,79,74,42,84,55,82,71,64,63,72,77,60,49,70,82,60,69,51,70,40,69,49,83,68,82,58,89,74,57,79,46,36,50,68,63,46,52,47,71,59,48,27,41,51,52,67,46,66,69,71,57,64,61,80,73,71,54,59,71,60,48,23,54,75,62,55,65],\"xaxis\":\"x\",\"yaxis\":\"y\",\"type\":\"histogram\"},{\"alignmentgroup\":\"True\",\"bingroup\":\"x\",\"hovertemplate\":\"parental level of education=some high school<br>writing score=%{x}<br>count=%{y}<extra></extra>\",\"legendgroup\":\"some high school\",\"marker\":{\"color\":\"#19d3f3\",\"pattern\":{\"shape\":\"\"}},\"name\":\"some high school\",\"offsetgroup\":\"some high school\",\"orientation\":\"v\",\"showlegend\":true,\"x\":[78,28,73,59,87,10,34,59,61,37,56,41,22,72,82,62,72,61,67,40,41,71,75,69,61,78,100,49,68,45,66,65,78,79,75,56,62,75,64,78,74,69,49,70,77,51,41,93,80,46,82,77,70,57,43,52,44,53,51,69,27,60,78,32,58,85,72,82,77,45,43,59,77,57,54,67,68,67,80,65,53,54,50,66,82,69,73,77,61,57,68,80,43,52,62,85,78,60,53,80,97,65,62,96,80,65,50,48,81,62,55,80,88,79,53,79,61,63,60,76,44,56,72,64,85,74,59,88,57,43,44,68,85,54,86,75,72,55,44,77,77,68,73,36,76,87,88,92,52,76,81,53,51,64,61,55,54,80,75,38,79,82,84,60,51,69,61,52,72,53,75,64,69,78,86,82,76,45,78],\"xaxis\":\"x\",\"yaxis\":\"y\",\"type\":\"histogram\"}],                        {\"template\":{\"data\":{\"histogram2dcontour\":[{\"type\":\"histogram2dcontour\",\"colorbar\":{\"outlinewidth\":0,\"ticks\":\"\"},\"colorscale\":[[0.0,\"#0d0887\"],[0.1111111111111111,\"#46039f\"],[0.2222222222222222,\"#7201a8\"],[0.3333333333333333,\"#9c179e\"],[0.4444444444444444,\"#bd3786\"],[0.5555555555555556,\"#d8576b\"],[0.6666666666666666,\"#ed7953\"],[0.7777777777777778,\"#fb9f3a\"],[0.8888888888888888,\"#fdca26\"],[1.0,\"#f0f921\"]]}],\"choropleth\":[{\"type\":\"choropleth\",\"colorbar\":{\"outlinewidth\":0,\"ticks\":\"\"}}],\"histogram2d\":[{\"type\":\"histogram2d\",\"colorbar\":{\"outlinewidth\":0,\"ticks\":\"\"},\"colorscale\":[[0.0,\"#0d0887\"],[0.1111111111111111,\"#46039f\"],[0.2222222222222222,\"#7201a8\"],[0.3333333333333333,\"#9c179e\"],[0.4444444444444444,\"#bd3786\"],[0.5555555555555556,\"#d8576b\"],[0.6666666666666666,\"#ed7953\"],[0.7777777777777778,\"#fb9f3a\"],[0.8888888888888888,\"#fdca26\"],[1.0,\"#f0f921\"]]}],\"heatmap\":[{\"type\":\"heatmap\",\"colorbar\":{\"outlinewidth\":0,\"ticks\":\"\"},\"colorscale\":[[0.0,\"#0d0887\"],[0.1111111111111111,\"#46039f\"],[0.2222222222222222,\"#7201a8\"],[0.3333333333333333,\"#9c179e\"],[0.4444444444444444,\"#bd3786\"],[0.5555555555555556,\"#d8576b\"],[0.6666666666666666,\"#ed7953\"],[0.7777777777777778,\"#fb9f3a\"],[0.8888888888888888,\"#fdca26\"],[1.0,\"#f0f921\"]]}],\"heatmapgl\":[{\"type\":\"heatmapgl\",\"colorbar\":{\"outlinewidth\":0,\"ticks\":\"\"},\"colorscale\":[[0.0,\"#0d0887\"],[0.1111111111111111,\"#46039f\"],[0.2222222222222222,\"#7201a8\"],[0.3333333333333333,\"#9c179e\"],[0.4444444444444444,\"#bd3786\"],[0.5555555555555556,\"#d8576b\"],[0.6666666666666666,\"#ed7953\"],[0.7777777777777778,\"#fb9f3a\"],[0.8888888888888888,\"#fdca26\"],[1.0,\"#f0f921\"]]}],\"contourcarpet\":[{\"type\":\"contourcarpet\",\"colorbar\":{\"outlinewidth\":0,\"ticks\":\"\"}}],\"contour\":[{\"type\":\"contour\",\"colorbar\":{\"outlinewidth\":0,\"ticks\":\"\"},\"colorscale\":[[0.0,\"#0d0887\"],[0.1111111111111111,\"#46039f\"],[0.2222222222222222,\"#7201a8\"],[0.3333333333333333,\"#9c179e\"],[0.4444444444444444,\"#bd3786\"],[0.5555555555555556,\"#d8576b\"],[0.6666666666666666,\"#ed7953\"],[0.7777777777777778,\"#fb9f3a\"],[0.8888888888888888,\"#fdca26\"],[1.0,\"#f0f921\"]]}],\"surface\":[{\"type\":\"surface\",\"colorbar\":{\"outlinewidth\":0,\"ticks\":\"\"},\"colorscale\":[[0.0,\"#0d0887\"],[0.1111111111111111,\"#46039f\"],[0.2222222222222222,\"#7201a8\"],[0.3333333333333333,\"#9c179e\"],[0.4444444444444444,\"#bd3786\"],[0.5555555555555556,\"#d8576b\"],[0.6666666666666666,\"#ed7953\"],[0.7777777777777778,\"#fb9f3a\"],[0.8888888888888888,\"#fdca26\"],[1.0,\"#f0f921\"]]}],\"mesh3d\":[{\"type\":\"mesh3d\",\"colorbar\":{\"outlinewidth\":0,\"ticks\":\"\"}}],\"scatter\":[{\"fillpattern\":{\"fillmode\":\"overlay\",\"size\":10,\"solidity\":0.2},\"type\":\"scatter\"}],\"parcoords\":[{\"type\":\"parcoords\",\"line\":{\"colorbar\":{\"outlinewidth\":0,\"ticks\":\"\"}}}],\"scatterpolargl\":[{\"type\":\"scatterpolargl\",\"marker\":{\"colorbar\":{\"outlinewidth\":0,\"ticks\":\"\"}}}],\"bar\":[{\"error_x\":{\"color\":\"#2a3f5f\"},\"error_y\":{\"color\":\"#2a3f5f\"},\"marker\":{\"line\":{\"color\":\"#E5ECF6\",\"width\":0.5},\"pattern\":{\"fillmode\":\"overlay\",\"size\":10,\"solidity\":0.2}},\"type\":\"bar\"}],\"scattergeo\":[{\"type\":\"scattergeo\",\"marker\":{\"colorbar\":{\"outlinewidth\":0,\"ticks\":\"\"}}}],\"scatterpolar\":[{\"type\":\"scatterpolar\",\"marker\":{\"colorbar\":{\"outlinewidth\":0,\"ticks\":\"\"}}}],\"histogram\":[{\"marker\":{\"pattern\":{\"fillmode\":\"overlay\",\"size\":10,\"solidity\":0.2}},\"type\":\"histogram\"}],\"scattergl\":[{\"type\":\"scattergl\",\"marker\":{\"colorbar\":{\"outlinewidth\":0,\"ticks\":\"\"}}}],\"scatter3d\":[{\"type\":\"scatter3d\",\"line\":{\"colorbar\":{\"outlinewidth\":0,\"ticks\":\"\"}},\"marker\":{\"colorbar\":{\"outlinewidth\":0,\"ticks\":\"\"}}}],\"scattermapbox\":[{\"type\":\"scattermapbox\",\"marker\":{\"colorbar\":{\"outlinewidth\":0,\"ticks\":\"\"}}}],\"scatterternary\":[{\"type\":\"scatterternary\",\"marker\":{\"colorbar\":{\"outlinewidth\":0,\"ticks\":\"\"}}}],\"scattercarpet\":[{\"type\":\"scattercarpet\",\"marker\":{\"colorbar\":{\"outlinewidth\":0,\"ticks\":\"\"}}}],\"carpet\":[{\"aaxis\":{\"endlinecolor\":\"#2a3f5f\",\"gridcolor\":\"white\",\"linecolor\":\"white\",\"minorgridcolor\":\"white\",\"startlinecolor\":\"#2a3f5f\"},\"baxis\":{\"endlinecolor\":\"#2a3f5f\",\"gridcolor\":\"white\",\"linecolor\":\"white\",\"minorgridcolor\":\"white\",\"startlinecolor\":\"#2a3f5f\"},\"type\":\"carpet\"}],\"table\":[{\"cells\":{\"fill\":{\"color\":\"#EBF0F8\"},\"line\":{\"color\":\"white\"}},\"header\":{\"fill\":{\"color\":\"#C8D4E3\"},\"line\":{\"color\":\"white\"}},\"type\":\"table\"}],\"barpolar\":[{\"marker\":{\"line\":{\"color\":\"#E5ECF6\",\"width\":0.5},\"pattern\":{\"fillmode\":\"overlay\",\"size\":10,\"solidity\":0.2}},\"type\":\"barpolar\"}],\"pie\":[{\"automargin\":true,\"type\":\"pie\"}]},\"layout\":{\"autotypenumbers\":\"strict\",\"colorway\":[\"#636efa\",\"#EF553B\",\"#00cc96\",\"#ab63fa\",\"#FFA15A\",\"#19d3f3\",\"#FF6692\",\"#B6E880\",\"#FF97FF\",\"#FECB52\"],\"font\":{\"color\":\"#2a3f5f\"},\"hovermode\":\"closest\",\"hoverlabel\":{\"align\":\"left\"},\"paper_bgcolor\":\"white\",\"plot_bgcolor\":\"#E5ECF6\",\"polar\":{\"bgcolor\":\"#E5ECF6\",\"angularaxis\":{\"gridcolor\":\"white\",\"linecolor\":\"white\",\"ticks\":\"\"},\"radialaxis\":{\"gridcolor\":\"white\",\"linecolor\":\"white\",\"ticks\":\"\"}},\"ternary\":{\"bgcolor\":\"#E5ECF6\",\"aaxis\":{\"gridcolor\":\"white\",\"linecolor\":\"white\",\"ticks\":\"\"},\"baxis\":{\"gridcolor\":\"white\",\"linecolor\":\"white\",\"ticks\":\"\"},\"caxis\":{\"gridcolor\":\"white\",\"linecolor\":\"white\",\"ticks\":\"\"}},\"coloraxis\":{\"colorbar\":{\"outlinewidth\":0,\"ticks\":\"\"}},\"colorscale\":{\"sequential\":[[0.0,\"#0d0887\"],[0.1111111111111111,\"#46039f\"],[0.2222222222222222,\"#7201a8\"],[0.3333333333333333,\"#9c179e\"],[0.4444444444444444,\"#bd3786\"],[0.5555555555555556,\"#d8576b\"],[0.6666666666666666,\"#ed7953\"],[0.7777777777777778,\"#fb9f3a\"],[0.8888888888888888,\"#fdca26\"],[1.0,\"#f0f921\"]],\"sequentialminus\":[[0.0,\"#0d0887\"],[0.1111111111111111,\"#46039f\"],[0.2222222222222222,\"#7201a8\"],[0.3333333333333333,\"#9c179e\"],[0.4444444444444444,\"#bd3786\"],[0.5555555555555556,\"#d8576b\"],[0.6666666666666666,\"#ed7953\"],[0.7777777777777778,\"#fb9f3a\"],[0.8888888888888888,\"#fdca26\"],[1.0,\"#f0f921\"]],\"diverging\":[[0,\"#8e0152\"],[0.1,\"#c51b7d\"],[0.2,\"#de77ae\"],[0.3,\"#f1b6da\"],[0.4,\"#fde0ef\"],[0.5,\"#f7f7f7\"],[0.6,\"#e6f5d0\"],[0.7,\"#b8e186\"],[0.8,\"#7fbc41\"],[0.9,\"#4d9221\"],[1,\"#276419\"]]},\"xaxis\":{\"gridcolor\":\"white\",\"linecolor\":\"white\",\"ticks\":\"\",\"title\":{\"standoff\":15},\"zerolinecolor\":\"white\",\"automargin\":true,\"zerolinewidth\":2},\"yaxis\":{\"gridcolor\":\"white\",\"linecolor\":\"white\",\"ticks\":\"\",\"title\":{\"standoff\":15},\"zerolinecolor\":\"white\",\"automargin\":true,\"zerolinewidth\":2},\"scene\":{\"xaxis\":{\"backgroundcolor\":\"#E5ECF6\",\"gridcolor\":\"white\",\"linecolor\":\"white\",\"showbackground\":true,\"ticks\":\"\",\"zerolinecolor\":\"white\",\"gridwidth\":2},\"yaxis\":{\"backgroundcolor\":\"#E5ECF6\",\"gridcolor\":\"white\",\"linecolor\":\"white\",\"showbackground\":true,\"ticks\":\"\",\"zerolinecolor\":\"white\",\"gridwidth\":2},\"zaxis\":{\"backgroundcolor\":\"#E5ECF6\",\"gridcolor\":\"white\",\"linecolor\":\"white\",\"showbackground\":true,\"ticks\":\"\",\"zerolinecolor\":\"white\",\"gridwidth\":2}},\"shapedefaults\":{\"line\":{\"color\":\"#2a3f5f\"}},\"annotationdefaults\":{\"arrowcolor\":\"#2a3f5f\",\"arrowhead\":0,\"arrowwidth\":1},\"geo\":{\"bgcolor\":\"white\",\"landcolor\":\"#E5ECF6\",\"subunitcolor\":\"white\",\"showland\":true,\"showlakes\":true,\"lakecolor\":\"white\"},\"title\":{\"x\":0.05},\"mapbox\":{\"style\":\"light\"}}},\"xaxis\":{\"anchor\":\"y\",\"domain\":[0.0,1.0],\"title\":{\"text\":\"writing score\"}},\"yaxis\":{\"anchor\":\"x\",\"domain\":[0.0,1.0],\"title\":{\"text\":\"count\"}},\"legend\":{\"title\":{\"text\":\"parental level of education\"},\"tracegroupgap\":0},\"margin\":{\"t\":60},\"barmode\":\"relative\"},                        {\"responsive\": true}                    ).then(function(){\n",
       "                            \n",
       "var gd = document.getElementById('89e71709-efb0-4ccf-8524-8abbec12a3aa');\n",
       "var x = new MutationObserver(function (mutations, observer) {{\n",
       "        var display = window.getComputedStyle(gd).display;\n",
       "        if (!display || display === 'none') {{\n",
       "            console.log([gd, 'removed!']);\n",
       "            Plotly.purge(gd);\n",
       "            observer.disconnect();\n",
       "        }}\n",
       "}});\n",
       "\n",
       "// Listen for the removal of the full notebook cells\n",
       "var notebookContainer = gd.closest('#notebook-container');\n",
       "if (notebookContainer) {{\n",
       "    x.observe(notebookContainer, {childList: true});\n",
       "}}\n",
       "\n",
       "// Listen for the clearing of the current output cell\n",
       "var outputEl = gd.closest('.output');\n",
       "if (outputEl) {{\n",
       "    x.observe(outputEl, {childList: true});\n",
       "}}\n",
       "\n",
       "                        })                };                });            </script>        </div>"
      ]
     },
     "metadata": {},
     "output_type": "display_data"
    }
   ],
   "source": [
    "for coluna in table[[\"parental level of education\", \"math score\", \"reading score\", \"writing score\"]]:\n",
    "    if coluna != \"parental level of education\":\n",
    "        fig = px.histogram(table[[\"parental level of education\", \"math score\", \"reading score\", \"writing score\"]], x=coluna, color=\"parental level of education\")\n",
    "        fig.show()"
   ]
  },
  {
   "cell_type": "markdown",
   "metadata": {},
   "source": [
    "## 👥 Race/Ethnicity X Scores\n",
    "\n",
    "Well there is not much to see or figure out over counting since the values of this column are just groups from A to E\n",
    "\n",
    "> Groups C and D are the groups that have more students in a notable way\n",
    "\n",
    "&nbsp;\n",
    "\n",
    "> Groups A and E are the groups that have less students in a notable way, but group E actualy dominates more the 100 scores\n",
    "\n",
    "&nbsp;\n",
    "\n",
    "Those who are not from groups A and B have more chances to have a score over 80"
   ]
  },
  {
   "cell_type": "code",
   "execution_count": 23,
   "metadata": {},
   "outputs": [
    {
     "data": {
      "application/vnd.plotly.v1+json": {
       "config": {
        "plotlyServerURL": "https://plot.ly"
       },
       "data": [
        {
         "alignmentgroup": "True",
         "bingroup": "x",
         "hovertemplate": "race/ethnicity=group A<br>math score=%{x}<br>count=%{y}<extra></extra>",
         "legendgroup": "group A",
         "marker": {
          "color": "#636efa",
          "pattern": {
           "shape": ""
          }
         },
         "name": "group A",
         "offsetgroup": "group A",
         "orientation": "v",
         "showlegend": true,
         "type": "histogram",
         "x": [
          72,
          92,
          85,
          37,
          69,
          62,
          39,
          53,
          54,
          81,
          54,
          46,
          69,
          77,
          91,
          40,
          61,
          61,
          62,
          61,
          53,
          71,
          97,
          41,
          58,
          79,
          65,
          64,
          63,
          58,
          56,
          72,
          49,
          50,
          68,
          75,
          64,
          77,
          80,
          66,
          28,
          72,
          75,
          44,
          55,
          55,
          55,
          63,
          47,
          59,
          45,
          34,
          51,
          50,
          78,
          51,
          68,
          65,
          67,
          53,
          68,
          50,
          48,
          47,
          75,
          49,
          79,
          57,
          87,
          59,
          61,
          66,
          71,
          78,
          71,
          45,
          57,
          82,
          59,
          44,
          100,
          65,
          62,
          38,
          59,
          73,
          48,
          47,
          53
         ],
         "xaxis": "x",
         "yaxis": "y"
        },
        {
         "alignmentgroup": "True",
         "bingroup": "x",
         "hovertemplate": "race/ethnicity=group B<br>math score=%{x}<br>count=%{y}<extra></extra>",
         "legendgroup": "group B",
         "marker": {
          "color": "#EF553B",
          "pattern": {
           "shape": ""
          }
         },
         "name": "group B",
         "offsetgroup": "group B",
         "orientation": "v",
         "showlegend": true,
         "type": "histogram",
         "x": [
          68,
          94,
          80,
          58,
          85,
          60,
          71,
          61,
          59,
          23,
          62,
          52,
          73,
          88,
          61,
          70,
          59,
          82,
          75,
          60,
          58,
          54,
          64,
          67,
          52,
          87,
          36,
          65,
          52,
          97,
          81,
          77,
          69,
          58,
          61,
          90,
          41,
          58,
          37,
          63,
          73,
          53,
          74,
          80,
          67,
          88,
          67,
          66,
          50,
          72,
          65,
          76,
          30,
          74,
          47,
          68,
          48,
          81,
          71,
          63,
          53,
          48,
          48,
          53,
          40,
          87,
          60,
          58,
          62,
          69,
          50,
          60,
          62,
          77,
          62,
          62,
          73,
          55,
          50,
          70,
          72,
          57,
          67,
          66,
          79,
          59,
          65,
          73,
          87,
          67,
          61,
          54,
          72,
          77,
          76,
          81,
          47,
          66,
          73,
          19,
          41,
          48,
          42,
          63,
          82,
          82,
          32,
          74,
          90,
          66,
          69,
          77,
          54,
          55,
          82,
          62,
          94,
          49,
          74,
          76,
          54,
          64,
          49,
          52,
          73,
          52,
          66,
          66,
          24,
          63,
          91,
          58,
          61,
          68,
          67,
          46,
          60,
          52,
          46,
          65,
          8,
          59,
          53,
          57,
          48,
          62,
          57,
          79,
          63,
          49,
          75,
          82,
          61,
          58,
          75,
          87,
          72,
          82,
          70,
          52,
          49,
          60,
          65,
          51,
          65,
          79,
          88,
          49,
          59,
          47,
          54,
          44,
          60,
          79,
          45,
          91,
          69,
          65,
          40,
          90,
          78,
          74,
          58,
          65,
          71,
          18,
          88,
          57,
          38,
          84
         ],
         "xaxis": "x",
         "yaxis": "y"
        },
        {
         "alignmentgroup": "True",
         "bingroup": "x",
         "hovertemplate": "race/ethnicity=group C<br>math score=%{x}<br>count=%{y}<extra></extra>",
         "legendgroup": "group C",
         "marker": {
          "color": "#00cc96",
          "pattern": {
           "shape": ""
          }
         },
         "name": "group C",
         "offsetgroup": "group C",
         "orientation": "v",
         "showlegend": true,
         "type": "histogram",
         "x": [
          54,
          73,
          76,
          58,
          27,
          43,
          64,
          83,
          75,
          65,
          63,
          81,
          71,
          44,
          79,
          73,
          36,
          56,
          77,
          49,
          77,
          53,
          54,
          65,
          58,
          61,
          49,
          53,
          76,
          86,
          65,
          74,
          91,
          60,
          68,
          70,
          62,
          37,
          69,
          65,
          53,
          65,
          65,
          52,
          64,
          54,
          84,
          34,
          91,
          67,
          69,
          55,
          79,
          53,
          78,
          66,
          77,
          29,
          79,
          84,
          50,
          63,
          62,
          62,
          58,
          98,
          68,
          63,
          83,
          91,
          58,
          35,
          84,
          73,
          76,
          62,
          63,
          68,
          69,
          55,
          56,
          92,
          58,
          50,
          54,
          58,
          66,
          54,
          44,
          46,
          65,
          53,
          66,
          91,
          87,
          62,
          82,
          76,
          96,
          66,
          58,
          67,
          35,
          65,
          93,
          60,
          40,
          65,
          94,
          58,
          74,
          40,
          85,
          75,
          73,
          75,
          29,
          75,
          62,
          53,
          62,
          72,
          60,
          59,
          51,
          81,
          62,
          75,
          39,
          69,
          66,
          50,
          51,
          66,
          58,
          70,
          47,
          79,
          79,
          49,
          81,
          50,
          53,
          88,
          71,
          67,
          69,
          33,
          92,
          59,
          64,
          96,
          63,
          61,
          69,
          61,
          67,
          32,
          78,
          0,
          55,
          86,
          68,
          66,
          83,
          71,
          59,
          68,
          64,
          71,
          62,
          51,
          67,
          46,
          74,
          52,
          67,
          45,
          91,
          40,
          65,
          59,
          63,
          47,
          71,
          81,
          43,
          72,
          96,
          53,
          61,
          58,
          49,
          60,
          67,
          83,
          71,
          57,
          47,
          71,
          63,
          82,
          43,
          61,
          70,
          82,
          41,
          44,
          77,
          76,
          67,
          69,
          43,
          68,
          59,
          73,
          80,
          85,
          57,
          63,
          70,
          84,
          83,
          54,
          46,
          88,
          72,
          35,
          42,
          55,
          60,
          62,
          77,
          67,
          78,
          62,
          69,
          65,
          59,
          65,
          87,
          85,
          83,
          53,
          64,
          58,
          71,
          97,
          63,
          59,
          49,
          44,
          79,
          64,
          65,
          69,
          74,
          70,
          98,
          62,
          48,
          73,
          87,
          53,
          22,
          67,
          72,
          57,
          54,
          82,
          59,
          90,
          57,
          72,
          65,
          70,
          76,
          75,
          63,
          54,
          67,
          52,
          86,
          58,
          51,
          52,
          71,
          85,
          74,
          59,
          59,
          77,
          79,
          88,
          61,
          69,
          59,
          73,
          56,
          52,
          61,
          65,
          50,
          35,
          52,
          59,
          46,
          63,
          42,
          70,
          73,
          48,
          64,
          81,
          61,
          62,
          45,
          68,
          69
         ],
         "xaxis": "x",
         "yaxis": "y"
        },
        {
         "alignmentgroup": "True",
         "bingroup": "x",
         "hovertemplate": "race/ethnicity=group D<br>math score=%{x}<br>count=%{y}<extra></extra>",
         "legendgroup": "group D",
         "marker": {
          "color": "#ab63fa",
          "pattern": {
           "shape": ""
          }
         },
         "name": "group D",
         "offsetgroup": "group D",
         "orientation": "v",
         "showlegend": true,
         "type": "histogram",
         "x": [
          64,
          67,
          55,
          59,
          77,
          78,
          63,
          85,
          46,
          77,
          67,
          75,
          70,
          88,
          57,
          93,
          69,
          81,
          65,
          55,
          60,
          77,
          49,
          46,
          44,
          79,
          66,
          62,
          85,
          69,
          67,
          55,
          65,
          61,
          39,
          74,
          78,
          78,
          72,
          49,
          48,
          81,
          62,
          52,
          55,
          72,
          89,
          69,
          63,
          72,
          69,
          71,
          48,
          60,
          55,
          73,
          82,
          42,
          70,
          98,
          39,
          67,
          75,
          81,
          64,
          92,
          89,
          88,
          81,
          79,
          55,
          61,
          80,
          50,
          62,
          64,
          68,
          40,
          45,
          80,
          77,
          56,
          51,
          73,
          62,
          78,
          51,
          63,
          85,
          80,
          59,
          77,
          82,
          74,
          82,
          73,
          27,
          80,
          59,
          89,
          75,
          79,
          65,
          77,
          60,
          88,
          71,
          73,
          53,
          79,
          69,
          78,
          58,
          89,
          75,
          75,
          65,
          57,
          65,
          68,
          68,
          85,
          87,
          71,
          70,
          87,
          52,
          67,
          35,
          76,
          74,
          54,
          80,
          71,
          75,
          79,
          56,
          73,
          64,
          63,
          97,
          80,
          65,
          76,
          57,
          62,
          86,
          76,
          56,
          77,
          61,
          80,
          66,
          42,
          76,
          69,
          81,
          77,
          67,
          49,
          71,
          56,
          76,
          90,
          78,
          88,
          86,
          68,
          70,
          73,
          45,
          53,
          65,
          54,
          47,
          62,
          88,
          59,
          26,
          47,
          71,
          100,
          69,
          95,
          88,
          69,
          40,
          84,
          60,
          54,
          61,
          65,
          74,
          50,
          59,
          75,
          57,
          73,
          63,
          81,
          53,
          69,
          49,
          67,
          84,
          69,
          52,
          81,
          80,
          55,
          64,
          40,
          90,
          43,
          69,
          66,
          85,
          69,
          44,
          59,
          74,
          74,
          41,
          76,
          62,
          80,
          88,
          68,
          69,
          74,
          51,
          45,
          59,
          58,
          68,
          74,
          40,
          68,
          29,
          63,
          61,
          71,
          76,
          62,
          74,
          66,
          69,
          61,
          59,
          61,
          73,
          80,
          74,
          77,
          55,
          58,
          64,
          82,
          79,
          52,
          63,
          52
         ],
         "xaxis": "x",
         "yaxis": "y"
        },
        {
         "alignmentgroup": "True",
         "bingroup": "x",
         "hovertemplate": "race/ethnicity=group E<br>math score=%{x}<br>count=%{y}<extra></extra>",
         "legendgroup": "group E",
         "marker": {
          "color": "#FFA15A",
          "pattern": {
           "shape": ""
          }
         },
         "name": "group E",
         "offsetgroup": "group E",
         "orientation": "v",
         "showlegend": true,
         "type": "histogram",
         "x": [
          100,
          72,
          100,
          55,
          80,
          70,
          63,
          62,
          66,
          50,
          88,
          94,
          68,
          72,
          82,
          74,
          77,
          57,
          53,
          83,
          87,
          50,
          70,
          99,
          81,
          79,
          42,
          97,
          46,
          100,
          64,
          81,
          56,
          66,
          74,
          68,
          94,
          30,
          66,
          86,
          75,
          81,
          57,
          73,
          81,
          78,
          85,
          79,
          62,
          68,
          68,
          84,
          70,
          66,
          53,
          95,
          76,
          71,
          94,
          100,
          100,
          72,
          57,
          89,
          57,
          76,
          84,
          92,
          74,
          94,
          85,
          93,
          73,
          64,
          74,
          79,
          86,
          61,
          53,
          80,
          61,
          76,
          91,
          74,
          68,
          81,
          65,
          68,
          77,
          37,
          70,
          69,
          84,
          81,
          71,
          78,
          99,
          62,
          90,
          89,
          59,
          80,
          59,
          71,
          93,
          92,
          86,
          85,
          45,
          59,
          32,
          83,
          87,
          51,
          97,
          82,
          87,
          87,
          41,
          76,
          73,
          87,
          64,
          67,
          38,
          46,
          49,
          84,
          66,
          87,
          73,
          62,
          75,
          99,
          90,
          71,
          65,
          77,
          82,
          76
         ],
         "xaxis": "x",
         "yaxis": "y"
        }
       ],
       "layout": {
        "barmode": "relative",
        "legend": {
         "title": {
          "text": "race/ethnicity"
         },
         "tracegroupgap": 0
        },
        "margin": {
         "t": 60
        },
        "template": {
         "data": {
          "bar": [
           {
            "error_x": {
             "color": "#2a3f5f"
            },
            "error_y": {
             "color": "#2a3f5f"
            },
            "marker": {
             "line": {
              "color": "#E5ECF6",
              "width": 0.5
             },
             "pattern": {
              "fillmode": "overlay",
              "size": 10,
              "solidity": 0.2
             }
            },
            "type": "bar"
           }
          ],
          "barpolar": [
           {
            "marker": {
             "line": {
              "color": "#E5ECF6",
              "width": 0.5
             },
             "pattern": {
              "fillmode": "overlay",
              "size": 10,
              "solidity": 0.2
             }
            },
            "type": "barpolar"
           }
          ],
          "carpet": [
           {
            "aaxis": {
             "endlinecolor": "#2a3f5f",
             "gridcolor": "white",
             "linecolor": "white",
             "minorgridcolor": "white",
             "startlinecolor": "#2a3f5f"
            },
            "baxis": {
             "endlinecolor": "#2a3f5f",
             "gridcolor": "white",
             "linecolor": "white",
             "minorgridcolor": "white",
             "startlinecolor": "#2a3f5f"
            },
            "type": "carpet"
           }
          ],
          "choropleth": [
           {
            "colorbar": {
             "outlinewidth": 0,
             "ticks": ""
            },
            "type": "choropleth"
           }
          ],
          "contour": [
           {
            "colorbar": {
             "outlinewidth": 0,
             "ticks": ""
            },
            "colorscale": [
             [
              0,
              "#0d0887"
             ],
             [
              0.1111111111111111,
              "#46039f"
             ],
             [
              0.2222222222222222,
              "#7201a8"
             ],
             [
              0.3333333333333333,
              "#9c179e"
             ],
             [
              0.4444444444444444,
              "#bd3786"
             ],
             [
              0.5555555555555556,
              "#d8576b"
             ],
             [
              0.6666666666666666,
              "#ed7953"
             ],
             [
              0.7777777777777778,
              "#fb9f3a"
             ],
             [
              0.8888888888888888,
              "#fdca26"
             ],
             [
              1,
              "#f0f921"
             ]
            ],
            "type": "contour"
           }
          ],
          "contourcarpet": [
           {
            "colorbar": {
             "outlinewidth": 0,
             "ticks": ""
            },
            "type": "contourcarpet"
           }
          ],
          "heatmap": [
           {
            "colorbar": {
             "outlinewidth": 0,
             "ticks": ""
            },
            "colorscale": [
             [
              0,
              "#0d0887"
             ],
             [
              0.1111111111111111,
              "#46039f"
             ],
             [
              0.2222222222222222,
              "#7201a8"
             ],
             [
              0.3333333333333333,
              "#9c179e"
             ],
             [
              0.4444444444444444,
              "#bd3786"
             ],
             [
              0.5555555555555556,
              "#d8576b"
             ],
             [
              0.6666666666666666,
              "#ed7953"
             ],
             [
              0.7777777777777778,
              "#fb9f3a"
             ],
             [
              0.8888888888888888,
              "#fdca26"
             ],
             [
              1,
              "#f0f921"
             ]
            ],
            "type": "heatmap"
           }
          ],
          "heatmapgl": [
           {
            "colorbar": {
             "outlinewidth": 0,
             "ticks": ""
            },
            "colorscale": [
             [
              0,
              "#0d0887"
             ],
             [
              0.1111111111111111,
              "#46039f"
             ],
             [
              0.2222222222222222,
              "#7201a8"
             ],
             [
              0.3333333333333333,
              "#9c179e"
             ],
             [
              0.4444444444444444,
              "#bd3786"
             ],
             [
              0.5555555555555556,
              "#d8576b"
             ],
             [
              0.6666666666666666,
              "#ed7953"
             ],
             [
              0.7777777777777778,
              "#fb9f3a"
             ],
             [
              0.8888888888888888,
              "#fdca26"
             ],
             [
              1,
              "#f0f921"
             ]
            ],
            "type": "heatmapgl"
           }
          ],
          "histogram": [
           {
            "marker": {
             "pattern": {
              "fillmode": "overlay",
              "size": 10,
              "solidity": 0.2
             }
            },
            "type": "histogram"
           }
          ],
          "histogram2d": [
           {
            "colorbar": {
             "outlinewidth": 0,
             "ticks": ""
            },
            "colorscale": [
             [
              0,
              "#0d0887"
             ],
             [
              0.1111111111111111,
              "#46039f"
             ],
             [
              0.2222222222222222,
              "#7201a8"
             ],
             [
              0.3333333333333333,
              "#9c179e"
             ],
             [
              0.4444444444444444,
              "#bd3786"
             ],
             [
              0.5555555555555556,
              "#d8576b"
             ],
             [
              0.6666666666666666,
              "#ed7953"
             ],
             [
              0.7777777777777778,
              "#fb9f3a"
             ],
             [
              0.8888888888888888,
              "#fdca26"
             ],
             [
              1,
              "#f0f921"
             ]
            ],
            "type": "histogram2d"
           }
          ],
          "histogram2dcontour": [
           {
            "colorbar": {
             "outlinewidth": 0,
             "ticks": ""
            },
            "colorscale": [
             [
              0,
              "#0d0887"
             ],
             [
              0.1111111111111111,
              "#46039f"
             ],
             [
              0.2222222222222222,
              "#7201a8"
             ],
             [
              0.3333333333333333,
              "#9c179e"
             ],
             [
              0.4444444444444444,
              "#bd3786"
             ],
             [
              0.5555555555555556,
              "#d8576b"
             ],
             [
              0.6666666666666666,
              "#ed7953"
             ],
             [
              0.7777777777777778,
              "#fb9f3a"
             ],
             [
              0.8888888888888888,
              "#fdca26"
             ],
             [
              1,
              "#f0f921"
             ]
            ],
            "type": "histogram2dcontour"
           }
          ],
          "mesh3d": [
           {
            "colorbar": {
             "outlinewidth": 0,
             "ticks": ""
            },
            "type": "mesh3d"
           }
          ],
          "parcoords": [
           {
            "line": {
             "colorbar": {
              "outlinewidth": 0,
              "ticks": ""
             }
            },
            "type": "parcoords"
           }
          ],
          "pie": [
           {
            "automargin": true,
            "type": "pie"
           }
          ],
          "scatter": [
           {
            "fillpattern": {
             "fillmode": "overlay",
             "size": 10,
             "solidity": 0.2
            },
            "type": "scatter"
           }
          ],
          "scatter3d": [
           {
            "line": {
             "colorbar": {
              "outlinewidth": 0,
              "ticks": ""
             }
            },
            "marker": {
             "colorbar": {
              "outlinewidth": 0,
              "ticks": ""
             }
            },
            "type": "scatter3d"
           }
          ],
          "scattercarpet": [
           {
            "marker": {
             "colorbar": {
              "outlinewidth": 0,
              "ticks": ""
             }
            },
            "type": "scattercarpet"
           }
          ],
          "scattergeo": [
           {
            "marker": {
             "colorbar": {
              "outlinewidth": 0,
              "ticks": ""
             }
            },
            "type": "scattergeo"
           }
          ],
          "scattergl": [
           {
            "marker": {
             "colorbar": {
              "outlinewidth": 0,
              "ticks": ""
             }
            },
            "type": "scattergl"
           }
          ],
          "scattermapbox": [
           {
            "marker": {
             "colorbar": {
              "outlinewidth": 0,
              "ticks": ""
             }
            },
            "type": "scattermapbox"
           }
          ],
          "scatterpolar": [
           {
            "marker": {
             "colorbar": {
              "outlinewidth": 0,
              "ticks": ""
             }
            },
            "type": "scatterpolar"
           }
          ],
          "scatterpolargl": [
           {
            "marker": {
             "colorbar": {
              "outlinewidth": 0,
              "ticks": ""
             }
            },
            "type": "scatterpolargl"
           }
          ],
          "scatterternary": [
           {
            "marker": {
             "colorbar": {
              "outlinewidth": 0,
              "ticks": ""
             }
            },
            "type": "scatterternary"
           }
          ],
          "surface": [
           {
            "colorbar": {
             "outlinewidth": 0,
             "ticks": ""
            },
            "colorscale": [
             [
              0,
              "#0d0887"
             ],
             [
              0.1111111111111111,
              "#46039f"
             ],
             [
              0.2222222222222222,
              "#7201a8"
             ],
             [
              0.3333333333333333,
              "#9c179e"
             ],
             [
              0.4444444444444444,
              "#bd3786"
             ],
             [
              0.5555555555555556,
              "#d8576b"
             ],
             [
              0.6666666666666666,
              "#ed7953"
             ],
             [
              0.7777777777777778,
              "#fb9f3a"
             ],
             [
              0.8888888888888888,
              "#fdca26"
             ],
             [
              1,
              "#f0f921"
             ]
            ],
            "type": "surface"
           }
          ],
          "table": [
           {
            "cells": {
             "fill": {
              "color": "#EBF0F8"
             },
             "line": {
              "color": "white"
             }
            },
            "header": {
             "fill": {
              "color": "#C8D4E3"
             },
             "line": {
              "color": "white"
             }
            },
            "type": "table"
           }
          ]
         },
         "layout": {
          "annotationdefaults": {
           "arrowcolor": "#2a3f5f",
           "arrowhead": 0,
           "arrowwidth": 1
          },
          "autotypenumbers": "strict",
          "coloraxis": {
           "colorbar": {
            "outlinewidth": 0,
            "ticks": ""
           }
          },
          "colorscale": {
           "diverging": [
            [
             0,
             "#8e0152"
            ],
            [
             0.1,
             "#c51b7d"
            ],
            [
             0.2,
             "#de77ae"
            ],
            [
             0.3,
             "#f1b6da"
            ],
            [
             0.4,
             "#fde0ef"
            ],
            [
             0.5,
             "#f7f7f7"
            ],
            [
             0.6,
             "#e6f5d0"
            ],
            [
             0.7,
             "#b8e186"
            ],
            [
             0.8,
             "#7fbc41"
            ],
            [
             0.9,
             "#4d9221"
            ],
            [
             1,
             "#276419"
            ]
           ],
           "sequential": [
            [
             0,
             "#0d0887"
            ],
            [
             0.1111111111111111,
             "#46039f"
            ],
            [
             0.2222222222222222,
             "#7201a8"
            ],
            [
             0.3333333333333333,
             "#9c179e"
            ],
            [
             0.4444444444444444,
             "#bd3786"
            ],
            [
             0.5555555555555556,
             "#d8576b"
            ],
            [
             0.6666666666666666,
             "#ed7953"
            ],
            [
             0.7777777777777778,
             "#fb9f3a"
            ],
            [
             0.8888888888888888,
             "#fdca26"
            ],
            [
             1,
             "#f0f921"
            ]
           ],
           "sequentialminus": [
            [
             0,
             "#0d0887"
            ],
            [
             0.1111111111111111,
             "#46039f"
            ],
            [
             0.2222222222222222,
             "#7201a8"
            ],
            [
             0.3333333333333333,
             "#9c179e"
            ],
            [
             0.4444444444444444,
             "#bd3786"
            ],
            [
             0.5555555555555556,
             "#d8576b"
            ],
            [
             0.6666666666666666,
             "#ed7953"
            ],
            [
             0.7777777777777778,
             "#fb9f3a"
            ],
            [
             0.8888888888888888,
             "#fdca26"
            ],
            [
             1,
             "#f0f921"
            ]
           ]
          },
          "colorway": [
           "#636efa",
           "#EF553B",
           "#00cc96",
           "#ab63fa",
           "#FFA15A",
           "#19d3f3",
           "#FF6692",
           "#B6E880",
           "#FF97FF",
           "#FECB52"
          ],
          "font": {
           "color": "#2a3f5f"
          },
          "geo": {
           "bgcolor": "white",
           "lakecolor": "white",
           "landcolor": "#E5ECF6",
           "showlakes": true,
           "showland": true,
           "subunitcolor": "white"
          },
          "hoverlabel": {
           "align": "left"
          },
          "hovermode": "closest",
          "mapbox": {
           "style": "light"
          },
          "paper_bgcolor": "white",
          "plot_bgcolor": "#E5ECF6",
          "polar": {
           "angularaxis": {
            "gridcolor": "white",
            "linecolor": "white",
            "ticks": ""
           },
           "bgcolor": "#E5ECF6",
           "radialaxis": {
            "gridcolor": "white",
            "linecolor": "white",
            "ticks": ""
           }
          },
          "scene": {
           "xaxis": {
            "backgroundcolor": "#E5ECF6",
            "gridcolor": "white",
            "gridwidth": 2,
            "linecolor": "white",
            "showbackground": true,
            "ticks": "",
            "zerolinecolor": "white"
           },
           "yaxis": {
            "backgroundcolor": "#E5ECF6",
            "gridcolor": "white",
            "gridwidth": 2,
            "linecolor": "white",
            "showbackground": true,
            "ticks": "",
            "zerolinecolor": "white"
           },
           "zaxis": {
            "backgroundcolor": "#E5ECF6",
            "gridcolor": "white",
            "gridwidth": 2,
            "linecolor": "white",
            "showbackground": true,
            "ticks": "",
            "zerolinecolor": "white"
           }
          },
          "shapedefaults": {
           "line": {
            "color": "#2a3f5f"
           }
          },
          "ternary": {
           "aaxis": {
            "gridcolor": "white",
            "linecolor": "white",
            "ticks": ""
           },
           "baxis": {
            "gridcolor": "white",
            "linecolor": "white",
            "ticks": ""
           },
           "bgcolor": "#E5ECF6",
           "caxis": {
            "gridcolor": "white",
            "linecolor": "white",
            "ticks": ""
           }
          },
          "title": {
           "x": 0.05
          },
          "xaxis": {
           "automargin": true,
           "gridcolor": "white",
           "linecolor": "white",
           "ticks": "",
           "title": {
            "standoff": 15
           },
           "zerolinecolor": "white",
           "zerolinewidth": 2
          },
          "yaxis": {
           "automargin": true,
           "gridcolor": "white",
           "linecolor": "white",
           "ticks": "",
           "title": {
            "standoff": 15
           },
           "zerolinecolor": "white",
           "zerolinewidth": 2
          }
         }
        },
        "xaxis": {
         "anchor": "y",
         "domain": [
          0,
          1
         ],
         "title": {
          "text": "math score"
         }
        },
        "yaxis": {
         "anchor": "x",
         "domain": [
          0,
          1
         ],
         "title": {
          "text": "count"
         }
        }
       }
      },
      "text/html": [
       "<div>                            <div id=\"7f3e17ef-2367-459c-b83b-936481b563c0\" class=\"plotly-graph-div\" style=\"height:525px; width:100%;\"></div>            <script type=\"text/javascript\">                require([\"plotly\"], function(Plotly) {                    window.PLOTLYENV=window.PLOTLYENV || {};                                    if (document.getElementById(\"7f3e17ef-2367-459c-b83b-936481b563c0\")) {                    Plotly.newPlot(                        \"7f3e17ef-2367-459c-b83b-936481b563c0\",                        [{\"alignmentgroup\":\"True\",\"bingroup\":\"x\",\"hovertemplate\":\"race/ethnicity=group A<br>math score=%{x}<br>count=%{y}<extra></extra>\",\"legendgroup\":\"group A\",\"marker\":{\"color\":\"#636efa\",\"pattern\":{\"shape\":\"\"}},\"name\":\"group A\",\"offsetgroup\":\"group A\",\"orientation\":\"v\",\"showlegend\":true,\"x\":[72,92,85,37,69,62,39,53,54,81,54,46,69,77,91,40,61,61,62,61,53,71,97,41,58,79,65,64,63,58,56,72,49,50,68,75,64,77,80,66,28,72,75,44,55,55,55,63,47,59,45,34,51,50,78,51,68,65,67,53,68,50,48,47,75,49,79,57,87,59,61,66,71,78,71,45,57,82,59,44,100,65,62,38,59,73,48,47,53],\"xaxis\":\"x\",\"yaxis\":\"y\",\"type\":\"histogram\"},{\"alignmentgroup\":\"True\",\"bingroup\":\"x\",\"hovertemplate\":\"race/ethnicity=group B<br>math score=%{x}<br>count=%{y}<extra></extra>\",\"legendgroup\":\"group B\",\"marker\":{\"color\":\"#EF553B\",\"pattern\":{\"shape\":\"\"}},\"name\":\"group B\",\"offsetgroup\":\"group B\",\"orientation\":\"v\",\"showlegend\":true,\"x\":[68,94,80,58,85,60,71,61,59,23,62,52,73,88,61,70,59,82,75,60,58,54,64,67,52,87,36,65,52,97,81,77,69,58,61,90,41,58,37,63,73,53,74,80,67,88,67,66,50,72,65,76,30,74,47,68,48,81,71,63,53,48,48,53,40,87,60,58,62,69,50,60,62,77,62,62,73,55,50,70,72,57,67,66,79,59,65,73,87,67,61,54,72,77,76,81,47,66,73,19,41,48,42,63,82,82,32,74,90,66,69,77,54,55,82,62,94,49,74,76,54,64,49,52,73,52,66,66,24,63,91,58,61,68,67,46,60,52,46,65,8,59,53,57,48,62,57,79,63,49,75,82,61,58,75,87,72,82,70,52,49,60,65,51,65,79,88,49,59,47,54,44,60,79,45,91,69,65,40,90,78,74,58,65,71,18,88,57,38,84],\"xaxis\":\"x\",\"yaxis\":\"y\",\"type\":\"histogram\"},{\"alignmentgroup\":\"True\",\"bingroup\":\"x\",\"hovertemplate\":\"race/ethnicity=group C<br>math score=%{x}<br>count=%{y}<extra></extra>\",\"legendgroup\":\"group C\",\"marker\":{\"color\":\"#00cc96\",\"pattern\":{\"shape\":\"\"}},\"name\":\"group C\",\"offsetgroup\":\"group C\",\"orientation\":\"v\",\"showlegend\":true,\"x\":[54,73,76,58,27,43,64,83,75,65,63,81,71,44,79,73,36,56,77,49,77,53,54,65,58,61,49,53,76,86,65,74,91,60,68,70,62,37,69,65,53,65,65,52,64,54,84,34,91,67,69,55,79,53,78,66,77,29,79,84,50,63,62,62,58,98,68,63,83,91,58,35,84,73,76,62,63,68,69,55,56,92,58,50,54,58,66,54,44,46,65,53,66,91,87,62,82,76,96,66,58,67,35,65,93,60,40,65,94,58,74,40,85,75,73,75,29,75,62,53,62,72,60,59,51,81,62,75,39,69,66,50,51,66,58,70,47,79,79,49,81,50,53,88,71,67,69,33,92,59,64,96,63,61,69,61,67,32,78,0,55,86,68,66,83,71,59,68,64,71,62,51,67,46,74,52,67,45,91,40,65,59,63,47,71,81,43,72,96,53,61,58,49,60,67,83,71,57,47,71,63,82,43,61,70,82,41,44,77,76,67,69,43,68,59,73,80,85,57,63,70,84,83,54,46,88,72,35,42,55,60,62,77,67,78,62,69,65,59,65,87,85,83,53,64,58,71,97,63,59,49,44,79,64,65,69,74,70,98,62,48,73,87,53,22,67,72,57,54,82,59,90,57,72,65,70,76,75,63,54,67,52,86,58,51,52,71,85,74,59,59,77,79,88,61,69,59,73,56,52,61,65,50,35,52,59,46,63,42,70,73,48,64,81,61,62,45,68,69],\"xaxis\":\"x\",\"yaxis\":\"y\",\"type\":\"histogram\"},{\"alignmentgroup\":\"True\",\"bingroup\":\"x\",\"hovertemplate\":\"race/ethnicity=group D<br>math score=%{x}<br>count=%{y}<extra></extra>\",\"legendgroup\":\"group D\",\"marker\":{\"color\":\"#ab63fa\",\"pattern\":{\"shape\":\"\"}},\"name\":\"group D\",\"offsetgroup\":\"group D\",\"orientation\":\"v\",\"showlegend\":true,\"x\":[64,67,55,59,77,78,63,85,46,77,67,75,70,88,57,93,69,81,65,55,60,77,49,46,44,79,66,62,85,69,67,55,65,61,39,74,78,78,72,49,48,81,62,52,55,72,89,69,63,72,69,71,48,60,55,73,82,42,70,98,39,67,75,81,64,92,89,88,81,79,55,61,80,50,62,64,68,40,45,80,77,56,51,73,62,78,51,63,85,80,59,77,82,74,82,73,27,80,59,89,75,79,65,77,60,88,71,73,53,79,69,78,58,89,75,75,65,57,65,68,68,85,87,71,70,87,52,67,35,76,74,54,80,71,75,79,56,73,64,63,97,80,65,76,57,62,86,76,56,77,61,80,66,42,76,69,81,77,67,49,71,56,76,90,78,88,86,68,70,73,45,53,65,54,47,62,88,59,26,47,71,100,69,95,88,69,40,84,60,54,61,65,74,50,59,75,57,73,63,81,53,69,49,67,84,69,52,81,80,55,64,40,90,43,69,66,85,69,44,59,74,74,41,76,62,80,88,68,69,74,51,45,59,58,68,74,40,68,29,63,61,71,76,62,74,66,69,61,59,61,73,80,74,77,55,58,64,82,79,52,63,52],\"xaxis\":\"x\",\"yaxis\":\"y\",\"type\":\"histogram\"},{\"alignmentgroup\":\"True\",\"bingroup\":\"x\",\"hovertemplate\":\"race/ethnicity=group E<br>math score=%{x}<br>count=%{y}<extra></extra>\",\"legendgroup\":\"group E\",\"marker\":{\"color\":\"#FFA15A\",\"pattern\":{\"shape\":\"\"}},\"name\":\"group E\",\"offsetgroup\":\"group E\",\"orientation\":\"v\",\"showlegend\":true,\"x\":[100,72,100,55,80,70,63,62,66,50,88,94,68,72,82,74,77,57,53,83,87,50,70,99,81,79,42,97,46,100,64,81,56,66,74,68,94,30,66,86,75,81,57,73,81,78,85,79,62,68,68,84,70,66,53,95,76,71,94,100,100,72,57,89,57,76,84,92,74,94,85,93,73,64,74,79,86,61,53,80,61,76,91,74,68,81,65,68,77,37,70,69,84,81,71,78,99,62,90,89,59,80,59,71,93,92,86,85,45,59,32,83,87,51,97,82,87,87,41,76,73,87,64,67,38,46,49,84,66,87,73,62,75,99,90,71,65,77,82,76],\"xaxis\":\"x\",\"yaxis\":\"y\",\"type\":\"histogram\"}],                        {\"template\":{\"data\":{\"histogram2dcontour\":[{\"type\":\"histogram2dcontour\",\"colorbar\":{\"outlinewidth\":0,\"ticks\":\"\"},\"colorscale\":[[0.0,\"#0d0887\"],[0.1111111111111111,\"#46039f\"],[0.2222222222222222,\"#7201a8\"],[0.3333333333333333,\"#9c179e\"],[0.4444444444444444,\"#bd3786\"],[0.5555555555555556,\"#d8576b\"],[0.6666666666666666,\"#ed7953\"],[0.7777777777777778,\"#fb9f3a\"],[0.8888888888888888,\"#fdca26\"],[1.0,\"#f0f921\"]]}],\"choropleth\":[{\"type\":\"choropleth\",\"colorbar\":{\"outlinewidth\":0,\"ticks\":\"\"}}],\"histogram2d\":[{\"type\":\"histogram2d\",\"colorbar\":{\"outlinewidth\":0,\"ticks\":\"\"},\"colorscale\":[[0.0,\"#0d0887\"],[0.1111111111111111,\"#46039f\"],[0.2222222222222222,\"#7201a8\"],[0.3333333333333333,\"#9c179e\"],[0.4444444444444444,\"#bd3786\"],[0.5555555555555556,\"#d8576b\"],[0.6666666666666666,\"#ed7953\"],[0.7777777777777778,\"#fb9f3a\"],[0.8888888888888888,\"#fdca26\"],[1.0,\"#f0f921\"]]}],\"heatmap\":[{\"type\":\"heatmap\",\"colorbar\":{\"outlinewidth\":0,\"ticks\":\"\"},\"colorscale\":[[0.0,\"#0d0887\"],[0.1111111111111111,\"#46039f\"],[0.2222222222222222,\"#7201a8\"],[0.3333333333333333,\"#9c179e\"],[0.4444444444444444,\"#bd3786\"],[0.5555555555555556,\"#d8576b\"],[0.6666666666666666,\"#ed7953\"],[0.7777777777777778,\"#fb9f3a\"],[0.8888888888888888,\"#fdca26\"],[1.0,\"#f0f921\"]]}],\"heatmapgl\":[{\"type\":\"heatmapgl\",\"colorbar\":{\"outlinewidth\":0,\"ticks\":\"\"},\"colorscale\":[[0.0,\"#0d0887\"],[0.1111111111111111,\"#46039f\"],[0.2222222222222222,\"#7201a8\"],[0.3333333333333333,\"#9c179e\"],[0.4444444444444444,\"#bd3786\"],[0.5555555555555556,\"#d8576b\"],[0.6666666666666666,\"#ed7953\"],[0.7777777777777778,\"#fb9f3a\"],[0.8888888888888888,\"#fdca26\"],[1.0,\"#f0f921\"]]}],\"contourcarpet\":[{\"type\":\"contourcarpet\",\"colorbar\":{\"outlinewidth\":0,\"ticks\":\"\"}}],\"contour\":[{\"type\":\"contour\",\"colorbar\":{\"outlinewidth\":0,\"ticks\":\"\"},\"colorscale\":[[0.0,\"#0d0887\"],[0.1111111111111111,\"#46039f\"],[0.2222222222222222,\"#7201a8\"],[0.3333333333333333,\"#9c179e\"],[0.4444444444444444,\"#bd3786\"],[0.5555555555555556,\"#d8576b\"],[0.6666666666666666,\"#ed7953\"],[0.7777777777777778,\"#fb9f3a\"],[0.8888888888888888,\"#fdca26\"],[1.0,\"#f0f921\"]]}],\"surface\":[{\"type\":\"surface\",\"colorbar\":{\"outlinewidth\":0,\"ticks\":\"\"},\"colorscale\":[[0.0,\"#0d0887\"],[0.1111111111111111,\"#46039f\"],[0.2222222222222222,\"#7201a8\"],[0.3333333333333333,\"#9c179e\"],[0.4444444444444444,\"#bd3786\"],[0.5555555555555556,\"#d8576b\"],[0.6666666666666666,\"#ed7953\"],[0.7777777777777778,\"#fb9f3a\"],[0.8888888888888888,\"#fdca26\"],[1.0,\"#f0f921\"]]}],\"mesh3d\":[{\"type\":\"mesh3d\",\"colorbar\":{\"outlinewidth\":0,\"ticks\":\"\"}}],\"scatter\":[{\"fillpattern\":{\"fillmode\":\"overlay\",\"size\":10,\"solidity\":0.2},\"type\":\"scatter\"}],\"parcoords\":[{\"type\":\"parcoords\",\"line\":{\"colorbar\":{\"outlinewidth\":0,\"ticks\":\"\"}}}],\"scatterpolargl\":[{\"type\":\"scatterpolargl\",\"marker\":{\"colorbar\":{\"outlinewidth\":0,\"ticks\":\"\"}}}],\"bar\":[{\"error_x\":{\"color\":\"#2a3f5f\"},\"error_y\":{\"color\":\"#2a3f5f\"},\"marker\":{\"line\":{\"color\":\"#E5ECF6\",\"width\":0.5},\"pattern\":{\"fillmode\":\"overlay\",\"size\":10,\"solidity\":0.2}},\"type\":\"bar\"}],\"scattergeo\":[{\"type\":\"scattergeo\",\"marker\":{\"colorbar\":{\"outlinewidth\":0,\"ticks\":\"\"}}}],\"scatterpolar\":[{\"type\":\"scatterpolar\",\"marker\":{\"colorbar\":{\"outlinewidth\":0,\"ticks\":\"\"}}}],\"histogram\":[{\"marker\":{\"pattern\":{\"fillmode\":\"overlay\",\"size\":10,\"solidity\":0.2}},\"type\":\"histogram\"}],\"scattergl\":[{\"type\":\"scattergl\",\"marker\":{\"colorbar\":{\"outlinewidth\":0,\"ticks\":\"\"}}}],\"scatter3d\":[{\"type\":\"scatter3d\",\"line\":{\"colorbar\":{\"outlinewidth\":0,\"ticks\":\"\"}},\"marker\":{\"colorbar\":{\"outlinewidth\":0,\"ticks\":\"\"}}}],\"scattermapbox\":[{\"type\":\"scattermapbox\",\"marker\":{\"colorbar\":{\"outlinewidth\":0,\"ticks\":\"\"}}}],\"scatterternary\":[{\"type\":\"scatterternary\",\"marker\":{\"colorbar\":{\"outlinewidth\":0,\"ticks\":\"\"}}}],\"scattercarpet\":[{\"type\":\"scattercarpet\",\"marker\":{\"colorbar\":{\"outlinewidth\":0,\"ticks\":\"\"}}}],\"carpet\":[{\"aaxis\":{\"endlinecolor\":\"#2a3f5f\",\"gridcolor\":\"white\",\"linecolor\":\"white\",\"minorgridcolor\":\"white\",\"startlinecolor\":\"#2a3f5f\"},\"baxis\":{\"endlinecolor\":\"#2a3f5f\",\"gridcolor\":\"white\",\"linecolor\":\"white\",\"minorgridcolor\":\"white\",\"startlinecolor\":\"#2a3f5f\"},\"type\":\"carpet\"}],\"table\":[{\"cells\":{\"fill\":{\"color\":\"#EBF0F8\"},\"line\":{\"color\":\"white\"}},\"header\":{\"fill\":{\"color\":\"#C8D4E3\"},\"line\":{\"color\":\"white\"}},\"type\":\"table\"}],\"barpolar\":[{\"marker\":{\"line\":{\"color\":\"#E5ECF6\",\"width\":0.5},\"pattern\":{\"fillmode\":\"overlay\",\"size\":10,\"solidity\":0.2}},\"type\":\"barpolar\"}],\"pie\":[{\"automargin\":true,\"type\":\"pie\"}]},\"layout\":{\"autotypenumbers\":\"strict\",\"colorway\":[\"#636efa\",\"#EF553B\",\"#00cc96\",\"#ab63fa\",\"#FFA15A\",\"#19d3f3\",\"#FF6692\",\"#B6E880\",\"#FF97FF\",\"#FECB52\"],\"font\":{\"color\":\"#2a3f5f\"},\"hovermode\":\"closest\",\"hoverlabel\":{\"align\":\"left\"},\"paper_bgcolor\":\"white\",\"plot_bgcolor\":\"#E5ECF6\",\"polar\":{\"bgcolor\":\"#E5ECF6\",\"angularaxis\":{\"gridcolor\":\"white\",\"linecolor\":\"white\",\"ticks\":\"\"},\"radialaxis\":{\"gridcolor\":\"white\",\"linecolor\":\"white\",\"ticks\":\"\"}},\"ternary\":{\"bgcolor\":\"#E5ECF6\",\"aaxis\":{\"gridcolor\":\"white\",\"linecolor\":\"white\",\"ticks\":\"\"},\"baxis\":{\"gridcolor\":\"white\",\"linecolor\":\"white\",\"ticks\":\"\"},\"caxis\":{\"gridcolor\":\"white\",\"linecolor\":\"white\",\"ticks\":\"\"}},\"coloraxis\":{\"colorbar\":{\"outlinewidth\":0,\"ticks\":\"\"}},\"colorscale\":{\"sequential\":[[0.0,\"#0d0887\"],[0.1111111111111111,\"#46039f\"],[0.2222222222222222,\"#7201a8\"],[0.3333333333333333,\"#9c179e\"],[0.4444444444444444,\"#bd3786\"],[0.5555555555555556,\"#d8576b\"],[0.6666666666666666,\"#ed7953\"],[0.7777777777777778,\"#fb9f3a\"],[0.8888888888888888,\"#fdca26\"],[1.0,\"#f0f921\"]],\"sequentialminus\":[[0.0,\"#0d0887\"],[0.1111111111111111,\"#46039f\"],[0.2222222222222222,\"#7201a8\"],[0.3333333333333333,\"#9c179e\"],[0.4444444444444444,\"#bd3786\"],[0.5555555555555556,\"#d8576b\"],[0.6666666666666666,\"#ed7953\"],[0.7777777777777778,\"#fb9f3a\"],[0.8888888888888888,\"#fdca26\"],[1.0,\"#f0f921\"]],\"diverging\":[[0,\"#8e0152\"],[0.1,\"#c51b7d\"],[0.2,\"#de77ae\"],[0.3,\"#f1b6da\"],[0.4,\"#fde0ef\"],[0.5,\"#f7f7f7\"],[0.6,\"#e6f5d0\"],[0.7,\"#b8e186\"],[0.8,\"#7fbc41\"],[0.9,\"#4d9221\"],[1,\"#276419\"]]},\"xaxis\":{\"gridcolor\":\"white\",\"linecolor\":\"white\",\"ticks\":\"\",\"title\":{\"standoff\":15},\"zerolinecolor\":\"white\",\"automargin\":true,\"zerolinewidth\":2},\"yaxis\":{\"gridcolor\":\"white\",\"linecolor\":\"white\",\"ticks\":\"\",\"title\":{\"standoff\":15},\"zerolinecolor\":\"white\",\"automargin\":true,\"zerolinewidth\":2},\"scene\":{\"xaxis\":{\"backgroundcolor\":\"#E5ECF6\",\"gridcolor\":\"white\",\"linecolor\":\"white\",\"showbackground\":true,\"ticks\":\"\",\"zerolinecolor\":\"white\",\"gridwidth\":2},\"yaxis\":{\"backgroundcolor\":\"#E5ECF6\",\"gridcolor\":\"white\",\"linecolor\":\"white\",\"showbackground\":true,\"ticks\":\"\",\"zerolinecolor\":\"white\",\"gridwidth\":2},\"zaxis\":{\"backgroundcolor\":\"#E5ECF6\",\"gridcolor\":\"white\",\"linecolor\":\"white\",\"showbackground\":true,\"ticks\":\"\",\"zerolinecolor\":\"white\",\"gridwidth\":2}},\"shapedefaults\":{\"line\":{\"color\":\"#2a3f5f\"}},\"annotationdefaults\":{\"arrowcolor\":\"#2a3f5f\",\"arrowhead\":0,\"arrowwidth\":1},\"geo\":{\"bgcolor\":\"white\",\"landcolor\":\"#E5ECF6\",\"subunitcolor\":\"white\",\"showland\":true,\"showlakes\":true,\"lakecolor\":\"white\"},\"title\":{\"x\":0.05},\"mapbox\":{\"style\":\"light\"}}},\"xaxis\":{\"anchor\":\"y\",\"domain\":[0.0,1.0],\"title\":{\"text\":\"math score\"}},\"yaxis\":{\"anchor\":\"x\",\"domain\":[0.0,1.0],\"title\":{\"text\":\"count\"}},\"legend\":{\"title\":{\"text\":\"race/ethnicity\"},\"tracegroupgap\":0},\"margin\":{\"t\":60},\"barmode\":\"relative\"},                        {\"responsive\": true}                    ).then(function(){\n",
       "                            \n",
       "var gd = document.getElementById('7f3e17ef-2367-459c-b83b-936481b563c0');\n",
       "var x = new MutationObserver(function (mutations, observer) {{\n",
       "        var display = window.getComputedStyle(gd).display;\n",
       "        if (!display || display === 'none') {{\n",
       "            console.log([gd, 'removed!']);\n",
       "            Plotly.purge(gd);\n",
       "            observer.disconnect();\n",
       "        }}\n",
       "}});\n",
       "\n",
       "// Listen for the removal of the full notebook cells\n",
       "var notebookContainer = gd.closest('#notebook-container');\n",
       "if (notebookContainer) {{\n",
       "    x.observe(notebookContainer, {childList: true});\n",
       "}}\n",
       "\n",
       "// Listen for the clearing of the current output cell\n",
       "var outputEl = gd.closest('.output');\n",
       "if (outputEl) {{\n",
       "    x.observe(outputEl, {childList: true});\n",
       "}}\n",
       "\n",
       "                        })                };                });            </script>        </div>"
      ]
     },
     "metadata": {},
     "output_type": "display_data"
    },
    {
     "data": {
      "application/vnd.plotly.v1+json": {
       "config": {
        "plotlyServerURL": "https://plot.ly"
       },
       "data": [
        {
         "alignmentgroup": "True",
         "bingroup": "x",
         "hovertemplate": "race/ethnicity=group A<br>reading score=%{x}<br>count=%{y}<extra></extra>",
         "legendgroup": "group A",
         "marker": {
          "color": "#636efa",
          "pattern": {
           "shape": ""
          }
         },
         "name": "group A",
         "offsetgroup": "group A",
         "orientation": "v",
         "showlegend": true,
         "type": "histogram",
         "x": [
          79,
          100,
          90,
          57,
          67,
          61,
          39,
          50,
          53,
          78,
          63,
          41,
          84,
          67,
          96,
          55,
          51,
          68,
          67,
          60,
          43,
          83,
          92,
          51,
          60,
          82,
          85,
          60,
          61,
          70,
          58,
          73,
          58,
          47,
          70,
          82,
          50,
          88,
          78,
          68,
          23,
          67,
          58,
          64,
          65,
          46,
          73,
          63,
          49,
          72,
          47,
          48,
          49,
          53,
          72,
          31,
          80,
          70,
          57,
          58,
          72,
          67,
          45,
          57,
          81,
          65,
          82,
          43,
          84,
          52,
          62,
          64,
          62,
          87,
          74,
          59,
          51,
          93,
          73,
          45,
          96,
          59,
          72,
          43,
          85,
          74,
          66,
          59,
          54
         ],
         "xaxis": "x",
         "yaxis": "y"
        },
        {
         "alignmentgroup": "True",
         "bingroup": "x",
         "hovertemplate": "race/ethnicity=group B<br>reading score=%{x}<br>count=%{y}<extra></extra>",
         "legendgroup": "group B",
         "marker": {
          "color": "#EF553B",
          "pattern": {
           "shape": ""
          }
         },
         "name": "group B",
         "offsetgroup": "group B",
         "orientation": "v",
         "showlegend": true,
         "type": "histogram",
         "x": [
          54,
          86,
          86,
          62,
          84,
          72,
          87,
          72,
          54,
          44,
          61,
          49,
          56,
          85,
          42,
          75,
          58,
          84,
          68,
          70,
          70,
          52,
          73,
          86,
          66,
          85,
          29,
          64,
          65,
          97,
          82,
          82,
          76,
          50,
          68,
          78,
          55,
          57,
          46,
          71,
          76,
          71,
          77,
          76,
          62,
          75,
          89,
          60,
          67,
          72,
          65,
          94,
          24,
          90,
          43,
          77,
          56,
          91,
          75,
          48,
          66,
          43,
          51,
          70,
          48,
          90,
          70,
          63,
          63,
          70,
          64,
          68,
          55,
          85,
          66,
          67,
          79,
          55,
          53,
          65,
          81,
          67,
          80,
          74,
          60,
          63,
          81,
          69,
          84,
          78,
          56,
          54,
          65,
          90,
          85,
          73,
          46,
          72,
          83,
          38,
          39,
          62,
          52,
          67,
          85,
          80,
          51,
          63,
          90,
          65,
          77,
          97,
          61,
          59,
          82,
          62,
          87,
          58,
          72,
          62,
          64,
          53,
          52,
          48,
          71,
          67,
          69,
          77,
          38,
          78,
          96,
          76,
          58,
          83,
          64,
          54,
          62,
          70,
          61,
          54,
          24,
          65,
          58,
          56,
          52,
          64,
          48,
          85,
          65,
          53,
          84,
          78,
          86,
          68,
          85,
          95,
          68,
          82,
          64,
          76,
          50,
          44,
          82,
          54,
          66,
          86,
          84,
          45,
          70,
          49,
          65,
          41,
          60,
          67,
          53,
          89,
          54,
          75,
          43,
          95,
          79,
          81,
          61,
          81,
          83,
          32,
          95,
          69,
          60,
          83
         ],
         "xaxis": "x",
         "yaxis": "y"
        },
        {
         "alignmentgroup": "True",
         "bingroup": "x",
         "hovertemplate": "race/ethnicity=group C<br>reading score=%{x}<br>count=%{y}<extra></extra>",
         "legendgroup": "group C",
         "marker": {
          "color": "#00cc96",
          "pattern": {
           "shape": ""
          }
         },
         "name": "group C",
         "offsetgroup": "group C",
         "orientation": "v",
         "showlegend": true,
         "type": "histogram",
         "x": [
          48,
          80,
          83,
          75,
          34,
          45,
          64,
          83,
          81,
          72,
          61,
          88,
          79,
          51,
          78,
          66,
          53,
          61,
          67,
          53,
          90,
          52,
          59,
          76,
          55,
          57,
          49,
          72,
          87,
          92,
          69,
          77,
          86,
          75,
          68,
          74,
          55,
          56,
          78,
          84,
          61,
          58,
          77,
          59,
          85,
          61,
          77,
          42,
          81,
          74,
          90,
          69,
          92,
          58,
          81,
          76,
          90,
          40,
          77,
          87,
          60,
          73,
          78,
          69,
          52,
          86,
          86,
          69,
          85,
          74,
          67,
          44,
          87,
          74,
          78,
          74,
          63,
          67,
          73,
          61,
          79,
          100,
          73,
          48,
          58,
          57,
          66,
          64,
          63,
          42,
          76,
          39,
          71,
          95,
          89,
          72,
          84,
          76,
          96,
          59,
          51,
          69,
          61,
          73,
          84,
          68,
          59,
          77,
          90,
          59,
          75,
          58,
          84,
          72,
          78,
          88,
          29,
          82,
          65,
          44,
          67,
          67,
          72,
          73,
          56,
          77,
          55,
          69,
          64,
          64,
          74,
          60,
          60,
          83,
          54,
          70,
          54,
          72,
          76,
          63,
          84,
          66,
          62,
          89,
          84,
          57,
          75,
          41,
          79,
          71,
          82,
          90,
          74,
          60,
          80,
          67,
          81,
          39,
          72,
          17,
          72,
          81,
          65,
          77,
          72,
          66,
          64,
          67,
          58,
          77,
          68,
          52,
          79,
          64,
          75,
          61,
          84,
          52,
          85,
          46,
          67,
          72,
          60,
          62,
          67,
          91,
          53,
          80,
          100,
          51,
          73,
          61,
          51,
          64,
          75,
          93,
          81,
          77,
          37,
          60,
          67,
          75,
          51,
          61,
          56,
          90,
          46,
          61,
          94,
          70,
          75,
          77,
          62,
          60,
          41,
          78,
          64,
          76,
          61,
          64,
          72,
          80,
          82,
          72,
          43,
          95,
          72,
          28,
          62,
          65,
          51,
          76,
          88,
          84,
          77,
          64,
          84,
          79,
          69,
          86,
          73,
          92,
          78,
          62,
          73,
          49,
          71,
          93,
          75,
          53,
          51,
          50,
          79,
          79,
          81,
          63,
          86,
          82,
          87,
          67,
          56,
          68,
          100,
          37,
          39,
          74,
          80,
          78,
          64,
          93,
          62,
          75,
          54,
          66,
          74,
          75,
          80,
          81,
          73,
          59,
          73,
          55,
          83,
          55,
          72,
          53,
          74,
          89,
          73,
          66,
          54,
          91,
          81,
          93,
          56,
          58,
          60,
          66,
          68,
          58,
          66,
          69,
          48,
          53,
          65,
          71,
          58,
          78,
          66,
          89,
          76,
          58,
          66,
          66,
          72,
          67,
          73,
          63,
          71
         ],
         "xaxis": "x",
         "yaxis": "y"
        },
        {
         "alignmentgroup": "True",
         "bingroup": "x",
         "hovertemplate": "race/ethnicity=group D<br>reading score=%{x}<br>count=%{y}<extra></extra>",
         "legendgroup": "group D",
         "marker": {
          "color": "#ab63fa",
          "pattern": {
           "shape": ""
          }
         },
         "name": "group D",
         "offsetgroup": "group D",
         "orientation": "v",
         "showlegend": true,
         "type": "histogram",
         "x": [
          76,
          54,
          76,
          72,
          78,
          91,
          64,
          81,
          34,
          68,
          72,
          77,
          70,
          74,
          78,
          100,
          65,
          82,
          78,
          46,
          66,
          77,
          58,
          56,
          51,
          89,
          74,
          72,
          84,
          70,
          86,
          47,
          61,
          70,
          52,
          70,
          90,
          81,
          57,
          65,
          58,
          71,
          70,
          59,
          58,
          66,
          100,
          86,
          61,
          79,
          75,
          69,
          54,
          63,
          41,
          92,
          82,
          61,
          63,
          100,
          42,
          84,
          73,
          81,
          74,
          100,
          87,
          77,
          78,
          84,
          59,
          71,
          75,
          42,
          57,
          54,
          71,
          65,
          63,
          73,
          86,
          65,
          58,
          70,
          64,
          82,
          63,
          57,
          95,
          90,
          70,
          68,
          97,
          74,
          82,
          84,
          34,
          90,
          62,
          84,
          74,
          73,
          77,
          89,
          59,
          99,
          71,
          86,
          54,
          89,
          66,
          81,
          67,
          88,
          66,
          68,
          81,
          58,
          67,
          59,
          74,
          91,
          100,
          66,
          71,
          84,
          57,
          72,
          55,
          70,
          79,
          52,
          80,
          83,
          74,
          86,
          52,
          68,
          60,
          66,
          100,
          75,
          69,
          64,
          50,
          66,
          80,
          83,
          68,
          62,
          55,
          79,
          62,
          39,
          73,
          72,
          75,
          82,
          61,
          57,
          61,
          54,
          72,
          87,
          77,
          73,
          73,
          75,
          78,
          79,
          48,
          52,
          70,
          49,
          53,
          67,
          92,
          42,
          31,
          58,
          76,
          97,
          74,
          81,
          78,
          60,
          42,
          89,
          57,
          60,
          48,
          82,
          81,
          64,
          67,
          90,
          74,
          75,
          73,
          97,
          61,
          77,
          57,
          64,
          84,
          77,
          57,
          72,
          63,
          71,
          64,
          52,
          87,
          60,
          66,
          69,
          86,
          79,
          54,
          70,
          71,
          88,
          52,
          74,
          70,
          92,
          78,
          68,
          77,
          71,
          66,
          37,
          78,
          63,
          78,
          79,
          59,
          64,
          41,
          55,
          71,
          49,
          71,
          49,
          89,
          78,
          58,
          47,
          58,
          74,
          66,
          68,
          75,
          62,
          64,
          59,
          63,
          95,
          82,
          59,
          80,
          55
         ],
         "xaxis": "x",
         "yaxis": "y"
        },
        {
         "alignmentgroup": "True",
         "bingroup": "x",
         "hovertemplate": "race/ethnicity=group E<br>reading score=%{x}<br>count=%{y}<extra></extra>",
         "legendgroup": "group E",
         "marker": {
          "color": "#FFA15A",
          "pattern": {
           "shape": ""
          }
         },
         "name": "group E",
         "offsetgroup": "group E",
         "orientation": "v",
         "showlegend": true,
         "type": "histogram",
         "x": [
          100,
          57,
          100,
          56,
          76,
          64,
          72,
          68,
          65,
          50,
          99,
          88,
          70,
          64,
          85,
          74,
          69,
          58,
          55,
          80,
          74,
          56,
          55,
          100,
          81,
          74,
          55,
          87,
          43,
          100,
          56,
          75,
          72,
          63,
          64,
          76,
          73,
          26,
          74,
          81,
          88,
          92,
          75,
          78,
          80,
          83,
          66,
          88,
          61,
          72,
          60,
          95,
          68,
          74,
          45,
          89,
          62,
          70,
          85,
          100,
          92,
          79,
          56,
          84,
          68,
          71,
          73,
          100,
          81,
          99,
          75,
          90,
          76,
          62,
          79,
          81,
          76,
          58,
          58,
          85,
          64,
          78,
          73,
          76,
          68,
          74,
          75,
          51,
          79,
          45,
          84,
          60,
          83,
          86,
          76,
          74,
          93,
          73,
          90,
          76,
          51,
          83,
          63,
          70,
          100,
          87,
          85,
          92,
          56,
          62,
          34,
          86,
          91,
          51,
          82,
          67,
          85,
          94,
          45,
          67,
          67,
          84,
          73,
          76,
          49,
          43,
          52,
          77,
          57,
          74,
          64,
          56,
          86,
          87,
          85,
          74,
          73,
          76,
          62,
          71
         ],
         "xaxis": "x",
         "yaxis": "y"
        }
       ],
       "layout": {
        "barmode": "relative",
        "legend": {
         "title": {
          "text": "race/ethnicity"
         },
         "tracegroupgap": 0
        },
        "margin": {
         "t": 60
        },
        "template": {
         "data": {
          "bar": [
           {
            "error_x": {
             "color": "#2a3f5f"
            },
            "error_y": {
             "color": "#2a3f5f"
            },
            "marker": {
             "line": {
              "color": "#E5ECF6",
              "width": 0.5
             },
             "pattern": {
              "fillmode": "overlay",
              "size": 10,
              "solidity": 0.2
             }
            },
            "type": "bar"
           }
          ],
          "barpolar": [
           {
            "marker": {
             "line": {
              "color": "#E5ECF6",
              "width": 0.5
             },
             "pattern": {
              "fillmode": "overlay",
              "size": 10,
              "solidity": 0.2
             }
            },
            "type": "barpolar"
           }
          ],
          "carpet": [
           {
            "aaxis": {
             "endlinecolor": "#2a3f5f",
             "gridcolor": "white",
             "linecolor": "white",
             "minorgridcolor": "white",
             "startlinecolor": "#2a3f5f"
            },
            "baxis": {
             "endlinecolor": "#2a3f5f",
             "gridcolor": "white",
             "linecolor": "white",
             "minorgridcolor": "white",
             "startlinecolor": "#2a3f5f"
            },
            "type": "carpet"
           }
          ],
          "choropleth": [
           {
            "colorbar": {
             "outlinewidth": 0,
             "ticks": ""
            },
            "type": "choropleth"
           }
          ],
          "contour": [
           {
            "colorbar": {
             "outlinewidth": 0,
             "ticks": ""
            },
            "colorscale": [
             [
              0,
              "#0d0887"
             ],
             [
              0.1111111111111111,
              "#46039f"
             ],
             [
              0.2222222222222222,
              "#7201a8"
             ],
             [
              0.3333333333333333,
              "#9c179e"
             ],
             [
              0.4444444444444444,
              "#bd3786"
             ],
             [
              0.5555555555555556,
              "#d8576b"
             ],
             [
              0.6666666666666666,
              "#ed7953"
             ],
             [
              0.7777777777777778,
              "#fb9f3a"
             ],
             [
              0.8888888888888888,
              "#fdca26"
             ],
             [
              1,
              "#f0f921"
             ]
            ],
            "type": "contour"
           }
          ],
          "contourcarpet": [
           {
            "colorbar": {
             "outlinewidth": 0,
             "ticks": ""
            },
            "type": "contourcarpet"
           }
          ],
          "heatmap": [
           {
            "colorbar": {
             "outlinewidth": 0,
             "ticks": ""
            },
            "colorscale": [
             [
              0,
              "#0d0887"
             ],
             [
              0.1111111111111111,
              "#46039f"
             ],
             [
              0.2222222222222222,
              "#7201a8"
             ],
             [
              0.3333333333333333,
              "#9c179e"
             ],
             [
              0.4444444444444444,
              "#bd3786"
             ],
             [
              0.5555555555555556,
              "#d8576b"
             ],
             [
              0.6666666666666666,
              "#ed7953"
             ],
             [
              0.7777777777777778,
              "#fb9f3a"
             ],
             [
              0.8888888888888888,
              "#fdca26"
             ],
             [
              1,
              "#f0f921"
             ]
            ],
            "type": "heatmap"
           }
          ],
          "heatmapgl": [
           {
            "colorbar": {
             "outlinewidth": 0,
             "ticks": ""
            },
            "colorscale": [
             [
              0,
              "#0d0887"
             ],
             [
              0.1111111111111111,
              "#46039f"
             ],
             [
              0.2222222222222222,
              "#7201a8"
             ],
             [
              0.3333333333333333,
              "#9c179e"
             ],
             [
              0.4444444444444444,
              "#bd3786"
             ],
             [
              0.5555555555555556,
              "#d8576b"
             ],
             [
              0.6666666666666666,
              "#ed7953"
             ],
             [
              0.7777777777777778,
              "#fb9f3a"
             ],
             [
              0.8888888888888888,
              "#fdca26"
             ],
             [
              1,
              "#f0f921"
             ]
            ],
            "type": "heatmapgl"
           }
          ],
          "histogram": [
           {
            "marker": {
             "pattern": {
              "fillmode": "overlay",
              "size": 10,
              "solidity": 0.2
             }
            },
            "type": "histogram"
           }
          ],
          "histogram2d": [
           {
            "colorbar": {
             "outlinewidth": 0,
             "ticks": ""
            },
            "colorscale": [
             [
              0,
              "#0d0887"
             ],
             [
              0.1111111111111111,
              "#46039f"
             ],
             [
              0.2222222222222222,
              "#7201a8"
             ],
             [
              0.3333333333333333,
              "#9c179e"
             ],
             [
              0.4444444444444444,
              "#bd3786"
             ],
             [
              0.5555555555555556,
              "#d8576b"
             ],
             [
              0.6666666666666666,
              "#ed7953"
             ],
             [
              0.7777777777777778,
              "#fb9f3a"
             ],
             [
              0.8888888888888888,
              "#fdca26"
             ],
             [
              1,
              "#f0f921"
             ]
            ],
            "type": "histogram2d"
           }
          ],
          "histogram2dcontour": [
           {
            "colorbar": {
             "outlinewidth": 0,
             "ticks": ""
            },
            "colorscale": [
             [
              0,
              "#0d0887"
             ],
             [
              0.1111111111111111,
              "#46039f"
             ],
             [
              0.2222222222222222,
              "#7201a8"
             ],
             [
              0.3333333333333333,
              "#9c179e"
             ],
             [
              0.4444444444444444,
              "#bd3786"
             ],
             [
              0.5555555555555556,
              "#d8576b"
             ],
             [
              0.6666666666666666,
              "#ed7953"
             ],
             [
              0.7777777777777778,
              "#fb9f3a"
             ],
             [
              0.8888888888888888,
              "#fdca26"
             ],
             [
              1,
              "#f0f921"
             ]
            ],
            "type": "histogram2dcontour"
           }
          ],
          "mesh3d": [
           {
            "colorbar": {
             "outlinewidth": 0,
             "ticks": ""
            },
            "type": "mesh3d"
           }
          ],
          "parcoords": [
           {
            "line": {
             "colorbar": {
              "outlinewidth": 0,
              "ticks": ""
             }
            },
            "type": "parcoords"
           }
          ],
          "pie": [
           {
            "automargin": true,
            "type": "pie"
           }
          ],
          "scatter": [
           {
            "fillpattern": {
             "fillmode": "overlay",
             "size": 10,
             "solidity": 0.2
            },
            "type": "scatter"
           }
          ],
          "scatter3d": [
           {
            "line": {
             "colorbar": {
              "outlinewidth": 0,
              "ticks": ""
             }
            },
            "marker": {
             "colorbar": {
              "outlinewidth": 0,
              "ticks": ""
             }
            },
            "type": "scatter3d"
           }
          ],
          "scattercarpet": [
           {
            "marker": {
             "colorbar": {
              "outlinewidth": 0,
              "ticks": ""
             }
            },
            "type": "scattercarpet"
           }
          ],
          "scattergeo": [
           {
            "marker": {
             "colorbar": {
              "outlinewidth": 0,
              "ticks": ""
             }
            },
            "type": "scattergeo"
           }
          ],
          "scattergl": [
           {
            "marker": {
             "colorbar": {
              "outlinewidth": 0,
              "ticks": ""
             }
            },
            "type": "scattergl"
           }
          ],
          "scattermapbox": [
           {
            "marker": {
             "colorbar": {
              "outlinewidth": 0,
              "ticks": ""
             }
            },
            "type": "scattermapbox"
           }
          ],
          "scatterpolar": [
           {
            "marker": {
             "colorbar": {
              "outlinewidth": 0,
              "ticks": ""
             }
            },
            "type": "scatterpolar"
           }
          ],
          "scatterpolargl": [
           {
            "marker": {
             "colorbar": {
              "outlinewidth": 0,
              "ticks": ""
             }
            },
            "type": "scatterpolargl"
           }
          ],
          "scatterternary": [
           {
            "marker": {
             "colorbar": {
              "outlinewidth": 0,
              "ticks": ""
             }
            },
            "type": "scatterternary"
           }
          ],
          "surface": [
           {
            "colorbar": {
             "outlinewidth": 0,
             "ticks": ""
            },
            "colorscale": [
             [
              0,
              "#0d0887"
             ],
             [
              0.1111111111111111,
              "#46039f"
             ],
             [
              0.2222222222222222,
              "#7201a8"
             ],
             [
              0.3333333333333333,
              "#9c179e"
             ],
             [
              0.4444444444444444,
              "#bd3786"
             ],
             [
              0.5555555555555556,
              "#d8576b"
             ],
             [
              0.6666666666666666,
              "#ed7953"
             ],
             [
              0.7777777777777778,
              "#fb9f3a"
             ],
             [
              0.8888888888888888,
              "#fdca26"
             ],
             [
              1,
              "#f0f921"
             ]
            ],
            "type": "surface"
           }
          ],
          "table": [
           {
            "cells": {
             "fill": {
              "color": "#EBF0F8"
             },
             "line": {
              "color": "white"
             }
            },
            "header": {
             "fill": {
              "color": "#C8D4E3"
             },
             "line": {
              "color": "white"
             }
            },
            "type": "table"
           }
          ]
         },
         "layout": {
          "annotationdefaults": {
           "arrowcolor": "#2a3f5f",
           "arrowhead": 0,
           "arrowwidth": 1
          },
          "autotypenumbers": "strict",
          "coloraxis": {
           "colorbar": {
            "outlinewidth": 0,
            "ticks": ""
           }
          },
          "colorscale": {
           "diverging": [
            [
             0,
             "#8e0152"
            ],
            [
             0.1,
             "#c51b7d"
            ],
            [
             0.2,
             "#de77ae"
            ],
            [
             0.3,
             "#f1b6da"
            ],
            [
             0.4,
             "#fde0ef"
            ],
            [
             0.5,
             "#f7f7f7"
            ],
            [
             0.6,
             "#e6f5d0"
            ],
            [
             0.7,
             "#b8e186"
            ],
            [
             0.8,
             "#7fbc41"
            ],
            [
             0.9,
             "#4d9221"
            ],
            [
             1,
             "#276419"
            ]
           ],
           "sequential": [
            [
             0,
             "#0d0887"
            ],
            [
             0.1111111111111111,
             "#46039f"
            ],
            [
             0.2222222222222222,
             "#7201a8"
            ],
            [
             0.3333333333333333,
             "#9c179e"
            ],
            [
             0.4444444444444444,
             "#bd3786"
            ],
            [
             0.5555555555555556,
             "#d8576b"
            ],
            [
             0.6666666666666666,
             "#ed7953"
            ],
            [
             0.7777777777777778,
             "#fb9f3a"
            ],
            [
             0.8888888888888888,
             "#fdca26"
            ],
            [
             1,
             "#f0f921"
            ]
           ],
           "sequentialminus": [
            [
             0,
             "#0d0887"
            ],
            [
             0.1111111111111111,
             "#46039f"
            ],
            [
             0.2222222222222222,
             "#7201a8"
            ],
            [
             0.3333333333333333,
             "#9c179e"
            ],
            [
             0.4444444444444444,
             "#bd3786"
            ],
            [
             0.5555555555555556,
             "#d8576b"
            ],
            [
             0.6666666666666666,
             "#ed7953"
            ],
            [
             0.7777777777777778,
             "#fb9f3a"
            ],
            [
             0.8888888888888888,
             "#fdca26"
            ],
            [
             1,
             "#f0f921"
            ]
           ]
          },
          "colorway": [
           "#636efa",
           "#EF553B",
           "#00cc96",
           "#ab63fa",
           "#FFA15A",
           "#19d3f3",
           "#FF6692",
           "#B6E880",
           "#FF97FF",
           "#FECB52"
          ],
          "font": {
           "color": "#2a3f5f"
          },
          "geo": {
           "bgcolor": "white",
           "lakecolor": "white",
           "landcolor": "#E5ECF6",
           "showlakes": true,
           "showland": true,
           "subunitcolor": "white"
          },
          "hoverlabel": {
           "align": "left"
          },
          "hovermode": "closest",
          "mapbox": {
           "style": "light"
          },
          "paper_bgcolor": "white",
          "plot_bgcolor": "#E5ECF6",
          "polar": {
           "angularaxis": {
            "gridcolor": "white",
            "linecolor": "white",
            "ticks": ""
           },
           "bgcolor": "#E5ECF6",
           "radialaxis": {
            "gridcolor": "white",
            "linecolor": "white",
            "ticks": ""
           }
          },
          "scene": {
           "xaxis": {
            "backgroundcolor": "#E5ECF6",
            "gridcolor": "white",
            "gridwidth": 2,
            "linecolor": "white",
            "showbackground": true,
            "ticks": "",
            "zerolinecolor": "white"
           },
           "yaxis": {
            "backgroundcolor": "#E5ECF6",
            "gridcolor": "white",
            "gridwidth": 2,
            "linecolor": "white",
            "showbackground": true,
            "ticks": "",
            "zerolinecolor": "white"
           },
           "zaxis": {
            "backgroundcolor": "#E5ECF6",
            "gridcolor": "white",
            "gridwidth": 2,
            "linecolor": "white",
            "showbackground": true,
            "ticks": "",
            "zerolinecolor": "white"
           }
          },
          "shapedefaults": {
           "line": {
            "color": "#2a3f5f"
           }
          },
          "ternary": {
           "aaxis": {
            "gridcolor": "white",
            "linecolor": "white",
            "ticks": ""
           },
           "baxis": {
            "gridcolor": "white",
            "linecolor": "white",
            "ticks": ""
           },
           "bgcolor": "#E5ECF6",
           "caxis": {
            "gridcolor": "white",
            "linecolor": "white",
            "ticks": ""
           }
          },
          "title": {
           "x": 0.05
          },
          "xaxis": {
           "automargin": true,
           "gridcolor": "white",
           "linecolor": "white",
           "ticks": "",
           "title": {
            "standoff": 15
           },
           "zerolinecolor": "white",
           "zerolinewidth": 2
          },
          "yaxis": {
           "automargin": true,
           "gridcolor": "white",
           "linecolor": "white",
           "ticks": "",
           "title": {
            "standoff": 15
           },
           "zerolinecolor": "white",
           "zerolinewidth": 2
          }
         }
        },
        "xaxis": {
         "anchor": "y",
         "domain": [
          0,
          1
         ],
         "title": {
          "text": "reading score"
         }
        },
        "yaxis": {
         "anchor": "x",
         "domain": [
          0,
          1
         ],
         "title": {
          "text": "count"
         }
        }
       }
      },
      "text/html": [
       "<div>                            <div id=\"5eb08399-7b4f-432d-8b86-740c6deab7f7\" class=\"plotly-graph-div\" style=\"height:525px; width:100%;\"></div>            <script type=\"text/javascript\">                require([\"plotly\"], function(Plotly) {                    window.PLOTLYENV=window.PLOTLYENV || {};                                    if (document.getElementById(\"5eb08399-7b4f-432d-8b86-740c6deab7f7\")) {                    Plotly.newPlot(                        \"5eb08399-7b4f-432d-8b86-740c6deab7f7\",                        [{\"alignmentgroup\":\"True\",\"bingroup\":\"x\",\"hovertemplate\":\"race/ethnicity=group A<br>reading score=%{x}<br>count=%{y}<extra></extra>\",\"legendgroup\":\"group A\",\"marker\":{\"color\":\"#636efa\",\"pattern\":{\"shape\":\"\"}},\"name\":\"group A\",\"offsetgroup\":\"group A\",\"orientation\":\"v\",\"showlegend\":true,\"x\":[79,100,90,57,67,61,39,50,53,78,63,41,84,67,96,55,51,68,67,60,43,83,92,51,60,82,85,60,61,70,58,73,58,47,70,82,50,88,78,68,23,67,58,64,65,46,73,63,49,72,47,48,49,53,72,31,80,70,57,58,72,67,45,57,81,65,82,43,84,52,62,64,62,87,74,59,51,93,73,45,96,59,72,43,85,74,66,59,54],\"xaxis\":\"x\",\"yaxis\":\"y\",\"type\":\"histogram\"},{\"alignmentgroup\":\"True\",\"bingroup\":\"x\",\"hovertemplate\":\"race/ethnicity=group B<br>reading score=%{x}<br>count=%{y}<extra></extra>\",\"legendgroup\":\"group B\",\"marker\":{\"color\":\"#EF553B\",\"pattern\":{\"shape\":\"\"}},\"name\":\"group B\",\"offsetgroup\":\"group B\",\"orientation\":\"v\",\"showlegend\":true,\"x\":[54,86,86,62,84,72,87,72,54,44,61,49,56,85,42,75,58,84,68,70,70,52,73,86,66,85,29,64,65,97,82,82,76,50,68,78,55,57,46,71,76,71,77,76,62,75,89,60,67,72,65,94,24,90,43,77,56,91,75,48,66,43,51,70,48,90,70,63,63,70,64,68,55,85,66,67,79,55,53,65,81,67,80,74,60,63,81,69,84,78,56,54,65,90,85,73,46,72,83,38,39,62,52,67,85,80,51,63,90,65,77,97,61,59,82,62,87,58,72,62,64,53,52,48,71,67,69,77,38,78,96,76,58,83,64,54,62,70,61,54,24,65,58,56,52,64,48,85,65,53,84,78,86,68,85,95,68,82,64,76,50,44,82,54,66,86,84,45,70,49,65,41,60,67,53,89,54,75,43,95,79,81,61,81,83,32,95,69,60,83],\"xaxis\":\"x\",\"yaxis\":\"y\",\"type\":\"histogram\"},{\"alignmentgroup\":\"True\",\"bingroup\":\"x\",\"hovertemplate\":\"race/ethnicity=group C<br>reading score=%{x}<br>count=%{y}<extra></extra>\",\"legendgroup\":\"group C\",\"marker\":{\"color\":\"#00cc96\",\"pattern\":{\"shape\":\"\"}},\"name\":\"group C\",\"offsetgroup\":\"group C\",\"orientation\":\"v\",\"showlegend\":true,\"x\":[48,80,83,75,34,45,64,83,81,72,61,88,79,51,78,66,53,61,67,53,90,52,59,76,55,57,49,72,87,92,69,77,86,75,68,74,55,56,78,84,61,58,77,59,85,61,77,42,81,74,90,69,92,58,81,76,90,40,77,87,60,73,78,69,52,86,86,69,85,74,67,44,87,74,78,74,63,67,73,61,79,100,73,48,58,57,66,64,63,42,76,39,71,95,89,72,84,76,96,59,51,69,61,73,84,68,59,77,90,59,75,58,84,72,78,88,29,82,65,44,67,67,72,73,56,77,55,69,64,64,74,60,60,83,54,70,54,72,76,63,84,66,62,89,84,57,75,41,79,71,82,90,74,60,80,67,81,39,72,17,72,81,65,77,72,66,64,67,58,77,68,52,79,64,75,61,84,52,85,46,67,72,60,62,67,91,53,80,100,51,73,61,51,64,75,93,81,77,37,60,67,75,51,61,56,90,46,61,94,70,75,77,62,60,41,78,64,76,61,64,72,80,82,72,43,95,72,28,62,65,51,76,88,84,77,64,84,79,69,86,73,92,78,62,73,49,71,93,75,53,51,50,79,79,81,63,86,82,87,67,56,68,100,37,39,74,80,78,64,93,62,75,54,66,74,75,80,81,73,59,73,55,83,55,72,53,74,89,73,66,54,91,81,93,56,58,60,66,68,58,66,69,48,53,65,71,58,78,66,89,76,58,66,66,72,67,73,63,71],\"xaxis\":\"x\",\"yaxis\":\"y\",\"type\":\"histogram\"},{\"alignmentgroup\":\"True\",\"bingroup\":\"x\",\"hovertemplate\":\"race/ethnicity=group D<br>reading score=%{x}<br>count=%{y}<extra></extra>\",\"legendgroup\":\"group D\",\"marker\":{\"color\":\"#ab63fa\",\"pattern\":{\"shape\":\"\"}},\"name\":\"group D\",\"offsetgroup\":\"group D\",\"orientation\":\"v\",\"showlegend\":true,\"x\":[76,54,76,72,78,91,64,81,34,68,72,77,70,74,78,100,65,82,78,46,66,77,58,56,51,89,74,72,84,70,86,47,61,70,52,70,90,81,57,65,58,71,70,59,58,66,100,86,61,79,75,69,54,63,41,92,82,61,63,100,42,84,73,81,74,100,87,77,78,84,59,71,75,42,57,54,71,65,63,73,86,65,58,70,64,82,63,57,95,90,70,68,97,74,82,84,34,90,62,84,74,73,77,89,59,99,71,86,54,89,66,81,67,88,66,68,81,58,67,59,74,91,100,66,71,84,57,72,55,70,79,52,80,83,74,86,52,68,60,66,100,75,69,64,50,66,80,83,68,62,55,79,62,39,73,72,75,82,61,57,61,54,72,87,77,73,73,75,78,79,48,52,70,49,53,67,92,42,31,58,76,97,74,81,78,60,42,89,57,60,48,82,81,64,67,90,74,75,73,97,61,77,57,64,84,77,57,72,63,71,64,52,87,60,66,69,86,79,54,70,71,88,52,74,70,92,78,68,77,71,66,37,78,63,78,79,59,64,41,55,71,49,71,49,89,78,58,47,58,74,66,68,75,62,64,59,63,95,82,59,80,55],\"xaxis\":\"x\",\"yaxis\":\"y\",\"type\":\"histogram\"},{\"alignmentgroup\":\"True\",\"bingroup\":\"x\",\"hovertemplate\":\"race/ethnicity=group E<br>reading score=%{x}<br>count=%{y}<extra></extra>\",\"legendgroup\":\"group E\",\"marker\":{\"color\":\"#FFA15A\",\"pattern\":{\"shape\":\"\"}},\"name\":\"group E\",\"offsetgroup\":\"group E\",\"orientation\":\"v\",\"showlegend\":true,\"x\":[100,57,100,56,76,64,72,68,65,50,99,88,70,64,85,74,69,58,55,80,74,56,55,100,81,74,55,87,43,100,56,75,72,63,64,76,73,26,74,81,88,92,75,78,80,83,66,88,61,72,60,95,68,74,45,89,62,70,85,100,92,79,56,84,68,71,73,100,81,99,75,90,76,62,79,81,76,58,58,85,64,78,73,76,68,74,75,51,79,45,84,60,83,86,76,74,93,73,90,76,51,83,63,70,100,87,85,92,56,62,34,86,91,51,82,67,85,94,45,67,67,84,73,76,49,43,52,77,57,74,64,56,86,87,85,74,73,76,62,71],\"xaxis\":\"x\",\"yaxis\":\"y\",\"type\":\"histogram\"}],                        {\"template\":{\"data\":{\"histogram2dcontour\":[{\"type\":\"histogram2dcontour\",\"colorbar\":{\"outlinewidth\":0,\"ticks\":\"\"},\"colorscale\":[[0.0,\"#0d0887\"],[0.1111111111111111,\"#46039f\"],[0.2222222222222222,\"#7201a8\"],[0.3333333333333333,\"#9c179e\"],[0.4444444444444444,\"#bd3786\"],[0.5555555555555556,\"#d8576b\"],[0.6666666666666666,\"#ed7953\"],[0.7777777777777778,\"#fb9f3a\"],[0.8888888888888888,\"#fdca26\"],[1.0,\"#f0f921\"]]}],\"choropleth\":[{\"type\":\"choropleth\",\"colorbar\":{\"outlinewidth\":0,\"ticks\":\"\"}}],\"histogram2d\":[{\"type\":\"histogram2d\",\"colorbar\":{\"outlinewidth\":0,\"ticks\":\"\"},\"colorscale\":[[0.0,\"#0d0887\"],[0.1111111111111111,\"#46039f\"],[0.2222222222222222,\"#7201a8\"],[0.3333333333333333,\"#9c179e\"],[0.4444444444444444,\"#bd3786\"],[0.5555555555555556,\"#d8576b\"],[0.6666666666666666,\"#ed7953\"],[0.7777777777777778,\"#fb9f3a\"],[0.8888888888888888,\"#fdca26\"],[1.0,\"#f0f921\"]]}],\"heatmap\":[{\"type\":\"heatmap\",\"colorbar\":{\"outlinewidth\":0,\"ticks\":\"\"},\"colorscale\":[[0.0,\"#0d0887\"],[0.1111111111111111,\"#46039f\"],[0.2222222222222222,\"#7201a8\"],[0.3333333333333333,\"#9c179e\"],[0.4444444444444444,\"#bd3786\"],[0.5555555555555556,\"#d8576b\"],[0.6666666666666666,\"#ed7953\"],[0.7777777777777778,\"#fb9f3a\"],[0.8888888888888888,\"#fdca26\"],[1.0,\"#f0f921\"]]}],\"heatmapgl\":[{\"type\":\"heatmapgl\",\"colorbar\":{\"outlinewidth\":0,\"ticks\":\"\"},\"colorscale\":[[0.0,\"#0d0887\"],[0.1111111111111111,\"#46039f\"],[0.2222222222222222,\"#7201a8\"],[0.3333333333333333,\"#9c179e\"],[0.4444444444444444,\"#bd3786\"],[0.5555555555555556,\"#d8576b\"],[0.6666666666666666,\"#ed7953\"],[0.7777777777777778,\"#fb9f3a\"],[0.8888888888888888,\"#fdca26\"],[1.0,\"#f0f921\"]]}],\"contourcarpet\":[{\"type\":\"contourcarpet\",\"colorbar\":{\"outlinewidth\":0,\"ticks\":\"\"}}],\"contour\":[{\"type\":\"contour\",\"colorbar\":{\"outlinewidth\":0,\"ticks\":\"\"},\"colorscale\":[[0.0,\"#0d0887\"],[0.1111111111111111,\"#46039f\"],[0.2222222222222222,\"#7201a8\"],[0.3333333333333333,\"#9c179e\"],[0.4444444444444444,\"#bd3786\"],[0.5555555555555556,\"#d8576b\"],[0.6666666666666666,\"#ed7953\"],[0.7777777777777778,\"#fb9f3a\"],[0.8888888888888888,\"#fdca26\"],[1.0,\"#f0f921\"]]}],\"surface\":[{\"type\":\"surface\",\"colorbar\":{\"outlinewidth\":0,\"ticks\":\"\"},\"colorscale\":[[0.0,\"#0d0887\"],[0.1111111111111111,\"#46039f\"],[0.2222222222222222,\"#7201a8\"],[0.3333333333333333,\"#9c179e\"],[0.4444444444444444,\"#bd3786\"],[0.5555555555555556,\"#d8576b\"],[0.6666666666666666,\"#ed7953\"],[0.7777777777777778,\"#fb9f3a\"],[0.8888888888888888,\"#fdca26\"],[1.0,\"#f0f921\"]]}],\"mesh3d\":[{\"type\":\"mesh3d\",\"colorbar\":{\"outlinewidth\":0,\"ticks\":\"\"}}],\"scatter\":[{\"fillpattern\":{\"fillmode\":\"overlay\",\"size\":10,\"solidity\":0.2},\"type\":\"scatter\"}],\"parcoords\":[{\"type\":\"parcoords\",\"line\":{\"colorbar\":{\"outlinewidth\":0,\"ticks\":\"\"}}}],\"scatterpolargl\":[{\"type\":\"scatterpolargl\",\"marker\":{\"colorbar\":{\"outlinewidth\":0,\"ticks\":\"\"}}}],\"bar\":[{\"error_x\":{\"color\":\"#2a3f5f\"},\"error_y\":{\"color\":\"#2a3f5f\"},\"marker\":{\"line\":{\"color\":\"#E5ECF6\",\"width\":0.5},\"pattern\":{\"fillmode\":\"overlay\",\"size\":10,\"solidity\":0.2}},\"type\":\"bar\"}],\"scattergeo\":[{\"type\":\"scattergeo\",\"marker\":{\"colorbar\":{\"outlinewidth\":0,\"ticks\":\"\"}}}],\"scatterpolar\":[{\"type\":\"scatterpolar\",\"marker\":{\"colorbar\":{\"outlinewidth\":0,\"ticks\":\"\"}}}],\"histogram\":[{\"marker\":{\"pattern\":{\"fillmode\":\"overlay\",\"size\":10,\"solidity\":0.2}},\"type\":\"histogram\"}],\"scattergl\":[{\"type\":\"scattergl\",\"marker\":{\"colorbar\":{\"outlinewidth\":0,\"ticks\":\"\"}}}],\"scatter3d\":[{\"type\":\"scatter3d\",\"line\":{\"colorbar\":{\"outlinewidth\":0,\"ticks\":\"\"}},\"marker\":{\"colorbar\":{\"outlinewidth\":0,\"ticks\":\"\"}}}],\"scattermapbox\":[{\"type\":\"scattermapbox\",\"marker\":{\"colorbar\":{\"outlinewidth\":0,\"ticks\":\"\"}}}],\"scatterternary\":[{\"type\":\"scatterternary\",\"marker\":{\"colorbar\":{\"outlinewidth\":0,\"ticks\":\"\"}}}],\"scattercarpet\":[{\"type\":\"scattercarpet\",\"marker\":{\"colorbar\":{\"outlinewidth\":0,\"ticks\":\"\"}}}],\"carpet\":[{\"aaxis\":{\"endlinecolor\":\"#2a3f5f\",\"gridcolor\":\"white\",\"linecolor\":\"white\",\"minorgridcolor\":\"white\",\"startlinecolor\":\"#2a3f5f\"},\"baxis\":{\"endlinecolor\":\"#2a3f5f\",\"gridcolor\":\"white\",\"linecolor\":\"white\",\"minorgridcolor\":\"white\",\"startlinecolor\":\"#2a3f5f\"},\"type\":\"carpet\"}],\"table\":[{\"cells\":{\"fill\":{\"color\":\"#EBF0F8\"},\"line\":{\"color\":\"white\"}},\"header\":{\"fill\":{\"color\":\"#C8D4E3\"},\"line\":{\"color\":\"white\"}},\"type\":\"table\"}],\"barpolar\":[{\"marker\":{\"line\":{\"color\":\"#E5ECF6\",\"width\":0.5},\"pattern\":{\"fillmode\":\"overlay\",\"size\":10,\"solidity\":0.2}},\"type\":\"barpolar\"}],\"pie\":[{\"automargin\":true,\"type\":\"pie\"}]},\"layout\":{\"autotypenumbers\":\"strict\",\"colorway\":[\"#636efa\",\"#EF553B\",\"#00cc96\",\"#ab63fa\",\"#FFA15A\",\"#19d3f3\",\"#FF6692\",\"#B6E880\",\"#FF97FF\",\"#FECB52\"],\"font\":{\"color\":\"#2a3f5f\"},\"hovermode\":\"closest\",\"hoverlabel\":{\"align\":\"left\"},\"paper_bgcolor\":\"white\",\"plot_bgcolor\":\"#E5ECF6\",\"polar\":{\"bgcolor\":\"#E5ECF6\",\"angularaxis\":{\"gridcolor\":\"white\",\"linecolor\":\"white\",\"ticks\":\"\"},\"radialaxis\":{\"gridcolor\":\"white\",\"linecolor\":\"white\",\"ticks\":\"\"}},\"ternary\":{\"bgcolor\":\"#E5ECF6\",\"aaxis\":{\"gridcolor\":\"white\",\"linecolor\":\"white\",\"ticks\":\"\"},\"baxis\":{\"gridcolor\":\"white\",\"linecolor\":\"white\",\"ticks\":\"\"},\"caxis\":{\"gridcolor\":\"white\",\"linecolor\":\"white\",\"ticks\":\"\"}},\"coloraxis\":{\"colorbar\":{\"outlinewidth\":0,\"ticks\":\"\"}},\"colorscale\":{\"sequential\":[[0.0,\"#0d0887\"],[0.1111111111111111,\"#46039f\"],[0.2222222222222222,\"#7201a8\"],[0.3333333333333333,\"#9c179e\"],[0.4444444444444444,\"#bd3786\"],[0.5555555555555556,\"#d8576b\"],[0.6666666666666666,\"#ed7953\"],[0.7777777777777778,\"#fb9f3a\"],[0.8888888888888888,\"#fdca26\"],[1.0,\"#f0f921\"]],\"sequentialminus\":[[0.0,\"#0d0887\"],[0.1111111111111111,\"#46039f\"],[0.2222222222222222,\"#7201a8\"],[0.3333333333333333,\"#9c179e\"],[0.4444444444444444,\"#bd3786\"],[0.5555555555555556,\"#d8576b\"],[0.6666666666666666,\"#ed7953\"],[0.7777777777777778,\"#fb9f3a\"],[0.8888888888888888,\"#fdca26\"],[1.0,\"#f0f921\"]],\"diverging\":[[0,\"#8e0152\"],[0.1,\"#c51b7d\"],[0.2,\"#de77ae\"],[0.3,\"#f1b6da\"],[0.4,\"#fde0ef\"],[0.5,\"#f7f7f7\"],[0.6,\"#e6f5d0\"],[0.7,\"#b8e186\"],[0.8,\"#7fbc41\"],[0.9,\"#4d9221\"],[1,\"#276419\"]]},\"xaxis\":{\"gridcolor\":\"white\",\"linecolor\":\"white\",\"ticks\":\"\",\"title\":{\"standoff\":15},\"zerolinecolor\":\"white\",\"automargin\":true,\"zerolinewidth\":2},\"yaxis\":{\"gridcolor\":\"white\",\"linecolor\":\"white\",\"ticks\":\"\",\"title\":{\"standoff\":15},\"zerolinecolor\":\"white\",\"automargin\":true,\"zerolinewidth\":2},\"scene\":{\"xaxis\":{\"backgroundcolor\":\"#E5ECF6\",\"gridcolor\":\"white\",\"linecolor\":\"white\",\"showbackground\":true,\"ticks\":\"\",\"zerolinecolor\":\"white\",\"gridwidth\":2},\"yaxis\":{\"backgroundcolor\":\"#E5ECF6\",\"gridcolor\":\"white\",\"linecolor\":\"white\",\"showbackground\":true,\"ticks\":\"\",\"zerolinecolor\":\"white\",\"gridwidth\":2},\"zaxis\":{\"backgroundcolor\":\"#E5ECF6\",\"gridcolor\":\"white\",\"linecolor\":\"white\",\"showbackground\":true,\"ticks\":\"\",\"zerolinecolor\":\"white\",\"gridwidth\":2}},\"shapedefaults\":{\"line\":{\"color\":\"#2a3f5f\"}},\"annotationdefaults\":{\"arrowcolor\":\"#2a3f5f\",\"arrowhead\":0,\"arrowwidth\":1},\"geo\":{\"bgcolor\":\"white\",\"landcolor\":\"#E5ECF6\",\"subunitcolor\":\"white\",\"showland\":true,\"showlakes\":true,\"lakecolor\":\"white\"},\"title\":{\"x\":0.05},\"mapbox\":{\"style\":\"light\"}}},\"xaxis\":{\"anchor\":\"y\",\"domain\":[0.0,1.0],\"title\":{\"text\":\"reading score\"}},\"yaxis\":{\"anchor\":\"x\",\"domain\":[0.0,1.0],\"title\":{\"text\":\"count\"}},\"legend\":{\"title\":{\"text\":\"race/ethnicity\"},\"tracegroupgap\":0},\"margin\":{\"t\":60},\"barmode\":\"relative\"},                        {\"responsive\": true}                    ).then(function(){\n",
       "                            \n",
       "var gd = document.getElementById('5eb08399-7b4f-432d-8b86-740c6deab7f7');\n",
       "var x = new MutationObserver(function (mutations, observer) {{\n",
       "        var display = window.getComputedStyle(gd).display;\n",
       "        if (!display || display === 'none') {{\n",
       "            console.log([gd, 'removed!']);\n",
       "            Plotly.purge(gd);\n",
       "            observer.disconnect();\n",
       "        }}\n",
       "}});\n",
       "\n",
       "// Listen for the removal of the full notebook cells\n",
       "var notebookContainer = gd.closest('#notebook-container');\n",
       "if (notebookContainer) {{\n",
       "    x.observe(notebookContainer, {childList: true});\n",
       "}}\n",
       "\n",
       "// Listen for the clearing of the current output cell\n",
       "var outputEl = gd.closest('.output');\n",
       "if (outputEl) {{\n",
       "    x.observe(outputEl, {childList: true});\n",
       "}}\n",
       "\n",
       "                        })                };                });            </script>        </div>"
      ]
     },
     "metadata": {},
     "output_type": "display_data"
    },
    {
     "data": {
      "application/vnd.plotly.v1+json": {
       "config": {
        "plotlyServerURL": "https://plot.ly"
       },
       "data": [
        {
         "alignmentgroup": "True",
         "bingroup": "x",
         "hovertemplate": "race/ethnicity=group A<br>writing score=%{x}<br>count=%{y}<extra></extra>",
         "legendgroup": "group A",
         "marker": {
          "color": "#636efa",
          "pattern": {
           "shape": ""
          }
         },
         "name": "group A",
         "offsetgroup": "group A",
         "orientation": "v",
         "showlegend": true,
         "type": "histogram",
         "x": [
          82,
          97,
          92,
          56,
          69,
          55,
          34,
          60,
          47,
          81,
          67,
          43,
          82,
          68,
          92,
          53,
          52,
          63,
          69,
          57,
          43,
          77,
          86,
          48,
          57,
          82,
          76,
          58,
          61,
          67,
          64,
          74,
          60,
          54,
          66,
          79,
          43,
          85,
          81,
          64,
          19,
          65,
          62,
          58,
          62,
          43,
          73,
          62,
          49,
          70,
          49,
          41,
          51,
          58,
          70,
          36,
          76,
          74,
          53,
          44,
          64,
          73,
          41,
          44,
          74,
          55,
          73,
          47,
          87,
          46,
          61,
          62,
          50,
          91,
          64,
          64,
          54,
          93,
          69,
          45,
          86,
          53,
          65,
          43,
          80,
          72,
          65,
          50,
          48
         ],
         "xaxis": "x",
         "yaxis": "y"
        },
        {
         "alignmentgroup": "True",
         "bingroup": "x",
         "hovertemplate": "race/ethnicity=group B<br>writing score=%{x}<br>count=%{y}<extra></extra>",
         "legendgroup": "group B",
         "marker": {
          "color": "#EF553B",
          "pattern": {
           "shape": ""
          }
         },
         "name": "group B",
         "offsetgroup": "group B",
         "orientation": "v",
         "showlegend": true,
         "type": "histogram",
         "x": [
          53,
          87,
          83,
          59,
          78,
          68,
          82,
          70,
          51,
          36,
          57,
          46,
          57,
          76,
          41,
          78,
          47,
          78,
          65,
          70,
          68,
          51,
          71,
          83,
          73,
          73,
          27,
          62,
          69,
          96,
          82,
          89,
          74,
          45,
          66,
          81,
          51,
          53,
          46,
          69,
          80,
          67,
          76,
          64,
          60,
          76,
          82,
          57,
          63,
          74,
          63,
          87,
          15,
          88,
          41,
          80,
          58,
          89,
          70,
          47,
          73,
          45,
          46,
          70,
          50,
          88,
          74,
          65,
          56,
          63,
          66,
          60,
          54,
          87,
          68,
          67,
          79,
          47,
          55,
          60,
          79,
          72,
          81,
          81,
          65,
          64,
          81,
          68,
          86,
          79,
          56,
          45,
          68,
          84,
          82,
          72,
          42,
          70,
          76,
          32,
          34,
          60,
          51,
          67,
          87,
          77,
          44,
          57,
          91,
          60,
          77,
          94,
          62,
          54,
          80,
          63,
          92,
          55,
          72,
          60,
          68,
          57,
          54,
          49,
          68,
          72,
          68,
          70,
          27,
          79,
          91,
          78,
          56,
          78,
          61,
          58,
          60,
          62,
          55,
          57,
          23,
          66,
          65,
          57,
          45,
          66,
          51,
          86,
          61,
          52,
          80,
          74,
          87,
          61,
          82,
          86,
          67,
          80,
          72,
          70,
          52,
          47,
          78,
          41,
          62,
          92,
          75,
          45,
          66,
          50,
          65,
          38,
          60,
          67,
          55,
          92,
          55,
          70,
          39,
          93,
          76,
          76,
          66,
          73,
          78,
          28,
          92,
          68,
          50,
          75
         ],
         "xaxis": "x",
         "yaxis": "y"
        },
        {
         "alignmentgroup": "True",
         "bingroup": "x",
         "hovertemplate": "race/ethnicity=group C<br>writing score=%{x}<br>count=%{y}<extra></extra>",
         "legendgroup": "group C",
         "marker": {
          "color": "#00cc96",
          "pattern": {
           "shape": ""
          }
         },
         "name": "group C",
         "offsetgroup": "group C",
         "orientation": "v",
         "showlegend": true,
         "type": "histogram",
         "x": [
          52,
          82,
          88,
          77,
          36,
          50,
          70,
          90,
          71,
          74,
          54,
          90,
          71,
          55,
          77,
          63,
          43,
          60,
          64,
          53,
          85,
          49,
          50,
          75,
          53,
          56,
          41,
          64,
          85,
          87,
          67,
          73,
          84,
          74,
          61,
          71,
          49,
          47,
          76,
          84,
          62,
          49,
          74,
          62,
          85,
          58,
          74,
          39,
          79,
          77,
          88,
          65,
          89,
          55,
          82,
          68,
          91,
          44,
          75,
          81,
          60,
          71,
          79,
          69,
          54,
          90,
          84,
          74,
          90,
          76,
          72,
          43,
          91,
          61,
          75,
          70,
          60,
          73,
          73,
          54,
          72,
          99,
          68,
          42,
          61,
          54,
          59,
          65,
          62,
          46,
          76,
          37,
          76,
          94,
          94,
          70,
          82,
          74,
          99,
          52,
          52,
          75,
          54,
          68,
          90,
          72,
          51,
          74,
          91,
          66,
          82,
          54,
          82,
          62,
          72,
          85,
          30,
          90,
          58,
          42,
          64,
          64,
          74,
          72,
          53,
          79,
          55,
          68,
          57,
          68,
          81,
          59,
          58,
          83,
          52,
          65,
          53,
          69,
          65,
          56,
          82,
          64,
          56,
          86,
          87,
          59,
          78,
          43,
          84,
          65,
          77,
          92,
          74,
          55,
          71,
          66,
          79,
          33,
          69,
          10,
          79,
          80,
          61,
          73,
          78,
          65,
          75,
          69,
          51,
          77,
          75,
          44,
          84,
          66,
          83,
          66,
          81,
          49,
          85,
          50,
          65,
          68,
          57,
          66,
          67,
          87,
          53,
          75,
          100,
          51,
          63,
          52,
          43,
          74,
          70,
          95,
          80,
          80,
          35,
          61,
          70,
          77,
          54,
          62,
          51,
          94,
          43,
          52,
          95,
          68,
          72,
          69,
          61,
          53,
          42,
          74,
          66,
          71,
          54,
          66,
          76,
          80,
          84,
          59,
          42,
          94,
          71,
          27,
          60,
          62,
          56,
          80,
          87,
          86,
          77,
          55,
          85,
          81,
          65,
          80,
          72,
          93,
          73,
          53,
          68,
          42,
          80,
          91,
          81,
          52,
          51,
          51,
          78,
          77,
          81,
          61,
          89,
          76,
          90,
          62,
          51,
          66,
          95,
          40,
          33,
          70,
          83,
          67,
          67,
          93,
          64,
          69,
          56,
          72,
          77,
          74,
          73,
          84,
          68,
          62,
          68,
          57,
          86,
          48,
          79,
          49,
          68,
          95,
          67,
          67,
          67,
          88,
          71,
          93,
          55,
          53,
          58,
          66,
          70,
          58,
          61,
          76,
          53,
          46,
          61,
          70,
          57,
          80,
          69,
          88,
          78,
          52,
          59,
          64,
          70,
          58,
          70,
          54,
          65
         ],
         "xaxis": "x",
         "yaxis": "y"
        },
        {
         "alignmentgroup": "True",
         "bingroup": "x",
         "hovertemplate": "race/ethnicity=group D<br>writing score=%{x}<br>count=%{y}<extra></extra>",
         "legendgroup": "group D",
         "marker": {
          "color": "#ab63fa",
          "pattern": {
           "shape": ""
          }
         },
         "name": "group D",
         "offsetgroup": "group D",
         "orientation": "v",
         "showlegend": true,
         "type": "histogram",
         "x": [
          74,
          63,
          76,
          80,
          73,
          96,
          67,
          85,
          36,
          69,
          74,
          83,
          70,
          75,
          79,
          100,
          74,
          84,
          82,
          44,
          70,
          73,
          60,
          57,
          48,
          86,
          69,
          74,
          89,
          67,
          83,
          44,
          71,
          76,
          46,
          69,
          93,
          86,
          58,
          61,
          54,
          73,
          72,
          65,
          52,
          66,
          100,
          81,
          60,
          74,
          71,
          68,
          53,
          59,
          48,
          84,
          88,
          58,
          58,
          99,
          38,
          84,
          74,
          84,
          75,
          100,
          79,
          77,
          78,
          91,
          59,
          73,
          69,
          48,
          62,
          50,
          75,
          64,
          59,
          72,
          86,
          63,
          54,
          75,
          64,
          79,
          61,
          56,
          100,
          82,
          73,
          77,
          96,
          72,
          74,
          85,
          32,
          89,
          61,
          82,
          66,
          67,
          74,
          98,
          54,
          100,
          74,
          82,
          48,
          89,
          60,
          80,
          62,
          82,
          73,
          64,
          77,
          64,
          62,
          62,
          74,
          89,
          100,
          60,
          74,
          85,
          56,
          67,
          60,
          69,
          75,
          52,
          72,
          83,
          69,
          81,
          55,
          66,
          74,
          67,
          100,
          77,
          70,
          66,
          54,
          68,
          75,
          79,
          74,
          62,
          52,
          79,
          64,
          34,
          68,
          77,
          78,
          91,
          68,
          52,
          69,
          52,
          71,
          75,
          80,
          78,
          70,
          81,
          78,
          84,
          46,
          42,
          71,
          47,
          58,
          61,
          95,
          41,
          38,
          67,
          83,
          99,
          74,
          84,
          83,
          63,
          38,
          90,
          51,
          63,
          46,
          81,
          83,
          59,
          61,
          88,
          76,
          80,
          78,
          96,
          68,
          73,
          46,
          70,
          80,
          78,
          50,
          77,
          63,
          69,
          67,
          43,
          85,
          58,
          61,
          63,
          98,
          81,
          53,
          65,
          80,
          90,
          51,
          73,
          75,
          88,
          75,
          67,
          77,
          78,
          62,
          37,
          76,
          73,
          77,
          82,
          54,
          66,
          47,
          63,
          78,
          52,
          73,
          52,
          84,
          78,
          57,
          56,
          59,
          72,
          62,
          72,
          79,
          64,
          70,
          58,
          66,
          89,
          80,
          56,
          80,
          49
         ],
         "xaxis": "x",
         "yaxis": "y"
        },
        {
         "alignmentgroup": "True",
         "bingroup": "x",
         "hovertemplate": "race/ethnicity=group E<br>writing score=%{x}<br>count=%{y}<extra></extra>",
         "legendgroup": "group E",
         "marker": {
          "color": "#FFA15A",
          "pattern": {
           "shape": ""
          }
         },
         "name": "group E",
         "offsetgroup": "group E",
         "orientation": "v",
         "showlegend": true,
         "type": "histogram",
         "x": [
          100,
          62,
          100,
          51,
          65,
          70,
          70,
          68,
          69,
          47,
          95,
          78,
          66,
          63,
          86,
          72,
          68,
          57,
          48,
          73,
          70,
          54,
          56,
          100,
          79,
          72,
          54,
          82,
          44,
          93,
          52,
          76,
          65,
          64,
          60,
          67,
          71,
          22,
          78,
          75,
          85,
          91,
          73,
          76,
          76,
          80,
          71,
          94,
          58,
          65,
          59,
          92,
          72,
          73,
          40,
          92,
          66,
          76,
          82,
          100,
          97,
          77,
          54,
          77,
          73,
          67,
          69,
          100,
          71,
          100,
          68,
          83,
          78,
          68,
          80,
          82,
          74,
          62,
          57,
          85,
          62,
          80,
          80,
          73,
          64,
          71,
          77,
          57,
          80,
          38,
          81,
          54,
          78,
          87,
          70,
          72,
          90,
          70,
          82,
          74,
          43,
          83,
          75,
          70,
          95,
          78,
          91,
          85,
          54,
          69,
          38,
          88,
          81,
          54,
          88,
          61,
          93,
          95,
          40,
          67,
          59,
          76,
          70,
          75,
          45,
          41,
          51,
          71,
          52,
          76,
          57,
          53,
          79,
          81,
          84,
          68,
          75,
          77,
          62,
          72
         ],
         "xaxis": "x",
         "yaxis": "y"
        }
       ],
       "layout": {
        "barmode": "relative",
        "legend": {
         "title": {
          "text": "race/ethnicity"
         },
         "tracegroupgap": 0
        },
        "margin": {
         "t": 60
        },
        "template": {
         "data": {
          "bar": [
           {
            "error_x": {
             "color": "#2a3f5f"
            },
            "error_y": {
             "color": "#2a3f5f"
            },
            "marker": {
             "line": {
              "color": "#E5ECF6",
              "width": 0.5
             },
             "pattern": {
              "fillmode": "overlay",
              "size": 10,
              "solidity": 0.2
             }
            },
            "type": "bar"
           }
          ],
          "barpolar": [
           {
            "marker": {
             "line": {
              "color": "#E5ECF6",
              "width": 0.5
             },
             "pattern": {
              "fillmode": "overlay",
              "size": 10,
              "solidity": 0.2
             }
            },
            "type": "barpolar"
           }
          ],
          "carpet": [
           {
            "aaxis": {
             "endlinecolor": "#2a3f5f",
             "gridcolor": "white",
             "linecolor": "white",
             "minorgridcolor": "white",
             "startlinecolor": "#2a3f5f"
            },
            "baxis": {
             "endlinecolor": "#2a3f5f",
             "gridcolor": "white",
             "linecolor": "white",
             "minorgridcolor": "white",
             "startlinecolor": "#2a3f5f"
            },
            "type": "carpet"
           }
          ],
          "choropleth": [
           {
            "colorbar": {
             "outlinewidth": 0,
             "ticks": ""
            },
            "type": "choropleth"
           }
          ],
          "contour": [
           {
            "colorbar": {
             "outlinewidth": 0,
             "ticks": ""
            },
            "colorscale": [
             [
              0,
              "#0d0887"
             ],
             [
              0.1111111111111111,
              "#46039f"
             ],
             [
              0.2222222222222222,
              "#7201a8"
             ],
             [
              0.3333333333333333,
              "#9c179e"
             ],
             [
              0.4444444444444444,
              "#bd3786"
             ],
             [
              0.5555555555555556,
              "#d8576b"
             ],
             [
              0.6666666666666666,
              "#ed7953"
             ],
             [
              0.7777777777777778,
              "#fb9f3a"
             ],
             [
              0.8888888888888888,
              "#fdca26"
             ],
             [
              1,
              "#f0f921"
             ]
            ],
            "type": "contour"
           }
          ],
          "contourcarpet": [
           {
            "colorbar": {
             "outlinewidth": 0,
             "ticks": ""
            },
            "type": "contourcarpet"
           }
          ],
          "heatmap": [
           {
            "colorbar": {
             "outlinewidth": 0,
             "ticks": ""
            },
            "colorscale": [
             [
              0,
              "#0d0887"
             ],
             [
              0.1111111111111111,
              "#46039f"
             ],
             [
              0.2222222222222222,
              "#7201a8"
             ],
             [
              0.3333333333333333,
              "#9c179e"
             ],
             [
              0.4444444444444444,
              "#bd3786"
             ],
             [
              0.5555555555555556,
              "#d8576b"
             ],
             [
              0.6666666666666666,
              "#ed7953"
             ],
             [
              0.7777777777777778,
              "#fb9f3a"
             ],
             [
              0.8888888888888888,
              "#fdca26"
             ],
             [
              1,
              "#f0f921"
             ]
            ],
            "type": "heatmap"
           }
          ],
          "heatmapgl": [
           {
            "colorbar": {
             "outlinewidth": 0,
             "ticks": ""
            },
            "colorscale": [
             [
              0,
              "#0d0887"
             ],
             [
              0.1111111111111111,
              "#46039f"
             ],
             [
              0.2222222222222222,
              "#7201a8"
             ],
             [
              0.3333333333333333,
              "#9c179e"
             ],
             [
              0.4444444444444444,
              "#bd3786"
             ],
             [
              0.5555555555555556,
              "#d8576b"
             ],
             [
              0.6666666666666666,
              "#ed7953"
             ],
             [
              0.7777777777777778,
              "#fb9f3a"
             ],
             [
              0.8888888888888888,
              "#fdca26"
             ],
             [
              1,
              "#f0f921"
             ]
            ],
            "type": "heatmapgl"
           }
          ],
          "histogram": [
           {
            "marker": {
             "pattern": {
              "fillmode": "overlay",
              "size": 10,
              "solidity": 0.2
             }
            },
            "type": "histogram"
           }
          ],
          "histogram2d": [
           {
            "colorbar": {
             "outlinewidth": 0,
             "ticks": ""
            },
            "colorscale": [
             [
              0,
              "#0d0887"
             ],
             [
              0.1111111111111111,
              "#46039f"
             ],
             [
              0.2222222222222222,
              "#7201a8"
             ],
             [
              0.3333333333333333,
              "#9c179e"
             ],
             [
              0.4444444444444444,
              "#bd3786"
             ],
             [
              0.5555555555555556,
              "#d8576b"
             ],
             [
              0.6666666666666666,
              "#ed7953"
             ],
             [
              0.7777777777777778,
              "#fb9f3a"
             ],
             [
              0.8888888888888888,
              "#fdca26"
             ],
             [
              1,
              "#f0f921"
             ]
            ],
            "type": "histogram2d"
           }
          ],
          "histogram2dcontour": [
           {
            "colorbar": {
             "outlinewidth": 0,
             "ticks": ""
            },
            "colorscale": [
             [
              0,
              "#0d0887"
             ],
             [
              0.1111111111111111,
              "#46039f"
             ],
             [
              0.2222222222222222,
              "#7201a8"
             ],
             [
              0.3333333333333333,
              "#9c179e"
             ],
             [
              0.4444444444444444,
              "#bd3786"
             ],
             [
              0.5555555555555556,
              "#d8576b"
             ],
             [
              0.6666666666666666,
              "#ed7953"
             ],
             [
              0.7777777777777778,
              "#fb9f3a"
             ],
             [
              0.8888888888888888,
              "#fdca26"
             ],
             [
              1,
              "#f0f921"
             ]
            ],
            "type": "histogram2dcontour"
           }
          ],
          "mesh3d": [
           {
            "colorbar": {
             "outlinewidth": 0,
             "ticks": ""
            },
            "type": "mesh3d"
           }
          ],
          "parcoords": [
           {
            "line": {
             "colorbar": {
              "outlinewidth": 0,
              "ticks": ""
             }
            },
            "type": "parcoords"
           }
          ],
          "pie": [
           {
            "automargin": true,
            "type": "pie"
           }
          ],
          "scatter": [
           {
            "fillpattern": {
             "fillmode": "overlay",
             "size": 10,
             "solidity": 0.2
            },
            "type": "scatter"
           }
          ],
          "scatter3d": [
           {
            "line": {
             "colorbar": {
              "outlinewidth": 0,
              "ticks": ""
             }
            },
            "marker": {
             "colorbar": {
              "outlinewidth": 0,
              "ticks": ""
             }
            },
            "type": "scatter3d"
           }
          ],
          "scattercarpet": [
           {
            "marker": {
             "colorbar": {
              "outlinewidth": 0,
              "ticks": ""
             }
            },
            "type": "scattercarpet"
           }
          ],
          "scattergeo": [
           {
            "marker": {
             "colorbar": {
              "outlinewidth": 0,
              "ticks": ""
             }
            },
            "type": "scattergeo"
           }
          ],
          "scattergl": [
           {
            "marker": {
             "colorbar": {
              "outlinewidth": 0,
              "ticks": ""
             }
            },
            "type": "scattergl"
           }
          ],
          "scattermapbox": [
           {
            "marker": {
             "colorbar": {
              "outlinewidth": 0,
              "ticks": ""
             }
            },
            "type": "scattermapbox"
           }
          ],
          "scatterpolar": [
           {
            "marker": {
             "colorbar": {
              "outlinewidth": 0,
              "ticks": ""
             }
            },
            "type": "scatterpolar"
           }
          ],
          "scatterpolargl": [
           {
            "marker": {
             "colorbar": {
              "outlinewidth": 0,
              "ticks": ""
             }
            },
            "type": "scatterpolargl"
           }
          ],
          "scatterternary": [
           {
            "marker": {
             "colorbar": {
              "outlinewidth": 0,
              "ticks": ""
             }
            },
            "type": "scatterternary"
           }
          ],
          "surface": [
           {
            "colorbar": {
             "outlinewidth": 0,
             "ticks": ""
            },
            "colorscale": [
             [
              0,
              "#0d0887"
             ],
             [
              0.1111111111111111,
              "#46039f"
             ],
             [
              0.2222222222222222,
              "#7201a8"
             ],
             [
              0.3333333333333333,
              "#9c179e"
             ],
             [
              0.4444444444444444,
              "#bd3786"
             ],
             [
              0.5555555555555556,
              "#d8576b"
             ],
             [
              0.6666666666666666,
              "#ed7953"
             ],
             [
              0.7777777777777778,
              "#fb9f3a"
             ],
             [
              0.8888888888888888,
              "#fdca26"
             ],
             [
              1,
              "#f0f921"
             ]
            ],
            "type": "surface"
           }
          ],
          "table": [
           {
            "cells": {
             "fill": {
              "color": "#EBF0F8"
             },
             "line": {
              "color": "white"
             }
            },
            "header": {
             "fill": {
              "color": "#C8D4E3"
             },
             "line": {
              "color": "white"
             }
            },
            "type": "table"
           }
          ]
         },
         "layout": {
          "annotationdefaults": {
           "arrowcolor": "#2a3f5f",
           "arrowhead": 0,
           "arrowwidth": 1
          },
          "autotypenumbers": "strict",
          "coloraxis": {
           "colorbar": {
            "outlinewidth": 0,
            "ticks": ""
           }
          },
          "colorscale": {
           "diverging": [
            [
             0,
             "#8e0152"
            ],
            [
             0.1,
             "#c51b7d"
            ],
            [
             0.2,
             "#de77ae"
            ],
            [
             0.3,
             "#f1b6da"
            ],
            [
             0.4,
             "#fde0ef"
            ],
            [
             0.5,
             "#f7f7f7"
            ],
            [
             0.6,
             "#e6f5d0"
            ],
            [
             0.7,
             "#b8e186"
            ],
            [
             0.8,
             "#7fbc41"
            ],
            [
             0.9,
             "#4d9221"
            ],
            [
             1,
             "#276419"
            ]
           ],
           "sequential": [
            [
             0,
             "#0d0887"
            ],
            [
             0.1111111111111111,
             "#46039f"
            ],
            [
             0.2222222222222222,
             "#7201a8"
            ],
            [
             0.3333333333333333,
             "#9c179e"
            ],
            [
             0.4444444444444444,
             "#bd3786"
            ],
            [
             0.5555555555555556,
             "#d8576b"
            ],
            [
             0.6666666666666666,
             "#ed7953"
            ],
            [
             0.7777777777777778,
             "#fb9f3a"
            ],
            [
             0.8888888888888888,
             "#fdca26"
            ],
            [
             1,
             "#f0f921"
            ]
           ],
           "sequentialminus": [
            [
             0,
             "#0d0887"
            ],
            [
             0.1111111111111111,
             "#46039f"
            ],
            [
             0.2222222222222222,
             "#7201a8"
            ],
            [
             0.3333333333333333,
             "#9c179e"
            ],
            [
             0.4444444444444444,
             "#bd3786"
            ],
            [
             0.5555555555555556,
             "#d8576b"
            ],
            [
             0.6666666666666666,
             "#ed7953"
            ],
            [
             0.7777777777777778,
             "#fb9f3a"
            ],
            [
             0.8888888888888888,
             "#fdca26"
            ],
            [
             1,
             "#f0f921"
            ]
           ]
          },
          "colorway": [
           "#636efa",
           "#EF553B",
           "#00cc96",
           "#ab63fa",
           "#FFA15A",
           "#19d3f3",
           "#FF6692",
           "#B6E880",
           "#FF97FF",
           "#FECB52"
          ],
          "font": {
           "color": "#2a3f5f"
          },
          "geo": {
           "bgcolor": "white",
           "lakecolor": "white",
           "landcolor": "#E5ECF6",
           "showlakes": true,
           "showland": true,
           "subunitcolor": "white"
          },
          "hoverlabel": {
           "align": "left"
          },
          "hovermode": "closest",
          "mapbox": {
           "style": "light"
          },
          "paper_bgcolor": "white",
          "plot_bgcolor": "#E5ECF6",
          "polar": {
           "angularaxis": {
            "gridcolor": "white",
            "linecolor": "white",
            "ticks": ""
           },
           "bgcolor": "#E5ECF6",
           "radialaxis": {
            "gridcolor": "white",
            "linecolor": "white",
            "ticks": ""
           }
          },
          "scene": {
           "xaxis": {
            "backgroundcolor": "#E5ECF6",
            "gridcolor": "white",
            "gridwidth": 2,
            "linecolor": "white",
            "showbackground": true,
            "ticks": "",
            "zerolinecolor": "white"
           },
           "yaxis": {
            "backgroundcolor": "#E5ECF6",
            "gridcolor": "white",
            "gridwidth": 2,
            "linecolor": "white",
            "showbackground": true,
            "ticks": "",
            "zerolinecolor": "white"
           },
           "zaxis": {
            "backgroundcolor": "#E5ECF6",
            "gridcolor": "white",
            "gridwidth": 2,
            "linecolor": "white",
            "showbackground": true,
            "ticks": "",
            "zerolinecolor": "white"
           }
          },
          "shapedefaults": {
           "line": {
            "color": "#2a3f5f"
           }
          },
          "ternary": {
           "aaxis": {
            "gridcolor": "white",
            "linecolor": "white",
            "ticks": ""
           },
           "baxis": {
            "gridcolor": "white",
            "linecolor": "white",
            "ticks": ""
           },
           "bgcolor": "#E5ECF6",
           "caxis": {
            "gridcolor": "white",
            "linecolor": "white",
            "ticks": ""
           }
          },
          "title": {
           "x": 0.05
          },
          "xaxis": {
           "automargin": true,
           "gridcolor": "white",
           "linecolor": "white",
           "ticks": "",
           "title": {
            "standoff": 15
           },
           "zerolinecolor": "white",
           "zerolinewidth": 2
          },
          "yaxis": {
           "automargin": true,
           "gridcolor": "white",
           "linecolor": "white",
           "ticks": "",
           "title": {
            "standoff": 15
           },
           "zerolinecolor": "white",
           "zerolinewidth": 2
          }
         }
        },
        "xaxis": {
         "anchor": "y",
         "domain": [
          0,
          1
         ],
         "title": {
          "text": "writing score"
         }
        },
        "yaxis": {
         "anchor": "x",
         "domain": [
          0,
          1
         ],
         "title": {
          "text": "count"
         }
        }
       }
      },
      "text/html": [
       "<div>                            <div id=\"c4359928-6222-41df-91d8-ee4e02b9f069\" class=\"plotly-graph-div\" style=\"height:525px; width:100%;\"></div>            <script type=\"text/javascript\">                require([\"plotly\"], function(Plotly) {                    window.PLOTLYENV=window.PLOTLYENV || {};                                    if (document.getElementById(\"c4359928-6222-41df-91d8-ee4e02b9f069\")) {                    Plotly.newPlot(                        \"c4359928-6222-41df-91d8-ee4e02b9f069\",                        [{\"alignmentgroup\":\"True\",\"bingroup\":\"x\",\"hovertemplate\":\"race/ethnicity=group A<br>writing score=%{x}<br>count=%{y}<extra></extra>\",\"legendgroup\":\"group A\",\"marker\":{\"color\":\"#636efa\",\"pattern\":{\"shape\":\"\"}},\"name\":\"group A\",\"offsetgroup\":\"group A\",\"orientation\":\"v\",\"showlegend\":true,\"x\":[82,97,92,56,69,55,34,60,47,81,67,43,82,68,92,53,52,63,69,57,43,77,86,48,57,82,76,58,61,67,64,74,60,54,66,79,43,85,81,64,19,65,62,58,62,43,73,62,49,70,49,41,51,58,70,36,76,74,53,44,64,73,41,44,74,55,73,47,87,46,61,62,50,91,64,64,54,93,69,45,86,53,65,43,80,72,65,50,48],\"xaxis\":\"x\",\"yaxis\":\"y\",\"type\":\"histogram\"},{\"alignmentgroup\":\"True\",\"bingroup\":\"x\",\"hovertemplate\":\"race/ethnicity=group B<br>writing score=%{x}<br>count=%{y}<extra></extra>\",\"legendgroup\":\"group B\",\"marker\":{\"color\":\"#EF553B\",\"pattern\":{\"shape\":\"\"}},\"name\":\"group B\",\"offsetgroup\":\"group B\",\"orientation\":\"v\",\"showlegend\":true,\"x\":[53,87,83,59,78,68,82,70,51,36,57,46,57,76,41,78,47,78,65,70,68,51,71,83,73,73,27,62,69,96,82,89,74,45,66,81,51,53,46,69,80,67,76,64,60,76,82,57,63,74,63,87,15,88,41,80,58,89,70,47,73,45,46,70,50,88,74,65,56,63,66,60,54,87,68,67,79,47,55,60,79,72,81,81,65,64,81,68,86,79,56,45,68,84,82,72,42,70,76,32,34,60,51,67,87,77,44,57,91,60,77,94,62,54,80,63,92,55,72,60,68,57,54,49,68,72,68,70,27,79,91,78,56,78,61,58,60,62,55,57,23,66,65,57,45,66,51,86,61,52,80,74,87,61,82,86,67,80,72,70,52,47,78,41,62,92,75,45,66,50,65,38,60,67,55,92,55,70,39,93,76,76,66,73,78,28,92,68,50,75],\"xaxis\":\"x\",\"yaxis\":\"y\",\"type\":\"histogram\"},{\"alignmentgroup\":\"True\",\"bingroup\":\"x\",\"hovertemplate\":\"race/ethnicity=group C<br>writing score=%{x}<br>count=%{y}<extra></extra>\",\"legendgroup\":\"group C\",\"marker\":{\"color\":\"#00cc96\",\"pattern\":{\"shape\":\"\"}},\"name\":\"group C\",\"offsetgroup\":\"group C\",\"orientation\":\"v\",\"showlegend\":true,\"x\":[52,82,88,77,36,50,70,90,71,74,54,90,71,55,77,63,43,60,64,53,85,49,50,75,53,56,41,64,85,87,67,73,84,74,61,71,49,47,76,84,62,49,74,62,85,58,74,39,79,77,88,65,89,55,82,68,91,44,75,81,60,71,79,69,54,90,84,74,90,76,72,43,91,61,75,70,60,73,73,54,72,99,68,42,61,54,59,65,62,46,76,37,76,94,94,70,82,74,99,52,52,75,54,68,90,72,51,74,91,66,82,54,82,62,72,85,30,90,58,42,64,64,74,72,53,79,55,68,57,68,81,59,58,83,52,65,53,69,65,56,82,64,56,86,87,59,78,43,84,65,77,92,74,55,71,66,79,33,69,10,79,80,61,73,78,65,75,69,51,77,75,44,84,66,83,66,81,49,85,50,65,68,57,66,67,87,53,75,100,51,63,52,43,74,70,95,80,80,35,61,70,77,54,62,51,94,43,52,95,68,72,69,61,53,42,74,66,71,54,66,76,80,84,59,42,94,71,27,60,62,56,80,87,86,77,55,85,81,65,80,72,93,73,53,68,42,80,91,81,52,51,51,78,77,81,61,89,76,90,62,51,66,95,40,33,70,83,67,67,93,64,69,56,72,77,74,73,84,68,62,68,57,86,48,79,49,68,95,67,67,67,88,71,93,55,53,58,66,70,58,61,76,53,46,61,70,57,80,69,88,78,52,59,64,70,58,70,54,65],\"xaxis\":\"x\",\"yaxis\":\"y\",\"type\":\"histogram\"},{\"alignmentgroup\":\"True\",\"bingroup\":\"x\",\"hovertemplate\":\"race/ethnicity=group D<br>writing score=%{x}<br>count=%{y}<extra></extra>\",\"legendgroup\":\"group D\",\"marker\":{\"color\":\"#ab63fa\",\"pattern\":{\"shape\":\"\"}},\"name\":\"group D\",\"offsetgroup\":\"group D\",\"orientation\":\"v\",\"showlegend\":true,\"x\":[74,63,76,80,73,96,67,85,36,69,74,83,70,75,79,100,74,84,82,44,70,73,60,57,48,86,69,74,89,67,83,44,71,76,46,69,93,86,58,61,54,73,72,65,52,66,100,81,60,74,71,68,53,59,48,84,88,58,58,99,38,84,74,84,75,100,79,77,78,91,59,73,69,48,62,50,75,64,59,72,86,63,54,75,64,79,61,56,100,82,73,77,96,72,74,85,32,89,61,82,66,67,74,98,54,100,74,82,48,89,60,80,62,82,73,64,77,64,62,62,74,89,100,60,74,85,56,67,60,69,75,52,72,83,69,81,55,66,74,67,100,77,70,66,54,68,75,79,74,62,52,79,64,34,68,77,78,91,68,52,69,52,71,75,80,78,70,81,78,84,46,42,71,47,58,61,95,41,38,67,83,99,74,84,83,63,38,90,51,63,46,81,83,59,61,88,76,80,78,96,68,73,46,70,80,78,50,77,63,69,67,43,85,58,61,63,98,81,53,65,80,90,51,73,75,88,75,67,77,78,62,37,76,73,77,82,54,66,47,63,78,52,73,52,84,78,57,56,59,72,62,72,79,64,70,58,66,89,80,56,80,49],\"xaxis\":\"x\",\"yaxis\":\"y\",\"type\":\"histogram\"},{\"alignmentgroup\":\"True\",\"bingroup\":\"x\",\"hovertemplate\":\"race/ethnicity=group E<br>writing score=%{x}<br>count=%{y}<extra></extra>\",\"legendgroup\":\"group E\",\"marker\":{\"color\":\"#FFA15A\",\"pattern\":{\"shape\":\"\"}},\"name\":\"group E\",\"offsetgroup\":\"group E\",\"orientation\":\"v\",\"showlegend\":true,\"x\":[100,62,100,51,65,70,70,68,69,47,95,78,66,63,86,72,68,57,48,73,70,54,56,100,79,72,54,82,44,93,52,76,65,64,60,67,71,22,78,75,85,91,73,76,76,80,71,94,58,65,59,92,72,73,40,92,66,76,82,100,97,77,54,77,73,67,69,100,71,100,68,83,78,68,80,82,74,62,57,85,62,80,80,73,64,71,77,57,80,38,81,54,78,87,70,72,90,70,82,74,43,83,75,70,95,78,91,85,54,69,38,88,81,54,88,61,93,95,40,67,59,76,70,75,45,41,51,71,52,76,57,53,79,81,84,68,75,77,62,72],\"xaxis\":\"x\",\"yaxis\":\"y\",\"type\":\"histogram\"}],                        {\"template\":{\"data\":{\"histogram2dcontour\":[{\"type\":\"histogram2dcontour\",\"colorbar\":{\"outlinewidth\":0,\"ticks\":\"\"},\"colorscale\":[[0.0,\"#0d0887\"],[0.1111111111111111,\"#46039f\"],[0.2222222222222222,\"#7201a8\"],[0.3333333333333333,\"#9c179e\"],[0.4444444444444444,\"#bd3786\"],[0.5555555555555556,\"#d8576b\"],[0.6666666666666666,\"#ed7953\"],[0.7777777777777778,\"#fb9f3a\"],[0.8888888888888888,\"#fdca26\"],[1.0,\"#f0f921\"]]}],\"choropleth\":[{\"type\":\"choropleth\",\"colorbar\":{\"outlinewidth\":0,\"ticks\":\"\"}}],\"histogram2d\":[{\"type\":\"histogram2d\",\"colorbar\":{\"outlinewidth\":0,\"ticks\":\"\"},\"colorscale\":[[0.0,\"#0d0887\"],[0.1111111111111111,\"#46039f\"],[0.2222222222222222,\"#7201a8\"],[0.3333333333333333,\"#9c179e\"],[0.4444444444444444,\"#bd3786\"],[0.5555555555555556,\"#d8576b\"],[0.6666666666666666,\"#ed7953\"],[0.7777777777777778,\"#fb9f3a\"],[0.8888888888888888,\"#fdca26\"],[1.0,\"#f0f921\"]]}],\"heatmap\":[{\"type\":\"heatmap\",\"colorbar\":{\"outlinewidth\":0,\"ticks\":\"\"},\"colorscale\":[[0.0,\"#0d0887\"],[0.1111111111111111,\"#46039f\"],[0.2222222222222222,\"#7201a8\"],[0.3333333333333333,\"#9c179e\"],[0.4444444444444444,\"#bd3786\"],[0.5555555555555556,\"#d8576b\"],[0.6666666666666666,\"#ed7953\"],[0.7777777777777778,\"#fb9f3a\"],[0.8888888888888888,\"#fdca26\"],[1.0,\"#f0f921\"]]}],\"heatmapgl\":[{\"type\":\"heatmapgl\",\"colorbar\":{\"outlinewidth\":0,\"ticks\":\"\"},\"colorscale\":[[0.0,\"#0d0887\"],[0.1111111111111111,\"#46039f\"],[0.2222222222222222,\"#7201a8\"],[0.3333333333333333,\"#9c179e\"],[0.4444444444444444,\"#bd3786\"],[0.5555555555555556,\"#d8576b\"],[0.6666666666666666,\"#ed7953\"],[0.7777777777777778,\"#fb9f3a\"],[0.8888888888888888,\"#fdca26\"],[1.0,\"#f0f921\"]]}],\"contourcarpet\":[{\"type\":\"contourcarpet\",\"colorbar\":{\"outlinewidth\":0,\"ticks\":\"\"}}],\"contour\":[{\"type\":\"contour\",\"colorbar\":{\"outlinewidth\":0,\"ticks\":\"\"},\"colorscale\":[[0.0,\"#0d0887\"],[0.1111111111111111,\"#46039f\"],[0.2222222222222222,\"#7201a8\"],[0.3333333333333333,\"#9c179e\"],[0.4444444444444444,\"#bd3786\"],[0.5555555555555556,\"#d8576b\"],[0.6666666666666666,\"#ed7953\"],[0.7777777777777778,\"#fb9f3a\"],[0.8888888888888888,\"#fdca26\"],[1.0,\"#f0f921\"]]}],\"surface\":[{\"type\":\"surface\",\"colorbar\":{\"outlinewidth\":0,\"ticks\":\"\"},\"colorscale\":[[0.0,\"#0d0887\"],[0.1111111111111111,\"#46039f\"],[0.2222222222222222,\"#7201a8\"],[0.3333333333333333,\"#9c179e\"],[0.4444444444444444,\"#bd3786\"],[0.5555555555555556,\"#d8576b\"],[0.6666666666666666,\"#ed7953\"],[0.7777777777777778,\"#fb9f3a\"],[0.8888888888888888,\"#fdca26\"],[1.0,\"#f0f921\"]]}],\"mesh3d\":[{\"type\":\"mesh3d\",\"colorbar\":{\"outlinewidth\":0,\"ticks\":\"\"}}],\"scatter\":[{\"fillpattern\":{\"fillmode\":\"overlay\",\"size\":10,\"solidity\":0.2},\"type\":\"scatter\"}],\"parcoords\":[{\"type\":\"parcoords\",\"line\":{\"colorbar\":{\"outlinewidth\":0,\"ticks\":\"\"}}}],\"scatterpolargl\":[{\"type\":\"scatterpolargl\",\"marker\":{\"colorbar\":{\"outlinewidth\":0,\"ticks\":\"\"}}}],\"bar\":[{\"error_x\":{\"color\":\"#2a3f5f\"},\"error_y\":{\"color\":\"#2a3f5f\"},\"marker\":{\"line\":{\"color\":\"#E5ECF6\",\"width\":0.5},\"pattern\":{\"fillmode\":\"overlay\",\"size\":10,\"solidity\":0.2}},\"type\":\"bar\"}],\"scattergeo\":[{\"type\":\"scattergeo\",\"marker\":{\"colorbar\":{\"outlinewidth\":0,\"ticks\":\"\"}}}],\"scatterpolar\":[{\"type\":\"scatterpolar\",\"marker\":{\"colorbar\":{\"outlinewidth\":0,\"ticks\":\"\"}}}],\"histogram\":[{\"marker\":{\"pattern\":{\"fillmode\":\"overlay\",\"size\":10,\"solidity\":0.2}},\"type\":\"histogram\"}],\"scattergl\":[{\"type\":\"scattergl\",\"marker\":{\"colorbar\":{\"outlinewidth\":0,\"ticks\":\"\"}}}],\"scatter3d\":[{\"type\":\"scatter3d\",\"line\":{\"colorbar\":{\"outlinewidth\":0,\"ticks\":\"\"}},\"marker\":{\"colorbar\":{\"outlinewidth\":0,\"ticks\":\"\"}}}],\"scattermapbox\":[{\"type\":\"scattermapbox\",\"marker\":{\"colorbar\":{\"outlinewidth\":0,\"ticks\":\"\"}}}],\"scatterternary\":[{\"type\":\"scatterternary\",\"marker\":{\"colorbar\":{\"outlinewidth\":0,\"ticks\":\"\"}}}],\"scattercarpet\":[{\"type\":\"scattercarpet\",\"marker\":{\"colorbar\":{\"outlinewidth\":0,\"ticks\":\"\"}}}],\"carpet\":[{\"aaxis\":{\"endlinecolor\":\"#2a3f5f\",\"gridcolor\":\"white\",\"linecolor\":\"white\",\"minorgridcolor\":\"white\",\"startlinecolor\":\"#2a3f5f\"},\"baxis\":{\"endlinecolor\":\"#2a3f5f\",\"gridcolor\":\"white\",\"linecolor\":\"white\",\"minorgridcolor\":\"white\",\"startlinecolor\":\"#2a3f5f\"},\"type\":\"carpet\"}],\"table\":[{\"cells\":{\"fill\":{\"color\":\"#EBF0F8\"},\"line\":{\"color\":\"white\"}},\"header\":{\"fill\":{\"color\":\"#C8D4E3\"},\"line\":{\"color\":\"white\"}},\"type\":\"table\"}],\"barpolar\":[{\"marker\":{\"line\":{\"color\":\"#E5ECF6\",\"width\":0.5},\"pattern\":{\"fillmode\":\"overlay\",\"size\":10,\"solidity\":0.2}},\"type\":\"barpolar\"}],\"pie\":[{\"automargin\":true,\"type\":\"pie\"}]},\"layout\":{\"autotypenumbers\":\"strict\",\"colorway\":[\"#636efa\",\"#EF553B\",\"#00cc96\",\"#ab63fa\",\"#FFA15A\",\"#19d3f3\",\"#FF6692\",\"#B6E880\",\"#FF97FF\",\"#FECB52\"],\"font\":{\"color\":\"#2a3f5f\"},\"hovermode\":\"closest\",\"hoverlabel\":{\"align\":\"left\"},\"paper_bgcolor\":\"white\",\"plot_bgcolor\":\"#E5ECF6\",\"polar\":{\"bgcolor\":\"#E5ECF6\",\"angularaxis\":{\"gridcolor\":\"white\",\"linecolor\":\"white\",\"ticks\":\"\"},\"radialaxis\":{\"gridcolor\":\"white\",\"linecolor\":\"white\",\"ticks\":\"\"}},\"ternary\":{\"bgcolor\":\"#E5ECF6\",\"aaxis\":{\"gridcolor\":\"white\",\"linecolor\":\"white\",\"ticks\":\"\"},\"baxis\":{\"gridcolor\":\"white\",\"linecolor\":\"white\",\"ticks\":\"\"},\"caxis\":{\"gridcolor\":\"white\",\"linecolor\":\"white\",\"ticks\":\"\"}},\"coloraxis\":{\"colorbar\":{\"outlinewidth\":0,\"ticks\":\"\"}},\"colorscale\":{\"sequential\":[[0.0,\"#0d0887\"],[0.1111111111111111,\"#46039f\"],[0.2222222222222222,\"#7201a8\"],[0.3333333333333333,\"#9c179e\"],[0.4444444444444444,\"#bd3786\"],[0.5555555555555556,\"#d8576b\"],[0.6666666666666666,\"#ed7953\"],[0.7777777777777778,\"#fb9f3a\"],[0.8888888888888888,\"#fdca26\"],[1.0,\"#f0f921\"]],\"sequentialminus\":[[0.0,\"#0d0887\"],[0.1111111111111111,\"#46039f\"],[0.2222222222222222,\"#7201a8\"],[0.3333333333333333,\"#9c179e\"],[0.4444444444444444,\"#bd3786\"],[0.5555555555555556,\"#d8576b\"],[0.6666666666666666,\"#ed7953\"],[0.7777777777777778,\"#fb9f3a\"],[0.8888888888888888,\"#fdca26\"],[1.0,\"#f0f921\"]],\"diverging\":[[0,\"#8e0152\"],[0.1,\"#c51b7d\"],[0.2,\"#de77ae\"],[0.3,\"#f1b6da\"],[0.4,\"#fde0ef\"],[0.5,\"#f7f7f7\"],[0.6,\"#e6f5d0\"],[0.7,\"#b8e186\"],[0.8,\"#7fbc41\"],[0.9,\"#4d9221\"],[1,\"#276419\"]]},\"xaxis\":{\"gridcolor\":\"white\",\"linecolor\":\"white\",\"ticks\":\"\",\"title\":{\"standoff\":15},\"zerolinecolor\":\"white\",\"automargin\":true,\"zerolinewidth\":2},\"yaxis\":{\"gridcolor\":\"white\",\"linecolor\":\"white\",\"ticks\":\"\",\"title\":{\"standoff\":15},\"zerolinecolor\":\"white\",\"automargin\":true,\"zerolinewidth\":2},\"scene\":{\"xaxis\":{\"backgroundcolor\":\"#E5ECF6\",\"gridcolor\":\"white\",\"linecolor\":\"white\",\"showbackground\":true,\"ticks\":\"\",\"zerolinecolor\":\"white\",\"gridwidth\":2},\"yaxis\":{\"backgroundcolor\":\"#E5ECF6\",\"gridcolor\":\"white\",\"linecolor\":\"white\",\"showbackground\":true,\"ticks\":\"\",\"zerolinecolor\":\"white\",\"gridwidth\":2},\"zaxis\":{\"backgroundcolor\":\"#E5ECF6\",\"gridcolor\":\"white\",\"linecolor\":\"white\",\"showbackground\":true,\"ticks\":\"\",\"zerolinecolor\":\"white\",\"gridwidth\":2}},\"shapedefaults\":{\"line\":{\"color\":\"#2a3f5f\"}},\"annotationdefaults\":{\"arrowcolor\":\"#2a3f5f\",\"arrowhead\":0,\"arrowwidth\":1},\"geo\":{\"bgcolor\":\"white\",\"landcolor\":\"#E5ECF6\",\"subunitcolor\":\"white\",\"showland\":true,\"showlakes\":true,\"lakecolor\":\"white\"},\"title\":{\"x\":0.05},\"mapbox\":{\"style\":\"light\"}}},\"xaxis\":{\"anchor\":\"y\",\"domain\":[0.0,1.0],\"title\":{\"text\":\"writing score\"}},\"yaxis\":{\"anchor\":\"x\",\"domain\":[0.0,1.0],\"title\":{\"text\":\"count\"}},\"legend\":{\"title\":{\"text\":\"race/ethnicity\"},\"tracegroupgap\":0},\"margin\":{\"t\":60},\"barmode\":\"relative\"},                        {\"responsive\": true}                    ).then(function(){\n",
       "                            \n",
       "var gd = document.getElementById('c4359928-6222-41df-91d8-ee4e02b9f069');\n",
       "var x = new MutationObserver(function (mutations, observer) {{\n",
       "        var display = window.getComputedStyle(gd).display;\n",
       "        if (!display || display === 'none') {{\n",
       "            console.log([gd, 'removed!']);\n",
       "            Plotly.purge(gd);\n",
       "            observer.disconnect();\n",
       "        }}\n",
       "}});\n",
       "\n",
       "// Listen for the removal of the full notebook cells\n",
       "var notebookContainer = gd.closest('#notebook-container');\n",
       "if (notebookContainer) {{\n",
       "    x.observe(notebookContainer, {childList: true});\n",
       "}}\n",
       "\n",
       "// Listen for the clearing of the current output cell\n",
       "var outputEl = gd.closest('.output');\n",
       "if (outputEl) {{\n",
       "    x.observe(outputEl, {childList: true});\n",
       "}}\n",
       "\n",
       "                        })                };                });            </script>        </div>"
      ]
     },
     "metadata": {},
     "output_type": "display_data"
    }
   ],
   "source": [
    "table_sort = table.sort_values(by=\"race/ethnicity\")\n",
    "\n",
    "for coluna in table_sort[[\"race/ethnicity\", \"math score\", \"reading score\", \"writing score\"]]:\n",
    "    if coluna != \"race/ethnicity\":\n",
    "        fig = px.histogram(table_sort[[\"race/ethnicity\", \"math score\", \"reading score\", \"writing score\"]], x=coluna, color=\"race/ethnicity\")\n",
    "        fig.show()"
   ]
  },
  {
   "cell_type": "markdown",
   "metadata": {},
   "source": [
    "## 🍔 Lunch X Scores\n",
    "\n",
    "The form of how we eat actually affects our performance, as we see:\n",
    "\n",
    "> Those who have a standard lunch are those who can reach the top\n",
    "\n",
    "&nbsp;\n",
    "\n",
    "Geting back from the Parental Level topic, even though being minority, I still think there should be fewer students that have a free/reduced lunch, of course I could be wrong though <br>\n",
    "Nothing more to add, make sure you eat well"
   ]
  },
  {
   "cell_type": "code",
   "execution_count": 24,
   "metadata": {},
   "outputs": [
    {
     "data": {
      "application/vnd.plotly.v1+json": {
       "config": {
        "plotlyServerURL": "https://plot.ly"
       },
       "data": [
        {
         "alignmentgroup": "True",
         "bingroup": "x",
         "hovertemplate": "lunch=standard<br>math score=%{x}<br>count=%{y}<extra></extra>",
         "legendgroup": "standard",
         "marker": {
          "color": "#636efa",
          "pattern": {
           "shape": ""
          }
         },
         "name": "standard",
         "offsetgroup": "standard",
         "orientation": "v",
         "showlegend": true,
         "type": "histogram",
         "x": [
          72,
          69,
          90,
          76,
          71,
          88,
          58,
          40,
          65,
          78,
          50,
          69,
          88,
          66,
          44,
          69,
          69,
          67,
          70,
          62,
          69,
          63,
          40,
          97,
          81,
          74,
          58,
          53,
          65,
          55,
          66,
          82,
          53,
          53,
          88,
          82,
          52,
          58,
          69,
          59,
          67,
          60,
          39,
          63,
          49,
          30,
          80,
          61,
          62,
          47,
          72,
          73,
          71,
          58,
          73,
          65,
          71,
          79,
          65,
          63,
          65,
          79,
          68,
          85,
          60,
          98,
          58,
          87,
          66,
          70,
          62,
          54,
          51,
          99,
          84,
          78,
          51,
          55,
          79,
          91,
          88,
          83,
          87,
          72,
          65,
          82,
          51,
          89,
          75,
          58,
          51,
          70,
          59,
          71,
          76,
          57,
          88,
          88,
          68,
          62,
          77,
          59,
          54,
          62,
          70,
          61,
          52,
          81,
          96,
          68,
          72,
          94,
          79,
          63,
          81,
          71,
          97,
          50,
          65,
          80,
          62,
          77,
          66,
          76,
          62,
          77,
          69,
          61,
          67,
          69,
          57,
          59,
          74,
          82,
          81,
          87,
          84,
          61,
          56,
          87,
          86,
          52,
          72,
          57,
          88,
          76,
          46,
          67,
          92,
          83,
          80,
          64,
          54,
          84,
          80,
          56,
          59,
          75,
          85,
          89,
          58,
          65,
          68,
          47,
          60,
          80,
          54,
          62,
          78,
          70,
          79,
          99,
          76,
          63,
          69,
          88,
          69,
          58,
          65,
          88,
          83,
          85,
          59,
          53,
          45,
          37,
          81,
          97,
          67,
          77,
          76,
          86,
          63,
          65,
          46,
          71,
          67,
          80,
          74,
          69,
          99,
          51,
          73,
          66,
          67,
          59,
          71,
          77,
          83,
          63,
          75,
          71,
          82,
          61,
          82,
          41,
          71,
          47,
          62,
          90,
          83,
          76,
          49,
          61,
          69,
          67,
          79,
          72,
          62,
          77,
          87,
          52,
          66,
          63,
          46,
          59,
          61,
          63,
          80,
          58,
          85,
          52,
          59,
          69,
          73,
          84,
          74,
          82,
          59,
          80,
          71,
          66,
          80,
          87,
          67,
          64,
          62,
          73,
          77,
          76,
          57,
          65,
          85,
          74,
          60,
          59,
          53,
          88,
          54,
          63,
          65,
          82,
          87,
          70,
          84,
          71,
          63,
          84,
          71,
          74,
          68,
          57,
          59,
          86,
          61,
          61,
          73,
          75,
          70,
          89,
          67,
          78,
          73,
          67,
          86,
          47,
          81,
          100,
          79,
          100,
          72,
          71,
          75,
          84,
          91,
          83,
          63,
          68,
          59,
          90,
          71,
          76,
          80,
          55,
          76,
          73,
          59,
          49,
          70,
          64,
          64,
          83,
          81,
          54,
          68,
          54,
          66,
          76,
          74,
          94,
          95,
          82,
          68,
          79,
          86,
          76,
          64,
          54,
          76,
          74,
          66,
          66,
          71,
          91,
          69,
          53,
          68,
          62,
          68,
          47,
          62,
          79,
          73,
          51,
          51,
          85,
          97,
          75,
          81,
          82,
          64,
          92,
          72,
          79,
          40,
          53,
          55,
          73,
          74,
          63,
          96,
          48,
          71,
          91,
          53,
          74,
          61,
          81,
          53,
          81,
          77,
          73,
          69,
          65,
          55,
          54,
          48,
          71,
          68,
          74,
          92,
          56,
          53,
          69,
          65,
          54,
          29,
          76,
          75,
          85,
          61,
          58,
          58,
          94,
          65,
          82,
          60,
          37,
          88,
          95,
          100,
          100,
          61,
          44,
          67,
          79,
          66,
          75,
          84,
          71,
          80,
          86,
          76,
          41,
          74,
          70,
          65,
          59,
          50,
          69,
          68,
          85,
          65,
          73,
          62,
          69,
          90,
          73,
          65,
          80,
          73,
          81,
          69,
          65,
          69,
          50,
          73,
          70,
          67,
          60,
          62,
          62,
          94,
          85,
          49,
          77,
          49,
          75,
          59,
          57,
          79,
          57,
          87,
          63,
          46,
          66,
          89,
          93,
          80,
          98,
          81,
          60,
          73,
          96,
          76,
          50,
          47,
          81,
          65,
          68,
          53,
          87,
          55,
          67,
          92,
          81,
          80,
          81,
          59,
          72,
          69,
          69,
          87,
          71,
          68,
          77,
          84,
          55,
          69,
          48,
          78,
          62,
          60,
          74,
          58,
          76,
          68,
          52,
          75,
          66,
          66,
          72,
          94,
          77,
          52,
          91,
          32,
          19,
          48,
          89,
          42,
          70,
          69,
          52,
          67,
          76,
          87,
          82,
          73,
          90,
          59,
          51,
          54,
          87,
          72,
          94,
          45,
          77,
          85,
          62,
          65,
          68,
          64,
          77,
          58,
          60,
          73,
          75,
          66,
          64,
          90,
          91,
          64,
          59,
          80,
          71,
          61,
          87,
          82,
          62,
          97,
          65,
          52,
          53,
          71,
          97,
          82,
          61,
          59,
          70,
          82,
          81,
          57,
          59,
          64,
          63,
          71,
          51,
          62,
          93,
          86,
          85,
          88,
          59,
          67,
          65,
          85,
          73,
          88,
          57,
          79,
          70,
          69,
          52,
          68,
          100,
          44,
          57,
          91,
          72,
          74,
          98,
          67,
          85,
          77,
          78,
          81,
          58,
          54,
          82,
          94,
          75,
          58,
          62,
          72,
          84,
          92,
          45,
          75,
          56,
          100,
          72,
          62,
          66,
          63,
          68,
          75,
          89,
          78,
          54,
          64,
          62,
          55,
          91,
          81,
          79,
          78,
          74,
          57,
          40,
          81,
          65,
          63,
          88,
          68
         ],
         "xaxis": "x",
         "yaxis": "y"
        },
        {
         "alignmentgroup": "True",
         "bingroup": "x",
         "hovertemplate": "lunch=free/reduced<br>math score=%{x}<br>count=%{y}<extra></extra>",
         "legendgroup": "free/reduced",
         "marker": {
          "color": "#EF553B",
          "pattern": {
           "shape": ""
          }
         },
         "name": "free/reduced",
         "offsetgroup": "free/reduced",
         "orientation": "v",
         "showlegend": true,
         "type": "histogram",
         "x": [
          47,
          40,
          64,
          38,
          18,
          46,
          54,
          65,
          74,
          73,
          56,
          50,
          75,
          57,
          55,
          59,
          50,
          57,
          77,
          71,
          33,
          0,
          79,
          39,
          62,
          45,
          61,
          58,
          41,
          61,
          44,
          49,
          50,
          42,
          76,
          27,
          43,
          78,
          58,
          52,
          77,
          75,
          63,
          53,
          87,
          74,
          59,
          42,
          22,
          73,
          100,
          66,
          60,
          66,
          82,
          75,
          49,
          53,
          58,
          67,
          43,
          46,
          52,
          62,
          46,
          45,
          65,
          48,
          59,
          55,
          45,
          78,
          65,
          74,
          58,
          80,
          35,
          42,
          60,
          83,
          34,
          66,
          55,
          45,
          68,
          63,
          73,
          71,
          64,
          65,
          64,
          44,
          59,
          71,
          47,
          65,
          73,
          73,
          70,
          88,
          78,
          67,
          40,
          90,
          81,
          56,
          53,
          49,
          68,
          56,
          67,
          43,
          41,
          28,
          61,
          24,
          35,
          58,
          75,
          42,
          59,
          27,
          49,
          61,
          44,
          45,
          46,
          85,
          79,
          38,
          38,
          57,
          73,
          48,
          50,
          49,
          52,
          51,
          57,
          82,
          47,
          41,
          62,
          69,
          65,
          68,
          64,
          47,
          50,
          75,
          59,
          79,
          69,
          64,
          65,
          65,
          53,
          37,
          53,
          53,
          54,
          77,
          26,
          72,
          77,
          52,
          68,
          61,
          60,
          79,
          65,
          59,
          63,
          40,
          55,
          62,
          77,
          67,
          54,
          56,
          36,
          29,
          66,
          79,
          78,
          62,
          79,
          87,
          77,
          32,
          61,
          53,
          63,
          48,
          92,
          61,
          63,
          68,
          50,
          40,
          48,
          63,
          44,
          58,
          30,
          60,
          84,
          40,
          69,
          65,
          35,
          62,
          58,
          61,
          69,
          49,
          67,
          74,
          72,
          64,
          51,
          77,
          43,
          74,
          55,
          50,
          63,
          77,
          66,
          52,
          81,
          63,
          29,
          77,
          53,
          93,
          73,
          66,
          79,
          66,
          59,
          62,
          42,
          76,
          91,
          62,
          55,
          74,
          73,
          68,
          55,
          53,
          53,
          61,
          37,
          55,
          50,
          79,
          58,
          70,
          52,
          53,
          58,
          52,
          62,
          49,
          35,
          46,
          76,
          72,
          68,
          52,
          60,
          66,
          57,
          70,
          75,
          64,
          41,
          45,
          61,
          60,
          78,
          49,
          71,
          48,
          56,
          69,
          61,
          74,
          58,
          39,
          23,
          74,
          40,
          75,
          87,
          81,
          39,
          59,
          78,
          49,
          90,
          43,
          80,
          64,
          55,
          54,
          69,
          44,
          50,
          32,
          36,
          63,
          34,
          93,
          67,
          67,
          50,
          47,
          46,
          69,
          35,
          54,
          74,
          64,
          65,
          46,
          48,
          67,
          62,
          61,
          70,
          70,
          57,
          72,
          61,
          49,
          49,
          57,
          74,
          48,
          65,
          53,
          49,
          60,
          8,
          44,
          67,
          86,
          55,
          62,
          62,
          59,
          77
         ],
         "xaxis": "x",
         "yaxis": "y"
        }
       ],
       "layout": {
        "barmode": "relative",
        "legend": {
         "title": {
          "text": "lunch"
         },
         "tracegroupgap": 0
        },
        "margin": {
         "t": 60
        },
        "template": {
         "data": {
          "bar": [
           {
            "error_x": {
             "color": "#2a3f5f"
            },
            "error_y": {
             "color": "#2a3f5f"
            },
            "marker": {
             "line": {
              "color": "#E5ECF6",
              "width": 0.5
             },
             "pattern": {
              "fillmode": "overlay",
              "size": 10,
              "solidity": 0.2
             }
            },
            "type": "bar"
           }
          ],
          "barpolar": [
           {
            "marker": {
             "line": {
              "color": "#E5ECF6",
              "width": 0.5
             },
             "pattern": {
              "fillmode": "overlay",
              "size": 10,
              "solidity": 0.2
             }
            },
            "type": "barpolar"
           }
          ],
          "carpet": [
           {
            "aaxis": {
             "endlinecolor": "#2a3f5f",
             "gridcolor": "white",
             "linecolor": "white",
             "minorgridcolor": "white",
             "startlinecolor": "#2a3f5f"
            },
            "baxis": {
             "endlinecolor": "#2a3f5f",
             "gridcolor": "white",
             "linecolor": "white",
             "minorgridcolor": "white",
             "startlinecolor": "#2a3f5f"
            },
            "type": "carpet"
           }
          ],
          "choropleth": [
           {
            "colorbar": {
             "outlinewidth": 0,
             "ticks": ""
            },
            "type": "choropleth"
           }
          ],
          "contour": [
           {
            "colorbar": {
             "outlinewidth": 0,
             "ticks": ""
            },
            "colorscale": [
             [
              0,
              "#0d0887"
             ],
             [
              0.1111111111111111,
              "#46039f"
             ],
             [
              0.2222222222222222,
              "#7201a8"
             ],
             [
              0.3333333333333333,
              "#9c179e"
             ],
             [
              0.4444444444444444,
              "#bd3786"
             ],
             [
              0.5555555555555556,
              "#d8576b"
             ],
             [
              0.6666666666666666,
              "#ed7953"
             ],
             [
              0.7777777777777778,
              "#fb9f3a"
             ],
             [
              0.8888888888888888,
              "#fdca26"
             ],
             [
              1,
              "#f0f921"
             ]
            ],
            "type": "contour"
           }
          ],
          "contourcarpet": [
           {
            "colorbar": {
             "outlinewidth": 0,
             "ticks": ""
            },
            "type": "contourcarpet"
           }
          ],
          "heatmap": [
           {
            "colorbar": {
             "outlinewidth": 0,
             "ticks": ""
            },
            "colorscale": [
             [
              0,
              "#0d0887"
             ],
             [
              0.1111111111111111,
              "#46039f"
             ],
             [
              0.2222222222222222,
              "#7201a8"
             ],
             [
              0.3333333333333333,
              "#9c179e"
             ],
             [
              0.4444444444444444,
              "#bd3786"
             ],
             [
              0.5555555555555556,
              "#d8576b"
             ],
             [
              0.6666666666666666,
              "#ed7953"
             ],
             [
              0.7777777777777778,
              "#fb9f3a"
             ],
             [
              0.8888888888888888,
              "#fdca26"
             ],
             [
              1,
              "#f0f921"
             ]
            ],
            "type": "heatmap"
           }
          ],
          "heatmapgl": [
           {
            "colorbar": {
             "outlinewidth": 0,
             "ticks": ""
            },
            "colorscale": [
             [
              0,
              "#0d0887"
             ],
             [
              0.1111111111111111,
              "#46039f"
             ],
             [
              0.2222222222222222,
              "#7201a8"
             ],
             [
              0.3333333333333333,
              "#9c179e"
             ],
             [
              0.4444444444444444,
              "#bd3786"
             ],
             [
              0.5555555555555556,
              "#d8576b"
             ],
             [
              0.6666666666666666,
              "#ed7953"
             ],
             [
              0.7777777777777778,
              "#fb9f3a"
             ],
             [
              0.8888888888888888,
              "#fdca26"
             ],
             [
              1,
              "#f0f921"
             ]
            ],
            "type": "heatmapgl"
           }
          ],
          "histogram": [
           {
            "marker": {
             "pattern": {
              "fillmode": "overlay",
              "size": 10,
              "solidity": 0.2
             }
            },
            "type": "histogram"
           }
          ],
          "histogram2d": [
           {
            "colorbar": {
             "outlinewidth": 0,
             "ticks": ""
            },
            "colorscale": [
             [
              0,
              "#0d0887"
             ],
             [
              0.1111111111111111,
              "#46039f"
             ],
             [
              0.2222222222222222,
              "#7201a8"
             ],
             [
              0.3333333333333333,
              "#9c179e"
             ],
             [
              0.4444444444444444,
              "#bd3786"
             ],
             [
              0.5555555555555556,
              "#d8576b"
             ],
             [
              0.6666666666666666,
              "#ed7953"
             ],
             [
              0.7777777777777778,
              "#fb9f3a"
             ],
             [
              0.8888888888888888,
              "#fdca26"
             ],
             [
              1,
              "#f0f921"
             ]
            ],
            "type": "histogram2d"
           }
          ],
          "histogram2dcontour": [
           {
            "colorbar": {
             "outlinewidth": 0,
             "ticks": ""
            },
            "colorscale": [
             [
              0,
              "#0d0887"
             ],
             [
              0.1111111111111111,
              "#46039f"
             ],
             [
              0.2222222222222222,
              "#7201a8"
             ],
             [
              0.3333333333333333,
              "#9c179e"
             ],
             [
              0.4444444444444444,
              "#bd3786"
             ],
             [
              0.5555555555555556,
              "#d8576b"
             ],
             [
              0.6666666666666666,
              "#ed7953"
             ],
             [
              0.7777777777777778,
              "#fb9f3a"
             ],
             [
              0.8888888888888888,
              "#fdca26"
             ],
             [
              1,
              "#f0f921"
             ]
            ],
            "type": "histogram2dcontour"
           }
          ],
          "mesh3d": [
           {
            "colorbar": {
             "outlinewidth": 0,
             "ticks": ""
            },
            "type": "mesh3d"
           }
          ],
          "parcoords": [
           {
            "line": {
             "colorbar": {
              "outlinewidth": 0,
              "ticks": ""
             }
            },
            "type": "parcoords"
           }
          ],
          "pie": [
           {
            "automargin": true,
            "type": "pie"
           }
          ],
          "scatter": [
           {
            "fillpattern": {
             "fillmode": "overlay",
             "size": 10,
             "solidity": 0.2
            },
            "type": "scatter"
           }
          ],
          "scatter3d": [
           {
            "line": {
             "colorbar": {
              "outlinewidth": 0,
              "ticks": ""
             }
            },
            "marker": {
             "colorbar": {
              "outlinewidth": 0,
              "ticks": ""
             }
            },
            "type": "scatter3d"
           }
          ],
          "scattercarpet": [
           {
            "marker": {
             "colorbar": {
              "outlinewidth": 0,
              "ticks": ""
             }
            },
            "type": "scattercarpet"
           }
          ],
          "scattergeo": [
           {
            "marker": {
             "colorbar": {
              "outlinewidth": 0,
              "ticks": ""
             }
            },
            "type": "scattergeo"
           }
          ],
          "scattergl": [
           {
            "marker": {
             "colorbar": {
              "outlinewidth": 0,
              "ticks": ""
             }
            },
            "type": "scattergl"
           }
          ],
          "scattermapbox": [
           {
            "marker": {
             "colorbar": {
              "outlinewidth": 0,
              "ticks": ""
             }
            },
            "type": "scattermapbox"
           }
          ],
          "scatterpolar": [
           {
            "marker": {
             "colorbar": {
              "outlinewidth": 0,
              "ticks": ""
             }
            },
            "type": "scatterpolar"
           }
          ],
          "scatterpolargl": [
           {
            "marker": {
             "colorbar": {
              "outlinewidth": 0,
              "ticks": ""
             }
            },
            "type": "scatterpolargl"
           }
          ],
          "scatterternary": [
           {
            "marker": {
             "colorbar": {
              "outlinewidth": 0,
              "ticks": ""
             }
            },
            "type": "scatterternary"
           }
          ],
          "surface": [
           {
            "colorbar": {
             "outlinewidth": 0,
             "ticks": ""
            },
            "colorscale": [
             [
              0,
              "#0d0887"
             ],
             [
              0.1111111111111111,
              "#46039f"
             ],
             [
              0.2222222222222222,
              "#7201a8"
             ],
             [
              0.3333333333333333,
              "#9c179e"
             ],
             [
              0.4444444444444444,
              "#bd3786"
             ],
             [
              0.5555555555555556,
              "#d8576b"
             ],
             [
              0.6666666666666666,
              "#ed7953"
             ],
             [
              0.7777777777777778,
              "#fb9f3a"
             ],
             [
              0.8888888888888888,
              "#fdca26"
             ],
             [
              1,
              "#f0f921"
             ]
            ],
            "type": "surface"
           }
          ],
          "table": [
           {
            "cells": {
             "fill": {
              "color": "#EBF0F8"
             },
             "line": {
              "color": "white"
             }
            },
            "header": {
             "fill": {
              "color": "#C8D4E3"
             },
             "line": {
              "color": "white"
             }
            },
            "type": "table"
           }
          ]
         },
         "layout": {
          "annotationdefaults": {
           "arrowcolor": "#2a3f5f",
           "arrowhead": 0,
           "arrowwidth": 1
          },
          "autotypenumbers": "strict",
          "coloraxis": {
           "colorbar": {
            "outlinewidth": 0,
            "ticks": ""
           }
          },
          "colorscale": {
           "diverging": [
            [
             0,
             "#8e0152"
            ],
            [
             0.1,
             "#c51b7d"
            ],
            [
             0.2,
             "#de77ae"
            ],
            [
             0.3,
             "#f1b6da"
            ],
            [
             0.4,
             "#fde0ef"
            ],
            [
             0.5,
             "#f7f7f7"
            ],
            [
             0.6,
             "#e6f5d0"
            ],
            [
             0.7,
             "#b8e186"
            ],
            [
             0.8,
             "#7fbc41"
            ],
            [
             0.9,
             "#4d9221"
            ],
            [
             1,
             "#276419"
            ]
           ],
           "sequential": [
            [
             0,
             "#0d0887"
            ],
            [
             0.1111111111111111,
             "#46039f"
            ],
            [
             0.2222222222222222,
             "#7201a8"
            ],
            [
             0.3333333333333333,
             "#9c179e"
            ],
            [
             0.4444444444444444,
             "#bd3786"
            ],
            [
             0.5555555555555556,
             "#d8576b"
            ],
            [
             0.6666666666666666,
             "#ed7953"
            ],
            [
             0.7777777777777778,
             "#fb9f3a"
            ],
            [
             0.8888888888888888,
             "#fdca26"
            ],
            [
             1,
             "#f0f921"
            ]
           ],
           "sequentialminus": [
            [
             0,
             "#0d0887"
            ],
            [
             0.1111111111111111,
             "#46039f"
            ],
            [
             0.2222222222222222,
             "#7201a8"
            ],
            [
             0.3333333333333333,
             "#9c179e"
            ],
            [
             0.4444444444444444,
             "#bd3786"
            ],
            [
             0.5555555555555556,
             "#d8576b"
            ],
            [
             0.6666666666666666,
             "#ed7953"
            ],
            [
             0.7777777777777778,
             "#fb9f3a"
            ],
            [
             0.8888888888888888,
             "#fdca26"
            ],
            [
             1,
             "#f0f921"
            ]
           ]
          },
          "colorway": [
           "#636efa",
           "#EF553B",
           "#00cc96",
           "#ab63fa",
           "#FFA15A",
           "#19d3f3",
           "#FF6692",
           "#B6E880",
           "#FF97FF",
           "#FECB52"
          ],
          "font": {
           "color": "#2a3f5f"
          },
          "geo": {
           "bgcolor": "white",
           "lakecolor": "white",
           "landcolor": "#E5ECF6",
           "showlakes": true,
           "showland": true,
           "subunitcolor": "white"
          },
          "hoverlabel": {
           "align": "left"
          },
          "hovermode": "closest",
          "mapbox": {
           "style": "light"
          },
          "paper_bgcolor": "white",
          "plot_bgcolor": "#E5ECF6",
          "polar": {
           "angularaxis": {
            "gridcolor": "white",
            "linecolor": "white",
            "ticks": ""
           },
           "bgcolor": "#E5ECF6",
           "radialaxis": {
            "gridcolor": "white",
            "linecolor": "white",
            "ticks": ""
           }
          },
          "scene": {
           "xaxis": {
            "backgroundcolor": "#E5ECF6",
            "gridcolor": "white",
            "gridwidth": 2,
            "linecolor": "white",
            "showbackground": true,
            "ticks": "",
            "zerolinecolor": "white"
           },
           "yaxis": {
            "backgroundcolor": "#E5ECF6",
            "gridcolor": "white",
            "gridwidth": 2,
            "linecolor": "white",
            "showbackground": true,
            "ticks": "",
            "zerolinecolor": "white"
           },
           "zaxis": {
            "backgroundcolor": "#E5ECF6",
            "gridcolor": "white",
            "gridwidth": 2,
            "linecolor": "white",
            "showbackground": true,
            "ticks": "",
            "zerolinecolor": "white"
           }
          },
          "shapedefaults": {
           "line": {
            "color": "#2a3f5f"
           }
          },
          "ternary": {
           "aaxis": {
            "gridcolor": "white",
            "linecolor": "white",
            "ticks": ""
           },
           "baxis": {
            "gridcolor": "white",
            "linecolor": "white",
            "ticks": ""
           },
           "bgcolor": "#E5ECF6",
           "caxis": {
            "gridcolor": "white",
            "linecolor": "white",
            "ticks": ""
           }
          },
          "title": {
           "x": 0.05
          },
          "xaxis": {
           "automargin": true,
           "gridcolor": "white",
           "linecolor": "white",
           "ticks": "",
           "title": {
            "standoff": 15
           },
           "zerolinecolor": "white",
           "zerolinewidth": 2
          },
          "yaxis": {
           "automargin": true,
           "gridcolor": "white",
           "linecolor": "white",
           "ticks": "",
           "title": {
            "standoff": 15
           },
           "zerolinecolor": "white",
           "zerolinewidth": 2
          }
         }
        },
        "xaxis": {
         "anchor": "y",
         "domain": [
          0,
          1
         ],
         "title": {
          "text": "math score"
         }
        },
        "yaxis": {
         "anchor": "x",
         "domain": [
          0,
          1
         ],
         "title": {
          "text": "count"
         }
        }
       }
      },
      "text/html": [
       "<div>                            <div id=\"905712cd-e7f1-4c6e-bb5d-f77590e04379\" class=\"plotly-graph-div\" style=\"height:525px; width:100%;\"></div>            <script type=\"text/javascript\">                require([\"plotly\"], function(Plotly) {                    window.PLOTLYENV=window.PLOTLYENV || {};                                    if (document.getElementById(\"905712cd-e7f1-4c6e-bb5d-f77590e04379\")) {                    Plotly.newPlot(                        \"905712cd-e7f1-4c6e-bb5d-f77590e04379\",                        [{\"alignmentgroup\":\"True\",\"bingroup\":\"x\",\"hovertemplate\":\"lunch=standard<br>math score=%{x}<br>count=%{y}<extra></extra>\",\"legendgroup\":\"standard\",\"marker\":{\"color\":\"#636efa\",\"pattern\":{\"shape\":\"\"}},\"name\":\"standard\",\"offsetgroup\":\"standard\",\"orientation\":\"v\",\"showlegend\":true,\"x\":[72,69,90,76,71,88,58,40,65,78,50,69,88,66,44,69,69,67,70,62,69,63,40,97,81,74,58,53,65,55,66,82,53,53,88,82,52,58,69,59,67,60,39,63,49,30,80,61,62,47,72,73,71,58,73,65,71,79,65,63,65,79,68,85,60,98,58,87,66,70,62,54,51,99,84,78,51,55,79,91,88,83,87,72,65,82,51,89,75,58,51,70,59,71,76,57,88,88,68,62,77,59,54,62,70,61,52,81,96,68,72,94,79,63,81,71,97,50,65,80,62,77,66,76,62,77,69,61,67,69,57,59,74,82,81,87,84,61,56,87,86,52,72,57,88,76,46,67,92,83,80,64,54,84,80,56,59,75,85,89,58,65,68,47,60,80,54,62,78,70,79,99,76,63,69,88,69,58,65,88,83,85,59,53,45,37,81,97,67,77,76,86,63,65,46,71,67,80,74,69,99,51,73,66,67,59,71,77,83,63,75,71,82,61,82,41,71,47,62,90,83,76,49,61,69,67,79,72,62,77,87,52,66,63,46,59,61,63,80,58,85,52,59,69,73,84,74,82,59,80,71,66,80,87,67,64,62,73,77,76,57,65,85,74,60,59,53,88,54,63,65,82,87,70,84,71,63,84,71,74,68,57,59,86,61,61,73,75,70,89,67,78,73,67,86,47,81,100,79,100,72,71,75,84,91,83,63,68,59,90,71,76,80,55,76,73,59,49,70,64,64,83,81,54,68,54,66,76,74,94,95,82,68,79,86,76,64,54,76,74,66,66,71,91,69,53,68,62,68,47,62,79,73,51,51,85,97,75,81,82,64,92,72,79,40,53,55,73,74,63,96,48,71,91,53,74,61,81,53,81,77,73,69,65,55,54,48,71,68,74,92,56,53,69,65,54,29,76,75,85,61,58,58,94,65,82,60,37,88,95,100,100,61,44,67,79,66,75,84,71,80,86,76,41,74,70,65,59,50,69,68,85,65,73,62,69,90,73,65,80,73,81,69,65,69,50,73,70,67,60,62,62,94,85,49,77,49,75,59,57,79,57,87,63,46,66,89,93,80,98,81,60,73,96,76,50,47,81,65,68,53,87,55,67,92,81,80,81,59,72,69,69,87,71,68,77,84,55,69,48,78,62,60,74,58,76,68,52,75,66,66,72,94,77,52,91,32,19,48,89,42,70,69,52,67,76,87,82,73,90,59,51,54,87,72,94,45,77,85,62,65,68,64,77,58,60,73,75,66,64,90,91,64,59,80,71,61,87,82,62,97,65,52,53,71,97,82,61,59,70,82,81,57,59,64,63,71,51,62,93,86,85,88,59,67,65,85,73,88,57,79,70,69,52,68,100,44,57,91,72,74,98,67,85,77,78,81,58,54,82,94,75,58,62,72,84,92,45,75,56,100,72,62,66,63,68,75,89,78,54,64,62,55,91,81,79,78,74,57,40,81,65,63,88,68],\"xaxis\":\"x\",\"yaxis\":\"y\",\"type\":\"histogram\"},{\"alignmentgroup\":\"True\",\"bingroup\":\"x\",\"hovertemplate\":\"lunch=free/reduced<br>math score=%{x}<br>count=%{y}<extra></extra>\",\"legendgroup\":\"free/reduced\",\"marker\":{\"color\":\"#EF553B\",\"pattern\":{\"shape\":\"\"}},\"name\":\"free/reduced\",\"offsetgroup\":\"free/reduced\",\"orientation\":\"v\",\"showlegend\":true,\"x\":[47,40,64,38,18,46,54,65,74,73,56,50,75,57,55,59,50,57,77,71,33,0,79,39,62,45,61,58,41,61,44,49,50,42,76,27,43,78,58,52,77,75,63,53,87,74,59,42,22,73,100,66,60,66,82,75,49,53,58,67,43,46,52,62,46,45,65,48,59,55,45,78,65,74,58,80,35,42,60,83,34,66,55,45,68,63,73,71,64,65,64,44,59,71,47,65,73,73,70,88,78,67,40,90,81,56,53,49,68,56,67,43,41,28,61,24,35,58,75,42,59,27,49,61,44,45,46,85,79,38,38,57,73,48,50,49,52,51,57,82,47,41,62,69,65,68,64,47,50,75,59,79,69,64,65,65,53,37,53,53,54,77,26,72,77,52,68,61,60,79,65,59,63,40,55,62,77,67,54,56,36,29,66,79,78,62,79,87,77,32,61,53,63,48,92,61,63,68,50,40,48,63,44,58,30,60,84,40,69,65,35,62,58,61,69,49,67,74,72,64,51,77,43,74,55,50,63,77,66,52,81,63,29,77,53,93,73,66,79,66,59,62,42,76,91,62,55,74,73,68,55,53,53,61,37,55,50,79,58,70,52,53,58,52,62,49,35,46,76,72,68,52,60,66,57,70,75,64,41,45,61,60,78,49,71,48,56,69,61,74,58,39,23,74,40,75,87,81,39,59,78,49,90,43,80,64,55,54,69,44,50,32,36,63,34,93,67,67,50,47,46,69,35,54,74,64,65,46,48,67,62,61,70,70,57,72,61,49,49,57,74,48,65,53,49,60,8,44,67,86,55,62,62,59,77],\"xaxis\":\"x\",\"yaxis\":\"y\",\"type\":\"histogram\"}],                        {\"template\":{\"data\":{\"histogram2dcontour\":[{\"type\":\"histogram2dcontour\",\"colorbar\":{\"outlinewidth\":0,\"ticks\":\"\"},\"colorscale\":[[0.0,\"#0d0887\"],[0.1111111111111111,\"#46039f\"],[0.2222222222222222,\"#7201a8\"],[0.3333333333333333,\"#9c179e\"],[0.4444444444444444,\"#bd3786\"],[0.5555555555555556,\"#d8576b\"],[0.6666666666666666,\"#ed7953\"],[0.7777777777777778,\"#fb9f3a\"],[0.8888888888888888,\"#fdca26\"],[1.0,\"#f0f921\"]]}],\"choropleth\":[{\"type\":\"choropleth\",\"colorbar\":{\"outlinewidth\":0,\"ticks\":\"\"}}],\"histogram2d\":[{\"type\":\"histogram2d\",\"colorbar\":{\"outlinewidth\":0,\"ticks\":\"\"},\"colorscale\":[[0.0,\"#0d0887\"],[0.1111111111111111,\"#46039f\"],[0.2222222222222222,\"#7201a8\"],[0.3333333333333333,\"#9c179e\"],[0.4444444444444444,\"#bd3786\"],[0.5555555555555556,\"#d8576b\"],[0.6666666666666666,\"#ed7953\"],[0.7777777777777778,\"#fb9f3a\"],[0.8888888888888888,\"#fdca26\"],[1.0,\"#f0f921\"]]}],\"heatmap\":[{\"type\":\"heatmap\",\"colorbar\":{\"outlinewidth\":0,\"ticks\":\"\"},\"colorscale\":[[0.0,\"#0d0887\"],[0.1111111111111111,\"#46039f\"],[0.2222222222222222,\"#7201a8\"],[0.3333333333333333,\"#9c179e\"],[0.4444444444444444,\"#bd3786\"],[0.5555555555555556,\"#d8576b\"],[0.6666666666666666,\"#ed7953\"],[0.7777777777777778,\"#fb9f3a\"],[0.8888888888888888,\"#fdca26\"],[1.0,\"#f0f921\"]]}],\"heatmapgl\":[{\"type\":\"heatmapgl\",\"colorbar\":{\"outlinewidth\":0,\"ticks\":\"\"},\"colorscale\":[[0.0,\"#0d0887\"],[0.1111111111111111,\"#46039f\"],[0.2222222222222222,\"#7201a8\"],[0.3333333333333333,\"#9c179e\"],[0.4444444444444444,\"#bd3786\"],[0.5555555555555556,\"#d8576b\"],[0.6666666666666666,\"#ed7953\"],[0.7777777777777778,\"#fb9f3a\"],[0.8888888888888888,\"#fdca26\"],[1.0,\"#f0f921\"]]}],\"contourcarpet\":[{\"type\":\"contourcarpet\",\"colorbar\":{\"outlinewidth\":0,\"ticks\":\"\"}}],\"contour\":[{\"type\":\"contour\",\"colorbar\":{\"outlinewidth\":0,\"ticks\":\"\"},\"colorscale\":[[0.0,\"#0d0887\"],[0.1111111111111111,\"#46039f\"],[0.2222222222222222,\"#7201a8\"],[0.3333333333333333,\"#9c179e\"],[0.4444444444444444,\"#bd3786\"],[0.5555555555555556,\"#d8576b\"],[0.6666666666666666,\"#ed7953\"],[0.7777777777777778,\"#fb9f3a\"],[0.8888888888888888,\"#fdca26\"],[1.0,\"#f0f921\"]]}],\"surface\":[{\"type\":\"surface\",\"colorbar\":{\"outlinewidth\":0,\"ticks\":\"\"},\"colorscale\":[[0.0,\"#0d0887\"],[0.1111111111111111,\"#46039f\"],[0.2222222222222222,\"#7201a8\"],[0.3333333333333333,\"#9c179e\"],[0.4444444444444444,\"#bd3786\"],[0.5555555555555556,\"#d8576b\"],[0.6666666666666666,\"#ed7953\"],[0.7777777777777778,\"#fb9f3a\"],[0.8888888888888888,\"#fdca26\"],[1.0,\"#f0f921\"]]}],\"mesh3d\":[{\"type\":\"mesh3d\",\"colorbar\":{\"outlinewidth\":0,\"ticks\":\"\"}}],\"scatter\":[{\"fillpattern\":{\"fillmode\":\"overlay\",\"size\":10,\"solidity\":0.2},\"type\":\"scatter\"}],\"parcoords\":[{\"type\":\"parcoords\",\"line\":{\"colorbar\":{\"outlinewidth\":0,\"ticks\":\"\"}}}],\"scatterpolargl\":[{\"type\":\"scatterpolargl\",\"marker\":{\"colorbar\":{\"outlinewidth\":0,\"ticks\":\"\"}}}],\"bar\":[{\"error_x\":{\"color\":\"#2a3f5f\"},\"error_y\":{\"color\":\"#2a3f5f\"},\"marker\":{\"line\":{\"color\":\"#E5ECF6\",\"width\":0.5},\"pattern\":{\"fillmode\":\"overlay\",\"size\":10,\"solidity\":0.2}},\"type\":\"bar\"}],\"scattergeo\":[{\"type\":\"scattergeo\",\"marker\":{\"colorbar\":{\"outlinewidth\":0,\"ticks\":\"\"}}}],\"scatterpolar\":[{\"type\":\"scatterpolar\",\"marker\":{\"colorbar\":{\"outlinewidth\":0,\"ticks\":\"\"}}}],\"histogram\":[{\"marker\":{\"pattern\":{\"fillmode\":\"overlay\",\"size\":10,\"solidity\":0.2}},\"type\":\"histogram\"}],\"scattergl\":[{\"type\":\"scattergl\",\"marker\":{\"colorbar\":{\"outlinewidth\":0,\"ticks\":\"\"}}}],\"scatter3d\":[{\"type\":\"scatter3d\",\"line\":{\"colorbar\":{\"outlinewidth\":0,\"ticks\":\"\"}},\"marker\":{\"colorbar\":{\"outlinewidth\":0,\"ticks\":\"\"}}}],\"scattermapbox\":[{\"type\":\"scattermapbox\",\"marker\":{\"colorbar\":{\"outlinewidth\":0,\"ticks\":\"\"}}}],\"scatterternary\":[{\"type\":\"scatterternary\",\"marker\":{\"colorbar\":{\"outlinewidth\":0,\"ticks\":\"\"}}}],\"scattercarpet\":[{\"type\":\"scattercarpet\",\"marker\":{\"colorbar\":{\"outlinewidth\":0,\"ticks\":\"\"}}}],\"carpet\":[{\"aaxis\":{\"endlinecolor\":\"#2a3f5f\",\"gridcolor\":\"white\",\"linecolor\":\"white\",\"minorgridcolor\":\"white\",\"startlinecolor\":\"#2a3f5f\"},\"baxis\":{\"endlinecolor\":\"#2a3f5f\",\"gridcolor\":\"white\",\"linecolor\":\"white\",\"minorgridcolor\":\"white\",\"startlinecolor\":\"#2a3f5f\"},\"type\":\"carpet\"}],\"table\":[{\"cells\":{\"fill\":{\"color\":\"#EBF0F8\"},\"line\":{\"color\":\"white\"}},\"header\":{\"fill\":{\"color\":\"#C8D4E3\"},\"line\":{\"color\":\"white\"}},\"type\":\"table\"}],\"barpolar\":[{\"marker\":{\"line\":{\"color\":\"#E5ECF6\",\"width\":0.5},\"pattern\":{\"fillmode\":\"overlay\",\"size\":10,\"solidity\":0.2}},\"type\":\"barpolar\"}],\"pie\":[{\"automargin\":true,\"type\":\"pie\"}]},\"layout\":{\"autotypenumbers\":\"strict\",\"colorway\":[\"#636efa\",\"#EF553B\",\"#00cc96\",\"#ab63fa\",\"#FFA15A\",\"#19d3f3\",\"#FF6692\",\"#B6E880\",\"#FF97FF\",\"#FECB52\"],\"font\":{\"color\":\"#2a3f5f\"},\"hovermode\":\"closest\",\"hoverlabel\":{\"align\":\"left\"},\"paper_bgcolor\":\"white\",\"plot_bgcolor\":\"#E5ECF6\",\"polar\":{\"bgcolor\":\"#E5ECF6\",\"angularaxis\":{\"gridcolor\":\"white\",\"linecolor\":\"white\",\"ticks\":\"\"},\"radialaxis\":{\"gridcolor\":\"white\",\"linecolor\":\"white\",\"ticks\":\"\"}},\"ternary\":{\"bgcolor\":\"#E5ECF6\",\"aaxis\":{\"gridcolor\":\"white\",\"linecolor\":\"white\",\"ticks\":\"\"},\"baxis\":{\"gridcolor\":\"white\",\"linecolor\":\"white\",\"ticks\":\"\"},\"caxis\":{\"gridcolor\":\"white\",\"linecolor\":\"white\",\"ticks\":\"\"}},\"coloraxis\":{\"colorbar\":{\"outlinewidth\":0,\"ticks\":\"\"}},\"colorscale\":{\"sequential\":[[0.0,\"#0d0887\"],[0.1111111111111111,\"#46039f\"],[0.2222222222222222,\"#7201a8\"],[0.3333333333333333,\"#9c179e\"],[0.4444444444444444,\"#bd3786\"],[0.5555555555555556,\"#d8576b\"],[0.6666666666666666,\"#ed7953\"],[0.7777777777777778,\"#fb9f3a\"],[0.8888888888888888,\"#fdca26\"],[1.0,\"#f0f921\"]],\"sequentialminus\":[[0.0,\"#0d0887\"],[0.1111111111111111,\"#46039f\"],[0.2222222222222222,\"#7201a8\"],[0.3333333333333333,\"#9c179e\"],[0.4444444444444444,\"#bd3786\"],[0.5555555555555556,\"#d8576b\"],[0.6666666666666666,\"#ed7953\"],[0.7777777777777778,\"#fb9f3a\"],[0.8888888888888888,\"#fdca26\"],[1.0,\"#f0f921\"]],\"diverging\":[[0,\"#8e0152\"],[0.1,\"#c51b7d\"],[0.2,\"#de77ae\"],[0.3,\"#f1b6da\"],[0.4,\"#fde0ef\"],[0.5,\"#f7f7f7\"],[0.6,\"#e6f5d0\"],[0.7,\"#b8e186\"],[0.8,\"#7fbc41\"],[0.9,\"#4d9221\"],[1,\"#276419\"]]},\"xaxis\":{\"gridcolor\":\"white\",\"linecolor\":\"white\",\"ticks\":\"\",\"title\":{\"standoff\":15},\"zerolinecolor\":\"white\",\"automargin\":true,\"zerolinewidth\":2},\"yaxis\":{\"gridcolor\":\"white\",\"linecolor\":\"white\",\"ticks\":\"\",\"title\":{\"standoff\":15},\"zerolinecolor\":\"white\",\"automargin\":true,\"zerolinewidth\":2},\"scene\":{\"xaxis\":{\"backgroundcolor\":\"#E5ECF6\",\"gridcolor\":\"white\",\"linecolor\":\"white\",\"showbackground\":true,\"ticks\":\"\",\"zerolinecolor\":\"white\",\"gridwidth\":2},\"yaxis\":{\"backgroundcolor\":\"#E5ECF6\",\"gridcolor\":\"white\",\"linecolor\":\"white\",\"showbackground\":true,\"ticks\":\"\",\"zerolinecolor\":\"white\",\"gridwidth\":2},\"zaxis\":{\"backgroundcolor\":\"#E5ECF6\",\"gridcolor\":\"white\",\"linecolor\":\"white\",\"showbackground\":true,\"ticks\":\"\",\"zerolinecolor\":\"white\",\"gridwidth\":2}},\"shapedefaults\":{\"line\":{\"color\":\"#2a3f5f\"}},\"annotationdefaults\":{\"arrowcolor\":\"#2a3f5f\",\"arrowhead\":0,\"arrowwidth\":1},\"geo\":{\"bgcolor\":\"white\",\"landcolor\":\"#E5ECF6\",\"subunitcolor\":\"white\",\"showland\":true,\"showlakes\":true,\"lakecolor\":\"white\"},\"title\":{\"x\":0.05},\"mapbox\":{\"style\":\"light\"}}},\"xaxis\":{\"anchor\":\"y\",\"domain\":[0.0,1.0],\"title\":{\"text\":\"math score\"}},\"yaxis\":{\"anchor\":\"x\",\"domain\":[0.0,1.0],\"title\":{\"text\":\"count\"}},\"legend\":{\"title\":{\"text\":\"lunch\"},\"tracegroupgap\":0},\"margin\":{\"t\":60},\"barmode\":\"relative\"},                        {\"responsive\": true}                    ).then(function(){\n",
       "                            \n",
       "var gd = document.getElementById('905712cd-e7f1-4c6e-bb5d-f77590e04379');\n",
       "var x = new MutationObserver(function (mutations, observer) {{\n",
       "        var display = window.getComputedStyle(gd).display;\n",
       "        if (!display || display === 'none') {{\n",
       "            console.log([gd, 'removed!']);\n",
       "            Plotly.purge(gd);\n",
       "            observer.disconnect();\n",
       "        }}\n",
       "}});\n",
       "\n",
       "// Listen for the removal of the full notebook cells\n",
       "var notebookContainer = gd.closest('#notebook-container');\n",
       "if (notebookContainer) {{\n",
       "    x.observe(notebookContainer, {childList: true});\n",
       "}}\n",
       "\n",
       "// Listen for the clearing of the current output cell\n",
       "var outputEl = gd.closest('.output');\n",
       "if (outputEl) {{\n",
       "    x.observe(outputEl, {childList: true});\n",
       "}}\n",
       "\n",
       "                        })                };                });            </script>        </div>"
      ]
     },
     "metadata": {},
     "output_type": "display_data"
    },
    {
     "data": {
      "application/vnd.plotly.v1+json": {
       "config": {
        "plotlyServerURL": "https://plot.ly"
       },
       "data": [
        {
         "alignmentgroup": "True",
         "bingroup": "x",
         "hovertemplate": "lunch=standard<br>reading score=%{x}<br>count=%{y}<extra></extra>",
         "legendgroup": "standard",
         "marker": {
          "color": "#636efa",
          "pattern": {
           "shape": ""
          }
         },
         "name": "standard",
         "offsetgroup": "standard",
         "orientation": "v",
         "showlegend": true,
         "type": "histogram",
         "x": [
          72,
          90,
          95,
          78,
          83,
          95,
          54,
          52,
          81,
          72,
          53,
          75,
          89,
          69,
          54,
          73,
          54,
          69,
          70,
          70,
          74,
          65,
          42,
          87,
          81,
          81,
          73,
          58,
          54,
          65,
          71,
          84,
          55,
          44,
          78,
          85,
          55,
          59,
          80,
          58,
          64,
          72,
          64,
          55,
          49,
          26,
          78,
          74,
          68,
          49,
          64,
          80,
          71,
          70,
          86,
          72,
          79,
          86,
          66,
          72,
          67,
          67,
          74,
          91,
          44,
          86,
          67,
          100,
          63,
          64,
          55,
          53,
          58,
          100,
          77,
          82,
          63,
          69,
          92,
          89,
          93,
          80,
          95,
          68,
          77,
          82,
          49,
          84,
          81,
          55,
          54,
          55,
          66,
          61,
          72,
          43,
          73,
          84,
          75,
          67,
          67,
          70,
          49,
          67,
          89,
          86,
          53,
          92,
          100,
          83,
          73,
          88,
          86,
          67,
          91,
          77,
          100,
          50,
          69,
          76,
          66,
          88,
          65,
          83,
          64,
          62,
          84,
          55,
          84,
          77,
          69,
          41,
          71,
          62,
          80,
          91,
          83,
          56,
          68,
          85,
          80,
          66,
          72,
          50,
          95,
          64,
          43,
          86,
          87,
          82,
          75,
          60,
          52,
          80,
          83,
          52,
          51,
          74,
          76,
          76,
          70,
          64,
          60,
          49,
          70,
          80,
          52,
          73,
          77,
          75,
          79,
          93,
          73,
          75,
          72,
          92,
          63,
          49,
          70,
          85,
          78,
          92,
          63,
          52,
          48,
          46,
          82,
          82,
          89,
          76,
          70,
          73,
          60,
          73,
          41,
          74,
          84,
          76,
          75,
          67,
          87,
          52,
          76,
          60,
          61,
          64,
          66,
          82,
          72,
          71,
          86,
          81,
          90,
          61,
          75,
          55,
          60,
          37,
          56,
          78,
          93,
          70,
          51,
          73,
          76,
          72,
          73,
          80,
          61,
          94,
          74,
          65,
          57,
          78,
          58,
          71,
          72,
          61,
          90,
          62,
          84,
          58,
          60,
          58,
          84,
          77,
          74,
          97,
          70,
          90,
          83,
          64,
          86,
          100,
          76,
          73,
          64,
          70,
          68,
          67,
          54,
          74,
          89,
          63,
          59,
          54,
          43,
          99,
          59,
          73,
          65,
          80,
          84,
          71,
          83,
          66,
          67,
          73,
          74,
          73,
          59,
          58,
          85,
          83,
          72,
          56,
          66,
          68,
          56,
          88,
          81,
          81,
          83,
          74,
          81,
          46,
          73,
          92,
          89,
          100,
          65,
          70,
          58,
          87,
          74,
          85,
          69,
          86,
          67,
          90,
          76,
          62,
          68,
          64,
          71,
          71,
          52,
          52,
          74,
          53,
          64,
          83,
          88,
          64,
          64,
          48,
          69,
          71,
          79,
          87,
          89,
          82,
          70,
          78,
          92,
          71,
          50,
          61,
          87,
          89,
          74,
          78,
          49,
          86,
          58,
          52,
          60,
          74,
          67,
          54,
          61,
          88,
          69,
          60,
          66,
          66,
          92,
          69,
          77,
          95,
          63,
          100,
          67,
          72,
          48,
          45,
          72,
          66,
          75,
          74,
          90,
          43,
          75,
          96,
          62,
          81,
          51,
          91,
          61,
          97,
          79,
          75,
          77,
          76,
          73,
          64,
          66,
          62,
          68,
          76,
          100,
          79,
          54,
          77,
          82,
          60,
          29,
          78,
          72,
          84,
          64,
          63,
          59,
          90,
          77,
          93,
          68,
          45,
          78,
          81,
          96,
          97,
          48,
          51,
          64,
          60,
          74,
          88,
          84,
          74,
          92,
          76,
          74,
          52,
          79,
          65,
          81,
          70,
          53,
          79,
          80,
          86,
          70,
          79,
          67,
          66,
          87,
          66,
          69,
          63,
          74,
          72,
          78,
          84,
          77,
          64,
          78,
          82,
          72,
          68,
          55,
          66,
          99,
          75,
          53,
          77,
          63,
          82,
          72,
          78,
          81,
          67,
          84,
          64,
          34,
          59,
          87,
          84,
          85,
          100,
          81,
          70,
          78,
          96,
          76,
          48,
          43,
          74,
          75,
          51,
          39,
          89,
          47,
          57,
          79,
          71,
          73,
          84,
          73,
          79,
          75,
          64,
          84,
          69,
          72,
          90,
          95,
          58,
          77,
          58,
          81,
          62,
          63,
          72,
          75,
          62,
          71,
          48,
          73,
          65,
          72,
          79,
          85,
          90,
          59,
          81,
          51,
          38,
          62,
          84,
          52,
          70,
          60,
          55,
          73,
          80,
          94,
          85,
          76,
          75,
          54,
          31,
          64,
          84,
          80,
          86,
          59,
          91,
          90,
          67,
          69,
          54,
          60,
          82,
          50,
          64,
          64,
          82,
          77,
          58,
          85,
          85,
          54,
          72,
          75,
          67,
          68,
          85,
          67,
          64,
          97,
          79,
          49,
          62,
          71,
          93,
          82,
          42,
          58,
          72,
          84,
          82,
          61,
          72,
          76,
          64,
          70,
          51,
          76,
          100,
          85,
          92,
          74,
          62,
          54,
          78,
          84,
          78,
          77,
          48,
          84,
          64,
          84,
          61,
          70,
          100,
          61,
          77,
          96,
          66,
          64,
          87,
          57,
          81,
          68,
          91,
          66,
          68,
          61,
          82,
          73,
          77,
          52,
          69,
          57,
          87,
          100,
          63,
          81,
          58,
          100,
          57,
          70,
          68,
          63,
          76,
          84,
          100,
          72,
          63,
          82,
          65,
          41,
          95,
          78,
          85,
          87,
          75,
          51,
          59,
          75,
          82,
          63,
          99,
          78
         ],
         "xaxis": "x",
         "yaxis": "y"
        },
        {
         "alignmentgroup": "True",
         "bingroup": "x",
         "hovertemplate": "lunch=free/reduced<br>reading score=%{x}<br>count=%{y}<extra></extra>",
         "legendgroup": "free/reduced",
         "marker": {
          "color": "#EF553B",
          "pattern": {
           "shape": ""
          }
         },
         "name": "free/reduced",
         "offsetgroup": "free/reduced",
         "orientation": "v",
         "showlegend": true,
         "type": "histogram",
         "x": [
          57,
          43,
          64,
          60,
          32,
          42,
          58,
          75,
          71,
          74,
          72,
          64,
          90,
          56,
          61,
          65,
          56,
          74,
          69,
          84,
          41,
          17,
          74,
          39,
          61,
          37,
          58,
          63,
          51,
          57,
          41,
          45,
          47,
          39,
          83,
          34,
          45,
          81,
          67,
          76,
          89,
          85,
          57,
          37,
          74,
          79,
          62,
          55,
          39,
          68,
          100,
          74,
          60,
          62,
          78,
          88,
          53,
          51,
          76,
          75,
          51,
          54,
          70,
          68,
          64,
          52,
          67,
          52,
          69,
          56,
          53,
          79,
          81,
          81,
          61,
          79,
          28,
          62,
          51,
          86,
          42,
          77,
          65,
          56,
          72,
          66,
          68,
          83,
          73,
          81,
          79,
          50,
          42,
          76,
          53,
          86,
          56,
          79,
          78,
          75,
          77,
          62,
          46,
          87,
          78,
          54,
          71,
          57,
          67,
          65,
          79,
          53,
          46,
          23,
          68,
          38,
          55,
          61,
          74,
          66,
          62,
          34,
          58,
          66,
          64,
          73,
          43,
          95,
          81,
          49,
          43,
          78,
          67,
          45,
          67,
          65,
          57,
          72,
          56,
          93,
          58,
          39,
          67,
          71,
          59,
          63,
          66,
          59,
          48,
          66,
          73,
          82,
          66,
          85,
          77,
          58,
          61,
          56,
          54,
          58,
          54,
          90,
          31,
          67,
          88,
          59,
          68,
          47,
          75,
          82,
          85,
          78,
          61,
          59,
          59,
          49,
          97,
          78,
          59,
          61,
          53,
          41,
          83,
          82,
          83,
          67,
          76,
          90,
          62,
          39,
          67,
          70,
          80,
          51,
          100,
          71,
          48,
          68,
          66,
          55,
          56,
          73,
          63,
          57,
          24,
          57,
          89,
          58,
          60,
          73,
          61,
          63,
          51,
          58,
          70,
          57,
          80,
          88,
          81,
          62,
          56,
          67,
          60,
          77,
          71,
          60,
          73,
          85,
          76,
          57,
          75,
          61,
          40,
          78,
          58,
          90,
          76,
          74,
          89,
          66,
          63,
          72,
          61,
          94,
          73,
          72,
          59,
          90,
          92,
          77,
          46,
          58,
          66,
          60,
          57,
          55,
          60,
          77,
          55,
          68,
          59,
          72,
          60,
          67,
          78,
          58,
          44,
          56,
          85,
          79,
          65,
          65,
          66,
          74,
          68,
          84,
          81,
          74,
          45,
          47,
          70,
          72,
          90,
          52,
          87,
          58,
          68,
          86,
          60,
          86,
          57,
          52,
          44,
          77,
          65,
          68,
          73,
          86,
          42,
          53,
          74,
          51,
          90,
          62,
          64,
          73,
          46,
          72,
          65,
          51,
          67,
          34,
          29,
          78,
          48,
          100,
          84,
          75,
          42,
          62,
          61,
          70,
          53,
          65,
          70,
          56,
          61,
          43,
          56,
          74,
          57,
          71,
          75,
          63,
          58,
          66,
          62,
          58,
          50,
          75,
          74,
          54,
          76,
          50,
          65,
          62,
          24,
          45,
          86,
          81,
          76,
          72,
          55,
          71,
          86
         ],
         "xaxis": "x",
         "yaxis": "y"
        }
       ],
       "layout": {
        "barmode": "relative",
        "legend": {
         "title": {
          "text": "lunch"
         },
         "tracegroupgap": 0
        },
        "margin": {
         "t": 60
        },
        "template": {
         "data": {
          "bar": [
           {
            "error_x": {
             "color": "#2a3f5f"
            },
            "error_y": {
             "color": "#2a3f5f"
            },
            "marker": {
             "line": {
              "color": "#E5ECF6",
              "width": 0.5
             },
             "pattern": {
              "fillmode": "overlay",
              "size": 10,
              "solidity": 0.2
             }
            },
            "type": "bar"
           }
          ],
          "barpolar": [
           {
            "marker": {
             "line": {
              "color": "#E5ECF6",
              "width": 0.5
             },
             "pattern": {
              "fillmode": "overlay",
              "size": 10,
              "solidity": 0.2
             }
            },
            "type": "barpolar"
           }
          ],
          "carpet": [
           {
            "aaxis": {
             "endlinecolor": "#2a3f5f",
             "gridcolor": "white",
             "linecolor": "white",
             "minorgridcolor": "white",
             "startlinecolor": "#2a3f5f"
            },
            "baxis": {
             "endlinecolor": "#2a3f5f",
             "gridcolor": "white",
             "linecolor": "white",
             "minorgridcolor": "white",
             "startlinecolor": "#2a3f5f"
            },
            "type": "carpet"
           }
          ],
          "choropleth": [
           {
            "colorbar": {
             "outlinewidth": 0,
             "ticks": ""
            },
            "type": "choropleth"
           }
          ],
          "contour": [
           {
            "colorbar": {
             "outlinewidth": 0,
             "ticks": ""
            },
            "colorscale": [
             [
              0,
              "#0d0887"
             ],
             [
              0.1111111111111111,
              "#46039f"
             ],
             [
              0.2222222222222222,
              "#7201a8"
             ],
             [
              0.3333333333333333,
              "#9c179e"
             ],
             [
              0.4444444444444444,
              "#bd3786"
             ],
             [
              0.5555555555555556,
              "#d8576b"
             ],
             [
              0.6666666666666666,
              "#ed7953"
             ],
             [
              0.7777777777777778,
              "#fb9f3a"
             ],
             [
              0.8888888888888888,
              "#fdca26"
             ],
             [
              1,
              "#f0f921"
             ]
            ],
            "type": "contour"
           }
          ],
          "contourcarpet": [
           {
            "colorbar": {
             "outlinewidth": 0,
             "ticks": ""
            },
            "type": "contourcarpet"
           }
          ],
          "heatmap": [
           {
            "colorbar": {
             "outlinewidth": 0,
             "ticks": ""
            },
            "colorscale": [
             [
              0,
              "#0d0887"
             ],
             [
              0.1111111111111111,
              "#46039f"
             ],
             [
              0.2222222222222222,
              "#7201a8"
             ],
             [
              0.3333333333333333,
              "#9c179e"
             ],
             [
              0.4444444444444444,
              "#bd3786"
             ],
             [
              0.5555555555555556,
              "#d8576b"
             ],
             [
              0.6666666666666666,
              "#ed7953"
             ],
             [
              0.7777777777777778,
              "#fb9f3a"
             ],
             [
              0.8888888888888888,
              "#fdca26"
             ],
             [
              1,
              "#f0f921"
             ]
            ],
            "type": "heatmap"
           }
          ],
          "heatmapgl": [
           {
            "colorbar": {
             "outlinewidth": 0,
             "ticks": ""
            },
            "colorscale": [
             [
              0,
              "#0d0887"
             ],
             [
              0.1111111111111111,
              "#46039f"
             ],
             [
              0.2222222222222222,
              "#7201a8"
             ],
             [
              0.3333333333333333,
              "#9c179e"
             ],
             [
              0.4444444444444444,
              "#bd3786"
             ],
             [
              0.5555555555555556,
              "#d8576b"
             ],
             [
              0.6666666666666666,
              "#ed7953"
             ],
             [
              0.7777777777777778,
              "#fb9f3a"
             ],
             [
              0.8888888888888888,
              "#fdca26"
             ],
             [
              1,
              "#f0f921"
             ]
            ],
            "type": "heatmapgl"
           }
          ],
          "histogram": [
           {
            "marker": {
             "pattern": {
              "fillmode": "overlay",
              "size": 10,
              "solidity": 0.2
             }
            },
            "type": "histogram"
           }
          ],
          "histogram2d": [
           {
            "colorbar": {
             "outlinewidth": 0,
             "ticks": ""
            },
            "colorscale": [
             [
              0,
              "#0d0887"
             ],
             [
              0.1111111111111111,
              "#46039f"
             ],
             [
              0.2222222222222222,
              "#7201a8"
             ],
             [
              0.3333333333333333,
              "#9c179e"
             ],
             [
              0.4444444444444444,
              "#bd3786"
             ],
             [
              0.5555555555555556,
              "#d8576b"
             ],
             [
              0.6666666666666666,
              "#ed7953"
             ],
             [
              0.7777777777777778,
              "#fb9f3a"
             ],
             [
              0.8888888888888888,
              "#fdca26"
             ],
             [
              1,
              "#f0f921"
             ]
            ],
            "type": "histogram2d"
           }
          ],
          "histogram2dcontour": [
           {
            "colorbar": {
             "outlinewidth": 0,
             "ticks": ""
            },
            "colorscale": [
             [
              0,
              "#0d0887"
             ],
             [
              0.1111111111111111,
              "#46039f"
             ],
             [
              0.2222222222222222,
              "#7201a8"
             ],
             [
              0.3333333333333333,
              "#9c179e"
             ],
             [
              0.4444444444444444,
              "#bd3786"
             ],
             [
              0.5555555555555556,
              "#d8576b"
             ],
             [
              0.6666666666666666,
              "#ed7953"
             ],
             [
              0.7777777777777778,
              "#fb9f3a"
             ],
             [
              0.8888888888888888,
              "#fdca26"
             ],
             [
              1,
              "#f0f921"
             ]
            ],
            "type": "histogram2dcontour"
           }
          ],
          "mesh3d": [
           {
            "colorbar": {
             "outlinewidth": 0,
             "ticks": ""
            },
            "type": "mesh3d"
           }
          ],
          "parcoords": [
           {
            "line": {
             "colorbar": {
              "outlinewidth": 0,
              "ticks": ""
             }
            },
            "type": "parcoords"
           }
          ],
          "pie": [
           {
            "automargin": true,
            "type": "pie"
           }
          ],
          "scatter": [
           {
            "fillpattern": {
             "fillmode": "overlay",
             "size": 10,
             "solidity": 0.2
            },
            "type": "scatter"
           }
          ],
          "scatter3d": [
           {
            "line": {
             "colorbar": {
              "outlinewidth": 0,
              "ticks": ""
             }
            },
            "marker": {
             "colorbar": {
              "outlinewidth": 0,
              "ticks": ""
             }
            },
            "type": "scatter3d"
           }
          ],
          "scattercarpet": [
           {
            "marker": {
             "colorbar": {
              "outlinewidth": 0,
              "ticks": ""
             }
            },
            "type": "scattercarpet"
           }
          ],
          "scattergeo": [
           {
            "marker": {
             "colorbar": {
              "outlinewidth": 0,
              "ticks": ""
             }
            },
            "type": "scattergeo"
           }
          ],
          "scattergl": [
           {
            "marker": {
             "colorbar": {
              "outlinewidth": 0,
              "ticks": ""
             }
            },
            "type": "scattergl"
           }
          ],
          "scattermapbox": [
           {
            "marker": {
             "colorbar": {
              "outlinewidth": 0,
              "ticks": ""
             }
            },
            "type": "scattermapbox"
           }
          ],
          "scatterpolar": [
           {
            "marker": {
             "colorbar": {
              "outlinewidth": 0,
              "ticks": ""
             }
            },
            "type": "scatterpolar"
           }
          ],
          "scatterpolargl": [
           {
            "marker": {
             "colorbar": {
              "outlinewidth": 0,
              "ticks": ""
             }
            },
            "type": "scatterpolargl"
           }
          ],
          "scatterternary": [
           {
            "marker": {
             "colorbar": {
              "outlinewidth": 0,
              "ticks": ""
             }
            },
            "type": "scatterternary"
           }
          ],
          "surface": [
           {
            "colorbar": {
             "outlinewidth": 0,
             "ticks": ""
            },
            "colorscale": [
             [
              0,
              "#0d0887"
             ],
             [
              0.1111111111111111,
              "#46039f"
             ],
             [
              0.2222222222222222,
              "#7201a8"
             ],
             [
              0.3333333333333333,
              "#9c179e"
             ],
             [
              0.4444444444444444,
              "#bd3786"
             ],
             [
              0.5555555555555556,
              "#d8576b"
             ],
             [
              0.6666666666666666,
              "#ed7953"
             ],
             [
              0.7777777777777778,
              "#fb9f3a"
             ],
             [
              0.8888888888888888,
              "#fdca26"
             ],
             [
              1,
              "#f0f921"
             ]
            ],
            "type": "surface"
           }
          ],
          "table": [
           {
            "cells": {
             "fill": {
              "color": "#EBF0F8"
             },
             "line": {
              "color": "white"
             }
            },
            "header": {
             "fill": {
              "color": "#C8D4E3"
             },
             "line": {
              "color": "white"
             }
            },
            "type": "table"
           }
          ]
         },
         "layout": {
          "annotationdefaults": {
           "arrowcolor": "#2a3f5f",
           "arrowhead": 0,
           "arrowwidth": 1
          },
          "autotypenumbers": "strict",
          "coloraxis": {
           "colorbar": {
            "outlinewidth": 0,
            "ticks": ""
           }
          },
          "colorscale": {
           "diverging": [
            [
             0,
             "#8e0152"
            ],
            [
             0.1,
             "#c51b7d"
            ],
            [
             0.2,
             "#de77ae"
            ],
            [
             0.3,
             "#f1b6da"
            ],
            [
             0.4,
             "#fde0ef"
            ],
            [
             0.5,
             "#f7f7f7"
            ],
            [
             0.6,
             "#e6f5d0"
            ],
            [
             0.7,
             "#b8e186"
            ],
            [
             0.8,
             "#7fbc41"
            ],
            [
             0.9,
             "#4d9221"
            ],
            [
             1,
             "#276419"
            ]
           ],
           "sequential": [
            [
             0,
             "#0d0887"
            ],
            [
             0.1111111111111111,
             "#46039f"
            ],
            [
             0.2222222222222222,
             "#7201a8"
            ],
            [
             0.3333333333333333,
             "#9c179e"
            ],
            [
             0.4444444444444444,
             "#bd3786"
            ],
            [
             0.5555555555555556,
             "#d8576b"
            ],
            [
             0.6666666666666666,
             "#ed7953"
            ],
            [
             0.7777777777777778,
             "#fb9f3a"
            ],
            [
             0.8888888888888888,
             "#fdca26"
            ],
            [
             1,
             "#f0f921"
            ]
           ],
           "sequentialminus": [
            [
             0,
             "#0d0887"
            ],
            [
             0.1111111111111111,
             "#46039f"
            ],
            [
             0.2222222222222222,
             "#7201a8"
            ],
            [
             0.3333333333333333,
             "#9c179e"
            ],
            [
             0.4444444444444444,
             "#bd3786"
            ],
            [
             0.5555555555555556,
             "#d8576b"
            ],
            [
             0.6666666666666666,
             "#ed7953"
            ],
            [
             0.7777777777777778,
             "#fb9f3a"
            ],
            [
             0.8888888888888888,
             "#fdca26"
            ],
            [
             1,
             "#f0f921"
            ]
           ]
          },
          "colorway": [
           "#636efa",
           "#EF553B",
           "#00cc96",
           "#ab63fa",
           "#FFA15A",
           "#19d3f3",
           "#FF6692",
           "#B6E880",
           "#FF97FF",
           "#FECB52"
          ],
          "font": {
           "color": "#2a3f5f"
          },
          "geo": {
           "bgcolor": "white",
           "lakecolor": "white",
           "landcolor": "#E5ECF6",
           "showlakes": true,
           "showland": true,
           "subunitcolor": "white"
          },
          "hoverlabel": {
           "align": "left"
          },
          "hovermode": "closest",
          "mapbox": {
           "style": "light"
          },
          "paper_bgcolor": "white",
          "plot_bgcolor": "#E5ECF6",
          "polar": {
           "angularaxis": {
            "gridcolor": "white",
            "linecolor": "white",
            "ticks": ""
           },
           "bgcolor": "#E5ECF6",
           "radialaxis": {
            "gridcolor": "white",
            "linecolor": "white",
            "ticks": ""
           }
          },
          "scene": {
           "xaxis": {
            "backgroundcolor": "#E5ECF6",
            "gridcolor": "white",
            "gridwidth": 2,
            "linecolor": "white",
            "showbackground": true,
            "ticks": "",
            "zerolinecolor": "white"
           },
           "yaxis": {
            "backgroundcolor": "#E5ECF6",
            "gridcolor": "white",
            "gridwidth": 2,
            "linecolor": "white",
            "showbackground": true,
            "ticks": "",
            "zerolinecolor": "white"
           },
           "zaxis": {
            "backgroundcolor": "#E5ECF6",
            "gridcolor": "white",
            "gridwidth": 2,
            "linecolor": "white",
            "showbackground": true,
            "ticks": "",
            "zerolinecolor": "white"
           }
          },
          "shapedefaults": {
           "line": {
            "color": "#2a3f5f"
           }
          },
          "ternary": {
           "aaxis": {
            "gridcolor": "white",
            "linecolor": "white",
            "ticks": ""
           },
           "baxis": {
            "gridcolor": "white",
            "linecolor": "white",
            "ticks": ""
           },
           "bgcolor": "#E5ECF6",
           "caxis": {
            "gridcolor": "white",
            "linecolor": "white",
            "ticks": ""
           }
          },
          "title": {
           "x": 0.05
          },
          "xaxis": {
           "automargin": true,
           "gridcolor": "white",
           "linecolor": "white",
           "ticks": "",
           "title": {
            "standoff": 15
           },
           "zerolinecolor": "white",
           "zerolinewidth": 2
          },
          "yaxis": {
           "automargin": true,
           "gridcolor": "white",
           "linecolor": "white",
           "ticks": "",
           "title": {
            "standoff": 15
           },
           "zerolinecolor": "white",
           "zerolinewidth": 2
          }
         }
        },
        "xaxis": {
         "anchor": "y",
         "domain": [
          0,
          1
         ],
         "title": {
          "text": "reading score"
         }
        },
        "yaxis": {
         "anchor": "x",
         "domain": [
          0,
          1
         ],
         "title": {
          "text": "count"
         }
        }
       }
      },
      "text/html": [
       "<div>                            <div id=\"efcedcb9-13d6-4627-88bc-99e836969155\" class=\"plotly-graph-div\" style=\"height:525px; width:100%;\"></div>            <script type=\"text/javascript\">                require([\"plotly\"], function(Plotly) {                    window.PLOTLYENV=window.PLOTLYENV || {};                                    if (document.getElementById(\"efcedcb9-13d6-4627-88bc-99e836969155\")) {                    Plotly.newPlot(                        \"efcedcb9-13d6-4627-88bc-99e836969155\",                        [{\"alignmentgroup\":\"True\",\"bingroup\":\"x\",\"hovertemplate\":\"lunch=standard<br>reading score=%{x}<br>count=%{y}<extra></extra>\",\"legendgroup\":\"standard\",\"marker\":{\"color\":\"#636efa\",\"pattern\":{\"shape\":\"\"}},\"name\":\"standard\",\"offsetgroup\":\"standard\",\"orientation\":\"v\",\"showlegend\":true,\"x\":[72,90,95,78,83,95,54,52,81,72,53,75,89,69,54,73,54,69,70,70,74,65,42,87,81,81,73,58,54,65,71,84,55,44,78,85,55,59,80,58,64,72,64,55,49,26,78,74,68,49,64,80,71,70,86,72,79,86,66,72,67,67,74,91,44,86,67,100,63,64,55,53,58,100,77,82,63,69,92,89,93,80,95,68,77,82,49,84,81,55,54,55,66,61,72,43,73,84,75,67,67,70,49,67,89,86,53,92,100,83,73,88,86,67,91,77,100,50,69,76,66,88,65,83,64,62,84,55,84,77,69,41,71,62,80,91,83,56,68,85,80,66,72,50,95,64,43,86,87,82,75,60,52,80,83,52,51,74,76,76,70,64,60,49,70,80,52,73,77,75,79,93,73,75,72,92,63,49,70,85,78,92,63,52,48,46,82,82,89,76,70,73,60,73,41,74,84,76,75,67,87,52,76,60,61,64,66,82,72,71,86,81,90,61,75,55,60,37,56,78,93,70,51,73,76,72,73,80,61,94,74,65,57,78,58,71,72,61,90,62,84,58,60,58,84,77,74,97,70,90,83,64,86,100,76,73,64,70,68,67,54,74,89,63,59,54,43,99,59,73,65,80,84,71,83,66,67,73,74,73,59,58,85,83,72,56,66,68,56,88,81,81,83,74,81,46,73,92,89,100,65,70,58,87,74,85,69,86,67,90,76,62,68,64,71,71,52,52,74,53,64,83,88,64,64,48,69,71,79,87,89,82,70,78,92,71,50,61,87,89,74,78,49,86,58,52,60,74,67,54,61,88,69,60,66,66,92,69,77,95,63,100,67,72,48,45,72,66,75,74,90,43,75,96,62,81,51,91,61,97,79,75,77,76,73,64,66,62,68,76,100,79,54,77,82,60,29,78,72,84,64,63,59,90,77,93,68,45,78,81,96,97,48,51,64,60,74,88,84,74,92,76,74,52,79,65,81,70,53,79,80,86,70,79,67,66,87,66,69,63,74,72,78,84,77,64,78,82,72,68,55,66,99,75,53,77,63,82,72,78,81,67,84,64,34,59,87,84,85,100,81,70,78,96,76,48,43,74,75,51,39,89,47,57,79,71,73,84,73,79,75,64,84,69,72,90,95,58,77,58,81,62,63,72,75,62,71,48,73,65,72,79,85,90,59,81,51,38,62,84,52,70,60,55,73,80,94,85,76,75,54,31,64,84,80,86,59,91,90,67,69,54,60,82,50,64,64,82,77,58,85,85,54,72,75,67,68,85,67,64,97,79,49,62,71,93,82,42,58,72,84,82,61,72,76,64,70,51,76,100,85,92,74,62,54,78,84,78,77,48,84,64,84,61,70,100,61,77,96,66,64,87,57,81,68,91,66,68,61,82,73,77,52,69,57,87,100,63,81,58,100,57,70,68,63,76,84,100,72,63,82,65,41,95,78,85,87,75,51,59,75,82,63,99,78],\"xaxis\":\"x\",\"yaxis\":\"y\",\"type\":\"histogram\"},{\"alignmentgroup\":\"True\",\"bingroup\":\"x\",\"hovertemplate\":\"lunch=free/reduced<br>reading score=%{x}<br>count=%{y}<extra></extra>\",\"legendgroup\":\"free/reduced\",\"marker\":{\"color\":\"#EF553B\",\"pattern\":{\"shape\":\"\"}},\"name\":\"free/reduced\",\"offsetgroup\":\"free/reduced\",\"orientation\":\"v\",\"showlegend\":true,\"x\":[57,43,64,60,32,42,58,75,71,74,72,64,90,56,61,65,56,74,69,84,41,17,74,39,61,37,58,63,51,57,41,45,47,39,83,34,45,81,67,76,89,85,57,37,74,79,62,55,39,68,100,74,60,62,78,88,53,51,76,75,51,54,70,68,64,52,67,52,69,56,53,79,81,81,61,79,28,62,51,86,42,77,65,56,72,66,68,83,73,81,79,50,42,76,53,86,56,79,78,75,77,62,46,87,78,54,71,57,67,65,79,53,46,23,68,38,55,61,74,66,62,34,58,66,64,73,43,95,81,49,43,78,67,45,67,65,57,72,56,93,58,39,67,71,59,63,66,59,48,66,73,82,66,85,77,58,61,56,54,58,54,90,31,67,88,59,68,47,75,82,85,78,61,59,59,49,97,78,59,61,53,41,83,82,83,67,76,90,62,39,67,70,80,51,100,71,48,68,66,55,56,73,63,57,24,57,89,58,60,73,61,63,51,58,70,57,80,88,81,62,56,67,60,77,71,60,73,85,76,57,75,61,40,78,58,90,76,74,89,66,63,72,61,94,73,72,59,90,92,77,46,58,66,60,57,55,60,77,55,68,59,72,60,67,78,58,44,56,85,79,65,65,66,74,68,84,81,74,45,47,70,72,90,52,87,58,68,86,60,86,57,52,44,77,65,68,73,86,42,53,74,51,90,62,64,73,46,72,65,51,67,34,29,78,48,100,84,75,42,62,61,70,53,65,70,56,61,43,56,74,57,71,75,63,58,66,62,58,50,75,74,54,76,50,65,62,24,45,86,81,76,72,55,71,86],\"xaxis\":\"x\",\"yaxis\":\"y\",\"type\":\"histogram\"}],                        {\"template\":{\"data\":{\"histogram2dcontour\":[{\"type\":\"histogram2dcontour\",\"colorbar\":{\"outlinewidth\":0,\"ticks\":\"\"},\"colorscale\":[[0.0,\"#0d0887\"],[0.1111111111111111,\"#46039f\"],[0.2222222222222222,\"#7201a8\"],[0.3333333333333333,\"#9c179e\"],[0.4444444444444444,\"#bd3786\"],[0.5555555555555556,\"#d8576b\"],[0.6666666666666666,\"#ed7953\"],[0.7777777777777778,\"#fb9f3a\"],[0.8888888888888888,\"#fdca26\"],[1.0,\"#f0f921\"]]}],\"choropleth\":[{\"type\":\"choropleth\",\"colorbar\":{\"outlinewidth\":0,\"ticks\":\"\"}}],\"histogram2d\":[{\"type\":\"histogram2d\",\"colorbar\":{\"outlinewidth\":0,\"ticks\":\"\"},\"colorscale\":[[0.0,\"#0d0887\"],[0.1111111111111111,\"#46039f\"],[0.2222222222222222,\"#7201a8\"],[0.3333333333333333,\"#9c179e\"],[0.4444444444444444,\"#bd3786\"],[0.5555555555555556,\"#d8576b\"],[0.6666666666666666,\"#ed7953\"],[0.7777777777777778,\"#fb9f3a\"],[0.8888888888888888,\"#fdca26\"],[1.0,\"#f0f921\"]]}],\"heatmap\":[{\"type\":\"heatmap\",\"colorbar\":{\"outlinewidth\":0,\"ticks\":\"\"},\"colorscale\":[[0.0,\"#0d0887\"],[0.1111111111111111,\"#46039f\"],[0.2222222222222222,\"#7201a8\"],[0.3333333333333333,\"#9c179e\"],[0.4444444444444444,\"#bd3786\"],[0.5555555555555556,\"#d8576b\"],[0.6666666666666666,\"#ed7953\"],[0.7777777777777778,\"#fb9f3a\"],[0.8888888888888888,\"#fdca26\"],[1.0,\"#f0f921\"]]}],\"heatmapgl\":[{\"type\":\"heatmapgl\",\"colorbar\":{\"outlinewidth\":0,\"ticks\":\"\"},\"colorscale\":[[0.0,\"#0d0887\"],[0.1111111111111111,\"#46039f\"],[0.2222222222222222,\"#7201a8\"],[0.3333333333333333,\"#9c179e\"],[0.4444444444444444,\"#bd3786\"],[0.5555555555555556,\"#d8576b\"],[0.6666666666666666,\"#ed7953\"],[0.7777777777777778,\"#fb9f3a\"],[0.8888888888888888,\"#fdca26\"],[1.0,\"#f0f921\"]]}],\"contourcarpet\":[{\"type\":\"contourcarpet\",\"colorbar\":{\"outlinewidth\":0,\"ticks\":\"\"}}],\"contour\":[{\"type\":\"contour\",\"colorbar\":{\"outlinewidth\":0,\"ticks\":\"\"},\"colorscale\":[[0.0,\"#0d0887\"],[0.1111111111111111,\"#46039f\"],[0.2222222222222222,\"#7201a8\"],[0.3333333333333333,\"#9c179e\"],[0.4444444444444444,\"#bd3786\"],[0.5555555555555556,\"#d8576b\"],[0.6666666666666666,\"#ed7953\"],[0.7777777777777778,\"#fb9f3a\"],[0.8888888888888888,\"#fdca26\"],[1.0,\"#f0f921\"]]}],\"surface\":[{\"type\":\"surface\",\"colorbar\":{\"outlinewidth\":0,\"ticks\":\"\"},\"colorscale\":[[0.0,\"#0d0887\"],[0.1111111111111111,\"#46039f\"],[0.2222222222222222,\"#7201a8\"],[0.3333333333333333,\"#9c179e\"],[0.4444444444444444,\"#bd3786\"],[0.5555555555555556,\"#d8576b\"],[0.6666666666666666,\"#ed7953\"],[0.7777777777777778,\"#fb9f3a\"],[0.8888888888888888,\"#fdca26\"],[1.0,\"#f0f921\"]]}],\"mesh3d\":[{\"type\":\"mesh3d\",\"colorbar\":{\"outlinewidth\":0,\"ticks\":\"\"}}],\"scatter\":[{\"fillpattern\":{\"fillmode\":\"overlay\",\"size\":10,\"solidity\":0.2},\"type\":\"scatter\"}],\"parcoords\":[{\"type\":\"parcoords\",\"line\":{\"colorbar\":{\"outlinewidth\":0,\"ticks\":\"\"}}}],\"scatterpolargl\":[{\"type\":\"scatterpolargl\",\"marker\":{\"colorbar\":{\"outlinewidth\":0,\"ticks\":\"\"}}}],\"bar\":[{\"error_x\":{\"color\":\"#2a3f5f\"},\"error_y\":{\"color\":\"#2a3f5f\"},\"marker\":{\"line\":{\"color\":\"#E5ECF6\",\"width\":0.5},\"pattern\":{\"fillmode\":\"overlay\",\"size\":10,\"solidity\":0.2}},\"type\":\"bar\"}],\"scattergeo\":[{\"type\":\"scattergeo\",\"marker\":{\"colorbar\":{\"outlinewidth\":0,\"ticks\":\"\"}}}],\"scatterpolar\":[{\"type\":\"scatterpolar\",\"marker\":{\"colorbar\":{\"outlinewidth\":0,\"ticks\":\"\"}}}],\"histogram\":[{\"marker\":{\"pattern\":{\"fillmode\":\"overlay\",\"size\":10,\"solidity\":0.2}},\"type\":\"histogram\"}],\"scattergl\":[{\"type\":\"scattergl\",\"marker\":{\"colorbar\":{\"outlinewidth\":0,\"ticks\":\"\"}}}],\"scatter3d\":[{\"type\":\"scatter3d\",\"line\":{\"colorbar\":{\"outlinewidth\":0,\"ticks\":\"\"}},\"marker\":{\"colorbar\":{\"outlinewidth\":0,\"ticks\":\"\"}}}],\"scattermapbox\":[{\"type\":\"scattermapbox\",\"marker\":{\"colorbar\":{\"outlinewidth\":0,\"ticks\":\"\"}}}],\"scatterternary\":[{\"type\":\"scatterternary\",\"marker\":{\"colorbar\":{\"outlinewidth\":0,\"ticks\":\"\"}}}],\"scattercarpet\":[{\"type\":\"scattercarpet\",\"marker\":{\"colorbar\":{\"outlinewidth\":0,\"ticks\":\"\"}}}],\"carpet\":[{\"aaxis\":{\"endlinecolor\":\"#2a3f5f\",\"gridcolor\":\"white\",\"linecolor\":\"white\",\"minorgridcolor\":\"white\",\"startlinecolor\":\"#2a3f5f\"},\"baxis\":{\"endlinecolor\":\"#2a3f5f\",\"gridcolor\":\"white\",\"linecolor\":\"white\",\"minorgridcolor\":\"white\",\"startlinecolor\":\"#2a3f5f\"},\"type\":\"carpet\"}],\"table\":[{\"cells\":{\"fill\":{\"color\":\"#EBF0F8\"},\"line\":{\"color\":\"white\"}},\"header\":{\"fill\":{\"color\":\"#C8D4E3\"},\"line\":{\"color\":\"white\"}},\"type\":\"table\"}],\"barpolar\":[{\"marker\":{\"line\":{\"color\":\"#E5ECF6\",\"width\":0.5},\"pattern\":{\"fillmode\":\"overlay\",\"size\":10,\"solidity\":0.2}},\"type\":\"barpolar\"}],\"pie\":[{\"automargin\":true,\"type\":\"pie\"}]},\"layout\":{\"autotypenumbers\":\"strict\",\"colorway\":[\"#636efa\",\"#EF553B\",\"#00cc96\",\"#ab63fa\",\"#FFA15A\",\"#19d3f3\",\"#FF6692\",\"#B6E880\",\"#FF97FF\",\"#FECB52\"],\"font\":{\"color\":\"#2a3f5f\"},\"hovermode\":\"closest\",\"hoverlabel\":{\"align\":\"left\"},\"paper_bgcolor\":\"white\",\"plot_bgcolor\":\"#E5ECF6\",\"polar\":{\"bgcolor\":\"#E5ECF6\",\"angularaxis\":{\"gridcolor\":\"white\",\"linecolor\":\"white\",\"ticks\":\"\"},\"radialaxis\":{\"gridcolor\":\"white\",\"linecolor\":\"white\",\"ticks\":\"\"}},\"ternary\":{\"bgcolor\":\"#E5ECF6\",\"aaxis\":{\"gridcolor\":\"white\",\"linecolor\":\"white\",\"ticks\":\"\"},\"baxis\":{\"gridcolor\":\"white\",\"linecolor\":\"white\",\"ticks\":\"\"},\"caxis\":{\"gridcolor\":\"white\",\"linecolor\":\"white\",\"ticks\":\"\"}},\"coloraxis\":{\"colorbar\":{\"outlinewidth\":0,\"ticks\":\"\"}},\"colorscale\":{\"sequential\":[[0.0,\"#0d0887\"],[0.1111111111111111,\"#46039f\"],[0.2222222222222222,\"#7201a8\"],[0.3333333333333333,\"#9c179e\"],[0.4444444444444444,\"#bd3786\"],[0.5555555555555556,\"#d8576b\"],[0.6666666666666666,\"#ed7953\"],[0.7777777777777778,\"#fb9f3a\"],[0.8888888888888888,\"#fdca26\"],[1.0,\"#f0f921\"]],\"sequentialminus\":[[0.0,\"#0d0887\"],[0.1111111111111111,\"#46039f\"],[0.2222222222222222,\"#7201a8\"],[0.3333333333333333,\"#9c179e\"],[0.4444444444444444,\"#bd3786\"],[0.5555555555555556,\"#d8576b\"],[0.6666666666666666,\"#ed7953\"],[0.7777777777777778,\"#fb9f3a\"],[0.8888888888888888,\"#fdca26\"],[1.0,\"#f0f921\"]],\"diverging\":[[0,\"#8e0152\"],[0.1,\"#c51b7d\"],[0.2,\"#de77ae\"],[0.3,\"#f1b6da\"],[0.4,\"#fde0ef\"],[0.5,\"#f7f7f7\"],[0.6,\"#e6f5d0\"],[0.7,\"#b8e186\"],[0.8,\"#7fbc41\"],[0.9,\"#4d9221\"],[1,\"#276419\"]]},\"xaxis\":{\"gridcolor\":\"white\",\"linecolor\":\"white\",\"ticks\":\"\",\"title\":{\"standoff\":15},\"zerolinecolor\":\"white\",\"automargin\":true,\"zerolinewidth\":2},\"yaxis\":{\"gridcolor\":\"white\",\"linecolor\":\"white\",\"ticks\":\"\",\"title\":{\"standoff\":15},\"zerolinecolor\":\"white\",\"automargin\":true,\"zerolinewidth\":2},\"scene\":{\"xaxis\":{\"backgroundcolor\":\"#E5ECF6\",\"gridcolor\":\"white\",\"linecolor\":\"white\",\"showbackground\":true,\"ticks\":\"\",\"zerolinecolor\":\"white\",\"gridwidth\":2},\"yaxis\":{\"backgroundcolor\":\"#E5ECF6\",\"gridcolor\":\"white\",\"linecolor\":\"white\",\"showbackground\":true,\"ticks\":\"\",\"zerolinecolor\":\"white\",\"gridwidth\":2},\"zaxis\":{\"backgroundcolor\":\"#E5ECF6\",\"gridcolor\":\"white\",\"linecolor\":\"white\",\"showbackground\":true,\"ticks\":\"\",\"zerolinecolor\":\"white\",\"gridwidth\":2}},\"shapedefaults\":{\"line\":{\"color\":\"#2a3f5f\"}},\"annotationdefaults\":{\"arrowcolor\":\"#2a3f5f\",\"arrowhead\":0,\"arrowwidth\":1},\"geo\":{\"bgcolor\":\"white\",\"landcolor\":\"#E5ECF6\",\"subunitcolor\":\"white\",\"showland\":true,\"showlakes\":true,\"lakecolor\":\"white\"},\"title\":{\"x\":0.05},\"mapbox\":{\"style\":\"light\"}}},\"xaxis\":{\"anchor\":\"y\",\"domain\":[0.0,1.0],\"title\":{\"text\":\"reading score\"}},\"yaxis\":{\"anchor\":\"x\",\"domain\":[0.0,1.0],\"title\":{\"text\":\"count\"}},\"legend\":{\"title\":{\"text\":\"lunch\"},\"tracegroupgap\":0},\"margin\":{\"t\":60},\"barmode\":\"relative\"},                        {\"responsive\": true}                    ).then(function(){\n",
       "                            \n",
       "var gd = document.getElementById('efcedcb9-13d6-4627-88bc-99e836969155');\n",
       "var x = new MutationObserver(function (mutations, observer) {{\n",
       "        var display = window.getComputedStyle(gd).display;\n",
       "        if (!display || display === 'none') {{\n",
       "            console.log([gd, 'removed!']);\n",
       "            Plotly.purge(gd);\n",
       "            observer.disconnect();\n",
       "        }}\n",
       "}});\n",
       "\n",
       "// Listen for the removal of the full notebook cells\n",
       "var notebookContainer = gd.closest('#notebook-container');\n",
       "if (notebookContainer) {{\n",
       "    x.observe(notebookContainer, {childList: true});\n",
       "}}\n",
       "\n",
       "// Listen for the clearing of the current output cell\n",
       "var outputEl = gd.closest('.output');\n",
       "if (outputEl) {{\n",
       "    x.observe(outputEl, {childList: true});\n",
       "}}\n",
       "\n",
       "                        })                };                });            </script>        </div>"
      ]
     },
     "metadata": {},
     "output_type": "display_data"
    },
    {
     "data": {
      "application/vnd.plotly.v1+json": {
       "config": {
        "plotlyServerURL": "https://plot.ly"
       },
       "data": [
        {
         "alignmentgroup": "True",
         "bingroup": "x",
         "hovertemplate": "lunch=standard<br>writing score=%{x}<br>count=%{y}<extra></extra>",
         "legendgroup": "standard",
         "marker": {
          "color": "#636efa",
          "pattern": {
           "shape": ""
          }
         },
         "name": "standard",
         "offsetgroup": "standard",
         "orientation": "v",
         "showlegend": true,
         "type": "histogram",
         "x": [
          74,
          88,
          93,
          75,
          78,
          92,
          52,
          43,
          73,
          70,
          58,
          78,
          86,
          63,
          53,
          73,
          55,
          75,
          65,
          75,
          74,
          61,
          38,
          82,
          79,
          83,
          68,
          65,
          57,
          62,
          76,
          82,
          48,
          42,
          75,
          86,
          49,
          58,
          71,
          59,
          61,
          74,
          57,
          63,
          41,
          22,
          81,
          72,
          68,
          50,
          63,
          82,
          74,
          67,
          82,
          74,
          71,
          92,
          62,
          70,
          62,
          67,
          74,
          89,
          47,
          90,
          72,
          100,
          64,
          72,
          49,
          47,
          54,
          100,
          74,
          79,
          61,
          65,
          89,
          92,
          93,
          73,
          86,
          67,
          74,
          74,
          51,
          82,
          84,
          48,
          41,
          56,
          67,
          69,
          71,
          47,
          78,
          75,
          81,
          69,
          68,
          66,
          47,
          61,
          88,
          87,
          49,
          91,
          100,
          78,
          74,
          78,
          81,
          70,
          87,
          77,
          100,
          47,
          70,
          65,
          68,
          87,
          69,
          79,
          66,
          62,
          85,
          52,
          86,
          69,
          68,
          42,
          78,
          62,
          76,
          81,
          75,
          56,
          74,
          73,
          75,
          73,
          71,
          54,
          94,
          66,
          42,
          83,
          78,
          84,
          77,
          74,
          51,
          80,
          83,
          55,
          43,
          69,
          71,
          74,
          68,
          62,
          53,
          49,
          70,
          72,
          52,
          70,
          77,
          78,
          78,
          90,
          68,
          81,
          77,
          95,
          61,
          42,
          71,
          76,
          73,
          93,
          75,
          42,
          46,
          46,
          82,
          88,
          82,
          77,
          68,
          70,
          57,
          75,
          43,
          68,
          81,
          64,
          83,
          69,
          81,
          44,
          80,
          57,
          68,
          75,
          65,
          91,
          78,
          69,
          79,
          80,
          94,
          62,
          77,
          51,
          61,
          35,
          53,
          81,
          95,
          69,
          43,
          63,
          74,
          67,
          67,
          75,
          57,
          95,
          76,
          69,
          52,
          80,
          57,
          70,
          70,
          61,
          89,
          59,
          78,
          58,
          58,
          53,
          85,
          71,
          72,
          96,
          73,
          82,
          77,
          62,
          83,
          95,
          75,
          70,
          64,
          75,
          77,
          67,
          56,
          77,
          95,
          57,
          54,
          67,
          43,
          100,
          62,
          68,
          63,
          77,
          85,
          74,
          78,
          60,
          67,
          69,
          68,
          67,
          62,
          64,
          80,
          86,
          70,
          55,
          66,
          64,
          51,
          82,
          79,
          80,
          76,
          77,
          80,
          42,
          72,
          97,
          89,
          100,
          68,
          76,
          62,
          91,
          76,
          90,
          74,
          84,
          61,
          91,
          83,
          66,
          72,
          70,
          67,
          68,
          46,
          54,
          71,
          57,
          70,
          90,
          90,
          68,
          66,
          52,
          68,
          72,
          82,
          92,
          92,
          80,
          66,
          77,
          87,
          73,
          43,
          62,
          85,
          84,
          73,
          78,
          52,
          84,
          57,
          49,
          59,
          70,
          73,
          53,
          58,
          94,
          68,
          58,
          62,
          71,
          86,
          68,
          79,
          89,
          66,
          97,
          64,
          69,
          50,
          40,
          79,
          62,
          79,
          74,
          92,
          45,
          70,
          92,
          56,
          71,
          52,
          89,
          68,
          96,
          80,
          80,
          77,
          76,
          73,
          65,
          65,
          50,
          64,
          73,
          99,
          72,
          48,
          73,
          81,
          63,
          30,
          80,
          62,
          82,
          62,
          65,
          66,
          91,
          74,
          93,
          72,
          38,
          83,
          84,
          86,
          99,
          46,
          55,
          70,
          65,
          81,
          85,
          80,
          64,
          88,
          74,
          73,
          51,
          80,
          60,
          81,
          65,
          55,
          81,
          76,
          98,
          74,
          79,
          67,
          61,
          85,
          63,
          67,
          63,
          61,
          77,
          76,
          84,
          78,
          66,
          76,
          76,
          74,
          60,
          54,
          68,
          100,
          68,
          53,
          73,
          56,
          90,
          70,
          79,
          82,
          72,
          87,
          67,
          36,
          52,
          79,
          90,
          85,
          99,
          84,
          74,
          72,
          99,
          74,
          42,
          41,
          71,
          77,
          57,
          37,
          94,
          44,
          59,
          84,
          73,
          72,
          82,
          72,
          74,
          71,
          68,
          86,
          68,
          65,
          85,
          92,
          52,
          77,
          54,
          86,
          63,
          59,
          72,
          77,
          60,
          75,
          49,
          74,
          60,
          70,
          82,
          82,
          84,
          62,
          79,
          44,
          32,
          60,
          77,
          51,
          70,
          54,
          57,
          68,
          73,
          95,
          87,
          78,
          69,
          51,
          36,
          67,
          76,
          83,
          87,
          64,
          88,
          92,
          58,
          76,
          53,
          58,
          89,
          45,
          74,
          57,
          79,
          73,
          51,
          84,
          85,
          50,
          68,
          69,
          67,
          63,
          93,
          61,
          55,
          96,
          81,
          46,
          53,
          80,
          91,
          88,
          41,
          47,
          76,
          78,
          84,
          54,
          80,
          74,
          66,
          70,
          54,
          80,
          95,
          91,
          85,
          75,
          69,
          63,
          82,
          89,
          74,
          77,
          51,
          91,
          70,
          82,
          66,
          66,
          100,
          52,
          80,
          91,
          66,
          60,
          90,
          53,
          85,
          69,
          96,
          64,
          61,
          58,
          80,
          71,
          83,
          54,
          69,
          62,
          81,
          100,
          59,
          71,
          64,
          100,
          58,
          72,
          64,
          60,
          67,
          80,
          100,
          69,
          67,
          77,
          58,
          48,
          94,
          78,
          86,
          91,
          82,
          54,
          51,
          76,
          78,
          62,
          95,
          77
         ],
         "xaxis": "x",
         "yaxis": "y"
        },
        {
         "alignmentgroup": "True",
         "bingroup": "x",
         "hovertemplate": "lunch=free/reduced<br>writing score=%{x}<br>count=%{y}<extra></extra>",
         "legendgroup": "free/reduced",
         "marker": {
          "color": "#EF553B",
          "pattern": {
           "shape": ""
          }
         },
         "name": "free/reduced",
         "offsetgroup": "free/reduced",
         "orientation": "v",
         "showlegend": true,
         "type": "histogram",
         "x": [
          44,
          39,
          67,
          50,
          28,
          46,
          61,
          70,
          80,
          72,
          65,
          59,
          88,
          57,
          54,
          66,
          54,
          76,
          68,
          87,
          43,
          10,
          72,
          34,
          55,
          37,
          56,
          73,
          48,
          56,
          38,
          45,
          54,
          34,
          88,
          36,
          50,
          82,
          62,
          70,
          98,
          82,
          56,
          40,
          70,
          75,
          64,
          54,
          33,
          66,
          93,
          78,
          60,
          64,
          74,
          85,
          52,
          51,
          78,
          70,
          54,
          58,
          62,
          75,
          66,
          49,
          65,
          45,
          65,
          51,
          55,
          76,
          77,
          76,
          66,
          79,
          27,
          60,
          56,
          88,
          39,
          70,
          62,
          54,
          64,
          67,
          66,
          83,
          68,
          81,
          77,
          51,
          41,
          70,
          58,
          80,
          57,
          84,
          78,
          76,
          80,
          60,
          50,
          75,
          81,
          52,
          67,
          52,
          69,
          63,
          84,
          53,
          43,
          19,
          66,
          27,
          60,
          52,
          66,
          69,
          61,
          32,
          60,
          61,
          58,
          70,
          41,
          100,
          71,
          45,
          43,
          67,
          59,
          41,
          63,
          55,
          56,
          79,
          54,
          93,
          67,
          34,
          62,
          65,
          53,
          54,
          59,
          50,
          53,
          73,
          69,
          73,
          60,
          85,
          74,
          49,
          62,
          47,
          48,
          55,
          45,
          91,
          38,
          65,
          85,
          56,
          61,
          56,
          74,
          82,
          76,
          76,
          54,
          54,
          54,
          52,
          94,
          79,
          50,
          60,
          43,
          47,
          83,
          80,
          80,
          64,
          65,
          88,
          64,
          33,
          66,
          70,
          80,
          46,
          100,
          78,
          47,
          67,
          64,
          53,
          58,
          78,
          62,
          54,
          15,
          51,
          90,
          54,
          63,
          68,
          54,
          56,
          52,
          62,
          63,
          46,
          81,
          90,
          79,
          68,
          53,
          64,
          58,
          73,
          69,
          60,
          71,
          87,
          68,
          50,
          78,
          60,
          44,
          73,
          44,
          83,
          78,
          81,
          86,
          59,
          64,
          65,
          58,
          87,
          80,
          70,
          59,
          88,
          84,
          80,
          43,
          57,
          73,
          55,
          56,
          47,
          59,
          75,
          53,
          72,
          65,
          64,
          57,
          72,
          79,
          55,
          43,
          57,
          82,
          77,
          61,
          61,
          70,
          69,
          73,
          81,
          74,
          75,
          40,
          49,
          76,
          68,
          93,
          51,
          82,
          52,
          70,
          81,
          57,
          89,
          53,
          46,
          36,
          76,
          64,
          65,
          72,
          87,
          38,
          52,
          72,
          51,
          82,
          61,
          66,
          71,
          44,
          59,
          74,
          48,
          73,
          38,
          27,
          79,
          41,
          100,
          84,
          72,
          48,
          66,
          55,
          67,
          46,
          65,
          69,
          52,
          71,
          44,
          51,
          70,
          62,
          73,
          74,
          58,
          57,
          72,
          61,
          60,
          52,
          73,
          72,
          53,
          75,
          60,
          61,
          60,
          23,
          45,
          83,
          75,
          76,
          74,
          55,
          65,
          86
         ],
         "xaxis": "x",
         "yaxis": "y"
        }
       ],
       "layout": {
        "barmode": "relative",
        "legend": {
         "title": {
          "text": "lunch"
         },
         "tracegroupgap": 0
        },
        "margin": {
         "t": 60
        },
        "template": {
         "data": {
          "bar": [
           {
            "error_x": {
             "color": "#2a3f5f"
            },
            "error_y": {
             "color": "#2a3f5f"
            },
            "marker": {
             "line": {
              "color": "#E5ECF6",
              "width": 0.5
             },
             "pattern": {
              "fillmode": "overlay",
              "size": 10,
              "solidity": 0.2
             }
            },
            "type": "bar"
           }
          ],
          "barpolar": [
           {
            "marker": {
             "line": {
              "color": "#E5ECF6",
              "width": 0.5
             },
             "pattern": {
              "fillmode": "overlay",
              "size": 10,
              "solidity": 0.2
             }
            },
            "type": "barpolar"
           }
          ],
          "carpet": [
           {
            "aaxis": {
             "endlinecolor": "#2a3f5f",
             "gridcolor": "white",
             "linecolor": "white",
             "minorgridcolor": "white",
             "startlinecolor": "#2a3f5f"
            },
            "baxis": {
             "endlinecolor": "#2a3f5f",
             "gridcolor": "white",
             "linecolor": "white",
             "minorgridcolor": "white",
             "startlinecolor": "#2a3f5f"
            },
            "type": "carpet"
           }
          ],
          "choropleth": [
           {
            "colorbar": {
             "outlinewidth": 0,
             "ticks": ""
            },
            "type": "choropleth"
           }
          ],
          "contour": [
           {
            "colorbar": {
             "outlinewidth": 0,
             "ticks": ""
            },
            "colorscale": [
             [
              0,
              "#0d0887"
             ],
             [
              0.1111111111111111,
              "#46039f"
             ],
             [
              0.2222222222222222,
              "#7201a8"
             ],
             [
              0.3333333333333333,
              "#9c179e"
             ],
             [
              0.4444444444444444,
              "#bd3786"
             ],
             [
              0.5555555555555556,
              "#d8576b"
             ],
             [
              0.6666666666666666,
              "#ed7953"
             ],
             [
              0.7777777777777778,
              "#fb9f3a"
             ],
             [
              0.8888888888888888,
              "#fdca26"
             ],
             [
              1,
              "#f0f921"
             ]
            ],
            "type": "contour"
           }
          ],
          "contourcarpet": [
           {
            "colorbar": {
             "outlinewidth": 0,
             "ticks": ""
            },
            "type": "contourcarpet"
           }
          ],
          "heatmap": [
           {
            "colorbar": {
             "outlinewidth": 0,
             "ticks": ""
            },
            "colorscale": [
             [
              0,
              "#0d0887"
             ],
             [
              0.1111111111111111,
              "#46039f"
             ],
             [
              0.2222222222222222,
              "#7201a8"
             ],
             [
              0.3333333333333333,
              "#9c179e"
             ],
             [
              0.4444444444444444,
              "#bd3786"
             ],
             [
              0.5555555555555556,
              "#d8576b"
             ],
             [
              0.6666666666666666,
              "#ed7953"
             ],
             [
              0.7777777777777778,
              "#fb9f3a"
             ],
             [
              0.8888888888888888,
              "#fdca26"
             ],
             [
              1,
              "#f0f921"
             ]
            ],
            "type": "heatmap"
           }
          ],
          "heatmapgl": [
           {
            "colorbar": {
             "outlinewidth": 0,
             "ticks": ""
            },
            "colorscale": [
             [
              0,
              "#0d0887"
             ],
             [
              0.1111111111111111,
              "#46039f"
             ],
             [
              0.2222222222222222,
              "#7201a8"
             ],
             [
              0.3333333333333333,
              "#9c179e"
             ],
             [
              0.4444444444444444,
              "#bd3786"
             ],
             [
              0.5555555555555556,
              "#d8576b"
             ],
             [
              0.6666666666666666,
              "#ed7953"
             ],
             [
              0.7777777777777778,
              "#fb9f3a"
             ],
             [
              0.8888888888888888,
              "#fdca26"
             ],
             [
              1,
              "#f0f921"
             ]
            ],
            "type": "heatmapgl"
           }
          ],
          "histogram": [
           {
            "marker": {
             "pattern": {
              "fillmode": "overlay",
              "size": 10,
              "solidity": 0.2
             }
            },
            "type": "histogram"
           }
          ],
          "histogram2d": [
           {
            "colorbar": {
             "outlinewidth": 0,
             "ticks": ""
            },
            "colorscale": [
             [
              0,
              "#0d0887"
             ],
             [
              0.1111111111111111,
              "#46039f"
             ],
             [
              0.2222222222222222,
              "#7201a8"
             ],
             [
              0.3333333333333333,
              "#9c179e"
             ],
             [
              0.4444444444444444,
              "#bd3786"
             ],
             [
              0.5555555555555556,
              "#d8576b"
             ],
             [
              0.6666666666666666,
              "#ed7953"
             ],
             [
              0.7777777777777778,
              "#fb9f3a"
             ],
             [
              0.8888888888888888,
              "#fdca26"
             ],
             [
              1,
              "#f0f921"
             ]
            ],
            "type": "histogram2d"
           }
          ],
          "histogram2dcontour": [
           {
            "colorbar": {
             "outlinewidth": 0,
             "ticks": ""
            },
            "colorscale": [
             [
              0,
              "#0d0887"
             ],
             [
              0.1111111111111111,
              "#46039f"
             ],
             [
              0.2222222222222222,
              "#7201a8"
             ],
             [
              0.3333333333333333,
              "#9c179e"
             ],
             [
              0.4444444444444444,
              "#bd3786"
             ],
             [
              0.5555555555555556,
              "#d8576b"
             ],
             [
              0.6666666666666666,
              "#ed7953"
             ],
             [
              0.7777777777777778,
              "#fb9f3a"
             ],
             [
              0.8888888888888888,
              "#fdca26"
             ],
             [
              1,
              "#f0f921"
             ]
            ],
            "type": "histogram2dcontour"
           }
          ],
          "mesh3d": [
           {
            "colorbar": {
             "outlinewidth": 0,
             "ticks": ""
            },
            "type": "mesh3d"
           }
          ],
          "parcoords": [
           {
            "line": {
             "colorbar": {
              "outlinewidth": 0,
              "ticks": ""
             }
            },
            "type": "parcoords"
           }
          ],
          "pie": [
           {
            "automargin": true,
            "type": "pie"
           }
          ],
          "scatter": [
           {
            "fillpattern": {
             "fillmode": "overlay",
             "size": 10,
             "solidity": 0.2
            },
            "type": "scatter"
           }
          ],
          "scatter3d": [
           {
            "line": {
             "colorbar": {
              "outlinewidth": 0,
              "ticks": ""
             }
            },
            "marker": {
             "colorbar": {
              "outlinewidth": 0,
              "ticks": ""
             }
            },
            "type": "scatter3d"
           }
          ],
          "scattercarpet": [
           {
            "marker": {
             "colorbar": {
              "outlinewidth": 0,
              "ticks": ""
             }
            },
            "type": "scattercarpet"
           }
          ],
          "scattergeo": [
           {
            "marker": {
             "colorbar": {
              "outlinewidth": 0,
              "ticks": ""
             }
            },
            "type": "scattergeo"
           }
          ],
          "scattergl": [
           {
            "marker": {
             "colorbar": {
              "outlinewidth": 0,
              "ticks": ""
             }
            },
            "type": "scattergl"
           }
          ],
          "scattermapbox": [
           {
            "marker": {
             "colorbar": {
              "outlinewidth": 0,
              "ticks": ""
             }
            },
            "type": "scattermapbox"
           }
          ],
          "scatterpolar": [
           {
            "marker": {
             "colorbar": {
              "outlinewidth": 0,
              "ticks": ""
             }
            },
            "type": "scatterpolar"
           }
          ],
          "scatterpolargl": [
           {
            "marker": {
             "colorbar": {
              "outlinewidth": 0,
              "ticks": ""
             }
            },
            "type": "scatterpolargl"
           }
          ],
          "scatterternary": [
           {
            "marker": {
             "colorbar": {
              "outlinewidth": 0,
              "ticks": ""
             }
            },
            "type": "scatterternary"
           }
          ],
          "surface": [
           {
            "colorbar": {
             "outlinewidth": 0,
             "ticks": ""
            },
            "colorscale": [
             [
              0,
              "#0d0887"
             ],
             [
              0.1111111111111111,
              "#46039f"
             ],
             [
              0.2222222222222222,
              "#7201a8"
             ],
             [
              0.3333333333333333,
              "#9c179e"
             ],
             [
              0.4444444444444444,
              "#bd3786"
             ],
             [
              0.5555555555555556,
              "#d8576b"
             ],
             [
              0.6666666666666666,
              "#ed7953"
             ],
             [
              0.7777777777777778,
              "#fb9f3a"
             ],
             [
              0.8888888888888888,
              "#fdca26"
             ],
             [
              1,
              "#f0f921"
             ]
            ],
            "type": "surface"
           }
          ],
          "table": [
           {
            "cells": {
             "fill": {
              "color": "#EBF0F8"
             },
             "line": {
              "color": "white"
             }
            },
            "header": {
             "fill": {
              "color": "#C8D4E3"
             },
             "line": {
              "color": "white"
             }
            },
            "type": "table"
           }
          ]
         },
         "layout": {
          "annotationdefaults": {
           "arrowcolor": "#2a3f5f",
           "arrowhead": 0,
           "arrowwidth": 1
          },
          "autotypenumbers": "strict",
          "coloraxis": {
           "colorbar": {
            "outlinewidth": 0,
            "ticks": ""
           }
          },
          "colorscale": {
           "diverging": [
            [
             0,
             "#8e0152"
            ],
            [
             0.1,
             "#c51b7d"
            ],
            [
             0.2,
             "#de77ae"
            ],
            [
             0.3,
             "#f1b6da"
            ],
            [
             0.4,
             "#fde0ef"
            ],
            [
             0.5,
             "#f7f7f7"
            ],
            [
             0.6,
             "#e6f5d0"
            ],
            [
             0.7,
             "#b8e186"
            ],
            [
             0.8,
             "#7fbc41"
            ],
            [
             0.9,
             "#4d9221"
            ],
            [
             1,
             "#276419"
            ]
           ],
           "sequential": [
            [
             0,
             "#0d0887"
            ],
            [
             0.1111111111111111,
             "#46039f"
            ],
            [
             0.2222222222222222,
             "#7201a8"
            ],
            [
             0.3333333333333333,
             "#9c179e"
            ],
            [
             0.4444444444444444,
             "#bd3786"
            ],
            [
             0.5555555555555556,
             "#d8576b"
            ],
            [
             0.6666666666666666,
             "#ed7953"
            ],
            [
             0.7777777777777778,
             "#fb9f3a"
            ],
            [
             0.8888888888888888,
             "#fdca26"
            ],
            [
             1,
             "#f0f921"
            ]
           ],
           "sequentialminus": [
            [
             0,
             "#0d0887"
            ],
            [
             0.1111111111111111,
             "#46039f"
            ],
            [
             0.2222222222222222,
             "#7201a8"
            ],
            [
             0.3333333333333333,
             "#9c179e"
            ],
            [
             0.4444444444444444,
             "#bd3786"
            ],
            [
             0.5555555555555556,
             "#d8576b"
            ],
            [
             0.6666666666666666,
             "#ed7953"
            ],
            [
             0.7777777777777778,
             "#fb9f3a"
            ],
            [
             0.8888888888888888,
             "#fdca26"
            ],
            [
             1,
             "#f0f921"
            ]
           ]
          },
          "colorway": [
           "#636efa",
           "#EF553B",
           "#00cc96",
           "#ab63fa",
           "#FFA15A",
           "#19d3f3",
           "#FF6692",
           "#B6E880",
           "#FF97FF",
           "#FECB52"
          ],
          "font": {
           "color": "#2a3f5f"
          },
          "geo": {
           "bgcolor": "white",
           "lakecolor": "white",
           "landcolor": "#E5ECF6",
           "showlakes": true,
           "showland": true,
           "subunitcolor": "white"
          },
          "hoverlabel": {
           "align": "left"
          },
          "hovermode": "closest",
          "mapbox": {
           "style": "light"
          },
          "paper_bgcolor": "white",
          "plot_bgcolor": "#E5ECF6",
          "polar": {
           "angularaxis": {
            "gridcolor": "white",
            "linecolor": "white",
            "ticks": ""
           },
           "bgcolor": "#E5ECF6",
           "radialaxis": {
            "gridcolor": "white",
            "linecolor": "white",
            "ticks": ""
           }
          },
          "scene": {
           "xaxis": {
            "backgroundcolor": "#E5ECF6",
            "gridcolor": "white",
            "gridwidth": 2,
            "linecolor": "white",
            "showbackground": true,
            "ticks": "",
            "zerolinecolor": "white"
           },
           "yaxis": {
            "backgroundcolor": "#E5ECF6",
            "gridcolor": "white",
            "gridwidth": 2,
            "linecolor": "white",
            "showbackground": true,
            "ticks": "",
            "zerolinecolor": "white"
           },
           "zaxis": {
            "backgroundcolor": "#E5ECF6",
            "gridcolor": "white",
            "gridwidth": 2,
            "linecolor": "white",
            "showbackground": true,
            "ticks": "",
            "zerolinecolor": "white"
           }
          },
          "shapedefaults": {
           "line": {
            "color": "#2a3f5f"
           }
          },
          "ternary": {
           "aaxis": {
            "gridcolor": "white",
            "linecolor": "white",
            "ticks": ""
           },
           "baxis": {
            "gridcolor": "white",
            "linecolor": "white",
            "ticks": ""
           },
           "bgcolor": "#E5ECF6",
           "caxis": {
            "gridcolor": "white",
            "linecolor": "white",
            "ticks": ""
           }
          },
          "title": {
           "x": 0.05
          },
          "xaxis": {
           "automargin": true,
           "gridcolor": "white",
           "linecolor": "white",
           "ticks": "",
           "title": {
            "standoff": 15
           },
           "zerolinecolor": "white",
           "zerolinewidth": 2
          },
          "yaxis": {
           "automargin": true,
           "gridcolor": "white",
           "linecolor": "white",
           "ticks": "",
           "title": {
            "standoff": 15
           },
           "zerolinecolor": "white",
           "zerolinewidth": 2
          }
         }
        },
        "xaxis": {
         "anchor": "y",
         "domain": [
          0,
          1
         ],
         "title": {
          "text": "writing score"
         }
        },
        "yaxis": {
         "anchor": "x",
         "domain": [
          0,
          1
         ],
         "title": {
          "text": "count"
         }
        }
       }
      },
      "text/html": [
       "<div>                            <div id=\"044c3a45-5f77-4aea-8889-cfc07ef6ab55\" class=\"plotly-graph-div\" style=\"height:525px; width:100%;\"></div>            <script type=\"text/javascript\">                require([\"plotly\"], function(Plotly) {                    window.PLOTLYENV=window.PLOTLYENV || {};                                    if (document.getElementById(\"044c3a45-5f77-4aea-8889-cfc07ef6ab55\")) {                    Plotly.newPlot(                        \"044c3a45-5f77-4aea-8889-cfc07ef6ab55\",                        [{\"alignmentgroup\":\"True\",\"bingroup\":\"x\",\"hovertemplate\":\"lunch=standard<br>writing score=%{x}<br>count=%{y}<extra></extra>\",\"legendgroup\":\"standard\",\"marker\":{\"color\":\"#636efa\",\"pattern\":{\"shape\":\"\"}},\"name\":\"standard\",\"offsetgroup\":\"standard\",\"orientation\":\"v\",\"showlegend\":true,\"x\":[74,88,93,75,78,92,52,43,73,70,58,78,86,63,53,73,55,75,65,75,74,61,38,82,79,83,68,65,57,62,76,82,48,42,75,86,49,58,71,59,61,74,57,63,41,22,81,72,68,50,63,82,74,67,82,74,71,92,62,70,62,67,74,89,47,90,72,100,64,72,49,47,54,100,74,79,61,65,89,92,93,73,86,67,74,74,51,82,84,48,41,56,67,69,71,47,78,75,81,69,68,66,47,61,88,87,49,91,100,78,74,78,81,70,87,77,100,47,70,65,68,87,69,79,66,62,85,52,86,69,68,42,78,62,76,81,75,56,74,73,75,73,71,54,94,66,42,83,78,84,77,74,51,80,83,55,43,69,71,74,68,62,53,49,70,72,52,70,77,78,78,90,68,81,77,95,61,42,71,76,73,93,75,42,46,46,82,88,82,77,68,70,57,75,43,68,81,64,83,69,81,44,80,57,68,75,65,91,78,69,79,80,94,62,77,51,61,35,53,81,95,69,43,63,74,67,67,75,57,95,76,69,52,80,57,70,70,61,89,59,78,58,58,53,85,71,72,96,73,82,77,62,83,95,75,70,64,75,77,67,56,77,95,57,54,67,43,100,62,68,63,77,85,74,78,60,67,69,68,67,62,64,80,86,70,55,66,64,51,82,79,80,76,77,80,42,72,97,89,100,68,76,62,91,76,90,74,84,61,91,83,66,72,70,67,68,46,54,71,57,70,90,90,68,66,52,68,72,82,92,92,80,66,77,87,73,43,62,85,84,73,78,52,84,57,49,59,70,73,53,58,94,68,58,62,71,86,68,79,89,66,97,64,69,50,40,79,62,79,74,92,45,70,92,56,71,52,89,68,96,80,80,77,76,73,65,65,50,64,73,99,72,48,73,81,63,30,80,62,82,62,65,66,91,74,93,72,38,83,84,86,99,46,55,70,65,81,85,80,64,88,74,73,51,80,60,81,65,55,81,76,98,74,79,67,61,85,63,67,63,61,77,76,84,78,66,76,76,74,60,54,68,100,68,53,73,56,90,70,79,82,72,87,67,36,52,79,90,85,99,84,74,72,99,74,42,41,71,77,57,37,94,44,59,84,73,72,82,72,74,71,68,86,68,65,85,92,52,77,54,86,63,59,72,77,60,75,49,74,60,70,82,82,84,62,79,44,32,60,77,51,70,54,57,68,73,95,87,78,69,51,36,67,76,83,87,64,88,92,58,76,53,58,89,45,74,57,79,73,51,84,85,50,68,69,67,63,93,61,55,96,81,46,53,80,91,88,41,47,76,78,84,54,80,74,66,70,54,80,95,91,85,75,69,63,82,89,74,77,51,91,70,82,66,66,100,52,80,91,66,60,90,53,85,69,96,64,61,58,80,71,83,54,69,62,81,100,59,71,64,100,58,72,64,60,67,80,100,69,67,77,58,48,94,78,86,91,82,54,51,76,78,62,95,77],\"xaxis\":\"x\",\"yaxis\":\"y\",\"type\":\"histogram\"},{\"alignmentgroup\":\"True\",\"bingroup\":\"x\",\"hovertemplate\":\"lunch=free/reduced<br>writing score=%{x}<br>count=%{y}<extra></extra>\",\"legendgroup\":\"free/reduced\",\"marker\":{\"color\":\"#EF553B\",\"pattern\":{\"shape\":\"\"}},\"name\":\"free/reduced\",\"offsetgroup\":\"free/reduced\",\"orientation\":\"v\",\"showlegend\":true,\"x\":[44,39,67,50,28,46,61,70,80,72,65,59,88,57,54,66,54,76,68,87,43,10,72,34,55,37,56,73,48,56,38,45,54,34,88,36,50,82,62,70,98,82,56,40,70,75,64,54,33,66,93,78,60,64,74,85,52,51,78,70,54,58,62,75,66,49,65,45,65,51,55,76,77,76,66,79,27,60,56,88,39,70,62,54,64,67,66,83,68,81,77,51,41,70,58,80,57,84,78,76,80,60,50,75,81,52,67,52,69,63,84,53,43,19,66,27,60,52,66,69,61,32,60,61,58,70,41,100,71,45,43,67,59,41,63,55,56,79,54,93,67,34,62,65,53,54,59,50,53,73,69,73,60,85,74,49,62,47,48,55,45,91,38,65,85,56,61,56,74,82,76,76,54,54,54,52,94,79,50,60,43,47,83,80,80,64,65,88,64,33,66,70,80,46,100,78,47,67,64,53,58,78,62,54,15,51,90,54,63,68,54,56,52,62,63,46,81,90,79,68,53,64,58,73,69,60,71,87,68,50,78,60,44,73,44,83,78,81,86,59,64,65,58,87,80,70,59,88,84,80,43,57,73,55,56,47,59,75,53,72,65,64,57,72,79,55,43,57,82,77,61,61,70,69,73,81,74,75,40,49,76,68,93,51,82,52,70,81,57,89,53,46,36,76,64,65,72,87,38,52,72,51,82,61,66,71,44,59,74,48,73,38,27,79,41,100,84,72,48,66,55,67,46,65,69,52,71,44,51,70,62,73,74,58,57,72,61,60,52,73,72,53,75,60,61,60,23,45,83,75,76,74,55,65,86],\"xaxis\":\"x\",\"yaxis\":\"y\",\"type\":\"histogram\"}],                        {\"template\":{\"data\":{\"histogram2dcontour\":[{\"type\":\"histogram2dcontour\",\"colorbar\":{\"outlinewidth\":0,\"ticks\":\"\"},\"colorscale\":[[0.0,\"#0d0887\"],[0.1111111111111111,\"#46039f\"],[0.2222222222222222,\"#7201a8\"],[0.3333333333333333,\"#9c179e\"],[0.4444444444444444,\"#bd3786\"],[0.5555555555555556,\"#d8576b\"],[0.6666666666666666,\"#ed7953\"],[0.7777777777777778,\"#fb9f3a\"],[0.8888888888888888,\"#fdca26\"],[1.0,\"#f0f921\"]]}],\"choropleth\":[{\"type\":\"choropleth\",\"colorbar\":{\"outlinewidth\":0,\"ticks\":\"\"}}],\"histogram2d\":[{\"type\":\"histogram2d\",\"colorbar\":{\"outlinewidth\":0,\"ticks\":\"\"},\"colorscale\":[[0.0,\"#0d0887\"],[0.1111111111111111,\"#46039f\"],[0.2222222222222222,\"#7201a8\"],[0.3333333333333333,\"#9c179e\"],[0.4444444444444444,\"#bd3786\"],[0.5555555555555556,\"#d8576b\"],[0.6666666666666666,\"#ed7953\"],[0.7777777777777778,\"#fb9f3a\"],[0.8888888888888888,\"#fdca26\"],[1.0,\"#f0f921\"]]}],\"heatmap\":[{\"type\":\"heatmap\",\"colorbar\":{\"outlinewidth\":0,\"ticks\":\"\"},\"colorscale\":[[0.0,\"#0d0887\"],[0.1111111111111111,\"#46039f\"],[0.2222222222222222,\"#7201a8\"],[0.3333333333333333,\"#9c179e\"],[0.4444444444444444,\"#bd3786\"],[0.5555555555555556,\"#d8576b\"],[0.6666666666666666,\"#ed7953\"],[0.7777777777777778,\"#fb9f3a\"],[0.8888888888888888,\"#fdca26\"],[1.0,\"#f0f921\"]]}],\"heatmapgl\":[{\"type\":\"heatmapgl\",\"colorbar\":{\"outlinewidth\":0,\"ticks\":\"\"},\"colorscale\":[[0.0,\"#0d0887\"],[0.1111111111111111,\"#46039f\"],[0.2222222222222222,\"#7201a8\"],[0.3333333333333333,\"#9c179e\"],[0.4444444444444444,\"#bd3786\"],[0.5555555555555556,\"#d8576b\"],[0.6666666666666666,\"#ed7953\"],[0.7777777777777778,\"#fb9f3a\"],[0.8888888888888888,\"#fdca26\"],[1.0,\"#f0f921\"]]}],\"contourcarpet\":[{\"type\":\"contourcarpet\",\"colorbar\":{\"outlinewidth\":0,\"ticks\":\"\"}}],\"contour\":[{\"type\":\"contour\",\"colorbar\":{\"outlinewidth\":0,\"ticks\":\"\"},\"colorscale\":[[0.0,\"#0d0887\"],[0.1111111111111111,\"#46039f\"],[0.2222222222222222,\"#7201a8\"],[0.3333333333333333,\"#9c179e\"],[0.4444444444444444,\"#bd3786\"],[0.5555555555555556,\"#d8576b\"],[0.6666666666666666,\"#ed7953\"],[0.7777777777777778,\"#fb9f3a\"],[0.8888888888888888,\"#fdca26\"],[1.0,\"#f0f921\"]]}],\"surface\":[{\"type\":\"surface\",\"colorbar\":{\"outlinewidth\":0,\"ticks\":\"\"},\"colorscale\":[[0.0,\"#0d0887\"],[0.1111111111111111,\"#46039f\"],[0.2222222222222222,\"#7201a8\"],[0.3333333333333333,\"#9c179e\"],[0.4444444444444444,\"#bd3786\"],[0.5555555555555556,\"#d8576b\"],[0.6666666666666666,\"#ed7953\"],[0.7777777777777778,\"#fb9f3a\"],[0.8888888888888888,\"#fdca26\"],[1.0,\"#f0f921\"]]}],\"mesh3d\":[{\"type\":\"mesh3d\",\"colorbar\":{\"outlinewidth\":0,\"ticks\":\"\"}}],\"scatter\":[{\"fillpattern\":{\"fillmode\":\"overlay\",\"size\":10,\"solidity\":0.2},\"type\":\"scatter\"}],\"parcoords\":[{\"type\":\"parcoords\",\"line\":{\"colorbar\":{\"outlinewidth\":0,\"ticks\":\"\"}}}],\"scatterpolargl\":[{\"type\":\"scatterpolargl\",\"marker\":{\"colorbar\":{\"outlinewidth\":0,\"ticks\":\"\"}}}],\"bar\":[{\"error_x\":{\"color\":\"#2a3f5f\"},\"error_y\":{\"color\":\"#2a3f5f\"},\"marker\":{\"line\":{\"color\":\"#E5ECF6\",\"width\":0.5},\"pattern\":{\"fillmode\":\"overlay\",\"size\":10,\"solidity\":0.2}},\"type\":\"bar\"}],\"scattergeo\":[{\"type\":\"scattergeo\",\"marker\":{\"colorbar\":{\"outlinewidth\":0,\"ticks\":\"\"}}}],\"scatterpolar\":[{\"type\":\"scatterpolar\",\"marker\":{\"colorbar\":{\"outlinewidth\":0,\"ticks\":\"\"}}}],\"histogram\":[{\"marker\":{\"pattern\":{\"fillmode\":\"overlay\",\"size\":10,\"solidity\":0.2}},\"type\":\"histogram\"}],\"scattergl\":[{\"type\":\"scattergl\",\"marker\":{\"colorbar\":{\"outlinewidth\":0,\"ticks\":\"\"}}}],\"scatter3d\":[{\"type\":\"scatter3d\",\"line\":{\"colorbar\":{\"outlinewidth\":0,\"ticks\":\"\"}},\"marker\":{\"colorbar\":{\"outlinewidth\":0,\"ticks\":\"\"}}}],\"scattermapbox\":[{\"type\":\"scattermapbox\",\"marker\":{\"colorbar\":{\"outlinewidth\":0,\"ticks\":\"\"}}}],\"scatterternary\":[{\"type\":\"scatterternary\",\"marker\":{\"colorbar\":{\"outlinewidth\":0,\"ticks\":\"\"}}}],\"scattercarpet\":[{\"type\":\"scattercarpet\",\"marker\":{\"colorbar\":{\"outlinewidth\":0,\"ticks\":\"\"}}}],\"carpet\":[{\"aaxis\":{\"endlinecolor\":\"#2a3f5f\",\"gridcolor\":\"white\",\"linecolor\":\"white\",\"minorgridcolor\":\"white\",\"startlinecolor\":\"#2a3f5f\"},\"baxis\":{\"endlinecolor\":\"#2a3f5f\",\"gridcolor\":\"white\",\"linecolor\":\"white\",\"minorgridcolor\":\"white\",\"startlinecolor\":\"#2a3f5f\"},\"type\":\"carpet\"}],\"table\":[{\"cells\":{\"fill\":{\"color\":\"#EBF0F8\"},\"line\":{\"color\":\"white\"}},\"header\":{\"fill\":{\"color\":\"#C8D4E3\"},\"line\":{\"color\":\"white\"}},\"type\":\"table\"}],\"barpolar\":[{\"marker\":{\"line\":{\"color\":\"#E5ECF6\",\"width\":0.5},\"pattern\":{\"fillmode\":\"overlay\",\"size\":10,\"solidity\":0.2}},\"type\":\"barpolar\"}],\"pie\":[{\"automargin\":true,\"type\":\"pie\"}]},\"layout\":{\"autotypenumbers\":\"strict\",\"colorway\":[\"#636efa\",\"#EF553B\",\"#00cc96\",\"#ab63fa\",\"#FFA15A\",\"#19d3f3\",\"#FF6692\",\"#B6E880\",\"#FF97FF\",\"#FECB52\"],\"font\":{\"color\":\"#2a3f5f\"},\"hovermode\":\"closest\",\"hoverlabel\":{\"align\":\"left\"},\"paper_bgcolor\":\"white\",\"plot_bgcolor\":\"#E5ECF6\",\"polar\":{\"bgcolor\":\"#E5ECF6\",\"angularaxis\":{\"gridcolor\":\"white\",\"linecolor\":\"white\",\"ticks\":\"\"},\"radialaxis\":{\"gridcolor\":\"white\",\"linecolor\":\"white\",\"ticks\":\"\"}},\"ternary\":{\"bgcolor\":\"#E5ECF6\",\"aaxis\":{\"gridcolor\":\"white\",\"linecolor\":\"white\",\"ticks\":\"\"},\"baxis\":{\"gridcolor\":\"white\",\"linecolor\":\"white\",\"ticks\":\"\"},\"caxis\":{\"gridcolor\":\"white\",\"linecolor\":\"white\",\"ticks\":\"\"}},\"coloraxis\":{\"colorbar\":{\"outlinewidth\":0,\"ticks\":\"\"}},\"colorscale\":{\"sequential\":[[0.0,\"#0d0887\"],[0.1111111111111111,\"#46039f\"],[0.2222222222222222,\"#7201a8\"],[0.3333333333333333,\"#9c179e\"],[0.4444444444444444,\"#bd3786\"],[0.5555555555555556,\"#d8576b\"],[0.6666666666666666,\"#ed7953\"],[0.7777777777777778,\"#fb9f3a\"],[0.8888888888888888,\"#fdca26\"],[1.0,\"#f0f921\"]],\"sequentialminus\":[[0.0,\"#0d0887\"],[0.1111111111111111,\"#46039f\"],[0.2222222222222222,\"#7201a8\"],[0.3333333333333333,\"#9c179e\"],[0.4444444444444444,\"#bd3786\"],[0.5555555555555556,\"#d8576b\"],[0.6666666666666666,\"#ed7953\"],[0.7777777777777778,\"#fb9f3a\"],[0.8888888888888888,\"#fdca26\"],[1.0,\"#f0f921\"]],\"diverging\":[[0,\"#8e0152\"],[0.1,\"#c51b7d\"],[0.2,\"#de77ae\"],[0.3,\"#f1b6da\"],[0.4,\"#fde0ef\"],[0.5,\"#f7f7f7\"],[0.6,\"#e6f5d0\"],[0.7,\"#b8e186\"],[0.8,\"#7fbc41\"],[0.9,\"#4d9221\"],[1,\"#276419\"]]},\"xaxis\":{\"gridcolor\":\"white\",\"linecolor\":\"white\",\"ticks\":\"\",\"title\":{\"standoff\":15},\"zerolinecolor\":\"white\",\"automargin\":true,\"zerolinewidth\":2},\"yaxis\":{\"gridcolor\":\"white\",\"linecolor\":\"white\",\"ticks\":\"\",\"title\":{\"standoff\":15},\"zerolinecolor\":\"white\",\"automargin\":true,\"zerolinewidth\":2},\"scene\":{\"xaxis\":{\"backgroundcolor\":\"#E5ECF6\",\"gridcolor\":\"white\",\"linecolor\":\"white\",\"showbackground\":true,\"ticks\":\"\",\"zerolinecolor\":\"white\",\"gridwidth\":2},\"yaxis\":{\"backgroundcolor\":\"#E5ECF6\",\"gridcolor\":\"white\",\"linecolor\":\"white\",\"showbackground\":true,\"ticks\":\"\",\"zerolinecolor\":\"white\",\"gridwidth\":2},\"zaxis\":{\"backgroundcolor\":\"#E5ECF6\",\"gridcolor\":\"white\",\"linecolor\":\"white\",\"showbackground\":true,\"ticks\":\"\",\"zerolinecolor\":\"white\",\"gridwidth\":2}},\"shapedefaults\":{\"line\":{\"color\":\"#2a3f5f\"}},\"annotationdefaults\":{\"arrowcolor\":\"#2a3f5f\",\"arrowhead\":0,\"arrowwidth\":1},\"geo\":{\"bgcolor\":\"white\",\"landcolor\":\"#E5ECF6\",\"subunitcolor\":\"white\",\"showland\":true,\"showlakes\":true,\"lakecolor\":\"white\"},\"title\":{\"x\":0.05},\"mapbox\":{\"style\":\"light\"}}},\"xaxis\":{\"anchor\":\"y\",\"domain\":[0.0,1.0],\"title\":{\"text\":\"writing score\"}},\"yaxis\":{\"anchor\":\"x\",\"domain\":[0.0,1.0],\"title\":{\"text\":\"count\"}},\"legend\":{\"title\":{\"text\":\"lunch\"},\"tracegroupgap\":0},\"margin\":{\"t\":60},\"barmode\":\"relative\"},                        {\"responsive\": true}                    ).then(function(){\n",
       "                            \n",
       "var gd = document.getElementById('044c3a45-5f77-4aea-8889-cfc07ef6ab55');\n",
       "var x = new MutationObserver(function (mutations, observer) {{\n",
       "        var display = window.getComputedStyle(gd).display;\n",
       "        if (!display || display === 'none') {{\n",
       "            console.log([gd, 'removed!']);\n",
       "            Plotly.purge(gd);\n",
       "            observer.disconnect();\n",
       "        }}\n",
       "}});\n",
       "\n",
       "// Listen for the removal of the full notebook cells\n",
       "var notebookContainer = gd.closest('#notebook-container');\n",
       "if (notebookContainer) {{\n",
       "    x.observe(notebookContainer, {childList: true});\n",
       "}}\n",
       "\n",
       "// Listen for the clearing of the current output cell\n",
       "var outputEl = gd.closest('.output');\n",
       "if (outputEl) {{\n",
       "    x.observe(outputEl, {childList: true});\n",
       "}}\n",
       "\n",
       "                        })                };                });            </script>        </div>"
      ]
     },
     "metadata": {},
     "output_type": "display_data"
    }
   ],
   "source": [
    "for coluna in table[[\"lunch\", \"math score\", \"reading score\", \"writing score\"]]:\n",
    "    if coluna != \"lunch\":\n",
    "        fig = px.histogram(table[[\"lunch\", \"math score\", \"reading score\", \"writing score\"]], x=coluna, color=\"lunch\")\n",
    "        fig.show()"
   ]
  },
  {
   "cell_type": "markdown",
   "metadata": {},
   "source": [
    "## 📑 Test Preparation Course X Scores\n",
    "\n",
    "Even being the minority:\n",
    "\n",
    "> Those who completed the a test preparation course scored highter\n",
    "\n",
    "&nbsp;\n",
    "\n",
    "> Even though those who did not take the course still scored above 80\n",
    "\n",
    "&nbsp;\n",
    "\n",
    "The ones that have taken the course did not scored so low, but having the course does not pass me the influence to be a primary factor to get a score above 80"
   ]
  },
  {
   "cell_type": "code",
   "execution_count": 25,
   "metadata": {},
   "outputs": [
    {
     "data": {
      "application/vnd.plotly.v1+json": {
       "config": {
        "plotlyServerURL": "https://plot.ly"
       },
       "data": [
        {
         "alignmentgroup": "True",
         "bingroup": "x",
         "hovertemplate": "test preparation course=none<br>math score=%{x}<br>count=%{y}<extra></extra>",
         "legendgroup": "none",
         "marker": {
          "color": "#636efa",
          "pattern": {
           "shape": ""
          }
         },
         "name": "none",
         "offsetgroup": "none",
         "orientation": "v",
         "showlegend": true,
         "type": "histogram",
         "x": [
          72,
          90,
          47,
          76,
          71,
          40,
          38,
          58,
          40,
          65,
          50,
          69,
          88,
          18,
          54,
          66,
          44,
          69,
          73,
          69,
          67,
          70,
          62,
          69,
          63,
          56,
          40,
          97,
          74,
          50,
          57,
          55,
          58,
          53,
          50,
          65,
          66,
          53,
          53,
          88,
          33,
          52,
          0,
          39,
          62,
          69,
          59,
          67,
          45,
          60,
          61,
          39,
          41,
          61,
          49,
          44,
          30,
          62,
          47,
          49,
          72,
          42,
          73,
          76,
          71,
          58,
          73,
          65,
          27,
          71,
          79,
          58,
          65,
          79,
          85,
          58,
          87,
          52,
          70,
          62,
          54,
          51,
          84,
          75,
          78,
          51,
          55,
          63,
          83,
          87,
          72,
          82,
          51,
          89,
          58,
          70,
          59,
          76,
          59,
          57,
          88,
          22,
          88,
          73,
          77,
          54,
          62,
          60,
          66,
          49,
          52,
          81,
          94,
          79,
          63,
          46,
          50,
          65,
          80,
          48,
          77,
          66,
          62,
          61,
          55,
          45,
          78,
          65,
          69,
          57,
          59,
          82,
          74,
          58,
          35,
          42,
          34,
          66,
          87,
          55,
          86,
          45,
          72,
          57,
          68,
          76,
          46,
          67,
          92,
          80,
          63,
          54,
          84,
          80,
          56,
          59,
          75,
          85,
          89,
          65,
          68,
          71,
          80,
          54,
          62,
          64,
          70,
          44,
          99,
          76,
          59,
          63,
          69,
          71,
          69,
          58,
          47,
          65,
          83,
          65,
          73,
          53,
          45,
          73,
          37,
          67,
          88,
          76,
          86,
          65,
          67,
          90,
          56,
          80,
          69,
          51,
          53,
          49,
          73,
          66,
          71,
          83,
          63,
          56,
          75,
          71,
          43,
          41,
          82,
          61,
          28,
          41,
          71,
          47,
          90,
          83,
          61,
          49,
          24,
          58,
          61,
          79,
          72,
          62,
          75,
          87,
          52,
          66,
          46,
          59,
          61,
          63,
          59,
          80,
          58,
          52,
          27,
          59,
          61,
          44,
          73,
          84,
          74,
          59,
          46,
          80,
          71,
          66,
          80,
          79,
          38,
          38,
          67,
          64,
          57,
          62,
          73,
          77,
          76,
          48,
          50,
          85,
          74,
          60,
          53,
          49,
          54,
          63,
          82,
          71,
          84,
          74,
          68,
          41,
          62,
          86,
          69,
          65,
          68,
          64,
          61,
          61,
          47,
          73,
          75,
          75,
          70,
          78,
          59,
          73,
          79,
          69,
          47,
          81,
          100,
          65,
          65,
          53,
          37,
          79,
          53,
          100,
          53,
          54,
          71,
          77,
          84,
          26,
          91,
          63,
          59,
          80,
          55,
          76,
          52,
          68,
          59,
          49,
          70,
          61,
          60,
          65,
          64,
          83,
          81,
          54,
          54,
          66,
          76,
          74,
          63,
          40,
          82,
          68,
          55,
          79,
          86,
          76,
          64,
          62,
          74,
          71,
          91,
          69,
          54,
          68,
          36,
          29,
          62,
          47,
          51,
          81,
          82,
          64,
          62,
          79,
          79,
          40,
          77,
          53,
          32,
          61,
          53,
          73,
          63,
          48,
          48,
          63,
          68,
          91,
          53,
          74,
          81,
          53,
          81,
          77,
          63,
          69,
          65,
          55,
          44,
          54,
          48,
          58,
          71,
          68,
          74,
          30,
          53,
          69,
          65,
          54,
          29,
          76,
          60,
          75,
          85,
          40,
          61,
          58,
          58,
          65,
          82,
          60,
          37,
          88,
          95,
          35,
          62,
          61,
          61,
          49,
          67,
          79,
          75,
          84,
          71,
          86,
          76,
          41,
          72,
          70,
          59,
          64,
          50,
          73,
          62,
          77,
          69,
          43,
          90,
          74,
          73,
          55,
          65,
          80,
          77,
          73,
          66,
          52,
          69,
          81,
          63,
          67,
          60,
          62,
          77,
          53,
          93,
          49,
          73,
          77,
          49,
          79,
          59,
          66,
          57,
          63,
          62,
          46,
          66,
          89,
          98,
          81,
          76,
          62,
          50,
          47,
          73,
          53,
          55,
          55,
          53,
          67,
          92,
          81,
          61,
          80,
          37,
          81,
          55,
          72,
          69,
          69,
          50,
          68,
          58,
          84,
          55,
          53,
          48,
          62,
          60,
          74,
          68,
          58,
          52,
          75,
          62,
          66,
          49,
          66,
          35,
          46,
          77,
          72,
          19,
          68,
          52,
          48,
          60,
          66,
          42,
          70,
          70,
          69,
          52,
          87,
          82,
          73,
          75,
          64,
          41,
          90,
          59,
          51,
          45,
          72,
          45,
          60,
          77,
          78,
          71,
          48,
          62,
          65,
          68,
          61,
          64,
          58,
          73,
          66,
          39,
          64,
          90,
          64,
          59,
          80,
          71,
          61,
          87,
          82,
          62,
          97,
          75,
          65,
          87,
          53,
          81,
          97,
          59,
          61,
          49,
          59,
          90,
          43,
          80,
          81,
          57,
          59,
          64,
          64,
          55,
          51,
          54,
          69,
          44,
          85,
          50,
          59,
          32,
          36,
          85,
          73,
          67,
          88,
          57,
          67,
          50,
          69,
          46,
          68,
          44,
          69,
          35,
          72,
          54,
          74,
          64,
          48,
          62,
          70,
          67,
          57,
          78,
          81,
          58,
          54,
          82,
          49,
          94,
          74,
          62,
          72,
          84,
          92,
          45,
          75,
          56,
          48,
          100,
          72,
          62,
          63,
          68,
          75,
          89,
          49,
          54,
          62,
          91,
          8,
          81,
          74,
          57,
          40,
          44,
          55,
          62,
          63,
          62,
          77
         ],
         "xaxis": "x",
         "yaxis": "y"
        },
        {
         "alignmentgroup": "True",
         "bingroup": "x",
         "hovertemplate": "test preparation course=completed<br>math score=%{x}<br>count=%{y}<extra></extra>",
         "legendgroup": "completed",
         "marker": {
          "color": "#EF553B",
          "pattern": {
           "shape": ""
          }
         },
         "name": "completed",
         "offsetgroup": "completed",
         "orientation": "v",
         "showlegend": true,
         "type": "histogram",
         "x": [
          69,
          88,
          64,
          78,
          46,
          65,
          74,
          81,
          75,
          59,
          55,
          57,
          82,
          77,
          71,
          82,
          58,
          79,
          58,
          63,
          80,
          61,
          50,
          43,
          78,
          65,
          63,
          68,
          60,
          98,
          66,
          77,
          99,
          79,
          91,
          88,
          65,
          53,
          87,
          75,
          74,
          51,
          71,
          42,
          68,
          100,
          62,
          59,
          70,
          66,
          61,
          82,
          75,
          96,
          53,
          58,
          68,
          67,
          72,
          43,
          81,
          46,
          71,
          52,
          97,
          62,
          45,
          65,
          62,
          76,
          77,
          69,
          59,
          67,
          74,
          81,
          80,
          60,
          87,
          84,
          83,
          61,
          56,
          52,
          88,
          83,
          64,
          73,
          58,
          47,
          60,
          78,
          65,
          64,
          79,
          88,
          88,
          85,
          59,
          70,
          81,
          97,
          77,
          63,
          78,
          46,
          71,
          40,
          81,
          67,
          74,
          99,
          67,
          68,
          59,
          77,
          67,
          82,
          62,
          76,
          35,
          69,
          67,
          77,
          63,
          42,
          85,
          49,
          69,
          45,
          82,
          85,
          87,
          73,
          57,
          65,
          59,
          88,
          65,
          52,
          87,
          70,
          84,
          63,
          51,
          71,
          57,
          82,
          57,
          47,
          59,
          50,
          89,
          67,
          67,
          86,
          64,
          72,
          75,
          72,
          77,
          83,
          68,
          90,
          71,
          76,
          73,
          64,
          79,
          68,
          59,
          94,
          95,
          54,
          77,
          76,
          66,
          66,
          67,
          53,
          56,
          68,
          62,
          79,
          73,
          66,
          51,
          85,
          97,
          75,
          79,
          78,
          92,
          72,
          87,
          55,
          74,
          96,
          63,
          92,
          61,
          71,
          50,
          40,
          61,
          48,
          73,
          92,
          56,
          84,
          69,
          94,
          65,
          58,
          100,
          100,
          69,
          44,
          66,
          67,
          80,
          74,
          74,
          65,
          69,
          51,
          68,
          85,
          65,
          50,
          63,
          81,
          65,
          69,
          50,
          73,
          70,
          29,
          62,
          94,
          85,
          66,
          75,
          57,
          79,
          87,
          59,
          42,
          93,
          80,
          60,
          76,
          73,
          96,
          91,
          55,
          74,
          81,
          65,
          68,
          68,
          87,
          53,
          59,
          87,
          71,
          79,
          77,
          70,
          52,
          69,
          78,
          58,
          76,
          52,
          72,
          94,
          76,
          52,
          91,
          32,
          89,
          57,
          67,
          76,
          54,
          87,
          94,
          61,
          85,
          49,
          56,
          69,
          74,
          77,
          60,
          75,
          58,
          23,
          74,
          40,
          91,
          52,
          39,
          71,
          82,
          78,
          70,
          82,
          63,
          71,
          62,
          93,
          86,
          88,
          63,
          67,
          65,
          34,
          93,
          79,
          70,
          52,
          47,
          100,
          57,
          91,
          74,
          65,
          46,
          67,
          61,
          70,
          98,
          85,
          77,
          72,
          61,
          49,
          57,
          75,
          58,
          65,
          66,
          78,
          53,
          64,
          60,
          55,
          79,
          78,
          81,
          67,
          86,
          65,
          88,
          59,
          68
         ],
         "xaxis": "x",
         "yaxis": "y"
        }
       ],
       "layout": {
        "barmode": "relative",
        "legend": {
         "title": {
          "text": "test preparation course"
         },
         "tracegroupgap": 0
        },
        "margin": {
         "t": 60
        },
        "template": {
         "data": {
          "bar": [
           {
            "error_x": {
             "color": "#2a3f5f"
            },
            "error_y": {
             "color": "#2a3f5f"
            },
            "marker": {
             "line": {
              "color": "#E5ECF6",
              "width": 0.5
             },
             "pattern": {
              "fillmode": "overlay",
              "size": 10,
              "solidity": 0.2
             }
            },
            "type": "bar"
           }
          ],
          "barpolar": [
           {
            "marker": {
             "line": {
              "color": "#E5ECF6",
              "width": 0.5
             },
             "pattern": {
              "fillmode": "overlay",
              "size": 10,
              "solidity": 0.2
             }
            },
            "type": "barpolar"
           }
          ],
          "carpet": [
           {
            "aaxis": {
             "endlinecolor": "#2a3f5f",
             "gridcolor": "white",
             "linecolor": "white",
             "minorgridcolor": "white",
             "startlinecolor": "#2a3f5f"
            },
            "baxis": {
             "endlinecolor": "#2a3f5f",
             "gridcolor": "white",
             "linecolor": "white",
             "minorgridcolor": "white",
             "startlinecolor": "#2a3f5f"
            },
            "type": "carpet"
           }
          ],
          "choropleth": [
           {
            "colorbar": {
             "outlinewidth": 0,
             "ticks": ""
            },
            "type": "choropleth"
           }
          ],
          "contour": [
           {
            "colorbar": {
             "outlinewidth": 0,
             "ticks": ""
            },
            "colorscale": [
             [
              0,
              "#0d0887"
             ],
             [
              0.1111111111111111,
              "#46039f"
             ],
             [
              0.2222222222222222,
              "#7201a8"
             ],
             [
              0.3333333333333333,
              "#9c179e"
             ],
             [
              0.4444444444444444,
              "#bd3786"
             ],
             [
              0.5555555555555556,
              "#d8576b"
             ],
             [
              0.6666666666666666,
              "#ed7953"
             ],
             [
              0.7777777777777778,
              "#fb9f3a"
             ],
             [
              0.8888888888888888,
              "#fdca26"
             ],
             [
              1,
              "#f0f921"
             ]
            ],
            "type": "contour"
           }
          ],
          "contourcarpet": [
           {
            "colorbar": {
             "outlinewidth": 0,
             "ticks": ""
            },
            "type": "contourcarpet"
           }
          ],
          "heatmap": [
           {
            "colorbar": {
             "outlinewidth": 0,
             "ticks": ""
            },
            "colorscale": [
             [
              0,
              "#0d0887"
             ],
             [
              0.1111111111111111,
              "#46039f"
             ],
             [
              0.2222222222222222,
              "#7201a8"
             ],
             [
              0.3333333333333333,
              "#9c179e"
             ],
             [
              0.4444444444444444,
              "#bd3786"
             ],
             [
              0.5555555555555556,
              "#d8576b"
             ],
             [
              0.6666666666666666,
              "#ed7953"
             ],
             [
              0.7777777777777778,
              "#fb9f3a"
             ],
             [
              0.8888888888888888,
              "#fdca26"
             ],
             [
              1,
              "#f0f921"
             ]
            ],
            "type": "heatmap"
           }
          ],
          "heatmapgl": [
           {
            "colorbar": {
             "outlinewidth": 0,
             "ticks": ""
            },
            "colorscale": [
             [
              0,
              "#0d0887"
             ],
             [
              0.1111111111111111,
              "#46039f"
             ],
             [
              0.2222222222222222,
              "#7201a8"
             ],
             [
              0.3333333333333333,
              "#9c179e"
             ],
             [
              0.4444444444444444,
              "#bd3786"
             ],
             [
              0.5555555555555556,
              "#d8576b"
             ],
             [
              0.6666666666666666,
              "#ed7953"
             ],
             [
              0.7777777777777778,
              "#fb9f3a"
             ],
             [
              0.8888888888888888,
              "#fdca26"
             ],
             [
              1,
              "#f0f921"
             ]
            ],
            "type": "heatmapgl"
           }
          ],
          "histogram": [
           {
            "marker": {
             "pattern": {
              "fillmode": "overlay",
              "size": 10,
              "solidity": 0.2
             }
            },
            "type": "histogram"
           }
          ],
          "histogram2d": [
           {
            "colorbar": {
             "outlinewidth": 0,
             "ticks": ""
            },
            "colorscale": [
             [
              0,
              "#0d0887"
             ],
             [
              0.1111111111111111,
              "#46039f"
             ],
             [
              0.2222222222222222,
              "#7201a8"
             ],
             [
              0.3333333333333333,
              "#9c179e"
             ],
             [
              0.4444444444444444,
              "#bd3786"
             ],
             [
              0.5555555555555556,
              "#d8576b"
             ],
             [
              0.6666666666666666,
              "#ed7953"
             ],
             [
              0.7777777777777778,
              "#fb9f3a"
             ],
             [
              0.8888888888888888,
              "#fdca26"
             ],
             [
              1,
              "#f0f921"
             ]
            ],
            "type": "histogram2d"
           }
          ],
          "histogram2dcontour": [
           {
            "colorbar": {
             "outlinewidth": 0,
             "ticks": ""
            },
            "colorscale": [
             [
              0,
              "#0d0887"
             ],
             [
              0.1111111111111111,
              "#46039f"
             ],
             [
              0.2222222222222222,
              "#7201a8"
             ],
             [
              0.3333333333333333,
              "#9c179e"
             ],
             [
              0.4444444444444444,
              "#bd3786"
             ],
             [
              0.5555555555555556,
              "#d8576b"
             ],
             [
              0.6666666666666666,
              "#ed7953"
             ],
             [
              0.7777777777777778,
              "#fb9f3a"
             ],
             [
              0.8888888888888888,
              "#fdca26"
             ],
             [
              1,
              "#f0f921"
             ]
            ],
            "type": "histogram2dcontour"
           }
          ],
          "mesh3d": [
           {
            "colorbar": {
             "outlinewidth": 0,
             "ticks": ""
            },
            "type": "mesh3d"
           }
          ],
          "parcoords": [
           {
            "line": {
             "colorbar": {
              "outlinewidth": 0,
              "ticks": ""
             }
            },
            "type": "parcoords"
           }
          ],
          "pie": [
           {
            "automargin": true,
            "type": "pie"
           }
          ],
          "scatter": [
           {
            "fillpattern": {
             "fillmode": "overlay",
             "size": 10,
             "solidity": 0.2
            },
            "type": "scatter"
           }
          ],
          "scatter3d": [
           {
            "line": {
             "colorbar": {
              "outlinewidth": 0,
              "ticks": ""
             }
            },
            "marker": {
             "colorbar": {
              "outlinewidth": 0,
              "ticks": ""
             }
            },
            "type": "scatter3d"
           }
          ],
          "scattercarpet": [
           {
            "marker": {
             "colorbar": {
              "outlinewidth": 0,
              "ticks": ""
             }
            },
            "type": "scattercarpet"
           }
          ],
          "scattergeo": [
           {
            "marker": {
             "colorbar": {
              "outlinewidth": 0,
              "ticks": ""
             }
            },
            "type": "scattergeo"
           }
          ],
          "scattergl": [
           {
            "marker": {
             "colorbar": {
              "outlinewidth": 0,
              "ticks": ""
             }
            },
            "type": "scattergl"
           }
          ],
          "scattermapbox": [
           {
            "marker": {
             "colorbar": {
              "outlinewidth": 0,
              "ticks": ""
             }
            },
            "type": "scattermapbox"
           }
          ],
          "scatterpolar": [
           {
            "marker": {
             "colorbar": {
              "outlinewidth": 0,
              "ticks": ""
             }
            },
            "type": "scatterpolar"
           }
          ],
          "scatterpolargl": [
           {
            "marker": {
             "colorbar": {
              "outlinewidth": 0,
              "ticks": ""
             }
            },
            "type": "scatterpolargl"
           }
          ],
          "scatterternary": [
           {
            "marker": {
             "colorbar": {
              "outlinewidth": 0,
              "ticks": ""
             }
            },
            "type": "scatterternary"
           }
          ],
          "surface": [
           {
            "colorbar": {
             "outlinewidth": 0,
             "ticks": ""
            },
            "colorscale": [
             [
              0,
              "#0d0887"
             ],
             [
              0.1111111111111111,
              "#46039f"
             ],
             [
              0.2222222222222222,
              "#7201a8"
             ],
             [
              0.3333333333333333,
              "#9c179e"
             ],
             [
              0.4444444444444444,
              "#bd3786"
             ],
             [
              0.5555555555555556,
              "#d8576b"
             ],
             [
              0.6666666666666666,
              "#ed7953"
             ],
             [
              0.7777777777777778,
              "#fb9f3a"
             ],
             [
              0.8888888888888888,
              "#fdca26"
             ],
             [
              1,
              "#f0f921"
             ]
            ],
            "type": "surface"
           }
          ],
          "table": [
           {
            "cells": {
             "fill": {
              "color": "#EBF0F8"
             },
             "line": {
              "color": "white"
             }
            },
            "header": {
             "fill": {
              "color": "#C8D4E3"
             },
             "line": {
              "color": "white"
             }
            },
            "type": "table"
           }
          ]
         },
         "layout": {
          "annotationdefaults": {
           "arrowcolor": "#2a3f5f",
           "arrowhead": 0,
           "arrowwidth": 1
          },
          "autotypenumbers": "strict",
          "coloraxis": {
           "colorbar": {
            "outlinewidth": 0,
            "ticks": ""
           }
          },
          "colorscale": {
           "diverging": [
            [
             0,
             "#8e0152"
            ],
            [
             0.1,
             "#c51b7d"
            ],
            [
             0.2,
             "#de77ae"
            ],
            [
             0.3,
             "#f1b6da"
            ],
            [
             0.4,
             "#fde0ef"
            ],
            [
             0.5,
             "#f7f7f7"
            ],
            [
             0.6,
             "#e6f5d0"
            ],
            [
             0.7,
             "#b8e186"
            ],
            [
             0.8,
             "#7fbc41"
            ],
            [
             0.9,
             "#4d9221"
            ],
            [
             1,
             "#276419"
            ]
           ],
           "sequential": [
            [
             0,
             "#0d0887"
            ],
            [
             0.1111111111111111,
             "#46039f"
            ],
            [
             0.2222222222222222,
             "#7201a8"
            ],
            [
             0.3333333333333333,
             "#9c179e"
            ],
            [
             0.4444444444444444,
             "#bd3786"
            ],
            [
             0.5555555555555556,
             "#d8576b"
            ],
            [
             0.6666666666666666,
             "#ed7953"
            ],
            [
             0.7777777777777778,
             "#fb9f3a"
            ],
            [
             0.8888888888888888,
             "#fdca26"
            ],
            [
             1,
             "#f0f921"
            ]
           ],
           "sequentialminus": [
            [
             0,
             "#0d0887"
            ],
            [
             0.1111111111111111,
             "#46039f"
            ],
            [
             0.2222222222222222,
             "#7201a8"
            ],
            [
             0.3333333333333333,
             "#9c179e"
            ],
            [
             0.4444444444444444,
             "#bd3786"
            ],
            [
             0.5555555555555556,
             "#d8576b"
            ],
            [
             0.6666666666666666,
             "#ed7953"
            ],
            [
             0.7777777777777778,
             "#fb9f3a"
            ],
            [
             0.8888888888888888,
             "#fdca26"
            ],
            [
             1,
             "#f0f921"
            ]
           ]
          },
          "colorway": [
           "#636efa",
           "#EF553B",
           "#00cc96",
           "#ab63fa",
           "#FFA15A",
           "#19d3f3",
           "#FF6692",
           "#B6E880",
           "#FF97FF",
           "#FECB52"
          ],
          "font": {
           "color": "#2a3f5f"
          },
          "geo": {
           "bgcolor": "white",
           "lakecolor": "white",
           "landcolor": "#E5ECF6",
           "showlakes": true,
           "showland": true,
           "subunitcolor": "white"
          },
          "hoverlabel": {
           "align": "left"
          },
          "hovermode": "closest",
          "mapbox": {
           "style": "light"
          },
          "paper_bgcolor": "white",
          "plot_bgcolor": "#E5ECF6",
          "polar": {
           "angularaxis": {
            "gridcolor": "white",
            "linecolor": "white",
            "ticks": ""
           },
           "bgcolor": "#E5ECF6",
           "radialaxis": {
            "gridcolor": "white",
            "linecolor": "white",
            "ticks": ""
           }
          },
          "scene": {
           "xaxis": {
            "backgroundcolor": "#E5ECF6",
            "gridcolor": "white",
            "gridwidth": 2,
            "linecolor": "white",
            "showbackground": true,
            "ticks": "",
            "zerolinecolor": "white"
           },
           "yaxis": {
            "backgroundcolor": "#E5ECF6",
            "gridcolor": "white",
            "gridwidth": 2,
            "linecolor": "white",
            "showbackground": true,
            "ticks": "",
            "zerolinecolor": "white"
           },
           "zaxis": {
            "backgroundcolor": "#E5ECF6",
            "gridcolor": "white",
            "gridwidth": 2,
            "linecolor": "white",
            "showbackground": true,
            "ticks": "",
            "zerolinecolor": "white"
           }
          },
          "shapedefaults": {
           "line": {
            "color": "#2a3f5f"
           }
          },
          "ternary": {
           "aaxis": {
            "gridcolor": "white",
            "linecolor": "white",
            "ticks": ""
           },
           "baxis": {
            "gridcolor": "white",
            "linecolor": "white",
            "ticks": ""
           },
           "bgcolor": "#E5ECF6",
           "caxis": {
            "gridcolor": "white",
            "linecolor": "white",
            "ticks": ""
           }
          },
          "title": {
           "x": 0.05
          },
          "xaxis": {
           "automargin": true,
           "gridcolor": "white",
           "linecolor": "white",
           "ticks": "",
           "title": {
            "standoff": 15
           },
           "zerolinecolor": "white",
           "zerolinewidth": 2
          },
          "yaxis": {
           "automargin": true,
           "gridcolor": "white",
           "linecolor": "white",
           "ticks": "",
           "title": {
            "standoff": 15
           },
           "zerolinecolor": "white",
           "zerolinewidth": 2
          }
         }
        },
        "xaxis": {
         "anchor": "y",
         "domain": [
          0,
          1
         ],
         "title": {
          "text": "math score"
         }
        },
        "yaxis": {
         "anchor": "x",
         "domain": [
          0,
          1
         ],
         "title": {
          "text": "count"
         }
        }
       }
      },
      "text/html": [
       "<div>                            <div id=\"b0956962-44d4-406f-a9f3-bfed8f5746ba\" class=\"plotly-graph-div\" style=\"height:525px; width:100%;\"></div>            <script type=\"text/javascript\">                require([\"plotly\"], function(Plotly) {                    window.PLOTLYENV=window.PLOTLYENV || {};                                    if (document.getElementById(\"b0956962-44d4-406f-a9f3-bfed8f5746ba\")) {                    Plotly.newPlot(                        \"b0956962-44d4-406f-a9f3-bfed8f5746ba\",                        [{\"alignmentgroup\":\"True\",\"bingroup\":\"x\",\"hovertemplate\":\"test preparation course=none<br>math score=%{x}<br>count=%{y}<extra></extra>\",\"legendgroup\":\"none\",\"marker\":{\"color\":\"#636efa\",\"pattern\":{\"shape\":\"\"}},\"name\":\"none\",\"offsetgroup\":\"none\",\"orientation\":\"v\",\"showlegend\":true,\"x\":[72,90,47,76,71,40,38,58,40,65,50,69,88,18,54,66,44,69,73,69,67,70,62,69,63,56,40,97,74,50,57,55,58,53,50,65,66,53,53,88,33,52,0,39,62,69,59,67,45,60,61,39,41,61,49,44,30,62,47,49,72,42,73,76,71,58,73,65,27,71,79,58,65,79,85,58,87,52,70,62,54,51,84,75,78,51,55,63,83,87,72,82,51,89,58,70,59,76,59,57,88,22,88,73,77,54,62,60,66,49,52,81,94,79,63,46,50,65,80,48,77,66,62,61,55,45,78,65,69,57,59,82,74,58,35,42,34,66,87,55,86,45,72,57,68,76,46,67,92,80,63,54,84,80,56,59,75,85,89,65,68,71,80,54,62,64,70,44,99,76,59,63,69,71,69,58,47,65,83,65,73,53,45,73,37,67,88,76,86,65,67,90,56,80,69,51,53,49,73,66,71,83,63,56,75,71,43,41,82,61,28,41,71,47,90,83,61,49,24,58,61,79,72,62,75,87,52,66,46,59,61,63,59,80,58,52,27,59,61,44,73,84,74,59,46,80,71,66,80,79,38,38,67,64,57,62,73,77,76,48,50,85,74,60,53,49,54,63,82,71,84,74,68,41,62,86,69,65,68,64,61,61,47,73,75,75,70,78,59,73,79,69,47,81,100,65,65,53,37,79,53,100,53,54,71,77,84,26,91,63,59,80,55,76,52,68,59,49,70,61,60,65,64,83,81,54,54,66,76,74,63,40,82,68,55,79,86,76,64,62,74,71,91,69,54,68,36,29,62,47,51,81,82,64,62,79,79,40,77,53,32,61,53,73,63,48,48,63,68,91,53,74,81,53,81,77,63,69,65,55,44,54,48,58,71,68,74,30,53,69,65,54,29,76,60,75,85,40,61,58,58,65,82,60,37,88,95,35,62,61,61,49,67,79,75,84,71,86,76,41,72,70,59,64,50,73,62,77,69,43,90,74,73,55,65,80,77,73,66,52,69,81,63,67,60,62,77,53,93,49,73,77,49,79,59,66,57,63,62,46,66,89,98,81,76,62,50,47,73,53,55,55,53,67,92,81,61,80,37,81,55,72,69,69,50,68,58,84,55,53,48,62,60,74,68,58,52,75,62,66,49,66,35,46,77,72,19,68,52,48,60,66,42,70,70,69,52,87,82,73,75,64,41,90,59,51,45,72,45,60,77,78,71,48,62,65,68,61,64,58,73,66,39,64,90,64,59,80,71,61,87,82,62,97,75,65,87,53,81,97,59,61,49,59,90,43,80,81,57,59,64,64,55,51,54,69,44,85,50,59,32,36,85,73,67,88,57,67,50,69,46,68,44,69,35,72,54,74,64,48,62,70,67,57,78,81,58,54,82,49,94,74,62,72,84,92,45,75,56,48,100,72,62,63,68,75,89,49,54,62,91,8,81,74,57,40,44,55,62,63,62,77],\"xaxis\":\"x\",\"yaxis\":\"y\",\"type\":\"histogram\"},{\"alignmentgroup\":\"True\",\"bingroup\":\"x\",\"hovertemplate\":\"test preparation course=completed<br>math score=%{x}<br>count=%{y}<extra></extra>\",\"legendgroup\":\"completed\",\"marker\":{\"color\":\"#EF553B\",\"pattern\":{\"shape\":\"\"}},\"name\":\"completed\",\"offsetgroup\":\"completed\",\"orientation\":\"v\",\"showlegend\":true,\"x\":[69,88,64,78,46,65,74,81,75,59,55,57,82,77,71,82,58,79,58,63,80,61,50,43,78,65,63,68,60,98,66,77,99,79,91,88,65,53,87,75,74,51,71,42,68,100,62,59,70,66,61,82,75,96,53,58,68,67,72,43,81,46,71,52,97,62,45,65,62,76,77,69,59,67,74,81,80,60,87,84,83,61,56,52,88,83,64,73,58,47,60,78,65,64,79,88,88,85,59,70,81,97,77,63,78,46,71,40,81,67,74,99,67,68,59,77,67,82,62,76,35,69,67,77,63,42,85,49,69,45,82,85,87,73,57,65,59,88,65,52,87,70,84,63,51,71,57,82,57,47,59,50,89,67,67,86,64,72,75,72,77,83,68,90,71,76,73,64,79,68,59,94,95,54,77,76,66,66,67,53,56,68,62,79,73,66,51,85,97,75,79,78,92,72,87,55,74,96,63,92,61,71,50,40,61,48,73,92,56,84,69,94,65,58,100,100,69,44,66,67,80,74,74,65,69,51,68,85,65,50,63,81,65,69,50,73,70,29,62,94,85,66,75,57,79,87,59,42,93,80,60,76,73,96,91,55,74,81,65,68,68,87,53,59,87,71,79,77,70,52,69,78,58,76,52,72,94,76,52,91,32,89,57,67,76,54,87,94,61,85,49,56,69,74,77,60,75,58,23,74,40,91,52,39,71,82,78,70,82,63,71,62,93,86,88,63,67,65,34,93,79,70,52,47,100,57,91,74,65,46,67,61,70,98,85,77,72,61,49,57,75,58,65,66,78,53,64,60,55,79,78,81,67,86,65,88,59,68],\"xaxis\":\"x\",\"yaxis\":\"y\",\"type\":\"histogram\"}],                        {\"template\":{\"data\":{\"histogram2dcontour\":[{\"type\":\"histogram2dcontour\",\"colorbar\":{\"outlinewidth\":0,\"ticks\":\"\"},\"colorscale\":[[0.0,\"#0d0887\"],[0.1111111111111111,\"#46039f\"],[0.2222222222222222,\"#7201a8\"],[0.3333333333333333,\"#9c179e\"],[0.4444444444444444,\"#bd3786\"],[0.5555555555555556,\"#d8576b\"],[0.6666666666666666,\"#ed7953\"],[0.7777777777777778,\"#fb9f3a\"],[0.8888888888888888,\"#fdca26\"],[1.0,\"#f0f921\"]]}],\"choropleth\":[{\"type\":\"choropleth\",\"colorbar\":{\"outlinewidth\":0,\"ticks\":\"\"}}],\"histogram2d\":[{\"type\":\"histogram2d\",\"colorbar\":{\"outlinewidth\":0,\"ticks\":\"\"},\"colorscale\":[[0.0,\"#0d0887\"],[0.1111111111111111,\"#46039f\"],[0.2222222222222222,\"#7201a8\"],[0.3333333333333333,\"#9c179e\"],[0.4444444444444444,\"#bd3786\"],[0.5555555555555556,\"#d8576b\"],[0.6666666666666666,\"#ed7953\"],[0.7777777777777778,\"#fb9f3a\"],[0.8888888888888888,\"#fdca26\"],[1.0,\"#f0f921\"]]}],\"heatmap\":[{\"type\":\"heatmap\",\"colorbar\":{\"outlinewidth\":0,\"ticks\":\"\"},\"colorscale\":[[0.0,\"#0d0887\"],[0.1111111111111111,\"#46039f\"],[0.2222222222222222,\"#7201a8\"],[0.3333333333333333,\"#9c179e\"],[0.4444444444444444,\"#bd3786\"],[0.5555555555555556,\"#d8576b\"],[0.6666666666666666,\"#ed7953\"],[0.7777777777777778,\"#fb9f3a\"],[0.8888888888888888,\"#fdca26\"],[1.0,\"#f0f921\"]]}],\"heatmapgl\":[{\"type\":\"heatmapgl\",\"colorbar\":{\"outlinewidth\":0,\"ticks\":\"\"},\"colorscale\":[[0.0,\"#0d0887\"],[0.1111111111111111,\"#46039f\"],[0.2222222222222222,\"#7201a8\"],[0.3333333333333333,\"#9c179e\"],[0.4444444444444444,\"#bd3786\"],[0.5555555555555556,\"#d8576b\"],[0.6666666666666666,\"#ed7953\"],[0.7777777777777778,\"#fb9f3a\"],[0.8888888888888888,\"#fdca26\"],[1.0,\"#f0f921\"]]}],\"contourcarpet\":[{\"type\":\"contourcarpet\",\"colorbar\":{\"outlinewidth\":0,\"ticks\":\"\"}}],\"contour\":[{\"type\":\"contour\",\"colorbar\":{\"outlinewidth\":0,\"ticks\":\"\"},\"colorscale\":[[0.0,\"#0d0887\"],[0.1111111111111111,\"#46039f\"],[0.2222222222222222,\"#7201a8\"],[0.3333333333333333,\"#9c179e\"],[0.4444444444444444,\"#bd3786\"],[0.5555555555555556,\"#d8576b\"],[0.6666666666666666,\"#ed7953\"],[0.7777777777777778,\"#fb9f3a\"],[0.8888888888888888,\"#fdca26\"],[1.0,\"#f0f921\"]]}],\"surface\":[{\"type\":\"surface\",\"colorbar\":{\"outlinewidth\":0,\"ticks\":\"\"},\"colorscale\":[[0.0,\"#0d0887\"],[0.1111111111111111,\"#46039f\"],[0.2222222222222222,\"#7201a8\"],[0.3333333333333333,\"#9c179e\"],[0.4444444444444444,\"#bd3786\"],[0.5555555555555556,\"#d8576b\"],[0.6666666666666666,\"#ed7953\"],[0.7777777777777778,\"#fb9f3a\"],[0.8888888888888888,\"#fdca26\"],[1.0,\"#f0f921\"]]}],\"mesh3d\":[{\"type\":\"mesh3d\",\"colorbar\":{\"outlinewidth\":0,\"ticks\":\"\"}}],\"scatter\":[{\"fillpattern\":{\"fillmode\":\"overlay\",\"size\":10,\"solidity\":0.2},\"type\":\"scatter\"}],\"parcoords\":[{\"type\":\"parcoords\",\"line\":{\"colorbar\":{\"outlinewidth\":0,\"ticks\":\"\"}}}],\"scatterpolargl\":[{\"type\":\"scatterpolargl\",\"marker\":{\"colorbar\":{\"outlinewidth\":0,\"ticks\":\"\"}}}],\"bar\":[{\"error_x\":{\"color\":\"#2a3f5f\"},\"error_y\":{\"color\":\"#2a3f5f\"},\"marker\":{\"line\":{\"color\":\"#E5ECF6\",\"width\":0.5},\"pattern\":{\"fillmode\":\"overlay\",\"size\":10,\"solidity\":0.2}},\"type\":\"bar\"}],\"scattergeo\":[{\"type\":\"scattergeo\",\"marker\":{\"colorbar\":{\"outlinewidth\":0,\"ticks\":\"\"}}}],\"scatterpolar\":[{\"type\":\"scatterpolar\",\"marker\":{\"colorbar\":{\"outlinewidth\":0,\"ticks\":\"\"}}}],\"histogram\":[{\"marker\":{\"pattern\":{\"fillmode\":\"overlay\",\"size\":10,\"solidity\":0.2}},\"type\":\"histogram\"}],\"scattergl\":[{\"type\":\"scattergl\",\"marker\":{\"colorbar\":{\"outlinewidth\":0,\"ticks\":\"\"}}}],\"scatter3d\":[{\"type\":\"scatter3d\",\"line\":{\"colorbar\":{\"outlinewidth\":0,\"ticks\":\"\"}},\"marker\":{\"colorbar\":{\"outlinewidth\":0,\"ticks\":\"\"}}}],\"scattermapbox\":[{\"type\":\"scattermapbox\",\"marker\":{\"colorbar\":{\"outlinewidth\":0,\"ticks\":\"\"}}}],\"scatterternary\":[{\"type\":\"scatterternary\",\"marker\":{\"colorbar\":{\"outlinewidth\":0,\"ticks\":\"\"}}}],\"scattercarpet\":[{\"type\":\"scattercarpet\",\"marker\":{\"colorbar\":{\"outlinewidth\":0,\"ticks\":\"\"}}}],\"carpet\":[{\"aaxis\":{\"endlinecolor\":\"#2a3f5f\",\"gridcolor\":\"white\",\"linecolor\":\"white\",\"minorgridcolor\":\"white\",\"startlinecolor\":\"#2a3f5f\"},\"baxis\":{\"endlinecolor\":\"#2a3f5f\",\"gridcolor\":\"white\",\"linecolor\":\"white\",\"minorgridcolor\":\"white\",\"startlinecolor\":\"#2a3f5f\"},\"type\":\"carpet\"}],\"table\":[{\"cells\":{\"fill\":{\"color\":\"#EBF0F8\"},\"line\":{\"color\":\"white\"}},\"header\":{\"fill\":{\"color\":\"#C8D4E3\"},\"line\":{\"color\":\"white\"}},\"type\":\"table\"}],\"barpolar\":[{\"marker\":{\"line\":{\"color\":\"#E5ECF6\",\"width\":0.5},\"pattern\":{\"fillmode\":\"overlay\",\"size\":10,\"solidity\":0.2}},\"type\":\"barpolar\"}],\"pie\":[{\"automargin\":true,\"type\":\"pie\"}]},\"layout\":{\"autotypenumbers\":\"strict\",\"colorway\":[\"#636efa\",\"#EF553B\",\"#00cc96\",\"#ab63fa\",\"#FFA15A\",\"#19d3f3\",\"#FF6692\",\"#B6E880\",\"#FF97FF\",\"#FECB52\"],\"font\":{\"color\":\"#2a3f5f\"},\"hovermode\":\"closest\",\"hoverlabel\":{\"align\":\"left\"},\"paper_bgcolor\":\"white\",\"plot_bgcolor\":\"#E5ECF6\",\"polar\":{\"bgcolor\":\"#E5ECF6\",\"angularaxis\":{\"gridcolor\":\"white\",\"linecolor\":\"white\",\"ticks\":\"\"},\"radialaxis\":{\"gridcolor\":\"white\",\"linecolor\":\"white\",\"ticks\":\"\"}},\"ternary\":{\"bgcolor\":\"#E5ECF6\",\"aaxis\":{\"gridcolor\":\"white\",\"linecolor\":\"white\",\"ticks\":\"\"},\"baxis\":{\"gridcolor\":\"white\",\"linecolor\":\"white\",\"ticks\":\"\"},\"caxis\":{\"gridcolor\":\"white\",\"linecolor\":\"white\",\"ticks\":\"\"}},\"coloraxis\":{\"colorbar\":{\"outlinewidth\":0,\"ticks\":\"\"}},\"colorscale\":{\"sequential\":[[0.0,\"#0d0887\"],[0.1111111111111111,\"#46039f\"],[0.2222222222222222,\"#7201a8\"],[0.3333333333333333,\"#9c179e\"],[0.4444444444444444,\"#bd3786\"],[0.5555555555555556,\"#d8576b\"],[0.6666666666666666,\"#ed7953\"],[0.7777777777777778,\"#fb9f3a\"],[0.8888888888888888,\"#fdca26\"],[1.0,\"#f0f921\"]],\"sequentialminus\":[[0.0,\"#0d0887\"],[0.1111111111111111,\"#46039f\"],[0.2222222222222222,\"#7201a8\"],[0.3333333333333333,\"#9c179e\"],[0.4444444444444444,\"#bd3786\"],[0.5555555555555556,\"#d8576b\"],[0.6666666666666666,\"#ed7953\"],[0.7777777777777778,\"#fb9f3a\"],[0.8888888888888888,\"#fdca26\"],[1.0,\"#f0f921\"]],\"diverging\":[[0,\"#8e0152\"],[0.1,\"#c51b7d\"],[0.2,\"#de77ae\"],[0.3,\"#f1b6da\"],[0.4,\"#fde0ef\"],[0.5,\"#f7f7f7\"],[0.6,\"#e6f5d0\"],[0.7,\"#b8e186\"],[0.8,\"#7fbc41\"],[0.9,\"#4d9221\"],[1,\"#276419\"]]},\"xaxis\":{\"gridcolor\":\"white\",\"linecolor\":\"white\",\"ticks\":\"\",\"title\":{\"standoff\":15},\"zerolinecolor\":\"white\",\"automargin\":true,\"zerolinewidth\":2},\"yaxis\":{\"gridcolor\":\"white\",\"linecolor\":\"white\",\"ticks\":\"\",\"title\":{\"standoff\":15},\"zerolinecolor\":\"white\",\"automargin\":true,\"zerolinewidth\":2},\"scene\":{\"xaxis\":{\"backgroundcolor\":\"#E5ECF6\",\"gridcolor\":\"white\",\"linecolor\":\"white\",\"showbackground\":true,\"ticks\":\"\",\"zerolinecolor\":\"white\",\"gridwidth\":2},\"yaxis\":{\"backgroundcolor\":\"#E5ECF6\",\"gridcolor\":\"white\",\"linecolor\":\"white\",\"showbackground\":true,\"ticks\":\"\",\"zerolinecolor\":\"white\",\"gridwidth\":2},\"zaxis\":{\"backgroundcolor\":\"#E5ECF6\",\"gridcolor\":\"white\",\"linecolor\":\"white\",\"showbackground\":true,\"ticks\":\"\",\"zerolinecolor\":\"white\",\"gridwidth\":2}},\"shapedefaults\":{\"line\":{\"color\":\"#2a3f5f\"}},\"annotationdefaults\":{\"arrowcolor\":\"#2a3f5f\",\"arrowhead\":0,\"arrowwidth\":1},\"geo\":{\"bgcolor\":\"white\",\"landcolor\":\"#E5ECF6\",\"subunitcolor\":\"white\",\"showland\":true,\"showlakes\":true,\"lakecolor\":\"white\"},\"title\":{\"x\":0.05},\"mapbox\":{\"style\":\"light\"}}},\"xaxis\":{\"anchor\":\"y\",\"domain\":[0.0,1.0],\"title\":{\"text\":\"math score\"}},\"yaxis\":{\"anchor\":\"x\",\"domain\":[0.0,1.0],\"title\":{\"text\":\"count\"}},\"legend\":{\"title\":{\"text\":\"test preparation course\"},\"tracegroupgap\":0},\"margin\":{\"t\":60},\"barmode\":\"relative\"},                        {\"responsive\": true}                    ).then(function(){\n",
       "                            \n",
       "var gd = document.getElementById('b0956962-44d4-406f-a9f3-bfed8f5746ba');\n",
       "var x = new MutationObserver(function (mutations, observer) {{\n",
       "        var display = window.getComputedStyle(gd).display;\n",
       "        if (!display || display === 'none') {{\n",
       "            console.log([gd, 'removed!']);\n",
       "            Plotly.purge(gd);\n",
       "            observer.disconnect();\n",
       "        }}\n",
       "}});\n",
       "\n",
       "// Listen for the removal of the full notebook cells\n",
       "var notebookContainer = gd.closest('#notebook-container');\n",
       "if (notebookContainer) {{\n",
       "    x.observe(notebookContainer, {childList: true});\n",
       "}}\n",
       "\n",
       "// Listen for the clearing of the current output cell\n",
       "var outputEl = gd.closest('.output');\n",
       "if (outputEl) {{\n",
       "    x.observe(outputEl, {childList: true});\n",
       "}}\n",
       "\n",
       "                        })                };                });            </script>        </div>"
      ]
     },
     "metadata": {},
     "output_type": "display_data"
    },
    {
     "data": {
      "application/vnd.plotly.v1+json": {
       "config": {
        "plotlyServerURL": "https://plot.ly"
       },
       "data": [
        {
         "alignmentgroup": "True",
         "bingroup": "x",
         "hovertemplate": "test preparation course=none<br>reading score=%{x}<br>count=%{y}<extra></extra>",
         "legendgroup": "none",
         "marker": {
          "color": "#636efa",
          "pattern": {
           "shape": ""
          }
         },
         "name": "none",
         "offsetgroup": "none",
         "orientation": "v",
         "showlegend": true,
         "type": "histogram",
         "x": [
          72,
          95,
          57,
          78,
          83,
          43,
          60,
          54,
          52,
          81,
          53,
          75,
          89,
          32,
          58,
          69,
          54,
          73,
          74,
          54,
          69,
          70,
          70,
          74,
          65,
          72,
          42,
          87,
          81,
          64,
          56,
          61,
          73,
          58,
          56,
          54,
          71,
          55,
          44,
          78,
          41,
          55,
          17,
          39,
          61,
          80,
          58,
          64,
          37,
          72,
          58,
          64,
          51,
          57,
          49,
          41,
          26,
          68,
          49,
          45,
          64,
          39,
          80,
          83,
          71,
          70,
          86,
          72,
          34,
          79,
          86,
          67,
          67,
          67,
          91,
          67,
          100,
          76,
          64,
          55,
          53,
          58,
          77,
          85,
          82,
          63,
          69,
          57,
          80,
          95,
          68,
          82,
          49,
          84,
          55,
          55,
          66,
          72,
          62,
          43,
          73,
          39,
          84,
          68,
          67,
          49,
          67,
          60,
          62,
          53,
          53,
          92,
          88,
          86,
          67,
          64,
          50,
          69,
          76,
          52,
          88,
          65,
          64,
          55,
          56,
          53,
          79,
          81,
          77,
          69,
          41,
          62,
          81,
          61,
          28,
          62,
          42,
          77,
          85,
          65,
          80,
          56,
          72,
          50,
          72,
          64,
          43,
          86,
          87,
          75,
          66,
          52,
          80,
          83,
          52,
          51,
          74,
          76,
          76,
          64,
          60,
          83,
          80,
          52,
          73,
          73,
          75,
          50,
          93,
          73,
          42,
          75,
          72,
          76,
          63,
          49,
          53,
          70,
          78,
          86,
          56,
          52,
          48,
          79,
          46,
          89,
          75,
          70,
          73,
          73,
          62,
          87,
          54,
          76,
          67,
          52,
          71,
          57,
          76,
          60,
          66,
          72,
          71,
          65,
          86,
          81,
          53,
          46,
          90,
          61,
          23,
          55,
          60,
          37,
          78,
          93,
          68,
          51,
          38,
          61,
          73,
          73,
          80,
          61,
          74,
          74,
          65,
          57,
          58,
          71,
          72,
          61,
          62,
          90,
          62,
          58,
          34,
          60,
          66,
          64,
          84,
          77,
          74,
          70,
          43,
          90,
          83,
          64,
          86,
          81,
          49,
          43,
          76,
          73,
          78,
          64,
          70,
          68,
          67,
          45,
          67,
          89,
          63,
          59,
          43,
          65,
          59,
          73,
          80,
          66,
          73,
          73,
          59,
          39,
          67,
          83,
          71,
          59,
          63,
          66,
          72,
          56,
          59,
          66,
          68,
          66,
          56,
          81,
          73,
          83,
          82,
          66,
          46,
          73,
          92,
          77,
          58,
          61,
          56,
          89,
          54,
          100,
          58,
          54,
          70,
          90,
          87,
          31,
          74,
          69,
          67,
          68,
          64,
          71,
          59,
          68,
          52,
          52,
          74,
          47,
          75,
          85,
          64,
          83,
          88,
          64,
          48,
          69,
          71,
          79,
          61,
          59,
          82,
          70,
          59,
          78,
          92,
          71,
          50,
          49,
          89,
          49,
          86,
          58,
          59,
          60,
          53,
          41,
          74,
          54,
          66,
          77,
          95,
          63,
          67,
          72,
          76,
          48,
          62,
          45,
          39,
          67,
          70,
          66,
          74,
          51,
          43,
          48,
          68,
          96,
          62,
          81,
          91,
          61,
          97,
          79,
          73,
          77,
          76,
          73,
          63,
          64,
          66,
          57,
          62,
          68,
          76,
          24,
          54,
          77,
          82,
          60,
          29,
          78,
          57,
          72,
          84,
          58,
          64,
          63,
          59,
          77,
          93,
          68,
          45,
          78,
          81,
          61,
          63,
          58,
          48,
          57,
          64,
          60,
          88,
          84,
          74,
          76,
          74,
          52,
          81,
          65,
          70,
          62,
          53,
          79,
          67,
          67,
          66,
          60,
          87,
          77,
          66,
          71,
          69,
          63,
          85,
          74,
          76,
          57,
          78,
          75,
          61,
          72,
          68,
          55,
          78,
          58,
          90,
          53,
          76,
          77,
          63,
          89,
          72,
          66,
          67,
          64,
          72,
          34,
          59,
          87,
          100,
          81,
          76,
          72,
          48,
          43,
          92,
          39,
          46,
          47,
          58,
          57,
          79,
          71,
          60,
          73,
          57,
          84,
          55,
          79,
          75,
          64,
          60,
          72,
          55,
          95,
          58,
          72,
          58,
          62,
          63,
          72,
          71,
          60,
          48,
          73,
          78,
          65,
          58,
          72,
          44,
          56,
          90,
          79,
          38,
          65,
          65,
          62,
          66,
          74,
          52,
          70,
          84,
          60,
          55,
          94,
          85,
          76,
          81,
          74,
          45,
          75,
          54,
          31,
          47,
          80,
          59,
          72,
          91,
          90,
          87,
          58,
          67,
          69,
          54,
          60,
          60,
          50,
          64,
          77,
          52,
          58,
          85,
          54,
          72,
          75,
          67,
          68,
          85,
          67,
          64,
          97,
          68,
          79,
          73,
          62,
          86,
          93,
          53,
          42,
          51,
          58,
          90,
          62,
          64,
          82,
          61,
          72,
          76,
          73,
          46,
          51,
          72,
          65,
          51,
          92,
          67,
          62,
          34,
          29,
          84,
          78,
          84,
          77,
          48,
          75,
          42,
          84,
          61,
          70,
          61,
          70,
          53,
          66,
          65,
          70,
          56,
          56,
          57,
          63,
          57,
          58,
          91,
          66,
          68,
          61,
          82,
          58,
          73,
          74,
          69,
          57,
          87,
          100,
          63,
          81,
          58,
          54,
          100,
          57,
          70,
          63,
          76,
          84,
          100,
          65,
          63,
          65,
          95,
          24,
          78,
          75,
          51,
          59,
          45,
          76,
          72,
          63,
          55,
          86
         ],
         "xaxis": "x",
         "yaxis": "y"
        },
        {
         "alignmentgroup": "True",
         "bingroup": "x",
         "hovertemplate": "test preparation course=completed<br>reading score=%{x}<br>count=%{y}<extra></extra>",
         "legendgroup": "completed",
         "marker": {
          "color": "#EF553B",
          "pattern": {
           "shape": ""
          }
         },
         "name": "completed",
         "offsetgroup": "completed",
         "orientation": "v",
         "showlegend": true,
         "type": "histogram",
         "x": [
          90,
          95,
          64,
          72,
          42,
          75,
          71,
          81,
          90,
          65,
          65,
          74,
          84,
          69,
          84,
          85,
          59,
          74,
          63,
          55,
          78,
          74,
          47,
          45,
          81,
          66,
          72,
          74,
          44,
          86,
          63,
          89,
          100,
          92,
          89,
          93,
          77,
          37,
          74,
          81,
          79,
          54,
          61,
          55,
          75,
          100,
          67,
          70,
          89,
          74,
          86,
          78,
          88,
          100,
          51,
          76,
          83,
          75,
          73,
          51,
          91,
          54,
          77,
          70,
          100,
          68,
          52,
          67,
          66,
          83,
          62,
          84,
          69,
          84,
          71,
          80,
          79,
          51,
          91,
          83,
          86,
          56,
          68,
          66,
          95,
          82,
          60,
          68,
          70,
          49,
          70,
          77,
          81,
          79,
          79,
          92,
          85,
          92,
          63,
          78,
          82,
          82,
          76,
          60,
          77,
          41,
          74,
          46,
          78,
          84,
          75,
          87,
          61,
          67,
          64,
          82,
          79,
          75,
          56,
          70,
          55,
          76,
          72,
          94,
          78,
          66,
          84,
          58,
          58,
          73,
          97,
          95,
          100,
          67,
          54,
          74,
          54,
          99,
          65,
          57,
          84,
          71,
          83,
          67,
          72,
          74,
          56,
          93,
          58,
          58,
          85,
          48,
          88,
          81,
          74,
          81,
          85,
          65,
          58,
          67,
          88,
          85,
          86,
          90,
          76,
          62,
          71,
          53,
          82,
          64,
          78,
          87,
          89,
          61,
          97,
          87,
          74,
          78,
          78,
          52,
          61,
          67,
          61,
          88,
          69,
          83,
          60,
          66,
          92,
          69,
          82,
          83,
          100,
          67,
          90,
          72,
          75,
          90,
          80,
          100,
          71,
          75,
          66,
          55,
          51,
          56,
          75,
          100,
          79,
          89,
          60,
          90,
          73,
          51,
          96,
          97,
          70,
          51,
          74,
          80,
          92,
          88,
          79,
          81,
          79,
          56,
          80,
          86,
          70,
          60,
          73,
          72,
          84,
          77,
          64,
          78,
          82,
          40,
          66,
          99,
          75,
          74,
          82,
          78,
          81,
          84,
          63,
          61,
          84,
          85,
          70,
          94,
          78,
          96,
          73,
          59,
          90,
          74,
          75,
          51,
          77,
          89,
          66,
          73,
          84,
          69,
          77,
          90,
          68,
          59,
          77,
          81,
          75,
          62,
          67,
          79,
          85,
          85,
          59,
          81,
          51,
          84,
          68,
          73,
          80,
          64,
          84,
          86,
          70,
          90,
          52,
          68,
          86,
          86,
          82,
          64,
          82,
          57,
          44,
          77,
          65,
          85,
          49,
          42,
          71,
          82,
          74,
          72,
          84,
          64,
          70,
          76,
          100,
          85,
          74,
          78,
          54,
          78,
          48,
          100,
          84,
          64,
          61,
          62,
          100,
          77,
          96,
          64,
          61,
          43,
          74,
          71,
          75,
          87,
          81,
          68,
          66,
          62,
          50,
          75,
          77,
          52,
          76,
          68,
          72,
          50,
          82,
          62,
          41,
          85,
          87,
          75,
          86,
          81,
          82,
          99,
          71,
          78
         ],
         "xaxis": "x",
         "yaxis": "y"
        }
       ],
       "layout": {
        "barmode": "relative",
        "legend": {
         "title": {
          "text": "test preparation course"
         },
         "tracegroupgap": 0
        },
        "margin": {
         "t": 60
        },
        "template": {
         "data": {
          "bar": [
           {
            "error_x": {
             "color": "#2a3f5f"
            },
            "error_y": {
             "color": "#2a3f5f"
            },
            "marker": {
             "line": {
              "color": "#E5ECF6",
              "width": 0.5
             },
             "pattern": {
              "fillmode": "overlay",
              "size": 10,
              "solidity": 0.2
             }
            },
            "type": "bar"
           }
          ],
          "barpolar": [
           {
            "marker": {
             "line": {
              "color": "#E5ECF6",
              "width": 0.5
             },
             "pattern": {
              "fillmode": "overlay",
              "size": 10,
              "solidity": 0.2
             }
            },
            "type": "barpolar"
           }
          ],
          "carpet": [
           {
            "aaxis": {
             "endlinecolor": "#2a3f5f",
             "gridcolor": "white",
             "linecolor": "white",
             "minorgridcolor": "white",
             "startlinecolor": "#2a3f5f"
            },
            "baxis": {
             "endlinecolor": "#2a3f5f",
             "gridcolor": "white",
             "linecolor": "white",
             "minorgridcolor": "white",
             "startlinecolor": "#2a3f5f"
            },
            "type": "carpet"
           }
          ],
          "choropleth": [
           {
            "colorbar": {
             "outlinewidth": 0,
             "ticks": ""
            },
            "type": "choropleth"
           }
          ],
          "contour": [
           {
            "colorbar": {
             "outlinewidth": 0,
             "ticks": ""
            },
            "colorscale": [
             [
              0,
              "#0d0887"
             ],
             [
              0.1111111111111111,
              "#46039f"
             ],
             [
              0.2222222222222222,
              "#7201a8"
             ],
             [
              0.3333333333333333,
              "#9c179e"
             ],
             [
              0.4444444444444444,
              "#bd3786"
             ],
             [
              0.5555555555555556,
              "#d8576b"
             ],
             [
              0.6666666666666666,
              "#ed7953"
             ],
             [
              0.7777777777777778,
              "#fb9f3a"
             ],
             [
              0.8888888888888888,
              "#fdca26"
             ],
             [
              1,
              "#f0f921"
             ]
            ],
            "type": "contour"
           }
          ],
          "contourcarpet": [
           {
            "colorbar": {
             "outlinewidth": 0,
             "ticks": ""
            },
            "type": "contourcarpet"
           }
          ],
          "heatmap": [
           {
            "colorbar": {
             "outlinewidth": 0,
             "ticks": ""
            },
            "colorscale": [
             [
              0,
              "#0d0887"
             ],
             [
              0.1111111111111111,
              "#46039f"
             ],
             [
              0.2222222222222222,
              "#7201a8"
             ],
             [
              0.3333333333333333,
              "#9c179e"
             ],
             [
              0.4444444444444444,
              "#bd3786"
             ],
             [
              0.5555555555555556,
              "#d8576b"
             ],
             [
              0.6666666666666666,
              "#ed7953"
             ],
             [
              0.7777777777777778,
              "#fb9f3a"
             ],
             [
              0.8888888888888888,
              "#fdca26"
             ],
             [
              1,
              "#f0f921"
             ]
            ],
            "type": "heatmap"
           }
          ],
          "heatmapgl": [
           {
            "colorbar": {
             "outlinewidth": 0,
             "ticks": ""
            },
            "colorscale": [
             [
              0,
              "#0d0887"
             ],
             [
              0.1111111111111111,
              "#46039f"
             ],
             [
              0.2222222222222222,
              "#7201a8"
             ],
             [
              0.3333333333333333,
              "#9c179e"
             ],
             [
              0.4444444444444444,
              "#bd3786"
             ],
             [
              0.5555555555555556,
              "#d8576b"
             ],
             [
              0.6666666666666666,
              "#ed7953"
             ],
             [
              0.7777777777777778,
              "#fb9f3a"
             ],
             [
              0.8888888888888888,
              "#fdca26"
             ],
             [
              1,
              "#f0f921"
             ]
            ],
            "type": "heatmapgl"
           }
          ],
          "histogram": [
           {
            "marker": {
             "pattern": {
              "fillmode": "overlay",
              "size": 10,
              "solidity": 0.2
             }
            },
            "type": "histogram"
           }
          ],
          "histogram2d": [
           {
            "colorbar": {
             "outlinewidth": 0,
             "ticks": ""
            },
            "colorscale": [
             [
              0,
              "#0d0887"
             ],
             [
              0.1111111111111111,
              "#46039f"
             ],
             [
              0.2222222222222222,
              "#7201a8"
             ],
             [
              0.3333333333333333,
              "#9c179e"
             ],
             [
              0.4444444444444444,
              "#bd3786"
             ],
             [
              0.5555555555555556,
              "#d8576b"
             ],
             [
              0.6666666666666666,
              "#ed7953"
             ],
             [
              0.7777777777777778,
              "#fb9f3a"
             ],
             [
              0.8888888888888888,
              "#fdca26"
             ],
             [
              1,
              "#f0f921"
             ]
            ],
            "type": "histogram2d"
           }
          ],
          "histogram2dcontour": [
           {
            "colorbar": {
             "outlinewidth": 0,
             "ticks": ""
            },
            "colorscale": [
             [
              0,
              "#0d0887"
             ],
             [
              0.1111111111111111,
              "#46039f"
             ],
             [
              0.2222222222222222,
              "#7201a8"
             ],
             [
              0.3333333333333333,
              "#9c179e"
             ],
             [
              0.4444444444444444,
              "#bd3786"
             ],
             [
              0.5555555555555556,
              "#d8576b"
             ],
             [
              0.6666666666666666,
              "#ed7953"
             ],
             [
              0.7777777777777778,
              "#fb9f3a"
             ],
             [
              0.8888888888888888,
              "#fdca26"
             ],
             [
              1,
              "#f0f921"
             ]
            ],
            "type": "histogram2dcontour"
           }
          ],
          "mesh3d": [
           {
            "colorbar": {
             "outlinewidth": 0,
             "ticks": ""
            },
            "type": "mesh3d"
           }
          ],
          "parcoords": [
           {
            "line": {
             "colorbar": {
              "outlinewidth": 0,
              "ticks": ""
             }
            },
            "type": "parcoords"
           }
          ],
          "pie": [
           {
            "automargin": true,
            "type": "pie"
           }
          ],
          "scatter": [
           {
            "fillpattern": {
             "fillmode": "overlay",
             "size": 10,
             "solidity": 0.2
            },
            "type": "scatter"
           }
          ],
          "scatter3d": [
           {
            "line": {
             "colorbar": {
              "outlinewidth": 0,
              "ticks": ""
             }
            },
            "marker": {
             "colorbar": {
              "outlinewidth": 0,
              "ticks": ""
             }
            },
            "type": "scatter3d"
           }
          ],
          "scattercarpet": [
           {
            "marker": {
             "colorbar": {
              "outlinewidth": 0,
              "ticks": ""
             }
            },
            "type": "scattercarpet"
           }
          ],
          "scattergeo": [
           {
            "marker": {
             "colorbar": {
              "outlinewidth": 0,
              "ticks": ""
             }
            },
            "type": "scattergeo"
           }
          ],
          "scattergl": [
           {
            "marker": {
             "colorbar": {
              "outlinewidth": 0,
              "ticks": ""
             }
            },
            "type": "scattergl"
           }
          ],
          "scattermapbox": [
           {
            "marker": {
             "colorbar": {
              "outlinewidth": 0,
              "ticks": ""
             }
            },
            "type": "scattermapbox"
           }
          ],
          "scatterpolar": [
           {
            "marker": {
             "colorbar": {
              "outlinewidth": 0,
              "ticks": ""
             }
            },
            "type": "scatterpolar"
           }
          ],
          "scatterpolargl": [
           {
            "marker": {
             "colorbar": {
              "outlinewidth": 0,
              "ticks": ""
             }
            },
            "type": "scatterpolargl"
           }
          ],
          "scatterternary": [
           {
            "marker": {
             "colorbar": {
              "outlinewidth": 0,
              "ticks": ""
             }
            },
            "type": "scatterternary"
           }
          ],
          "surface": [
           {
            "colorbar": {
             "outlinewidth": 0,
             "ticks": ""
            },
            "colorscale": [
             [
              0,
              "#0d0887"
             ],
             [
              0.1111111111111111,
              "#46039f"
             ],
             [
              0.2222222222222222,
              "#7201a8"
             ],
             [
              0.3333333333333333,
              "#9c179e"
             ],
             [
              0.4444444444444444,
              "#bd3786"
             ],
             [
              0.5555555555555556,
              "#d8576b"
             ],
             [
              0.6666666666666666,
              "#ed7953"
             ],
             [
              0.7777777777777778,
              "#fb9f3a"
             ],
             [
              0.8888888888888888,
              "#fdca26"
             ],
             [
              1,
              "#f0f921"
             ]
            ],
            "type": "surface"
           }
          ],
          "table": [
           {
            "cells": {
             "fill": {
              "color": "#EBF0F8"
             },
             "line": {
              "color": "white"
             }
            },
            "header": {
             "fill": {
              "color": "#C8D4E3"
             },
             "line": {
              "color": "white"
             }
            },
            "type": "table"
           }
          ]
         },
         "layout": {
          "annotationdefaults": {
           "arrowcolor": "#2a3f5f",
           "arrowhead": 0,
           "arrowwidth": 1
          },
          "autotypenumbers": "strict",
          "coloraxis": {
           "colorbar": {
            "outlinewidth": 0,
            "ticks": ""
           }
          },
          "colorscale": {
           "diverging": [
            [
             0,
             "#8e0152"
            ],
            [
             0.1,
             "#c51b7d"
            ],
            [
             0.2,
             "#de77ae"
            ],
            [
             0.3,
             "#f1b6da"
            ],
            [
             0.4,
             "#fde0ef"
            ],
            [
             0.5,
             "#f7f7f7"
            ],
            [
             0.6,
             "#e6f5d0"
            ],
            [
             0.7,
             "#b8e186"
            ],
            [
             0.8,
             "#7fbc41"
            ],
            [
             0.9,
             "#4d9221"
            ],
            [
             1,
             "#276419"
            ]
           ],
           "sequential": [
            [
             0,
             "#0d0887"
            ],
            [
             0.1111111111111111,
             "#46039f"
            ],
            [
             0.2222222222222222,
             "#7201a8"
            ],
            [
             0.3333333333333333,
             "#9c179e"
            ],
            [
             0.4444444444444444,
             "#bd3786"
            ],
            [
             0.5555555555555556,
             "#d8576b"
            ],
            [
             0.6666666666666666,
             "#ed7953"
            ],
            [
             0.7777777777777778,
             "#fb9f3a"
            ],
            [
             0.8888888888888888,
             "#fdca26"
            ],
            [
             1,
             "#f0f921"
            ]
           ],
           "sequentialminus": [
            [
             0,
             "#0d0887"
            ],
            [
             0.1111111111111111,
             "#46039f"
            ],
            [
             0.2222222222222222,
             "#7201a8"
            ],
            [
             0.3333333333333333,
             "#9c179e"
            ],
            [
             0.4444444444444444,
             "#bd3786"
            ],
            [
             0.5555555555555556,
             "#d8576b"
            ],
            [
             0.6666666666666666,
             "#ed7953"
            ],
            [
             0.7777777777777778,
             "#fb9f3a"
            ],
            [
             0.8888888888888888,
             "#fdca26"
            ],
            [
             1,
             "#f0f921"
            ]
           ]
          },
          "colorway": [
           "#636efa",
           "#EF553B",
           "#00cc96",
           "#ab63fa",
           "#FFA15A",
           "#19d3f3",
           "#FF6692",
           "#B6E880",
           "#FF97FF",
           "#FECB52"
          ],
          "font": {
           "color": "#2a3f5f"
          },
          "geo": {
           "bgcolor": "white",
           "lakecolor": "white",
           "landcolor": "#E5ECF6",
           "showlakes": true,
           "showland": true,
           "subunitcolor": "white"
          },
          "hoverlabel": {
           "align": "left"
          },
          "hovermode": "closest",
          "mapbox": {
           "style": "light"
          },
          "paper_bgcolor": "white",
          "plot_bgcolor": "#E5ECF6",
          "polar": {
           "angularaxis": {
            "gridcolor": "white",
            "linecolor": "white",
            "ticks": ""
           },
           "bgcolor": "#E5ECF6",
           "radialaxis": {
            "gridcolor": "white",
            "linecolor": "white",
            "ticks": ""
           }
          },
          "scene": {
           "xaxis": {
            "backgroundcolor": "#E5ECF6",
            "gridcolor": "white",
            "gridwidth": 2,
            "linecolor": "white",
            "showbackground": true,
            "ticks": "",
            "zerolinecolor": "white"
           },
           "yaxis": {
            "backgroundcolor": "#E5ECF6",
            "gridcolor": "white",
            "gridwidth": 2,
            "linecolor": "white",
            "showbackground": true,
            "ticks": "",
            "zerolinecolor": "white"
           },
           "zaxis": {
            "backgroundcolor": "#E5ECF6",
            "gridcolor": "white",
            "gridwidth": 2,
            "linecolor": "white",
            "showbackground": true,
            "ticks": "",
            "zerolinecolor": "white"
           }
          },
          "shapedefaults": {
           "line": {
            "color": "#2a3f5f"
           }
          },
          "ternary": {
           "aaxis": {
            "gridcolor": "white",
            "linecolor": "white",
            "ticks": ""
           },
           "baxis": {
            "gridcolor": "white",
            "linecolor": "white",
            "ticks": ""
           },
           "bgcolor": "#E5ECF6",
           "caxis": {
            "gridcolor": "white",
            "linecolor": "white",
            "ticks": ""
           }
          },
          "title": {
           "x": 0.05
          },
          "xaxis": {
           "automargin": true,
           "gridcolor": "white",
           "linecolor": "white",
           "ticks": "",
           "title": {
            "standoff": 15
           },
           "zerolinecolor": "white",
           "zerolinewidth": 2
          },
          "yaxis": {
           "automargin": true,
           "gridcolor": "white",
           "linecolor": "white",
           "ticks": "",
           "title": {
            "standoff": 15
           },
           "zerolinecolor": "white",
           "zerolinewidth": 2
          }
         }
        },
        "xaxis": {
         "anchor": "y",
         "domain": [
          0,
          1
         ],
         "title": {
          "text": "reading score"
         }
        },
        "yaxis": {
         "anchor": "x",
         "domain": [
          0,
          1
         ],
         "title": {
          "text": "count"
         }
        }
       }
      },
      "text/html": [
       "<div>                            <div id=\"e175081b-bbcf-4ee9-b1eb-e7868e43a9af\" class=\"plotly-graph-div\" style=\"height:525px; width:100%;\"></div>            <script type=\"text/javascript\">                require([\"plotly\"], function(Plotly) {                    window.PLOTLYENV=window.PLOTLYENV || {};                                    if (document.getElementById(\"e175081b-bbcf-4ee9-b1eb-e7868e43a9af\")) {                    Plotly.newPlot(                        \"e175081b-bbcf-4ee9-b1eb-e7868e43a9af\",                        [{\"alignmentgroup\":\"True\",\"bingroup\":\"x\",\"hovertemplate\":\"test preparation course=none<br>reading score=%{x}<br>count=%{y}<extra></extra>\",\"legendgroup\":\"none\",\"marker\":{\"color\":\"#636efa\",\"pattern\":{\"shape\":\"\"}},\"name\":\"none\",\"offsetgroup\":\"none\",\"orientation\":\"v\",\"showlegend\":true,\"x\":[72,95,57,78,83,43,60,54,52,81,53,75,89,32,58,69,54,73,74,54,69,70,70,74,65,72,42,87,81,64,56,61,73,58,56,54,71,55,44,78,41,55,17,39,61,80,58,64,37,72,58,64,51,57,49,41,26,68,49,45,64,39,80,83,71,70,86,72,34,79,86,67,67,67,91,67,100,76,64,55,53,58,77,85,82,63,69,57,80,95,68,82,49,84,55,55,66,72,62,43,73,39,84,68,67,49,67,60,62,53,53,92,88,86,67,64,50,69,76,52,88,65,64,55,56,53,79,81,77,69,41,62,81,61,28,62,42,77,85,65,80,56,72,50,72,64,43,86,87,75,66,52,80,83,52,51,74,76,76,64,60,83,80,52,73,73,75,50,93,73,42,75,72,76,63,49,53,70,78,86,56,52,48,79,46,89,75,70,73,73,62,87,54,76,67,52,71,57,76,60,66,72,71,65,86,81,53,46,90,61,23,55,60,37,78,93,68,51,38,61,73,73,80,61,74,74,65,57,58,71,72,61,62,90,62,58,34,60,66,64,84,77,74,70,43,90,83,64,86,81,49,43,76,73,78,64,70,68,67,45,67,89,63,59,43,65,59,73,80,66,73,73,59,39,67,83,71,59,63,66,72,56,59,66,68,66,56,81,73,83,82,66,46,73,92,77,58,61,56,89,54,100,58,54,70,90,87,31,74,69,67,68,64,71,59,68,52,52,74,47,75,85,64,83,88,64,48,69,71,79,61,59,82,70,59,78,92,71,50,49,89,49,86,58,59,60,53,41,74,54,66,77,95,63,67,72,76,48,62,45,39,67,70,66,74,51,43,48,68,96,62,81,91,61,97,79,73,77,76,73,63,64,66,57,62,68,76,24,54,77,82,60,29,78,57,72,84,58,64,63,59,77,93,68,45,78,81,61,63,58,48,57,64,60,88,84,74,76,74,52,81,65,70,62,53,79,67,67,66,60,87,77,66,71,69,63,85,74,76,57,78,75,61,72,68,55,78,58,90,53,76,77,63,89,72,66,67,64,72,34,59,87,100,81,76,72,48,43,92,39,46,47,58,57,79,71,60,73,57,84,55,79,75,64,60,72,55,95,58,72,58,62,63,72,71,60,48,73,78,65,58,72,44,56,90,79,38,65,65,62,66,74,52,70,84,60,55,94,85,76,81,74,45,75,54,31,47,80,59,72,91,90,87,58,67,69,54,60,60,50,64,77,52,58,85,54,72,75,67,68,85,67,64,97,68,79,73,62,86,93,53,42,51,58,90,62,64,82,61,72,76,73,46,51,72,65,51,92,67,62,34,29,84,78,84,77,48,75,42,84,61,70,61,70,53,66,65,70,56,56,57,63,57,58,91,66,68,61,82,58,73,74,69,57,87,100,63,81,58,54,100,57,70,63,76,84,100,65,63,65,95,24,78,75,51,59,45,76,72,63,55,86],\"xaxis\":\"x\",\"yaxis\":\"y\",\"type\":\"histogram\"},{\"alignmentgroup\":\"True\",\"bingroup\":\"x\",\"hovertemplate\":\"test preparation course=completed<br>reading score=%{x}<br>count=%{y}<extra></extra>\",\"legendgroup\":\"completed\",\"marker\":{\"color\":\"#EF553B\",\"pattern\":{\"shape\":\"\"}},\"name\":\"completed\",\"offsetgroup\":\"completed\",\"orientation\":\"v\",\"showlegend\":true,\"x\":[90,95,64,72,42,75,71,81,90,65,65,74,84,69,84,85,59,74,63,55,78,74,47,45,81,66,72,74,44,86,63,89,100,92,89,93,77,37,74,81,79,54,61,55,75,100,67,70,89,74,86,78,88,100,51,76,83,75,73,51,91,54,77,70,100,68,52,67,66,83,62,84,69,84,71,80,79,51,91,83,86,56,68,66,95,82,60,68,70,49,70,77,81,79,79,92,85,92,63,78,82,82,76,60,77,41,74,46,78,84,75,87,61,67,64,82,79,75,56,70,55,76,72,94,78,66,84,58,58,73,97,95,100,67,54,74,54,99,65,57,84,71,83,67,72,74,56,93,58,58,85,48,88,81,74,81,85,65,58,67,88,85,86,90,76,62,71,53,82,64,78,87,89,61,97,87,74,78,78,52,61,67,61,88,69,83,60,66,92,69,82,83,100,67,90,72,75,90,80,100,71,75,66,55,51,56,75,100,79,89,60,90,73,51,96,97,70,51,74,80,92,88,79,81,79,56,80,86,70,60,73,72,84,77,64,78,82,40,66,99,75,74,82,78,81,84,63,61,84,85,70,94,78,96,73,59,90,74,75,51,77,89,66,73,84,69,77,90,68,59,77,81,75,62,67,79,85,85,59,81,51,84,68,73,80,64,84,86,70,90,52,68,86,86,82,64,82,57,44,77,65,85,49,42,71,82,74,72,84,64,70,76,100,85,74,78,54,78,48,100,84,64,61,62,100,77,96,64,61,43,74,71,75,87,81,68,66,62,50,75,77,52,76,68,72,50,82,62,41,85,87,75,86,81,82,99,71,78],\"xaxis\":\"x\",\"yaxis\":\"y\",\"type\":\"histogram\"}],                        {\"template\":{\"data\":{\"histogram2dcontour\":[{\"type\":\"histogram2dcontour\",\"colorbar\":{\"outlinewidth\":0,\"ticks\":\"\"},\"colorscale\":[[0.0,\"#0d0887\"],[0.1111111111111111,\"#46039f\"],[0.2222222222222222,\"#7201a8\"],[0.3333333333333333,\"#9c179e\"],[0.4444444444444444,\"#bd3786\"],[0.5555555555555556,\"#d8576b\"],[0.6666666666666666,\"#ed7953\"],[0.7777777777777778,\"#fb9f3a\"],[0.8888888888888888,\"#fdca26\"],[1.0,\"#f0f921\"]]}],\"choropleth\":[{\"type\":\"choropleth\",\"colorbar\":{\"outlinewidth\":0,\"ticks\":\"\"}}],\"histogram2d\":[{\"type\":\"histogram2d\",\"colorbar\":{\"outlinewidth\":0,\"ticks\":\"\"},\"colorscale\":[[0.0,\"#0d0887\"],[0.1111111111111111,\"#46039f\"],[0.2222222222222222,\"#7201a8\"],[0.3333333333333333,\"#9c179e\"],[0.4444444444444444,\"#bd3786\"],[0.5555555555555556,\"#d8576b\"],[0.6666666666666666,\"#ed7953\"],[0.7777777777777778,\"#fb9f3a\"],[0.8888888888888888,\"#fdca26\"],[1.0,\"#f0f921\"]]}],\"heatmap\":[{\"type\":\"heatmap\",\"colorbar\":{\"outlinewidth\":0,\"ticks\":\"\"},\"colorscale\":[[0.0,\"#0d0887\"],[0.1111111111111111,\"#46039f\"],[0.2222222222222222,\"#7201a8\"],[0.3333333333333333,\"#9c179e\"],[0.4444444444444444,\"#bd3786\"],[0.5555555555555556,\"#d8576b\"],[0.6666666666666666,\"#ed7953\"],[0.7777777777777778,\"#fb9f3a\"],[0.8888888888888888,\"#fdca26\"],[1.0,\"#f0f921\"]]}],\"heatmapgl\":[{\"type\":\"heatmapgl\",\"colorbar\":{\"outlinewidth\":0,\"ticks\":\"\"},\"colorscale\":[[0.0,\"#0d0887\"],[0.1111111111111111,\"#46039f\"],[0.2222222222222222,\"#7201a8\"],[0.3333333333333333,\"#9c179e\"],[0.4444444444444444,\"#bd3786\"],[0.5555555555555556,\"#d8576b\"],[0.6666666666666666,\"#ed7953\"],[0.7777777777777778,\"#fb9f3a\"],[0.8888888888888888,\"#fdca26\"],[1.0,\"#f0f921\"]]}],\"contourcarpet\":[{\"type\":\"contourcarpet\",\"colorbar\":{\"outlinewidth\":0,\"ticks\":\"\"}}],\"contour\":[{\"type\":\"contour\",\"colorbar\":{\"outlinewidth\":0,\"ticks\":\"\"},\"colorscale\":[[0.0,\"#0d0887\"],[0.1111111111111111,\"#46039f\"],[0.2222222222222222,\"#7201a8\"],[0.3333333333333333,\"#9c179e\"],[0.4444444444444444,\"#bd3786\"],[0.5555555555555556,\"#d8576b\"],[0.6666666666666666,\"#ed7953\"],[0.7777777777777778,\"#fb9f3a\"],[0.8888888888888888,\"#fdca26\"],[1.0,\"#f0f921\"]]}],\"surface\":[{\"type\":\"surface\",\"colorbar\":{\"outlinewidth\":0,\"ticks\":\"\"},\"colorscale\":[[0.0,\"#0d0887\"],[0.1111111111111111,\"#46039f\"],[0.2222222222222222,\"#7201a8\"],[0.3333333333333333,\"#9c179e\"],[0.4444444444444444,\"#bd3786\"],[0.5555555555555556,\"#d8576b\"],[0.6666666666666666,\"#ed7953\"],[0.7777777777777778,\"#fb9f3a\"],[0.8888888888888888,\"#fdca26\"],[1.0,\"#f0f921\"]]}],\"mesh3d\":[{\"type\":\"mesh3d\",\"colorbar\":{\"outlinewidth\":0,\"ticks\":\"\"}}],\"scatter\":[{\"fillpattern\":{\"fillmode\":\"overlay\",\"size\":10,\"solidity\":0.2},\"type\":\"scatter\"}],\"parcoords\":[{\"type\":\"parcoords\",\"line\":{\"colorbar\":{\"outlinewidth\":0,\"ticks\":\"\"}}}],\"scatterpolargl\":[{\"type\":\"scatterpolargl\",\"marker\":{\"colorbar\":{\"outlinewidth\":0,\"ticks\":\"\"}}}],\"bar\":[{\"error_x\":{\"color\":\"#2a3f5f\"},\"error_y\":{\"color\":\"#2a3f5f\"},\"marker\":{\"line\":{\"color\":\"#E5ECF6\",\"width\":0.5},\"pattern\":{\"fillmode\":\"overlay\",\"size\":10,\"solidity\":0.2}},\"type\":\"bar\"}],\"scattergeo\":[{\"type\":\"scattergeo\",\"marker\":{\"colorbar\":{\"outlinewidth\":0,\"ticks\":\"\"}}}],\"scatterpolar\":[{\"type\":\"scatterpolar\",\"marker\":{\"colorbar\":{\"outlinewidth\":0,\"ticks\":\"\"}}}],\"histogram\":[{\"marker\":{\"pattern\":{\"fillmode\":\"overlay\",\"size\":10,\"solidity\":0.2}},\"type\":\"histogram\"}],\"scattergl\":[{\"type\":\"scattergl\",\"marker\":{\"colorbar\":{\"outlinewidth\":0,\"ticks\":\"\"}}}],\"scatter3d\":[{\"type\":\"scatter3d\",\"line\":{\"colorbar\":{\"outlinewidth\":0,\"ticks\":\"\"}},\"marker\":{\"colorbar\":{\"outlinewidth\":0,\"ticks\":\"\"}}}],\"scattermapbox\":[{\"type\":\"scattermapbox\",\"marker\":{\"colorbar\":{\"outlinewidth\":0,\"ticks\":\"\"}}}],\"scatterternary\":[{\"type\":\"scatterternary\",\"marker\":{\"colorbar\":{\"outlinewidth\":0,\"ticks\":\"\"}}}],\"scattercarpet\":[{\"type\":\"scattercarpet\",\"marker\":{\"colorbar\":{\"outlinewidth\":0,\"ticks\":\"\"}}}],\"carpet\":[{\"aaxis\":{\"endlinecolor\":\"#2a3f5f\",\"gridcolor\":\"white\",\"linecolor\":\"white\",\"minorgridcolor\":\"white\",\"startlinecolor\":\"#2a3f5f\"},\"baxis\":{\"endlinecolor\":\"#2a3f5f\",\"gridcolor\":\"white\",\"linecolor\":\"white\",\"minorgridcolor\":\"white\",\"startlinecolor\":\"#2a3f5f\"},\"type\":\"carpet\"}],\"table\":[{\"cells\":{\"fill\":{\"color\":\"#EBF0F8\"},\"line\":{\"color\":\"white\"}},\"header\":{\"fill\":{\"color\":\"#C8D4E3\"},\"line\":{\"color\":\"white\"}},\"type\":\"table\"}],\"barpolar\":[{\"marker\":{\"line\":{\"color\":\"#E5ECF6\",\"width\":0.5},\"pattern\":{\"fillmode\":\"overlay\",\"size\":10,\"solidity\":0.2}},\"type\":\"barpolar\"}],\"pie\":[{\"automargin\":true,\"type\":\"pie\"}]},\"layout\":{\"autotypenumbers\":\"strict\",\"colorway\":[\"#636efa\",\"#EF553B\",\"#00cc96\",\"#ab63fa\",\"#FFA15A\",\"#19d3f3\",\"#FF6692\",\"#B6E880\",\"#FF97FF\",\"#FECB52\"],\"font\":{\"color\":\"#2a3f5f\"},\"hovermode\":\"closest\",\"hoverlabel\":{\"align\":\"left\"},\"paper_bgcolor\":\"white\",\"plot_bgcolor\":\"#E5ECF6\",\"polar\":{\"bgcolor\":\"#E5ECF6\",\"angularaxis\":{\"gridcolor\":\"white\",\"linecolor\":\"white\",\"ticks\":\"\"},\"radialaxis\":{\"gridcolor\":\"white\",\"linecolor\":\"white\",\"ticks\":\"\"}},\"ternary\":{\"bgcolor\":\"#E5ECF6\",\"aaxis\":{\"gridcolor\":\"white\",\"linecolor\":\"white\",\"ticks\":\"\"},\"baxis\":{\"gridcolor\":\"white\",\"linecolor\":\"white\",\"ticks\":\"\"},\"caxis\":{\"gridcolor\":\"white\",\"linecolor\":\"white\",\"ticks\":\"\"}},\"coloraxis\":{\"colorbar\":{\"outlinewidth\":0,\"ticks\":\"\"}},\"colorscale\":{\"sequential\":[[0.0,\"#0d0887\"],[0.1111111111111111,\"#46039f\"],[0.2222222222222222,\"#7201a8\"],[0.3333333333333333,\"#9c179e\"],[0.4444444444444444,\"#bd3786\"],[0.5555555555555556,\"#d8576b\"],[0.6666666666666666,\"#ed7953\"],[0.7777777777777778,\"#fb9f3a\"],[0.8888888888888888,\"#fdca26\"],[1.0,\"#f0f921\"]],\"sequentialminus\":[[0.0,\"#0d0887\"],[0.1111111111111111,\"#46039f\"],[0.2222222222222222,\"#7201a8\"],[0.3333333333333333,\"#9c179e\"],[0.4444444444444444,\"#bd3786\"],[0.5555555555555556,\"#d8576b\"],[0.6666666666666666,\"#ed7953\"],[0.7777777777777778,\"#fb9f3a\"],[0.8888888888888888,\"#fdca26\"],[1.0,\"#f0f921\"]],\"diverging\":[[0,\"#8e0152\"],[0.1,\"#c51b7d\"],[0.2,\"#de77ae\"],[0.3,\"#f1b6da\"],[0.4,\"#fde0ef\"],[0.5,\"#f7f7f7\"],[0.6,\"#e6f5d0\"],[0.7,\"#b8e186\"],[0.8,\"#7fbc41\"],[0.9,\"#4d9221\"],[1,\"#276419\"]]},\"xaxis\":{\"gridcolor\":\"white\",\"linecolor\":\"white\",\"ticks\":\"\",\"title\":{\"standoff\":15},\"zerolinecolor\":\"white\",\"automargin\":true,\"zerolinewidth\":2},\"yaxis\":{\"gridcolor\":\"white\",\"linecolor\":\"white\",\"ticks\":\"\",\"title\":{\"standoff\":15},\"zerolinecolor\":\"white\",\"automargin\":true,\"zerolinewidth\":2},\"scene\":{\"xaxis\":{\"backgroundcolor\":\"#E5ECF6\",\"gridcolor\":\"white\",\"linecolor\":\"white\",\"showbackground\":true,\"ticks\":\"\",\"zerolinecolor\":\"white\",\"gridwidth\":2},\"yaxis\":{\"backgroundcolor\":\"#E5ECF6\",\"gridcolor\":\"white\",\"linecolor\":\"white\",\"showbackground\":true,\"ticks\":\"\",\"zerolinecolor\":\"white\",\"gridwidth\":2},\"zaxis\":{\"backgroundcolor\":\"#E5ECF6\",\"gridcolor\":\"white\",\"linecolor\":\"white\",\"showbackground\":true,\"ticks\":\"\",\"zerolinecolor\":\"white\",\"gridwidth\":2}},\"shapedefaults\":{\"line\":{\"color\":\"#2a3f5f\"}},\"annotationdefaults\":{\"arrowcolor\":\"#2a3f5f\",\"arrowhead\":0,\"arrowwidth\":1},\"geo\":{\"bgcolor\":\"white\",\"landcolor\":\"#E5ECF6\",\"subunitcolor\":\"white\",\"showland\":true,\"showlakes\":true,\"lakecolor\":\"white\"},\"title\":{\"x\":0.05},\"mapbox\":{\"style\":\"light\"}}},\"xaxis\":{\"anchor\":\"y\",\"domain\":[0.0,1.0],\"title\":{\"text\":\"reading score\"}},\"yaxis\":{\"anchor\":\"x\",\"domain\":[0.0,1.0],\"title\":{\"text\":\"count\"}},\"legend\":{\"title\":{\"text\":\"test preparation course\"},\"tracegroupgap\":0},\"margin\":{\"t\":60},\"barmode\":\"relative\"},                        {\"responsive\": true}                    ).then(function(){\n",
       "                            \n",
       "var gd = document.getElementById('e175081b-bbcf-4ee9-b1eb-e7868e43a9af');\n",
       "var x = new MutationObserver(function (mutations, observer) {{\n",
       "        var display = window.getComputedStyle(gd).display;\n",
       "        if (!display || display === 'none') {{\n",
       "            console.log([gd, 'removed!']);\n",
       "            Plotly.purge(gd);\n",
       "            observer.disconnect();\n",
       "        }}\n",
       "}});\n",
       "\n",
       "// Listen for the removal of the full notebook cells\n",
       "var notebookContainer = gd.closest('#notebook-container');\n",
       "if (notebookContainer) {{\n",
       "    x.observe(notebookContainer, {childList: true});\n",
       "}}\n",
       "\n",
       "// Listen for the clearing of the current output cell\n",
       "var outputEl = gd.closest('.output');\n",
       "if (outputEl) {{\n",
       "    x.observe(outputEl, {childList: true});\n",
       "}}\n",
       "\n",
       "                        })                };                });            </script>        </div>"
      ]
     },
     "metadata": {},
     "output_type": "display_data"
    },
    {
     "data": {
      "application/vnd.plotly.v1+json": {
       "config": {
        "plotlyServerURL": "https://plot.ly"
       },
       "data": [
        {
         "alignmentgroup": "True",
         "bingroup": "x",
         "hovertemplate": "test preparation course=none<br>writing score=%{x}<br>count=%{y}<extra></extra>",
         "legendgroup": "none",
         "marker": {
          "color": "#636efa",
          "pattern": {
           "shape": ""
          }
         },
         "name": "none",
         "offsetgroup": "none",
         "orientation": "v",
         "showlegend": true,
         "type": "histogram",
         "x": [
          74,
          93,
          44,
          75,
          78,
          39,
          50,
          52,
          43,
          73,
          58,
          78,
          86,
          28,
          61,
          63,
          53,
          73,
          72,
          55,
          75,
          65,
          75,
          74,
          61,
          65,
          38,
          82,
          83,
          59,
          57,
          54,
          68,
          65,
          54,
          57,
          76,
          48,
          42,
          75,
          43,
          49,
          10,
          34,
          55,
          71,
          59,
          61,
          37,
          74,
          56,
          57,
          48,
          56,
          41,
          38,
          22,
          68,
          50,
          45,
          63,
          34,
          82,
          88,
          74,
          67,
          82,
          74,
          36,
          71,
          92,
          62,
          62,
          67,
          89,
          72,
          100,
          70,
          72,
          49,
          47,
          54,
          74,
          82,
          79,
          61,
          65,
          56,
          73,
          86,
          67,
          74,
          51,
          82,
          48,
          56,
          67,
          71,
          64,
          47,
          78,
          33,
          75,
          66,
          68,
          47,
          61,
          60,
          64,
          52,
          49,
          91,
          78,
          81,
          70,
          66,
          47,
          70,
          65,
          45,
          87,
          69,
          66,
          52,
          51,
          55,
          76,
          77,
          69,
          68,
          42,
          62,
          76,
          66,
          27,
          60,
          39,
          70,
          73,
          62,
          75,
          54,
          71,
          54,
          64,
          66,
          42,
          83,
          78,
          77,
          67,
          51,
          80,
          83,
          55,
          43,
          69,
          71,
          74,
          62,
          53,
          83,
          72,
          52,
          70,
          68,
          78,
          51,
          90,
          68,
          41,
          81,
          77,
          70,
          61,
          42,
          58,
          71,
          73,
          80,
          57,
          42,
          46,
          84,
          46,
          82,
          76,
          68,
          70,
          75,
          60,
          75,
          52,
          64,
          69,
          44,
          67,
          52,
          80,
          57,
          65,
          78,
          69,
          63,
          79,
          80,
          53,
          43,
          94,
          62,
          19,
          51,
          61,
          35,
          81,
          95,
          66,
          43,
          27,
          52,
          63,
          67,
          75,
          57,
          66,
          76,
          69,
          52,
          57,
          70,
          70,
          61,
          61,
          89,
          59,
          58,
          32,
          58,
          61,
          58,
          85,
          71,
          72,
          73,
          41,
          82,
          77,
          62,
          83,
          71,
          45,
          43,
          75,
          70,
          67,
          64,
          75,
          77,
          67,
          41,
          63,
          95,
          57,
          54,
          43,
          55,
          62,
          68,
          77,
          60,
          69,
          67,
          62,
          34,
          62,
          86,
          65,
          53,
          54,
          59,
          70,
          55,
          50,
          66,
          64,
          73,
          51,
          80,
          69,
          76,
          73,
          60,
          42,
          72,
          97,
          74,
          49,
          62,
          47,
          89,
          48,
          100,
          55,
          45,
          76,
          91,
          91,
          38,
          76,
          74,
          61,
          72,
          70,
          67,
          56,
          61,
          46,
          54,
          71,
          56,
          74,
          76,
          70,
          90,
          90,
          68,
          52,
          68,
          72,
          82,
          54,
          54,
          80,
          66,
          54,
          77,
          87,
          73,
          43,
          52,
          84,
          52,
          84,
          57,
          50,
          59,
          43,
          47,
          70,
          53,
          62,
          79,
          89,
          66,
          64,
          69,
          65,
          50,
          64,
          40,
          33,
          66,
          70,
          62,
          74,
          46,
          45,
          47,
          67,
          92,
          56,
          71,
          89,
          68,
          96,
          80,
          78,
          77,
          76,
          73,
          62,
          65,
          65,
          54,
          50,
          64,
          73,
          15,
          48,
          73,
          81,
          63,
          30,
          80,
          51,
          62,
          82,
          54,
          62,
          65,
          66,
          74,
          93,
          72,
          38,
          83,
          84,
          54,
          56,
          62,
          46,
          46,
          70,
          65,
          85,
          80,
          64,
          74,
          73,
          51,
          79,
          60,
          65,
          68,
          55,
          79,
          67,
          64,
          61,
          58,
          85,
          73,
          63,
          69,
          67,
          63,
          87,
          61,
          68,
          50,
          76,
          78,
          60,
          74,
          60,
          54,
          73,
          44,
          83,
          53,
          78,
          73,
          56,
          86,
          70,
          59,
          72,
          67,
          65,
          36,
          52,
          79,
          99,
          84,
          74,
          70,
          42,
          41,
          84,
          37,
          43,
          44,
          57,
          59,
          84,
          73,
          55,
          72,
          56,
          82,
          47,
          74,
          71,
          68,
          59,
          65,
          53,
          92,
          52,
          64,
          54,
          63,
          59,
          72,
          75,
          57,
          49,
          74,
          79,
          60,
          55,
          70,
          43,
          57,
          84,
          77,
          32,
          61,
          61,
          60,
          70,
          69,
          51,
          70,
          81,
          54,
          57,
          95,
          87,
          78,
          74,
          75,
          40,
          69,
          51,
          36,
          49,
          83,
          64,
          68,
          88,
          93,
          82,
          52,
          58,
          76,
          53,
          57,
          58,
          45,
          57,
          73,
          46,
          51,
          84,
          50,
          68,
          69,
          67,
          63,
          93,
          61,
          55,
          96,
          65,
          81,
          72,
          53,
          87,
          91,
          52,
          41,
          51,
          47,
          82,
          61,
          66,
          84,
          54,
          80,
          74,
          71,
          44,
          54,
          59,
          74,
          48,
          85,
          73,
          69,
          38,
          27,
          89,
          74,
          84,
          77,
          51,
          72,
          48,
          82,
          55,
          66,
          52,
          67,
          46,
          66,
          65,
          69,
          52,
          51,
          62,
          58,
          53,
          57,
          96,
          64,
          61,
          58,
          80,
          60,
          71,
          72,
          69,
          62,
          81,
          100,
          59,
          71,
          64,
          53,
          100,
          58,
          72,
          60,
          67,
          80,
          100,
          61,
          67,
          58,
          94,
          23,
          78,
          82,
          54,
          51,
          45,
          76,
          74,
          62,
          55,
          86
         ],
         "xaxis": "x",
         "yaxis": "y"
        },
        {
         "alignmentgroup": "True",
         "bingroup": "x",
         "hovertemplate": "test preparation course=completed<br>writing score=%{x}<br>count=%{y}<extra></extra>",
         "legendgroup": "completed",
         "marker": {
          "color": "#EF553B",
          "pattern": {
           "shape": ""
          }
         },
         "name": "completed",
         "offsetgroup": "completed",
         "orientation": "v",
         "showlegend": true,
         "type": "histogram",
         "x": [
          88,
          92,
          67,
          70,
          46,
          70,
          80,
          79,
          88,
          66,
          62,
          76,
          82,
          68,
          87,
          86,
          58,
          72,
          73,
          63,
          81,
          72,
          54,
          50,
          82,
          62,
          70,
          74,
          47,
          90,
          64,
          98,
          100,
          89,
          92,
          93,
          74,
          40,
          70,
          84,
          75,
          41,
          69,
          54,
          81,
          93,
          69,
          66,
          88,
          78,
          87,
          74,
          85,
          100,
          51,
          78,
          78,
          70,
          74,
          54,
          87,
          58,
          77,
          62,
          100,
          75,
          49,
          65,
          68,
          79,
          62,
          85,
          65,
          86,
          78,
          76,
          79,
          56,
          81,
          75,
          88,
          56,
          74,
          73,
          94,
          84,
          74,
          66,
          68,
          49,
          70,
          77,
          81,
          77,
          78,
          95,
          76,
          93,
          75,
          78,
          82,
          88,
          77,
          57,
          80,
          43,
          68,
          50,
          81,
          81,
          83,
          81,
          68,
          69,
          75,
          91,
          84,
          77,
          53,
          69,
          60,
          74,
          67,
          95,
          80,
          69,
          78,
          60,
          53,
          70,
          96,
          100,
          95,
          59,
          56,
          77,
          67,
          100,
          63,
          56,
          85,
          74,
          78,
          67,
          79,
          68,
          54,
          93,
          64,
          67,
          80,
          53,
          82,
          79,
          77,
          80,
          85,
          68,
          62,
          65,
          85,
          90,
          84,
          91,
          83,
          66,
          68,
          57,
          82,
          66,
          76,
          92,
          92,
          62,
          94,
          85,
          73,
          78,
          79,
          49,
          60,
          73,
          58,
          94,
          68,
          83,
          58,
          71,
          86,
          68,
          80,
          80,
          97,
          64,
          88,
          79,
          79,
          92,
          80,
          100,
          78,
          70,
          64,
          53,
          52,
          58,
          80,
          99,
          72,
          90,
          63,
          91,
          68,
          52,
          86,
          99,
          63,
          55,
          81,
          81,
          88,
          90,
          80,
          81,
          81,
          53,
          76,
          98,
          74,
          60,
          71,
          77,
          84,
          78,
          66,
          76,
          76,
          44,
          68,
          100,
          68,
          81,
          90,
          79,
          82,
          87,
          64,
          58,
          90,
          85,
          74,
          87,
          72,
          99,
          80,
          59,
          88,
          71,
          77,
          57,
          80,
          94,
          73,
          72,
          86,
          68,
          75,
          85,
          72,
          65,
          77,
          86,
          77,
          60,
          72,
          82,
          82,
          82,
          62,
          79,
          44,
          77,
          73,
          68,
          73,
          67,
          76,
          87,
          76,
          92,
          51,
          70,
          81,
          89,
          89,
          74,
          79,
          53,
          36,
          76,
          64,
          85,
          46,
          38,
          80,
          88,
          72,
          76,
          78,
          66,
          70,
          80,
          95,
          91,
          75,
          79,
          63,
          82,
          41,
          100,
          91,
          70,
          66,
          66,
          100,
          80,
          91,
          60,
          71,
          44,
          70,
          73,
          74,
          90,
          85,
          69,
          72,
          61,
          52,
          73,
          83,
          54,
          75,
          64,
          69,
          60,
          77,
          60,
          48,
          86,
          91,
          76,
          83,
          75,
          78,
          95,
          65,
          77
         ],
         "xaxis": "x",
         "yaxis": "y"
        }
       ],
       "layout": {
        "barmode": "relative",
        "legend": {
         "title": {
          "text": "test preparation course"
         },
         "tracegroupgap": 0
        },
        "margin": {
         "t": 60
        },
        "template": {
         "data": {
          "bar": [
           {
            "error_x": {
             "color": "#2a3f5f"
            },
            "error_y": {
             "color": "#2a3f5f"
            },
            "marker": {
             "line": {
              "color": "#E5ECF6",
              "width": 0.5
             },
             "pattern": {
              "fillmode": "overlay",
              "size": 10,
              "solidity": 0.2
             }
            },
            "type": "bar"
           }
          ],
          "barpolar": [
           {
            "marker": {
             "line": {
              "color": "#E5ECF6",
              "width": 0.5
             },
             "pattern": {
              "fillmode": "overlay",
              "size": 10,
              "solidity": 0.2
             }
            },
            "type": "barpolar"
           }
          ],
          "carpet": [
           {
            "aaxis": {
             "endlinecolor": "#2a3f5f",
             "gridcolor": "white",
             "linecolor": "white",
             "minorgridcolor": "white",
             "startlinecolor": "#2a3f5f"
            },
            "baxis": {
             "endlinecolor": "#2a3f5f",
             "gridcolor": "white",
             "linecolor": "white",
             "minorgridcolor": "white",
             "startlinecolor": "#2a3f5f"
            },
            "type": "carpet"
           }
          ],
          "choropleth": [
           {
            "colorbar": {
             "outlinewidth": 0,
             "ticks": ""
            },
            "type": "choropleth"
           }
          ],
          "contour": [
           {
            "colorbar": {
             "outlinewidth": 0,
             "ticks": ""
            },
            "colorscale": [
             [
              0,
              "#0d0887"
             ],
             [
              0.1111111111111111,
              "#46039f"
             ],
             [
              0.2222222222222222,
              "#7201a8"
             ],
             [
              0.3333333333333333,
              "#9c179e"
             ],
             [
              0.4444444444444444,
              "#bd3786"
             ],
             [
              0.5555555555555556,
              "#d8576b"
             ],
             [
              0.6666666666666666,
              "#ed7953"
             ],
             [
              0.7777777777777778,
              "#fb9f3a"
             ],
             [
              0.8888888888888888,
              "#fdca26"
             ],
             [
              1,
              "#f0f921"
             ]
            ],
            "type": "contour"
           }
          ],
          "contourcarpet": [
           {
            "colorbar": {
             "outlinewidth": 0,
             "ticks": ""
            },
            "type": "contourcarpet"
           }
          ],
          "heatmap": [
           {
            "colorbar": {
             "outlinewidth": 0,
             "ticks": ""
            },
            "colorscale": [
             [
              0,
              "#0d0887"
             ],
             [
              0.1111111111111111,
              "#46039f"
             ],
             [
              0.2222222222222222,
              "#7201a8"
             ],
             [
              0.3333333333333333,
              "#9c179e"
             ],
             [
              0.4444444444444444,
              "#bd3786"
             ],
             [
              0.5555555555555556,
              "#d8576b"
             ],
             [
              0.6666666666666666,
              "#ed7953"
             ],
             [
              0.7777777777777778,
              "#fb9f3a"
             ],
             [
              0.8888888888888888,
              "#fdca26"
             ],
             [
              1,
              "#f0f921"
             ]
            ],
            "type": "heatmap"
           }
          ],
          "heatmapgl": [
           {
            "colorbar": {
             "outlinewidth": 0,
             "ticks": ""
            },
            "colorscale": [
             [
              0,
              "#0d0887"
             ],
             [
              0.1111111111111111,
              "#46039f"
             ],
             [
              0.2222222222222222,
              "#7201a8"
             ],
             [
              0.3333333333333333,
              "#9c179e"
             ],
             [
              0.4444444444444444,
              "#bd3786"
             ],
             [
              0.5555555555555556,
              "#d8576b"
             ],
             [
              0.6666666666666666,
              "#ed7953"
             ],
             [
              0.7777777777777778,
              "#fb9f3a"
             ],
             [
              0.8888888888888888,
              "#fdca26"
             ],
             [
              1,
              "#f0f921"
             ]
            ],
            "type": "heatmapgl"
           }
          ],
          "histogram": [
           {
            "marker": {
             "pattern": {
              "fillmode": "overlay",
              "size": 10,
              "solidity": 0.2
             }
            },
            "type": "histogram"
           }
          ],
          "histogram2d": [
           {
            "colorbar": {
             "outlinewidth": 0,
             "ticks": ""
            },
            "colorscale": [
             [
              0,
              "#0d0887"
             ],
             [
              0.1111111111111111,
              "#46039f"
             ],
             [
              0.2222222222222222,
              "#7201a8"
             ],
             [
              0.3333333333333333,
              "#9c179e"
             ],
             [
              0.4444444444444444,
              "#bd3786"
             ],
             [
              0.5555555555555556,
              "#d8576b"
             ],
             [
              0.6666666666666666,
              "#ed7953"
             ],
             [
              0.7777777777777778,
              "#fb9f3a"
             ],
             [
              0.8888888888888888,
              "#fdca26"
             ],
             [
              1,
              "#f0f921"
             ]
            ],
            "type": "histogram2d"
           }
          ],
          "histogram2dcontour": [
           {
            "colorbar": {
             "outlinewidth": 0,
             "ticks": ""
            },
            "colorscale": [
             [
              0,
              "#0d0887"
             ],
             [
              0.1111111111111111,
              "#46039f"
             ],
             [
              0.2222222222222222,
              "#7201a8"
             ],
             [
              0.3333333333333333,
              "#9c179e"
             ],
             [
              0.4444444444444444,
              "#bd3786"
             ],
             [
              0.5555555555555556,
              "#d8576b"
             ],
             [
              0.6666666666666666,
              "#ed7953"
             ],
             [
              0.7777777777777778,
              "#fb9f3a"
             ],
             [
              0.8888888888888888,
              "#fdca26"
             ],
             [
              1,
              "#f0f921"
             ]
            ],
            "type": "histogram2dcontour"
           }
          ],
          "mesh3d": [
           {
            "colorbar": {
             "outlinewidth": 0,
             "ticks": ""
            },
            "type": "mesh3d"
           }
          ],
          "parcoords": [
           {
            "line": {
             "colorbar": {
              "outlinewidth": 0,
              "ticks": ""
             }
            },
            "type": "parcoords"
           }
          ],
          "pie": [
           {
            "automargin": true,
            "type": "pie"
           }
          ],
          "scatter": [
           {
            "fillpattern": {
             "fillmode": "overlay",
             "size": 10,
             "solidity": 0.2
            },
            "type": "scatter"
           }
          ],
          "scatter3d": [
           {
            "line": {
             "colorbar": {
              "outlinewidth": 0,
              "ticks": ""
             }
            },
            "marker": {
             "colorbar": {
              "outlinewidth": 0,
              "ticks": ""
             }
            },
            "type": "scatter3d"
           }
          ],
          "scattercarpet": [
           {
            "marker": {
             "colorbar": {
              "outlinewidth": 0,
              "ticks": ""
             }
            },
            "type": "scattercarpet"
           }
          ],
          "scattergeo": [
           {
            "marker": {
             "colorbar": {
              "outlinewidth": 0,
              "ticks": ""
             }
            },
            "type": "scattergeo"
           }
          ],
          "scattergl": [
           {
            "marker": {
             "colorbar": {
              "outlinewidth": 0,
              "ticks": ""
             }
            },
            "type": "scattergl"
           }
          ],
          "scattermapbox": [
           {
            "marker": {
             "colorbar": {
              "outlinewidth": 0,
              "ticks": ""
             }
            },
            "type": "scattermapbox"
           }
          ],
          "scatterpolar": [
           {
            "marker": {
             "colorbar": {
              "outlinewidth": 0,
              "ticks": ""
             }
            },
            "type": "scatterpolar"
           }
          ],
          "scatterpolargl": [
           {
            "marker": {
             "colorbar": {
              "outlinewidth": 0,
              "ticks": ""
             }
            },
            "type": "scatterpolargl"
           }
          ],
          "scatterternary": [
           {
            "marker": {
             "colorbar": {
              "outlinewidth": 0,
              "ticks": ""
             }
            },
            "type": "scatterternary"
           }
          ],
          "surface": [
           {
            "colorbar": {
             "outlinewidth": 0,
             "ticks": ""
            },
            "colorscale": [
             [
              0,
              "#0d0887"
             ],
             [
              0.1111111111111111,
              "#46039f"
             ],
             [
              0.2222222222222222,
              "#7201a8"
             ],
             [
              0.3333333333333333,
              "#9c179e"
             ],
             [
              0.4444444444444444,
              "#bd3786"
             ],
             [
              0.5555555555555556,
              "#d8576b"
             ],
             [
              0.6666666666666666,
              "#ed7953"
             ],
             [
              0.7777777777777778,
              "#fb9f3a"
             ],
             [
              0.8888888888888888,
              "#fdca26"
             ],
             [
              1,
              "#f0f921"
             ]
            ],
            "type": "surface"
           }
          ],
          "table": [
           {
            "cells": {
             "fill": {
              "color": "#EBF0F8"
             },
             "line": {
              "color": "white"
             }
            },
            "header": {
             "fill": {
              "color": "#C8D4E3"
             },
             "line": {
              "color": "white"
             }
            },
            "type": "table"
           }
          ]
         },
         "layout": {
          "annotationdefaults": {
           "arrowcolor": "#2a3f5f",
           "arrowhead": 0,
           "arrowwidth": 1
          },
          "autotypenumbers": "strict",
          "coloraxis": {
           "colorbar": {
            "outlinewidth": 0,
            "ticks": ""
           }
          },
          "colorscale": {
           "diverging": [
            [
             0,
             "#8e0152"
            ],
            [
             0.1,
             "#c51b7d"
            ],
            [
             0.2,
             "#de77ae"
            ],
            [
             0.3,
             "#f1b6da"
            ],
            [
             0.4,
             "#fde0ef"
            ],
            [
             0.5,
             "#f7f7f7"
            ],
            [
             0.6,
             "#e6f5d0"
            ],
            [
             0.7,
             "#b8e186"
            ],
            [
             0.8,
             "#7fbc41"
            ],
            [
             0.9,
             "#4d9221"
            ],
            [
             1,
             "#276419"
            ]
           ],
           "sequential": [
            [
             0,
             "#0d0887"
            ],
            [
             0.1111111111111111,
             "#46039f"
            ],
            [
             0.2222222222222222,
             "#7201a8"
            ],
            [
             0.3333333333333333,
             "#9c179e"
            ],
            [
             0.4444444444444444,
             "#bd3786"
            ],
            [
             0.5555555555555556,
             "#d8576b"
            ],
            [
             0.6666666666666666,
             "#ed7953"
            ],
            [
             0.7777777777777778,
             "#fb9f3a"
            ],
            [
             0.8888888888888888,
             "#fdca26"
            ],
            [
             1,
             "#f0f921"
            ]
           ],
           "sequentialminus": [
            [
             0,
             "#0d0887"
            ],
            [
             0.1111111111111111,
             "#46039f"
            ],
            [
             0.2222222222222222,
             "#7201a8"
            ],
            [
             0.3333333333333333,
             "#9c179e"
            ],
            [
             0.4444444444444444,
             "#bd3786"
            ],
            [
             0.5555555555555556,
             "#d8576b"
            ],
            [
             0.6666666666666666,
             "#ed7953"
            ],
            [
             0.7777777777777778,
             "#fb9f3a"
            ],
            [
             0.8888888888888888,
             "#fdca26"
            ],
            [
             1,
             "#f0f921"
            ]
           ]
          },
          "colorway": [
           "#636efa",
           "#EF553B",
           "#00cc96",
           "#ab63fa",
           "#FFA15A",
           "#19d3f3",
           "#FF6692",
           "#B6E880",
           "#FF97FF",
           "#FECB52"
          ],
          "font": {
           "color": "#2a3f5f"
          },
          "geo": {
           "bgcolor": "white",
           "lakecolor": "white",
           "landcolor": "#E5ECF6",
           "showlakes": true,
           "showland": true,
           "subunitcolor": "white"
          },
          "hoverlabel": {
           "align": "left"
          },
          "hovermode": "closest",
          "mapbox": {
           "style": "light"
          },
          "paper_bgcolor": "white",
          "plot_bgcolor": "#E5ECF6",
          "polar": {
           "angularaxis": {
            "gridcolor": "white",
            "linecolor": "white",
            "ticks": ""
           },
           "bgcolor": "#E5ECF6",
           "radialaxis": {
            "gridcolor": "white",
            "linecolor": "white",
            "ticks": ""
           }
          },
          "scene": {
           "xaxis": {
            "backgroundcolor": "#E5ECF6",
            "gridcolor": "white",
            "gridwidth": 2,
            "linecolor": "white",
            "showbackground": true,
            "ticks": "",
            "zerolinecolor": "white"
           },
           "yaxis": {
            "backgroundcolor": "#E5ECF6",
            "gridcolor": "white",
            "gridwidth": 2,
            "linecolor": "white",
            "showbackground": true,
            "ticks": "",
            "zerolinecolor": "white"
           },
           "zaxis": {
            "backgroundcolor": "#E5ECF6",
            "gridcolor": "white",
            "gridwidth": 2,
            "linecolor": "white",
            "showbackground": true,
            "ticks": "",
            "zerolinecolor": "white"
           }
          },
          "shapedefaults": {
           "line": {
            "color": "#2a3f5f"
           }
          },
          "ternary": {
           "aaxis": {
            "gridcolor": "white",
            "linecolor": "white",
            "ticks": ""
           },
           "baxis": {
            "gridcolor": "white",
            "linecolor": "white",
            "ticks": ""
           },
           "bgcolor": "#E5ECF6",
           "caxis": {
            "gridcolor": "white",
            "linecolor": "white",
            "ticks": ""
           }
          },
          "title": {
           "x": 0.05
          },
          "xaxis": {
           "automargin": true,
           "gridcolor": "white",
           "linecolor": "white",
           "ticks": "",
           "title": {
            "standoff": 15
           },
           "zerolinecolor": "white",
           "zerolinewidth": 2
          },
          "yaxis": {
           "automargin": true,
           "gridcolor": "white",
           "linecolor": "white",
           "ticks": "",
           "title": {
            "standoff": 15
           },
           "zerolinecolor": "white",
           "zerolinewidth": 2
          }
         }
        },
        "xaxis": {
         "anchor": "y",
         "domain": [
          0,
          1
         ],
         "title": {
          "text": "writing score"
         }
        },
        "yaxis": {
         "anchor": "x",
         "domain": [
          0,
          1
         ],
         "title": {
          "text": "count"
         }
        }
       }
      },
      "text/html": [
       "<div>                            <div id=\"1cb9e4e5-e0fb-4282-9478-2ff3ded2a70e\" class=\"plotly-graph-div\" style=\"height:525px; width:100%;\"></div>            <script type=\"text/javascript\">                require([\"plotly\"], function(Plotly) {                    window.PLOTLYENV=window.PLOTLYENV || {};                                    if (document.getElementById(\"1cb9e4e5-e0fb-4282-9478-2ff3ded2a70e\")) {                    Plotly.newPlot(                        \"1cb9e4e5-e0fb-4282-9478-2ff3ded2a70e\",                        [{\"alignmentgroup\":\"True\",\"bingroup\":\"x\",\"hovertemplate\":\"test preparation course=none<br>writing score=%{x}<br>count=%{y}<extra></extra>\",\"legendgroup\":\"none\",\"marker\":{\"color\":\"#636efa\",\"pattern\":{\"shape\":\"\"}},\"name\":\"none\",\"offsetgroup\":\"none\",\"orientation\":\"v\",\"showlegend\":true,\"x\":[74,93,44,75,78,39,50,52,43,73,58,78,86,28,61,63,53,73,72,55,75,65,75,74,61,65,38,82,83,59,57,54,68,65,54,57,76,48,42,75,43,49,10,34,55,71,59,61,37,74,56,57,48,56,41,38,22,68,50,45,63,34,82,88,74,67,82,74,36,71,92,62,62,67,89,72,100,70,72,49,47,54,74,82,79,61,65,56,73,86,67,74,51,82,48,56,67,71,64,47,78,33,75,66,68,47,61,60,64,52,49,91,78,81,70,66,47,70,65,45,87,69,66,52,51,55,76,77,69,68,42,62,76,66,27,60,39,70,73,62,75,54,71,54,64,66,42,83,78,77,67,51,80,83,55,43,69,71,74,62,53,83,72,52,70,68,78,51,90,68,41,81,77,70,61,42,58,71,73,80,57,42,46,84,46,82,76,68,70,75,60,75,52,64,69,44,67,52,80,57,65,78,69,63,79,80,53,43,94,62,19,51,61,35,81,95,66,43,27,52,63,67,75,57,66,76,69,52,57,70,70,61,61,89,59,58,32,58,61,58,85,71,72,73,41,82,77,62,83,71,45,43,75,70,67,64,75,77,67,41,63,95,57,54,43,55,62,68,77,60,69,67,62,34,62,86,65,53,54,59,70,55,50,66,64,73,51,80,69,76,73,60,42,72,97,74,49,62,47,89,48,100,55,45,76,91,91,38,76,74,61,72,70,67,56,61,46,54,71,56,74,76,70,90,90,68,52,68,72,82,54,54,80,66,54,77,87,73,43,52,84,52,84,57,50,59,43,47,70,53,62,79,89,66,64,69,65,50,64,40,33,66,70,62,74,46,45,47,67,92,56,71,89,68,96,80,78,77,76,73,62,65,65,54,50,64,73,15,48,73,81,63,30,80,51,62,82,54,62,65,66,74,93,72,38,83,84,54,56,62,46,46,70,65,85,80,64,74,73,51,79,60,65,68,55,79,67,64,61,58,85,73,63,69,67,63,87,61,68,50,76,78,60,74,60,54,73,44,83,53,78,73,56,86,70,59,72,67,65,36,52,79,99,84,74,70,42,41,84,37,43,44,57,59,84,73,55,72,56,82,47,74,71,68,59,65,53,92,52,64,54,63,59,72,75,57,49,74,79,60,55,70,43,57,84,77,32,61,61,60,70,69,51,70,81,54,57,95,87,78,74,75,40,69,51,36,49,83,64,68,88,93,82,52,58,76,53,57,58,45,57,73,46,51,84,50,68,69,67,63,93,61,55,96,65,81,72,53,87,91,52,41,51,47,82,61,66,84,54,80,74,71,44,54,59,74,48,85,73,69,38,27,89,74,84,77,51,72,48,82,55,66,52,67,46,66,65,69,52,51,62,58,53,57,96,64,61,58,80,60,71,72,69,62,81,100,59,71,64,53,100,58,72,60,67,80,100,61,67,58,94,23,78,82,54,51,45,76,74,62,55,86],\"xaxis\":\"x\",\"yaxis\":\"y\",\"type\":\"histogram\"},{\"alignmentgroup\":\"True\",\"bingroup\":\"x\",\"hovertemplate\":\"test preparation course=completed<br>writing score=%{x}<br>count=%{y}<extra></extra>\",\"legendgroup\":\"completed\",\"marker\":{\"color\":\"#EF553B\",\"pattern\":{\"shape\":\"\"}},\"name\":\"completed\",\"offsetgroup\":\"completed\",\"orientation\":\"v\",\"showlegend\":true,\"x\":[88,92,67,70,46,70,80,79,88,66,62,76,82,68,87,86,58,72,73,63,81,72,54,50,82,62,70,74,47,90,64,98,100,89,92,93,74,40,70,84,75,41,69,54,81,93,69,66,88,78,87,74,85,100,51,78,78,70,74,54,87,58,77,62,100,75,49,65,68,79,62,85,65,86,78,76,79,56,81,75,88,56,74,73,94,84,74,66,68,49,70,77,81,77,78,95,76,93,75,78,82,88,77,57,80,43,68,50,81,81,83,81,68,69,75,91,84,77,53,69,60,74,67,95,80,69,78,60,53,70,96,100,95,59,56,77,67,100,63,56,85,74,78,67,79,68,54,93,64,67,80,53,82,79,77,80,85,68,62,65,85,90,84,91,83,66,68,57,82,66,76,92,92,62,94,85,73,78,79,49,60,73,58,94,68,83,58,71,86,68,80,80,97,64,88,79,79,92,80,100,78,70,64,53,52,58,80,99,72,90,63,91,68,52,86,99,63,55,81,81,88,90,80,81,81,53,76,98,74,60,71,77,84,78,66,76,76,44,68,100,68,81,90,79,82,87,64,58,90,85,74,87,72,99,80,59,88,71,77,57,80,94,73,72,86,68,75,85,72,65,77,86,77,60,72,82,82,82,62,79,44,77,73,68,73,67,76,87,76,92,51,70,81,89,89,74,79,53,36,76,64,85,46,38,80,88,72,76,78,66,70,80,95,91,75,79,63,82,41,100,91,70,66,66,100,80,91,60,71,44,70,73,74,90,85,69,72,61,52,73,83,54,75,64,69,60,77,60,48,86,91,76,83,75,78,95,65,77],\"xaxis\":\"x\",\"yaxis\":\"y\",\"type\":\"histogram\"}],                        {\"template\":{\"data\":{\"histogram2dcontour\":[{\"type\":\"histogram2dcontour\",\"colorbar\":{\"outlinewidth\":0,\"ticks\":\"\"},\"colorscale\":[[0.0,\"#0d0887\"],[0.1111111111111111,\"#46039f\"],[0.2222222222222222,\"#7201a8\"],[0.3333333333333333,\"#9c179e\"],[0.4444444444444444,\"#bd3786\"],[0.5555555555555556,\"#d8576b\"],[0.6666666666666666,\"#ed7953\"],[0.7777777777777778,\"#fb9f3a\"],[0.8888888888888888,\"#fdca26\"],[1.0,\"#f0f921\"]]}],\"choropleth\":[{\"type\":\"choropleth\",\"colorbar\":{\"outlinewidth\":0,\"ticks\":\"\"}}],\"histogram2d\":[{\"type\":\"histogram2d\",\"colorbar\":{\"outlinewidth\":0,\"ticks\":\"\"},\"colorscale\":[[0.0,\"#0d0887\"],[0.1111111111111111,\"#46039f\"],[0.2222222222222222,\"#7201a8\"],[0.3333333333333333,\"#9c179e\"],[0.4444444444444444,\"#bd3786\"],[0.5555555555555556,\"#d8576b\"],[0.6666666666666666,\"#ed7953\"],[0.7777777777777778,\"#fb9f3a\"],[0.8888888888888888,\"#fdca26\"],[1.0,\"#f0f921\"]]}],\"heatmap\":[{\"type\":\"heatmap\",\"colorbar\":{\"outlinewidth\":0,\"ticks\":\"\"},\"colorscale\":[[0.0,\"#0d0887\"],[0.1111111111111111,\"#46039f\"],[0.2222222222222222,\"#7201a8\"],[0.3333333333333333,\"#9c179e\"],[0.4444444444444444,\"#bd3786\"],[0.5555555555555556,\"#d8576b\"],[0.6666666666666666,\"#ed7953\"],[0.7777777777777778,\"#fb9f3a\"],[0.8888888888888888,\"#fdca26\"],[1.0,\"#f0f921\"]]}],\"heatmapgl\":[{\"type\":\"heatmapgl\",\"colorbar\":{\"outlinewidth\":0,\"ticks\":\"\"},\"colorscale\":[[0.0,\"#0d0887\"],[0.1111111111111111,\"#46039f\"],[0.2222222222222222,\"#7201a8\"],[0.3333333333333333,\"#9c179e\"],[0.4444444444444444,\"#bd3786\"],[0.5555555555555556,\"#d8576b\"],[0.6666666666666666,\"#ed7953\"],[0.7777777777777778,\"#fb9f3a\"],[0.8888888888888888,\"#fdca26\"],[1.0,\"#f0f921\"]]}],\"contourcarpet\":[{\"type\":\"contourcarpet\",\"colorbar\":{\"outlinewidth\":0,\"ticks\":\"\"}}],\"contour\":[{\"type\":\"contour\",\"colorbar\":{\"outlinewidth\":0,\"ticks\":\"\"},\"colorscale\":[[0.0,\"#0d0887\"],[0.1111111111111111,\"#46039f\"],[0.2222222222222222,\"#7201a8\"],[0.3333333333333333,\"#9c179e\"],[0.4444444444444444,\"#bd3786\"],[0.5555555555555556,\"#d8576b\"],[0.6666666666666666,\"#ed7953\"],[0.7777777777777778,\"#fb9f3a\"],[0.8888888888888888,\"#fdca26\"],[1.0,\"#f0f921\"]]}],\"surface\":[{\"type\":\"surface\",\"colorbar\":{\"outlinewidth\":0,\"ticks\":\"\"},\"colorscale\":[[0.0,\"#0d0887\"],[0.1111111111111111,\"#46039f\"],[0.2222222222222222,\"#7201a8\"],[0.3333333333333333,\"#9c179e\"],[0.4444444444444444,\"#bd3786\"],[0.5555555555555556,\"#d8576b\"],[0.6666666666666666,\"#ed7953\"],[0.7777777777777778,\"#fb9f3a\"],[0.8888888888888888,\"#fdca26\"],[1.0,\"#f0f921\"]]}],\"mesh3d\":[{\"type\":\"mesh3d\",\"colorbar\":{\"outlinewidth\":0,\"ticks\":\"\"}}],\"scatter\":[{\"fillpattern\":{\"fillmode\":\"overlay\",\"size\":10,\"solidity\":0.2},\"type\":\"scatter\"}],\"parcoords\":[{\"type\":\"parcoords\",\"line\":{\"colorbar\":{\"outlinewidth\":0,\"ticks\":\"\"}}}],\"scatterpolargl\":[{\"type\":\"scatterpolargl\",\"marker\":{\"colorbar\":{\"outlinewidth\":0,\"ticks\":\"\"}}}],\"bar\":[{\"error_x\":{\"color\":\"#2a3f5f\"},\"error_y\":{\"color\":\"#2a3f5f\"},\"marker\":{\"line\":{\"color\":\"#E5ECF6\",\"width\":0.5},\"pattern\":{\"fillmode\":\"overlay\",\"size\":10,\"solidity\":0.2}},\"type\":\"bar\"}],\"scattergeo\":[{\"type\":\"scattergeo\",\"marker\":{\"colorbar\":{\"outlinewidth\":0,\"ticks\":\"\"}}}],\"scatterpolar\":[{\"type\":\"scatterpolar\",\"marker\":{\"colorbar\":{\"outlinewidth\":0,\"ticks\":\"\"}}}],\"histogram\":[{\"marker\":{\"pattern\":{\"fillmode\":\"overlay\",\"size\":10,\"solidity\":0.2}},\"type\":\"histogram\"}],\"scattergl\":[{\"type\":\"scattergl\",\"marker\":{\"colorbar\":{\"outlinewidth\":0,\"ticks\":\"\"}}}],\"scatter3d\":[{\"type\":\"scatter3d\",\"line\":{\"colorbar\":{\"outlinewidth\":0,\"ticks\":\"\"}},\"marker\":{\"colorbar\":{\"outlinewidth\":0,\"ticks\":\"\"}}}],\"scattermapbox\":[{\"type\":\"scattermapbox\",\"marker\":{\"colorbar\":{\"outlinewidth\":0,\"ticks\":\"\"}}}],\"scatterternary\":[{\"type\":\"scatterternary\",\"marker\":{\"colorbar\":{\"outlinewidth\":0,\"ticks\":\"\"}}}],\"scattercarpet\":[{\"type\":\"scattercarpet\",\"marker\":{\"colorbar\":{\"outlinewidth\":0,\"ticks\":\"\"}}}],\"carpet\":[{\"aaxis\":{\"endlinecolor\":\"#2a3f5f\",\"gridcolor\":\"white\",\"linecolor\":\"white\",\"minorgridcolor\":\"white\",\"startlinecolor\":\"#2a3f5f\"},\"baxis\":{\"endlinecolor\":\"#2a3f5f\",\"gridcolor\":\"white\",\"linecolor\":\"white\",\"minorgridcolor\":\"white\",\"startlinecolor\":\"#2a3f5f\"},\"type\":\"carpet\"}],\"table\":[{\"cells\":{\"fill\":{\"color\":\"#EBF0F8\"},\"line\":{\"color\":\"white\"}},\"header\":{\"fill\":{\"color\":\"#C8D4E3\"},\"line\":{\"color\":\"white\"}},\"type\":\"table\"}],\"barpolar\":[{\"marker\":{\"line\":{\"color\":\"#E5ECF6\",\"width\":0.5},\"pattern\":{\"fillmode\":\"overlay\",\"size\":10,\"solidity\":0.2}},\"type\":\"barpolar\"}],\"pie\":[{\"automargin\":true,\"type\":\"pie\"}]},\"layout\":{\"autotypenumbers\":\"strict\",\"colorway\":[\"#636efa\",\"#EF553B\",\"#00cc96\",\"#ab63fa\",\"#FFA15A\",\"#19d3f3\",\"#FF6692\",\"#B6E880\",\"#FF97FF\",\"#FECB52\"],\"font\":{\"color\":\"#2a3f5f\"},\"hovermode\":\"closest\",\"hoverlabel\":{\"align\":\"left\"},\"paper_bgcolor\":\"white\",\"plot_bgcolor\":\"#E5ECF6\",\"polar\":{\"bgcolor\":\"#E5ECF6\",\"angularaxis\":{\"gridcolor\":\"white\",\"linecolor\":\"white\",\"ticks\":\"\"},\"radialaxis\":{\"gridcolor\":\"white\",\"linecolor\":\"white\",\"ticks\":\"\"}},\"ternary\":{\"bgcolor\":\"#E5ECF6\",\"aaxis\":{\"gridcolor\":\"white\",\"linecolor\":\"white\",\"ticks\":\"\"},\"baxis\":{\"gridcolor\":\"white\",\"linecolor\":\"white\",\"ticks\":\"\"},\"caxis\":{\"gridcolor\":\"white\",\"linecolor\":\"white\",\"ticks\":\"\"}},\"coloraxis\":{\"colorbar\":{\"outlinewidth\":0,\"ticks\":\"\"}},\"colorscale\":{\"sequential\":[[0.0,\"#0d0887\"],[0.1111111111111111,\"#46039f\"],[0.2222222222222222,\"#7201a8\"],[0.3333333333333333,\"#9c179e\"],[0.4444444444444444,\"#bd3786\"],[0.5555555555555556,\"#d8576b\"],[0.6666666666666666,\"#ed7953\"],[0.7777777777777778,\"#fb9f3a\"],[0.8888888888888888,\"#fdca26\"],[1.0,\"#f0f921\"]],\"sequentialminus\":[[0.0,\"#0d0887\"],[0.1111111111111111,\"#46039f\"],[0.2222222222222222,\"#7201a8\"],[0.3333333333333333,\"#9c179e\"],[0.4444444444444444,\"#bd3786\"],[0.5555555555555556,\"#d8576b\"],[0.6666666666666666,\"#ed7953\"],[0.7777777777777778,\"#fb9f3a\"],[0.8888888888888888,\"#fdca26\"],[1.0,\"#f0f921\"]],\"diverging\":[[0,\"#8e0152\"],[0.1,\"#c51b7d\"],[0.2,\"#de77ae\"],[0.3,\"#f1b6da\"],[0.4,\"#fde0ef\"],[0.5,\"#f7f7f7\"],[0.6,\"#e6f5d0\"],[0.7,\"#b8e186\"],[0.8,\"#7fbc41\"],[0.9,\"#4d9221\"],[1,\"#276419\"]]},\"xaxis\":{\"gridcolor\":\"white\",\"linecolor\":\"white\",\"ticks\":\"\",\"title\":{\"standoff\":15},\"zerolinecolor\":\"white\",\"automargin\":true,\"zerolinewidth\":2},\"yaxis\":{\"gridcolor\":\"white\",\"linecolor\":\"white\",\"ticks\":\"\",\"title\":{\"standoff\":15},\"zerolinecolor\":\"white\",\"automargin\":true,\"zerolinewidth\":2},\"scene\":{\"xaxis\":{\"backgroundcolor\":\"#E5ECF6\",\"gridcolor\":\"white\",\"linecolor\":\"white\",\"showbackground\":true,\"ticks\":\"\",\"zerolinecolor\":\"white\",\"gridwidth\":2},\"yaxis\":{\"backgroundcolor\":\"#E5ECF6\",\"gridcolor\":\"white\",\"linecolor\":\"white\",\"showbackground\":true,\"ticks\":\"\",\"zerolinecolor\":\"white\",\"gridwidth\":2},\"zaxis\":{\"backgroundcolor\":\"#E5ECF6\",\"gridcolor\":\"white\",\"linecolor\":\"white\",\"showbackground\":true,\"ticks\":\"\",\"zerolinecolor\":\"white\",\"gridwidth\":2}},\"shapedefaults\":{\"line\":{\"color\":\"#2a3f5f\"}},\"annotationdefaults\":{\"arrowcolor\":\"#2a3f5f\",\"arrowhead\":0,\"arrowwidth\":1},\"geo\":{\"bgcolor\":\"white\",\"landcolor\":\"#E5ECF6\",\"subunitcolor\":\"white\",\"showland\":true,\"showlakes\":true,\"lakecolor\":\"white\"},\"title\":{\"x\":0.05},\"mapbox\":{\"style\":\"light\"}}},\"xaxis\":{\"anchor\":\"y\",\"domain\":[0.0,1.0],\"title\":{\"text\":\"writing score\"}},\"yaxis\":{\"anchor\":\"x\",\"domain\":[0.0,1.0],\"title\":{\"text\":\"count\"}},\"legend\":{\"title\":{\"text\":\"test preparation course\"},\"tracegroupgap\":0},\"margin\":{\"t\":60},\"barmode\":\"relative\"},                        {\"responsive\": true}                    ).then(function(){\n",
       "                            \n",
       "var gd = document.getElementById('1cb9e4e5-e0fb-4282-9478-2ff3ded2a70e');\n",
       "var x = new MutationObserver(function (mutations, observer) {{\n",
       "        var display = window.getComputedStyle(gd).display;\n",
       "        if (!display || display === 'none') {{\n",
       "            console.log([gd, 'removed!']);\n",
       "            Plotly.purge(gd);\n",
       "            observer.disconnect();\n",
       "        }}\n",
       "}});\n",
       "\n",
       "// Listen for the removal of the full notebook cells\n",
       "var notebookContainer = gd.closest('#notebook-container');\n",
       "if (notebookContainer) {{\n",
       "    x.observe(notebookContainer, {childList: true});\n",
       "}}\n",
       "\n",
       "// Listen for the clearing of the current output cell\n",
       "var outputEl = gd.closest('.output');\n",
       "if (outputEl) {{\n",
       "    x.observe(outputEl, {childList: true});\n",
       "}}\n",
       "\n",
       "                        })                };                });            </script>        </div>"
      ]
     },
     "metadata": {},
     "output_type": "display_data"
    }
   ],
   "source": [
    "for coluna in table[[\"test preparation course\", \"math score\", \"reading score\", \"writing score\"]]:\n",
    "    if coluna != \"test preparation course\":\n",
    "        fig = px.histogram(table[[\"test preparation course\", \"math score\", \"reading score\", \"writing score\"]], x=coluna, color=\"test preparation course\")\n",
    "        fig.show()"
   ]
  },
  {
   "cell_type": "markdown",
   "metadata": {},
   "source": [
    "## ✨ Conclusion\n",
    "\n",
    "### The conditions of those who got scores above 80 are primarily:\n",
    "\n",
    "&nbsp;\n",
    "\n",
    "- Being **Woman**\n",
    "- Having parents with **some college** or **bachelor's degree**\n",
    "- Being from the **groups C, D and E**\n",
    "- Having a **Standart** Lunch\n",
    "\n",
    "&nbsp;\n",
    "\n",
    "And... this is all, thank you for seeing my analysis! Until the next project!"
   ]
  }
 ],
 "metadata": {
  "kernelspec": {
   "display_name": "Python 3 (ipykernel)",
   "language": "python",
   "name": "python3"
  },
  "language_info": {
   "codemirror_mode": {
    "name": "ipython",
    "version": 3
   },
   "file_extension": ".py",
   "mimetype": "text/x-python",
   "name": "python",
   "nbconvert_exporter": "python",
   "pygments_lexer": "ipython3",
   "version": "3.10.4"
  },
  "vscode": {
   "interpreter": {
    "hash": "7ac281cfbc71a3b796b43a8a69ff12f7e2c6e8748a7f01e676f34115bdf7407e"
   }
  }
 },
 "nbformat": 4,
 "nbformat_minor": 2
}
